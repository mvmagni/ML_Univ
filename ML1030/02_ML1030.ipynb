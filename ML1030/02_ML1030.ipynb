{
 "cells": [
  {
   "cell_type": "markdown",
   "id": "85fbc38c-b2be-49b9-ac59-51221436070e",
   "metadata": {
    "id": "pn8fyGevt62D",
    "tags": []
   },
   "source": [
    "# Configuration\n",
    "Environment variables for directory locations and enabling working in COLAB\n",
    "\n"
   ]
  },
  {
   "cell_type": "code",
   "execution_count": 1,
   "id": "eb81fd4c-bb15-425a-92db-363d72cf4992",
   "metadata": {},
   "outputs": [],
   "source": [
    "# Parameters\n",
    "ENABLE_COLAB = False\n",
    "\n",
    "PROJECT_NAME = 'ML1030'\n",
    "\n",
    "#Root Machine Learning Directory. Projects appear underneath\n",
    "GOOGLE_DRIVE_MOUNT = '/content/gdrive' \n",
    "COLAB_ROOT_DIR = GOOGLE_DRIVE_MOUNT + '/MyDrive/Colab Notebooks'\n",
    "COLAB_UTILITY_DIR = COLAB_ROOT_DIR + '/utility_files'\n",
    "\n",
    "LOCAL_ROOT_DIR = '/home/magni/ML_Root/project_root'\n",
    "LOCAL_UTILITY_DIR = LOCAL_ROOT_DIR + '/pipeline'\n",
    "\n",
    "# TODO: Add in more utility directories to include in path"
   ]
  },
  {
   "cell_type": "markdown",
   "id": "33f0682b-604c-4c32-8fd5-a1ffa12c6d98",
   "metadata": {
    "id": "1QZKvJBJ7rlc",
    "tags": []
   },
   "source": [
    "# Bootstrap Environment\n",
    "<p>Initialize environment with the above configuration.<br>\n",
    "Mount Google drive for access if needed<br>\n",
    "Set currently active directory to PROJECT_DIR</p>\n",
    "\n",
    "Sets variables:<br>\n",
    "UTILITY_DIR = location of custom files for import<br>\n",
    "PROJECT_DIR = location of project files (ipynb/py/...)<br>\n",
    "ROOT_DIR = one level up from project_dir. <br>\n"
   ]
  },
  {
   "cell_type": "code",
   "execution_count": 2,
   "id": "9fb462b6-b6f1-4954-9c3e-d36e3562353e",
   "metadata": {
    "colab": {
     "base_uri": "https://localhost:8080/"
    },
    "executionInfo": {
     "elapsed": 19195,
     "status": "ok",
     "timestamp": 1639849489183,
     "user": {
      "displayName": "Michael Vasiliou",
      "photoUrl": "https://lh3.googleusercontent.com/a/default-user=s64",
      "userId": "07079983815732559270"
     },
     "user_tz": 300
    },
    "id": "jgMPxKZBzfFw",
    "outputId": "ae39cdc2-271b-4bdf-a71b-40f4a11dc389"
   },
   "outputs": [],
   "source": [
    "import sys\n",
    "import os\n",
    "\n",
    "if ENABLE_COLAB:\n",
    "  # Mount Google Drive for access\n",
    "  from google.colab import drive\n",
    "  drive.mount(GOOGLE_DRIVE_MOUNT, force_remount=True)\n",
    "  UTILITY_DIR = COLAB_UTILITY_DIR\n",
    "  ROOT_DIR = COLAB_ROOT_DIR\n",
    "  \n",
    "else:\n",
    "  UTILITY_DIR = LOCAL_UTILITY_DIR\n",
    "  ROOT_DIR = LOCAL_ROOT_DIR\n",
    "\n",
    "# Set PROJECT_DIR for easy access\n",
    "PROJECT_DIR = ROOT_DIR + '/' + PROJECT_NAME    \n",
    "    \n",
    "# Add the UTILITY_DIR to the path to import files easier\n",
    "sys.path.append(os.path.abspath(UTILITY_DIR))"
   ]
  },
  {
   "cell_type": "markdown",
   "id": "b7f4811a-8690-4a03-b02f-8c33ef56a9ba",
   "metadata": {},
   "source": [
    "# Setup Models (Load trained models)"
   ]
  },
  {
   "cell_type": "code",
   "execution_count": 3,
   "id": "9762a096-b005-432d-a7d2-ad674dfd7469",
   "metadata": {},
   "outputs": [],
   "source": [
    "import pickle\n",
    "import gzip\n",
    "import importlib"
   ]
  },
  {
   "cell_type": "code",
   "execution_count": 4,
   "id": "8a6c883d-41a1-416f-b460-66602c5c4693",
   "metadata": {},
   "outputs": [
    {
     "ename": "ModuleNotFoundError",
     "evalue": "No module named 'DataExperiment'",
     "output_type": "error",
     "traceback": [
      "\u001b[0;31m---------------------------------------------------------------------------\u001b[0m",
      "\u001b[0;31mModuleNotFoundError\u001b[0m                       Traceback (most recent call last)",
      "\u001b[0;32m/tmp/ipykernel_985021/1213082452.py\u001b[0m in \u001b[0;36m<module>\u001b[0;34m\u001b[0m\n\u001b[1;32m      1\u001b[0m \u001b[0;31m# Load two trained models from previous experiments\u001b[0m\u001b[0;34m\u001b[0m\u001b[0;34m\u001b[0m\u001b[0;34m\u001b[0m\u001b[0m\n\u001b[0;32m----> 2\u001b[0;31m \u001b[0mmyExpXGB\u001b[0m \u001b[0;34m=\u001b[0m \u001b[0mpickle\u001b[0m\u001b[0;34m.\u001b[0m\u001b[0mload\u001b[0m\u001b[0;34m(\u001b[0m\u001b[0mgzip\u001b[0m\u001b[0;34m.\u001b[0m\u001b[0mopen\u001b[0m\u001b[0;34m(\u001b[0m\u001b[0;34mf'{ROOT_DIR}/data/{PROJECT_NAME}/05_experiments/01_ML1030_XGB_TFIDF2.jexp.gz'\u001b[0m\u001b[0;34m,\u001b[0m \u001b[0;34m'rb'\u001b[0m\u001b[0;34m)\u001b[0m\u001b[0;34m)\u001b[0m\u001b[0;34m\u001b[0m\u001b[0;34m\u001b[0m\u001b[0m\n\u001b[0m\u001b[1;32m      3\u001b[0m \u001b[0mmyExpRF\u001b[0m \u001b[0;34m=\u001b[0m \u001b[0mpickle\u001b[0m\u001b[0;34m.\u001b[0m\u001b[0mload\u001b[0m\u001b[0;34m(\u001b[0m\u001b[0mgzip\u001b[0m\u001b[0;34m.\u001b[0m\u001b[0mopen\u001b[0m\u001b[0;34m(\u001b[0m\u001b[0;34mf'{ROOT_DIR}/data/{PROJECT_NAME}/05_experiments/01_ML1030_RF_TFIDF2.jexp.gz'\u001b[0m\u001b[0;34m,\u001b[0m \u001b[0;34m'rb'\u001b[0m\u001b[0;34m)\u001b[0m\u001b[0;34m)\u001b[0m\u001b[0;34m\u001b[0m\u001b[0;34m\u001b[0m\u001b[0m\n",
      "\u001b[0;31mModuleNotFoundError\u001b[0m: No module named 'DataExperiment'"
     ]
    }
   ],
   "source": [
    "# Load two trained models from previous experiments\n",
    "myExpXGB = pickle.load(gzip.open(f'{ROOT_DIR}/data/{PROJECT_NAME}/05_experiments/01_ML1030_XGB_TFIDF2.jexp.gz', 'rb'))\n",
    "myExpRF = pickle.load(gzip.open(f'{ROOT_DIR}/data/{PROJECT_NAME}/05_experiments/01_ML1030_RF_TFIDF2.jexp.gz', 'rb'))"
   ]
  },
  {
   "cell_type": "code",
   "execution_count": null,
   "id": "fdb4898f-e39c-41da-b3e9-52be70f6913e",
   "metadata": {},
   "outputs": [],
   "source": [
    "import numpy as np\n",
    "print(f'myExpXGB final feature length: {len(myExpXGB.finalFeatures)}')\n",
    "print(f'myExpRF final feature length: {len(myExpRF.finalFeatures)}')\n",
    "\n",
    "a = np.array(myExpXGB.finalFeatures)\n",
    "b = np.array(myExpRF.finalFeatures)\n",
    "print((a == b).all()) # are the arrays completely identical TRUE/FALSE"
   ]
  },
  {
   "cell_type": "markdown",
   "id": "62ec13b5-70aa-4dd9-89fa-811c7d985992",
   "metadata": {},
   "source": [
    "# Setup Data (Load existing data)"
   ]
  },
  {
   "cell_type": "code",
   "execution_count": null,
   "id": "5a1f11cc-d448-4950-88fd-b082f52d494d",
   "metadata": {},
   "outputs": [],
   "source": [
    "# Get final xData from previous trained model\n",
    "xData = myExpXGB.dataPackage.getXTrainData(finalFeatures=myExpXGB.finalFeatures)\n",
    "print(type(xData))\n",
    "xData.head()"
   ]
  },
  {
   "cell_type": "code",
   "execution_count": null,
   "id": "0e10abcd-6581-40c1-88c9-9447db7e55e9",
   "metadata": {},
   "outputs": [],
   "source": [
    "# Get final xData from previous trained model\n",
    "yData = myExpXGB.dataPackage.getYTrainData()\n",
    "print(type(yData))\n",
    "yData.head()"
   ]
  },
  {
   "cell_type": "code",
   "execution_count": null,
   "id": "530013a0-b12d-4aa8-9ae2-40f727a9dbf0",
   "metadata": {},
   "outputs": [],
   "source": [
    "                             "
   ]
  },
  {
   "cell_type": "code",
   "execution_count": null,
   "id": "64980965-4894-4e7e-ba49-e8842ef798ff",
   "metadata": {},
   "outputs": [],
   "source": []
  },
  {
   "cell_type": "markdown",
   "id": "864eb43e-dde1-4293-8b87-38385962c369",
   "metadata": {},
   "source": [
    "# Model Manager (Class)\n",
    "Allows us to load models for automating access\n",
    "\n",
    "Functions:<br>\n",
    "Load Models<br>\n",
    "List Models<br>\n",
    "Add Models<br>\n",
    "Remove Models<br>\n",
    "\n"
   ]
  },
  {
   "cell_type": "code",
   "execution_count": null,
   "id": "41f4e677-df29-457e-a385-bf691c72f4ed",
   "metadata": {},
   "outputs": [],
   "source": [
    "import ModelManager"
   ]
  },
  {
   "cell_type": "code",
   "execution_count": null,
   "id": "fc9c5341-c17b-49bf-b8f8-0225a9837c20",
   "metadata": {},
   "outputs": [],
   "source": [
    "importlib.reload(ModelManager)"
   ]
  },
  {
   "cell_type": "code",
   "execution_count": null,
   "id": "c56c5e12-c5ac-4805-96f9-9393eb3485e5",
   "metadata": {},
   "outputs": [],
   "source": [
    "# Create Model Manager with model with pre-trained model from earlier\n",
    "myMM = ModelManager.ModelManager(model=myExpXGB.getFinalModel(),\n",
    "                                 description=\"XGBoost model description\")\n",
    "\n",
    "# Add in a second model\n",
    "myMM.add_model(myExpRF.getFinalModel(), \"Random Forest model description\")"
   ]
  },
  {
   "cell_type": "code",
   "execution_count": null,
   "id": "1ebf7c7e-3056-4e23-bd38-d197da835de3",
   "metadata": {},
   "outputs": [],
   "source": [
    "myMM.list_models()"
   ]
  },
  {
   "cell_type": "code",
   "execution_count": null,
   "id": "c93727e9-059c-4eef-99dd-da854d9bd8d6",
   "metadata": {},
   "outputs": [],
   "source": [
    "# Summary of models loaded\n",
    "# Note the SHAP_VALUE calculated line. Expensive to calculate and is reused for each chart/call.\n",
    "# Other assets to be loaded as development continues (e.g. explainers)\n",
    "myMM.summary()"
   ]
  },
  {
   "cell_type": "code",
   "execution_count": null,
   "id": "f78b2e0d-226b-4350-a8df-e633609081f2",
   "metadata": {},
   "outputs": [],
   "source": [
    "# Add in a duplicate model to test remove function\n",
    "myMM.add_model(model=myExpRF.getFinalModel(), \n",
    "               description=\"Random Forest model (duplicate)\")\n",
    "myMM.summary()"
   ]
  },
  {
   "cell_type": "code",
   "execution_count": null,
   "id": "08c2a256-c325-40fb-aa0f-486a4c5a4eee",
   "metadata": {},
   "outputs": [],
   "source": [
    "myMM.remove_model(3)"
   ]
  },
  {
   "cell_type": "code",
   "execution_count": null,
   "id": "49efe1c6-e272-4b24-9208-999dc86498c1",
   "metadata": {},
   "outputs": [],
   "source": [
    "myMM.remove_model(2)"
   ]
  },
  {
   "cell_type": "code",
   "execution_count": null,
   "id": "4359801c-f6d8-4e57-b7a1-87a565b54d0b",
   "metadata": {},
   "outputs": [],
   "source": []
  },
  {
   "cell_type": "markdown",
   "id": "c13463fe-257e-4944-89b7-14157d4e720d",
   "metadata": {},
   "source": [
    "# Data Manager\n",
    "Simple wrapper for access and usage of data. Currently only stores xTrain and yTrain data.<br>\n",
    "Needs to expand to match data storage format of project:<br>\n",
    "1. test\n",
    "2. train\n",
    "3. val"
   ]
  },
  {
   "cell_type": "code",
   "execution_count": null,
   "id": "d08dd783-09f5-4e72-899a-818649861a2d",
   "metadata": {},
   "outputs": [],
   "source": [
    "import DataManager"
   ]
  },
  {
   "cell_type": "code",
   "execution_count": null,
   "id": "e9c34e14-49f0-4e8e-a685-3bcb9ee6e5e5",
   "metadata": {},
   "outputs": [],
   "source": [
    "importlib.reload(DataManager)"
   ]
  },
  {
   "cell_type": "code",
   "execution_count": null,
   "id": "061d00f5-0fee-4c66-a208-b9ce44340103",
   "metadata": {},
   "outputs": [],
   "source": [
    "# Currently only storing one set of xData/yData. Not full train/val/test...\n",
    "# May need to alter for data storage/privacy reasons with clinical dataset\n",
    "\n",
    "myDM = DataManager.DataManager(xData=xData,\n",
    "                              yData=yData)"
   ]
  },
  {
   "cell_type": "code",
   "execution_count": null,
   "id": "c3c04abb-8426-41cd-910b-cae55c951eef",
   "metadata": {},
   "outputs": [],
   "source": [
    "myDM.summary()"
   ]
  },
  {
   "cell_type": "code",
   "execution_count": null,
   "id": "c0226298-ceea-43e1-9c0b-a25d28e28564",
   "metadata": {},
   "outputs": [],
   "source": []
  },
  {
   "cell_type": "markdown",
   "id": "66936c1c-852f-493f-bfa4-d274c9586420",
   "metadata": {},
   "source": [
    "# Analysis Manager (Core)\n",
    "Wrapper class for ModelManager and DataManager<br>\n",
    "Provides access to interpretability components (SHAP, LIME, ...)<br>\n",
    "Provides persistance and loading of assets to save recalculation time<br>"
   ]
  },
  {
   "cell_type": "code",
   "execution_count": null,
   "id": "2e2b8d17-b6d2-4191-b83b-ce4c13af3716",
   "metadata": {},
   "outputs": [],
   "source": [
    "import AnalysisManager"
   ]
  },
  {
   "cell_type": "code",
   "execution_count": null,
   "id": "04b71c5c-2866-47c5-92cc-5ba30accb7c9",
   "metadata": {},
   "outputs": [],
   "source": [
    "importlib.reload(AnalysisManager)"
   ]
  },
  {
   "cell_type": "code",
   "execution_count": null,
   "id": "68f5c583-f2a8-4394-b0ac-1fe11316d4db",
   "metadata": {},
   "outputs": [],
   "source": [
    "# AnalysisManager will add a \".gz\" extension to filename so that it is zipped by default\n",
    "myAnalysis = AnalysisManager.AnalysisManager(filename='analysisManagerTest',\n",
    "                                             data_manager=myDM,\n",
    "                                             model_manager=myMM)"
   ]
  },
  {
   "cell_type": "code",
   "execution_count": null,
   "id": "dfbeefc0-6c43-4af3-a32f-cc5a613c6fe6",
   "metadata": {},
   "outputs": [],
   "source": [
    "myAnalysis.summary()"
   ]
  },
  {
   "cell_type": "code",
   "execution_count": null,
   "id": "2322cb95-81b9-4e03-a7b0-e8efb352a815",
   "metadata": {},
   "outputs": [],
   "source": [
    "#Generating SHAP values can be expensive. Ability to save and reload work.\n",
    "myAnalysis.save()"
   ]
  },
  {
   "cell_type": "code",
   "execution_count": null,
   "id": "feb9357c-88ff-48d7-ac59-fdfac7d1bedd",
   "metadata": {},
   "outputs": [],
   "source": [
    "del myAnalysis\n",
    "myAnalysis.summary()"
   ]
  },
  {
   "cell_type": "code",
   "execution_count": null,
   "id": "9cbb2b30-f484-4566-804b-2d8852cd518a",
   "metadata": {},
   "outputs": [],
   "source": []
  },
  {
   "cell_type": "code",
   "execution_count": null,
   "id": "ccfb7990-cf89-4eeb-93fd-0a87655069d2",
   "metadata": {},
   "outputs": [],
   "source": [
    "recovered_object = AnalysisManager.AnalysisManager.load(PROJECT_DIR + '/analysisManagerTest.gz')\n",
    "recovered_object.summary()"
   ]
  },
  {
   "cell_type": "markdown",
   "id": "f8932aae-acaa-4e91-be0c-f77a5dc1444d",
   "metadata": {},
   "source": [
    "# Analysis Manager (SHAP)\n"
   ]
  },
  {
   "cell_type": "code",
   "execution_count": null,
   "id": "095c049a-1fdf-464d-9f7c-8c64c562abf4",
   "metadata": {},
   "outputs": [],
   "source": [
    "import AnalysisManager\n",
    "importlib.reload(AnalysisManager)"
   ]
  },
  {
   "cell_type": "code",
   "execution_count": null,
   "id": "ca7bf5bf-6198-4218-abd6-672f9de6cfa9",
   "metadata": {},
   "outputs": [],
   "source": [
    "#Reload recovered_object in case we played with it in an earlier scenario\n",
    "recovered_object = AnalysisManager.AnalysisManager.load(PROJECT_DIR + '/analysisManagerTest.gz')"
   ]
  },
  {
   "cell_type": "code",
   "execution_count": null,
   "id": "fe6c30da-a5a1-476d-b852-caf6b41d9723",
   "metadata": {},
   "outputs": [],
   "source": [
    "#Removing the Random Forest as it currently crashes when running SHAP charts.\n",
    "recovered_object.model_manager.remove_model(1)"
   ]
  },
  {
   "cell_type": "code",
   "execution_count": null,
   "id": "07326761-d64d-44ea-b85a-5775d21c7dff",
   "metadata": {},
   "outputs": [],
   "source": [
    "# Add in a second model for display purposes\n",
    "recovered_object.model_manager.add_model(model=recovered_object.model_manager.model_list[0].model,\n",
    "                                         description='XGB duplicate model')"
   ]
  },
  {
   "cell_type": "markdown",
   "id": "47739e8c-15c8-439b-82d5-2761fa6ac0b3",
   "metadata": {},
   "source": [
    "### Calc SHAP values"
   ]
  },
  {
   "cell_type": "code",
   "execution_count": null,
   "id": "15b75d9c-e101-4822-a813-0f598999f6cb",
   "metadata": {},
   "outputs": [],
   "source": [
    "%%time\n",
    "# Do some prep work to create all the \"shap_values\" required for the models\n",
    "# Calculation intensive so we store them for later usage\n",
    "# Override=True means recalculate value even if present otherwise only calculates missing\n",
    "recovered_object.calc_shap_values(GPU=False,\n",
    "                                  override=False,\n",
    "                                  debug=True)\n"
   ]
  },
  {
   "cell_type": "code",
   "execution_count": null,
   "id": "5dffeae4-a37f-4ece-acf0-8c5a1130fa62",
   "metadata": {},
   "outputs": [],
   "source": []
  },
  {
   "cell_type": "code",
   "execution_count": null,
   "id": "a73bae03-4b69-4ea0-9b2b-0fe102baa503",
   "metadata": {},
   "outputs": [],
   "source": [
    "recovered_object.show_shap_summary(plot_type='bar')"
   ]
  },
  {
   "cell_type": "code",
   "execution_count": null,
   "id": "81821e10-70c3-43fb-8838-370999675e57",
   "metadata": {},
   "outputs": [],
   "source": [
    "recovered_object.show_shap_summary(plot_type='dot')"
   ]
  },
  {
   "cell_type": "code",
   "execution_count": null,
   "id": "66ea36ec-814d-4bbf-b627-e75624a9ff66",
   "metadata": {},
   "outputs": [],
   "source": [
    "recovered_object.show_shap_bar()"
   ]
  },
  {
   "cell_type": "code",
   "execution_count": null,
   "id": "da39f8fe-b69b-479d-b5df-ad33d791939c",
   "metadata": {},
   "outputs": [],
   "source": [
    "recovered_object.show_shap_beeswarm()"
   ]
  },
  {
   "cell_type": "code",
   "execution_count": null,
   "id": "caea1fc9-365c-4df3-99fe-ba85c02f0512",
   "metadata": {},
   "outputs": [],
   "source": [
    "recovered_object.show_shap_waterfall()"
   ]
  },
  {
   "cell_type": "code",
   "execution_count": null,
   "id": "56dd560c-c1db-4381-bbdf-fcee716ed776",
   "metadata": {},
   "outputs": [],
   "source": [
    "recovered_object.show_shap_waterfall(value_index=1)"
   ]
  },
  {
   "cell_type": "code",
   "execution_count": null,
   "id": "5dc4aedf-89b7-40a8-bec6-ce570cdb0d8a",
   "metadata": {},
   "outputs": [],
   "source": []
  },
  {
   "cell_type": "code",
   "execution_count": null,
   "id": "14a58d35-f90d-47cb-8a77-e56f635ae6bc",
   "metadata": {},
   "outputs": [],
   "source": []
  },
  {
   "cell_type": "markdown",
   "id": "7b27165a-4678-4c20-856b-1dabb2442ecd",
   "metadata": {},
   "source": [
    "# Analysis Manager (LIME)"
   ]
  },
  {
   "cell_type": "code",
   "execution_count": null,
   "id": "82ac3252-ef83-4cd7-add8-ec97fe34dc0a",
   "metadata": {},
   "outputs": [],
   "source": [
    "#Reload recovered_object in case we played with it in an earlier scenario\n",
    "recovered_object = AnalysisManager.AnalysisManager.load(PROJECT_DIR + '/analysisManagerTest.gz')"
   ]
  },
  {
   "cell_type": "code",
   "execution_count": null,
   "id": "023d942f-c1b3-40be-9108-eb29bf03a163",
   "metadata": {},
   "outputs": [],
   "source": [
    "recovered_object.show_lime_global()"
   ]
  },
  {
   "cell_type": "code",
   "execution_count": null,
   "id": "ab1102f8-2fc1-4954-847c-4c47bc1c4d5f",
   "metadata": {},
   "outputs": [],
   "source": []
  },
  {
   "cell_type": "code",
   "execution_count": null,
   "id": "1f6b954c-a0a2-40ce-b000-480f97474be3",
   "metadata": {},
   "outputs": [],
   "source": []
  },
  {
   "cell_type": "code",
   "execution_count": null,
   "id": "ac40ea36-f63a-4c70-8fc8-a2ab57095e4b",
   "metadata": {},
   "outputs": [],
   "source": []
  },
  {
   "cell_type": "markdown",
   "id": "fdd1d805-f3c3-47ef-b5bb-a18715e8fe53",
   "metadata": {
    "tags": []
   },
   "source": [
    "# Scratchpad - AnalysisManager SHAP (XGB)"
   ]
  },
  {
   "cell_type": "code",
   "execution_count": null,
   "id": "f9980a9e-16bf-43fd-97ec-c93502c3d3a4",
   "metadata": {},
   "outputs": [],
   "source": [
    "import shap\n",
    "recovered_objectXGB = AnalysisManager.AnalysisManager.load(PROJECT_DIR + '/analysisManagerTest.gz')\n",
    "recovered_objectXGB.summary()"
   ]
  },
  {
   "cell_type": "code",
   "execution_count": null,
   "id": "a8dda166-5bbf-4b7b-a242-c29fa8370c84",
   "metadata": {},
   "outputs": [],
   "source": [
    "# Remove the Random Forest model so only XGB left\n",
    "recovered_objectXGB.model_manager.remove_model(1)"
   ]
  },
  {
   "cell_type": "code",
   "execution_count": null,
   "id": "da8d8e5a-c089-4374-8210-4b6d060f5bca",
   "metadata": {},
   "outputs": [],
   "source": [
    "xDataXGB = recovered_objectXGB.data_manager.xData.copy()\n",
    "modelStoreXGB = recovered_objectXGB.model_manager.model_list[0]\n",
    "modelXGB = recovered_objectXGB.model_manager.model_list[0].model\n",
    "\n",
    "print(f'xDataXGB length = {len(xDataXGB)}')\n",
    "print(f'modelStoreXGB type: {type(modelStoreXGB)}')\n",
    "print(f'modelXGB:')\n",
    "print(modelXGB)"
   ]
  },
  {
   "cell_type": "code",
   "execution_count": null,
   "id": "0aaefbc7-8c2c-42c5-9e88-04e6bce4b123",
   "metadata": {},
   "outputs": [],
   "source": [
    "def local_calc_shap_value(modelStore,\n",
    "                    xData,\n",
    "                    GPU=False,\n",
    "                    debug=False):\n",
    "    print (f'Calculating shap_values for {modelStore.description}')\n",
    "    if GPU:\n",
    "        #explainer = shap.explainers.GPUTree(modelStore.model, xData)\n",
    "        #shap_values = explainer(xData)\n",
    "        #explainer = shap.Explainer(modelStore.model, xData)\n",
    "        #shap_values = explainer(xData)\n",
    "        print(f'STOP: Do not use GPU=True yet')\n",
    "    else:\n",
    "        if debug:\n",
    "            print(f'DEBUG: non-gpu path')\n",
    "        explainer = shap.Explainer(modelStore.model)\n",
    "        shap_values = explainer(xData)\n",
    "    \n",
    "    if debug:\n",
    "        print(f'DEBUG: shap_value type: {type(shap_values)}')\n",
    "        print(f'DEBUG: explainer type: {type(explainer)}')\n",
    "        print(f'DEBUG: modelStore.model:')\n",
    "        print(modelStore.model)\n",
    "\n",
    "    #modelStore.set_shap_values(shap_values=shap_values)\n",
    "    return shap_values"
   ]
  },
  {
   "cell_type": "code",
   "execution_count": null,
   "id": "f98a3988-cae3-452f-b503-92f142a69bfe",
   "metadata": {},
   "outputs": [],
   "source": [
    "localShap = local_calc_shap_value(modelStore=modelStoreXGB,\n",
    "                                  xData=xDataXGB,\n",
    "                                  GPU=False,\n",
    "                                  debug=True)"
   ]
  },
  {
   "cell_type": "code",
   "execution_count": null,
   "id": "2bf25c96-7ef2-47a4-b5cb-065097db7fa5",
   "metadata": {},
   "outputs": [],
   "source": [
    "baseExplainerXGB = shap.Explainer(modelXGB)\n",
    "base_shap_valuesXGB = baseExplainerXGB(xDataXGB)"
   ]
  },
  {
   "cell_type": "code",
   "execution_count": null,
   "id": "041bc3bc-8b57-46c8-b9f1-370c71a759d7",
   "metadata": {},
   "outputs": [],
   "source": [
    "explainerXGB = shap.TreeExplainer(modelXGB)\n",
    "shap_valuesXGB = explainerXGB(xDataXGB)"
   ]
  },
  {
   "cell_type": "code",
   "execution_count": null,
   "id": "a466fee1-62c5-4901-81d2-8135f67c5246",
   "metadata": {},
   "outputs": [],
   "source": [
    "print(f'baseExplainerXGB: {type(baseExplainerXGB)}')\n",
    "print(f'base_shap_valuesXGB: {type(base_shap_valuesXGB)}')\n",
    "\n",
    "print(f'explainerXGB: {type(explainerXGB)}')\n",
    "print(f'shap_valuesXGB: {type(shap_valuesXGB)}')\n",
    "#print(shap_valuesRF)"
   ]
  },
  {
   "cell_type": "code",
   "execution_count": null,
   "id": "c387e5b3-a55a-4011-ba16-00acc2056da8",
   "metadata": {},
   "outputs": [],
   "source": [
    "shap.summary_plot(shap_valuesXGB, xDataXGB, plot_type=\"bar\")"
   ]
  },
  {
   "cell_type": "code",
   "execution_count": null,
   "id": "d6b1ee93-b801-436d-b77a-0c4ed85b8cc2",
   "metadata": {},
   "outputs": [],
   "source": [
    "print(base_shap_valuesXGB.shape)\n",
    "shap.plots.bar(base_shap_valuesXGB) "
   ]
  },
  {
   "cell_type": "code",
   "execution_count": null,
   "id": "bb73e4bd-93c7-4f9a-8494-fb3b2e4bffc6",
   "metadata": {},
   "outputs": [],
   "source": [
    "#shap.plots.waterfall(shap_values[1])\n",
    "shap.plots.waterfall(shap_valuesXGB[1])"
   ]
  },
  {
   "cell_type": "code",
   "execution_count": null,
   "id": "8f47ef04-fc6c-41b6-bebb-5a0539249a77",
   "metadata": {},
   "outputs": [],
   "source": [
    "# force break for using run all/run below\n",
    "assert(1==2)"
   ]
  },
  {
   "cell_type": "markdown",
   "id": "017855b6-81da-40be-84e4-44f534760dd2",
   "metadata": {
    "tags": []
   },
   "source": [
    "# Scratchpad - AnalysisManager SHAP (Random Forest)"
   ]
  },
  {
   "cell_type": "code",
   "execution_count": null,
   "id": "d8df158c-18e7-40e6-a3b9-64f38bf11f83",
   "metadata": {},
   "outputs": [],
   "source": [
    "import shap\n",
    "recovered_objectRF = AnalysisManager.AnalysisManager.load(PROJECT_DIR + '/analysisManagerTest.gz')\n",
    "recovered_objectRF.summary()"
   ]
  },
  {
   "cell_type": "code",
   "execution_count": null,
   "id": "5a9034c2-720e-4b91-adee-03ba25497911",
   "metadata": {},
   "outputs": [],
   "source": [
    "# Remove the XGBoost model so only Random Forest left\n",
    "recovered_objectRF.model_manager.remove_model(0)"
   ]
  },
  {
   "cell_type": "code",
   "execution_count": null,
   "id": "6ff80691-6d1a-4ec9-b8b0-2d49c74ce665",
   "metadata": {},
   "outputs": [],
   "source": [
    "xDataRF = recovered_objectRF.data_manager.xData.copy()\n",
    "modelRF = recovered_objectRF.model_manager.model_list[0].model\n",
    "\n",
    "print(f'xDataRF length = {len(xDataRF)}')\n",
    "print(f'modelRF:')\n",
    "print(modelRF)"
   ]
  },
  {
   "cell_type": "code",
   "execution_count": null,
   "id": "37b4cbeb-d64c-4a0e-941b-bee2df253d42",
   "metadata": {},
   "outputs": [],
   "source": []
  },
  {
   "cell_type": "code",
   "execution_count": null,
   "id": "ad09b4cc-8474-4465-b272-cd08a7bb00ed",
   "metadata": {},
   "outputs": [],
   "source": []
  },
  {
   "cell_type": "code",
   "execution_count": null,
   "id": "e70ea9e1-47f6-43da-bffd-4410fe964d39",
   "metadata": {},
   "outputs": [],
   "source": []
  },
  {
   "cell_type": "code",
   "execution_count": null,
   "id": "9448da6e-a0b8-472f-b7c6-b4b1c22735e4",
   "metadata": {},
   "outputs": [],
   "source": [
    "# GPU Tree crashes on RF. not sure why yet commented out\n",
    "#explainerGPURF = shap.explainers.GPUTree(modelRF)\n",
    "#shap_valuesGPURF = explainerGPURF.shap_values(xDataRF)"
   ]
  },
  {
   "cell_type": "code",
   "execution_count": null,
   "id": "1461f041-2a17-4f66-b3cd-53a1df037b6a",
   "metadata": {},
   "outputs": [],
   "source": [
    "%%time\n",
    "baseExplainerRF = shap.Explainer(modelRF)\n",
    "base_shap_valuesRF = baseExplainerRF(xDataRF)"
   ]
  },
  {
   "cell_type": "code",
   "execution_count": null,
   "id": "b12f37c5-2117-4e1b-9cbf-4bc66eefedbc",
   "metadata": {},
   "outputs": [],
   "source": [
    "%%time\n",
    "explainerRF = shap.TreeExplainer(modelRF)\n",
    "shap_valuesRF = explainerRF(xDataRF)"
   ]
  },
  {
   "cell_type": "code",
   "execution_count": null,
   "id": "0ff6cd96-d3f6-45c1-879e-ad8df7a54118",
   "metadata": {},
   "outputs": [],
   "source": [
    "print(f'baseExplainerRF: {type(baseExplainerRF)}')\n",
    "print(f'base_shap_valuesRF: {type(base_shap_valuesRF)}')\n",
    "\n",
    "print(f'explainerRF: {type(explainerRF)}')\n",
    "print(f'shap_valuesRF: {type(shap_valuesRF)}')\n",
    "#print(shap_valuesRF)"
   ]
  },
  {
   "cell_type": "code",
   "execution_count": null,
   "id": "b7adb003-7048-4f95-a573-7afd6fa6ac5e",
   "metadata": {},
   "outputs": [],
   "source": [
    "print(base_shap_valuesRF.shape)"
   ]
  },
  {
   "cell_type": "code",
   "execution_count": null,
   "id": "c9b05334-6b29-4f13-a123-fcb043af1eb7",
   "metadata": {},
   "outputs": [],
   "source": [
    "shap.summary_plot(base_shap_valuesRF[:, :, 0], xDataRF, plot_type=\"bar\")"
   ]
  },
  {
   "cell_type": "code",
   "execution_count": null,
   "id": "3d5b221d-15dc-46da-af3e-244342a32f76",
   "metadata": {},
   "outputs": [],
   "source": [
    "shap.plots.beeswarm(base_shap_valuesRF[:, :, 0])"
   ]
  },
  {
   "cell_type": "code",
   "execution_count": null,
   "id": "1df50a65-c072-4fa0-be76-76406b83060e",
   "metadata": {},
   "outputs": [],
   "source": [
    "shap.plots.bar(base_shap_valuesRF[:, :, 0])"
   ]
  },
  {
   "cell_type": "code",
   "execution_count": null,
   "id": "2d2c1df0-d37d-4620-8060-d1df8f252df5",
   "metadata": {},
   "outputs": [],
   "source": [
    "#shap.plots.waterfall(shap_values[1])\n",
    "shap.plots.waterfall(base_shap_valuesRF.base_values[1], base_shap_valuesRF.values[1], xData[1])"
   ]
  },
  {
   "cell_type": "code",
   "execution_count": null,
   "id": "2c70cbe4-c6e3-485d-b14c-12f1e4914802",
   "metadata": {},
   "outputs": [],
   "source": []
  },
  {
   "cell_type": "markdown",
   "id": "0863e53b-65a0-4c3c-9f5e-ec3536368c41",
   "metadata": {},
   "source": [
    "# Scratchpad\n",
    "Discrepencies in SHAP output per model"
   ]
  },
  {
   "cell_type": "code",
   "execution_count": null,
   "id": "4bc67dc5-ea4e-41f6-af2c-5ab957b64057",
   "metadata": {},
   "outputs": [],
   "source": [
    "# SHAP value comparison between Random Forest and XGB models\n",
    "# Trained on identical data\n",
    "\n",
    "print(f'XGBoost SHAP      : {base_shap_valuesXGB.shape}')\n",
    "print(f'Random Forest SHAP: {base_shap_valuesRF.shape}')"
   ]
  },
  {
   "cell_type": "code",
   "execution_count": null,
   "id": "cb8620de-72ad-40c1-ac2d-b153e1f91953",
   "metadata": {},
   "outputs": [],
   "source": [
    "# SHAP function calls different between models (e.g. RF/XGB)\n",
    "# Also different for Neural Networks\n",
    "shap.plots.bar(base_shap_valuesRF[:, :, 0])"
   ]
  },
  {
   "cell_type": "code",
   "execution_count": null,
   "id": "37f4c7e3-3131-4d28-9d3b-b18fc72e5947",
   "metadata": {},
   "outputs": [],
   "source": [
    "shap.plots.bar(base_shap_valuesXGB)"
   ]
  }
 ],
 "metadata": {
  "kernelspec": {
   "display_name": "ML1010_env2",
   "language": "python",
   "name": "ml1010_env2"
  },
  "language_info": {
   "codemirror_mode": {
    "name": "ipython",
    "version": 3
   },
   "file_extension": ".py",
   "mimetype": "text/x-python",
   "name": "python",
   "nbconvert_exporter": "python",
   "pygments_lexer": "ipython3",
   "version": "3.7.13"
  }
 },
 "nbformat": 4,
 "nbformat_minor": 5
}
