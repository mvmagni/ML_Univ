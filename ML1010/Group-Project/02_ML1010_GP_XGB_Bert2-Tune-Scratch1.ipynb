{
 "cells": [
  {
   "cell_type": "markdown",
   "metadata": {
    "id": "pn8fyGevt62D",
    "tags": []
   },
   "source": [
    "# Configuration"
   ]
  },
  {
   "cell_type": "code",
   "execution_count": 1,
   "metadata": {
    "executionInfo": {
     "elapsed": 4,
     "status": "ok",
     "timestamp": 1639849468402,
     "user": {
      "displayName": "Michael Vasiliou",
      "photoUrl": "https://lh3.googleusercontent.com/a/default-user=s64",
      "userId": "07079983815732559270"
     },
     "user_tz": 300
    },
    "id": "XmHgvt15t48a"
   },
   "outputs": [],
   "source": [
    "# Parameters\n",
    "ENABLE_COLAB = False\n",
    "\n",
    "PROJECT_NAME = 'ML1010-Group-Project'\n",
    "EXPERIMENT_NAME = 'ReviewText_Lemma_Bert2 (XGB_Tune) scratch'\n",
    "FILE_NAME = '01_ML1010_GP_XGB_Bert2_Tune_Scratch'\n",
    "LOAD_FROM_EXP = False\n",
    "\n",
    "#Root Machine Learning Directory. Projects appear underneath\n",
    "GOOGLE_DRIVE_MOUNT = '/content/gdrive' \n",
    "COLAB_ROOT_DIR = GOOGLE_DRIVE_MOUNT + '/MyDrive/Colab Notebooks'\n",
    "COLAB_INIT_DIR = COLAB_ROOT_DIR + '/utility_files'\n",
    "\n",
    "LOCAL_ROOT_DIR = '/home/magni//ML_Root/project_root'\n",
    "LOCAL_INIT_DIR = LOCAL_ROOT_DIR + '/utility_files'"
   ]
  },
  {
   "cell_type": "markdown",
   "metadata": {
    "id": "1QZKvJBJ7rlc",
    "tags": []
   },
   "source": [
    "# Bootstrap Environment"
   ]
  },
  {
   "cell_type": "code",
   "execution_count": 2,
   "metadata": {
    "colab": {
     "base_uri": "https://localhost:8080/"
    },
    "executionInfo": {
     "elapsed": 19195,
     "status": "ok",
     "timestamp": 1639849489183,
     "user": {
      "displayName": "Michael Vasiliou",
      "photoUrl": "https://lh3.googleusercontent.com/a/default-user=s64",
      "userId": "07079983815732559270"
     },
     "user_tz": 300
    },
    "id": "jgMPxKZBzfFw",
    "outputId": "ae39cdc2-271b-4bdf-a71b-40f4a11dc389"
   },
   "outputs": [
    {
     "name": "stdout",
     "output_type": "stream",
     "text": [
      "Wha...where am I?\n",
      "I am awake now.\n",
      "\n",
      "I have set your current working directory to /home/magni/ML_Root/project_root/ML1010-Group-Project\n",
      "The current time is 22:34\n",
      "Hello sir. I see you are having a productive evening.\n",
      "\n"
     ]
    }
   ],
   "source": [
    "#add in support for utility file directory and importing\n",
    "import sys\n",
    "import os\n",
    "\n",
    "if ENABLE_COLAB:\n",
    "  #Need access to drive\n",
    "  from google.colab import drive\n",
    "  drive.mount(GOOGLE_DRIVE_MOUNT, force_remount=True)\n",
    "  \n",
    "  #add in utility directory to syspath to import \n",
    "  INIT_DIR = COLAB_INIT_DIR\n",
    "  sys.path.append(os.path.abspath(INIT_DIR))\n",
    "  \n",
    "  #Config environment variables\n",
    "  ROOT_DIR = COLAB_ROOT_DIR\n",
    "  \n",
    "else:\n",
    "  #add in utility directory to syspath to import\n",
    "  INIT_DIR = LOCAL_INIT_DIR\n",
    "  sys.path.append(os.path.abspath(INIT_DIR))\n",
    "  \n",
    "  #Config environment variables\n",
    "  ROOT_DIR = LOCAL_ROOT_DIR\n",
    "\n",
    "#Import Utility Support\n",
    "from jarvis import Jarvis\n",
    "jarvis = Jarvis(ROOT_DIR, PROJECT_NAME)\n",
    "\n",
    "import mv_python_utils as mvutils"
   ]
  },
  {
   "cell_type": "markdown",
   "metadata": {
    "id": "fVJrz4vi6Cy5",
    "tags": []
   },
   "source": [
    "# Setup Runtime Environment"
   ]
  },
  {
   "cell_type": "code",
   "execution_count": 3,
   "metadata": {
    "colab": {
     "base_uri": "https://localhost:8080/",
     "height": 764
    },
    "executionInfo": {
     "elapsed": 74966,
     "status": "ok",
     "timestamp": 1639849569348,
     "user": {
      "displayName": "Michael Vasiliou",
      "photoUrl": "https://lh3.googleusercontent.com/a/default-user=s64",
      "userId": "07079983815732559270"
     },
     "user_tz": 300
    },
    "id": "a4BLE0oU8Lhr",
    "outputId": "8f3ceedc-1d7f-4fd6-fe49-c47b8a549554"
   },
   "outputs": [
    {
     "data": {
      "text/plain": [
       "'Google Colab not enabled'"
      ]
     },
     "metadata": {},
     "output_type": "display_data"
    },
    {
     "name": "stderr",
     "output_type": "stream",
     "text": [
      "[nltk_data] Downloading package stopwords to /home/magni/nltk_data...\n",
      "[nltk_data]   Package stopwords is already up-to-date!\n"
     ]
    }
   ],
   "source": [
    "if ENABLE_COLAB:\n",
    "  #!pip install scipy -q\n",
    "  #!pip install scikit-learn -q\n",
    "  #!pip install pycaret -q\n",
    "  #!pip install matplotlib -q\n",
    "  #!pip install joblib -q\n",
    "  #!pip install pandasql -q\n",
    "  !pip install umap_learn -q\n",
    "  !pip install sentence_transformers -q\n",
    "  !pip install spacytextblob -q\n",
    "  !pip install flair -q\n",
    "  display('Google Colab enabled')\n",
    "else:\n",
    "  display('Google Colab not enabled')\n",
    "\n",
    "#Common imports\n",
    "import json\n",
    "import pandas as pd\n",
    "import numpy as np\n",
    "import matplotlib\n",
    "import re\n",
    "import nltk\n",
    "import matplotlib.pyplot as plt\n",
    "from sklearn.cluster import KMeans\n",
    "from sklearn import metrics\n",
    "from sklearn.datasets import load_digits\n",
    "from sklearn.model_selection import train_test_split as tts\n",
    "#from yellowbrick.classifier import ConfusionMatrix\n",
    "#from sklearn.linear_model import LogisticRegression\n",
    "from yellowbrick.target import ClassBalance\n",
    "from xgboost import XGBClassifier\n",
    "from sklearn.model_selection import train_test_split\n",
    "from sklearn.metrics import accuracy_score, confusion_matrix\n",
    "from sklearn.svm import SVC\n",
    "from sklearn.ensemble import RandomForestClassifier\n",
    "\n",
    "nltk.download('stopwords')\n",
    "%matplotlib inline"
   ]
  },
  {
   "cell_type": "code",
   "execution_count": 4,
   "metadata": {
    "id": "hTpH7cxU5wag"
   },
   "outputs": [
    {
     "name": "stderr",
     "output_type": "stream",
     "text": [
      "2022-01-25 22:34:32.595085: W tensorflow/stream_executor/platform/default/dso_loader.cc:64] Could not load dynamic library 'libcudart.so.11.0'; dlerror: libcudart.so.11.0: cannot open shared object file: No such file or directory\n",
      "2022-01-25 22:34:32.595150: I tensorflow/stream_executor/cuda/cudart_stub.cc:29] Ignore above cudart dlerror if you do not have a GPU set up on your machine.\n"
     ]
    }
   ],
   "source": [
    "import importlib\n",
    "import cw_df_metric_utils as cwutils\n",
    "import DataPackage as dp\n",
    "import DataPackageSupport as dps\n",
    "import DataExperiment\n",
    "import DataExperimentSupport"
   ]
  },
  {
   "cell_type": "code",
   "execution_count": 5,
   "metadata": {},
   "outputs": [
    {
     "data": {
      "text/plain": [
       "<module 'DataExperimentSupport' from '/home/magni/ML_Root/project_root/utility_files/DataExperimentSupport.py'>"
      ]
     },
     "execution_count": 5,
     "metadata": {},
     "output_type": "execute_result"
    }
   ],
   "source": [
    "importlib.reload(dp)\n",
    "importlib.reload(dps)\n",
    "importlib.reload(DataExperiment)\n",
    "importlib.reload(DataExperimentSupport)"
   ]
  },
  {
   "cell_type": "markdown",
   "metadata": {
    "id": "d1VKEszbvgpS",
    "tags": []
   },
   "source": [
    "# Load Data"
   ]
  },
  {
   "cell_type": "code",
   "execution_count": 6,
   "metadata": {
    "id": "LWHq10XLs5DV"
   },
   "outputs": [],
   "source": [
    "#axis_labels=[1,2,3,4,5]\n",
    "axis_labels=[0,1]\n",
    "#classifier = RandomForestClassifier()\n",
    "#classifier = XGBClassifier(eval_metric='mlogloss')\n",
    "classifier = XGBClassifier(\n",
    "                      #silent=False, \n",
    "                      #scale_pos_weight=1,\n",
    "                      learning_rate=0.1,  \n",
    "                      colsample_bytree = 0.8,\n",
    "                      #subsample = 0.8,\n",
    "                      #objective='binary:logistic', \n",
    "                      n_estimators=2000, \n",
    "                      #reg_alpha = 0.3,\n",
    "                      max_depth=5, \n",
    "                      #gamma=10,\n",
    "                      eval_metric='mlogloss')\n",
    "ANALSYSIS_COL = 'reviewText_lemma_bert'\n",
    "UNIQUE_COL = 'uuid'\n",
    "TARGET_COL = 'overall_posneg'"
   ]
  },
  {
   "cell_type": "code",
   "execution_count": 7,
   "metadata": {},
   "outputs": [
    {
     "name": "stdout",
     "output_type": "stream",
     "text": [
      "DataExperiment summary:\n",
      "---> projectName: ML1010-Group-Project\n",
      "---> experimentName: ReviewText_Lemma_Bert2 (XGB_Tune) scratch\n",
      "---> isDataPackageLoaded: True\n",
      "---> isBaseModelLoaded: False\n",
      "---> isBaseModelPredicted: False\n",
      "---> isBaseModelLearningCurveCreated: False\n",
      "---> isFinalModelLoaded: False\n",
      "---> isFinalModelPredicted: False\n",
      "---> isFinalModelLearningCurveCreated: False\n",
      "---> isClassifierLoaded: True\n",
      "XGBClassifier(base_score=None, booster=None, colsample_bylevel=None,\n",
      "              colsample_bynode=None, colsample_bytree=0.8,\n",
      "              enable_categorical=False, eval_metric='mlogloss', gamma=None,\n",
      "              gpu_id=None, importance_type=None, interaction_constraints=None,\n",
      "              learning_rate=0.1, max_delta_step=None, max_depth=5,\n",
      "              min_child_weight=None, missing=nan, monotone_constraints=None,\n",
      "              n_estimators=2000, n_jobs=None, num_parallel_tree=None,\n",
      "              predictor=None, random_state=None, reg_alpha=None,\n",
      "              reg_lambda=None, scale_pos_weight=None, subsample=None,\n",
      "              tree_method=None, validate_parameters=None, verbosity=None)\n",
      "\n",
      "    DataPackage summary:\n",
      "    Attributes:\n",
      "    ---> uniqueColumn: uuid\n",
      "    ---> targetColumn: overall_posneg\n",
      "    Process:\n",
      "    ---> isBalanced: False\n",
      "    ---> isTrainTestSplit: False\n",
      "    Data:\n",
      "    ---> isOrigDataLoaded: True\n",
      "    ---> isTrainDataLoaded: False\n",
      "    ---> isTestDataLoaded: False\n"
     ]
    }
   ],
   "source": [
    "if LOAD_FROM_EXP:\n",
    "    #start from saved state\n",
    "    myExp = jarvis.loadExperiment(FILE_NAME)\n",
    "    myExp.display()\n",
    "\n",
    "else:\n",
    "    #start from source file and regenerate\n",
    "    testDf = pd.read_pickle(jarvis.DATA_DIR_WORK + \"/01_NL_ReviewText_All(new).pkl.gz\")\n",
    "\n",
    "    testDfBert = cwutils.getBertEncodeFrame(df=testDf,\n",
    "                                            bertColumn=ANALSYSIS_COL,\n",
    "                                            uniqueColumn=UNIQUE_COL,\n",
    "                                            otherColumns=[TARGET_COL]\n",
    "                                            )\n",
    "\n",
    "\n",
    "\n",
    "    myExp = DataExperiment.DataExperiment(projectName=PROJECT_NAME,\n",
    "                                          experimentName=EXPERIMENT_NAME,\n",
    "                                          origData=testDfBert,\n",
    "                                          uniqueColumn=UNIQUE_COL,\n",
    "                                          targetColumn=TARGET_COL,\n",
    "                                          classifier=classifier)"
   ]
  },
  {
   "cell_type": "code",
   "execution_count": 8,
   "metadata": {},
   "outputs": [
    {
     "data": {
      "image/png": "[encoded data removed]",
      "text/plain": [
       "<Figure size 432x288 with 1 Axes>"
      ]
     },
     "metadata": {
      "needs_background": "light"
     },
     "output_type": "display_data"
    },
    {
     "name": "stdout",
     "output_type": "stream",
     "text": [
      "Undersampling data to match min class: 0 of size: 13440\n"
     ]
    },
    {
     "data": {
      "image/png": "[encoded data removed]",
      "text/plain": [
       "<Figure size 432x288 with 1 Axes>"
      ]
     },
     "metadata": {
      "needs_background": "light"
     },
     "output_type": "display_data"
    },
    {
     "data": {
      "text/html": [
       "<div>\n",
       "<style scoped>\n",
       "    .dataframe tbody tr th:only-of-type {\n",
       "        vertical-align: middle;\n",
       "    }\n",
       "\n",
       "    .dataframe tbody tr th {\n",
       "        vertical-align: top;\n",
       "    }\n",
       "\n",
       "    .dataframe thead th {\n",
       "        text-align: right;\n",
       "    }\n",
       "</style>\n",
       "<table border=\"1\" class=\"dataframe\">\n",
       "  <thead>\n",
       "    <tr style=\"text-align: right;\">\n",
       "      <th></th>\n",
       "      <th>overall_posneg</th>\n",
       "      <th>ttlCol</th>\n",
       "    </tr>\n",
       "  </thead>\n",
       "  <tbody>\n",
       "    <tr>\n",
       "      <th>0</th>\n",
       "      <td>0</td>\n",
       "      <td>13440</td>\n",
       "    </tr>\n",
       "    <tr>\n",
       "      <th>1</th>\n",
       "      <td>1</td>\n",
       "      <td>13440</td>\n",
       "    </tr>\n",
       "  </tbody>\n",
       "</table>\n",
       "</div>"
      ],
      "text/plain": [
       "   overall_posneg  ttlCol\n",
       "0               0   13440\n",
       "1               1   13440"
      ]
     },
     "metadata": {},
     "output_type": "display_data"
    },
    {
     "name": "stdout",
     "output_type": "stream",
     "text": [
      "Completed train/test split (train_size = 0.8):\n",
      "---> Original data size: 26880\n",
      "---> Training data size: 21504\n",
      "---> Testing data size: 5376\n",
      "---> Stratified on column: overall_posneg\n"
     ]
    }
   ],
   "source": [
    "myExp.dataPackage.classBalanceUndersample()\n",
    "myExp.dataPackage.splitTrainTest()"
   ]
  },
  {
   "cell_type": "code",
   "execution_count": null,
   "metadata": {},
   "outputs": [],
   "source": []
  },
  {
   "cell_type": "code",
   "execution_count": 9,
   "metadata": {},
   "outputs": [
    {
     "name": "stderr",
     "output_type": "stream",
     "text": [
      "/home/magni/python_env/ML1010_env2/lib64/python3.7/site-packages/xgboost/sklearn.py:1224: UserWarning: The use of label encoder in XGBClassifier is deprecated and will be removed in a future release. To remove this warning, do the following: 1) Pass option use_label_encoder=False when constructing XGBClassifier object; and 2) Encode your labels (y) as integers starting with 0, i.e. 0, 1, 2, ..., [num_class - 1].\n",
      "  warnings.warn(label_encoder_deprecation_msg, UserWarning)\n"
     ]
    },
    {
     "name": "stdout",
     "output_type": "stream",
     "text": [
      "Base Model Stats:\n",
      "Accuracy: 0.82\n",
      "Precision: 0.82\n",
      "Recalll: 0.82\n",
      "F1 Score: 0.82\n",
      "Cohen kappa:: 0.65\n",
      "CPU times: user 40min 21s, sys: 330 ms, total: 40min 21s\n",
      "Wall time: 2min 33s\n"
     ]
    }
   ],
   "source": [
    "%%time\n",
    "myExp.createBaseModel()"
   ]
  },
  {
   "cell_type": "code",
   "execution_count": null,
   "metadata": {},
   "outputs": [],
   "source": [
    "_ = myExp.analyzeBaseModelFeatureImportance(returnAbove=0.001)"
   ]
  },
  {
   "cell_type": "code",
   "execution_count": null,
   "metadata": {},
   "outputs": [],
   "source": [
    "%%time\n",
    "myExp.createFinalModel(featureImportanceThreshold=0.001)"
   ]
  },
  {
   "cell_type": "code",
   "execution_count": null,
   "metadata": {},
   "outputs": [],
   "source": [
    "%%time\n",
    "myExp.createBaseModelLearningCurve()"
   ]
  },
  {
   "cell_type": "code",
   "execution_count": null,
   "metadata": {},
   "outputs": [],
   "source": [
    "%%time\n",
    "myExp.createFinalModelLearningCurve()"
   ]
  },
  {
   "cell_type": "code",
   "execution_count": null,
   "metadata": {},
   "outputs": [],
   "source": [
    "%%time\n",
    "myExp.showBaseModelReport(axis_labels,\n",
    "                          upperValue=0.025)"
   ]
  },
  {
   "cell_type": "code",
   "execution_count": null,
   "metadata": {},
   "outputs": [],
   "source": [
    "%%time\n",
    "myExp\n",
    "myExp.showFinalModelReport(axis_labels,\n",
    "                           startValue=0,\n",
    "                           increment=0.001,\n",
    "                           upperValue=0.02)"
   ]
  },
  {
   "cell_type": "code",
   "execution_count": null,
   "metadata": {},
   "outputs": [],
   "source": [
    "myExp.display()"
   ]
  },
  {
   "cell_type": "markdown",
   "metadata": {
    "tags": []
   },
   "source": [
    "#  Save Experiment"
   ]
  },
  {
   "cell_type": "code",
   "execution_count": null,
   "metadata": {},
   "outputs": [],
   "source": [
    "jarvis.saveExperiment(myExp, FILE_NAME)"
   ]
  },
  {
   "cell_type": "markdown",
   "metadata": {},
   "source": [
    "#  Scratchpad"
   ]
  },
  {
   "cell_type": "code",
   "execution_count": null,
   "metadata": {},
   "outputs": [],
   "source": [
    "model = myExp.getClassifier()\n",
    "# define the datasets to evaluate each iteration\n",
    "X_train=myExp.dataPackage.getXTrainData()\n",
    "Y_train=myExp.dataPackage.getYTrainData()\n",
    "X_test=myExp.dataPackage.getXTestData()\n",
    "Y_test=myExp.dataPackage.getYTestData()\n",
    "evalset = [(X_train, Y_train), (X_test,Y_test)]\n",
    "# fit the model\n",
    "model.fit(X_train, Y_train, eval_metric='logloss', eval_set=evalset)\n",
    "# evaluate performance\n",
    "yhat = model.predict(X_test)\n",
    "score = accuracy_score(Y_test, yhat)\n",
    "print('Accuracy: %.3f' % score)\n",
    "# retrieve performance metrics\n",
    "results = model.evals_result()\n",
    "# plot learning curves\n",
    "plt.plot(results['validation_0']['logloss'], label='train')\n",
    "plt.plot(results['validation_1']['logloss'], label='test')\n",
    "# show the legend\n",
    "plt.legend()\n",
    "# show the plot"
   ]
  },
  {
   "cell_type": "code",
   "execution_count": null,
   "metadata": {},
   "outputs": [],
   "source": []
  }
 ],
 "metadata": {
  "colab": {
   "authorship_tag": "ABX9TyOHRhk3MnSb4v5m2pip9Csd",
   "collapsed_sections": [
    "pn8fyGevt62D",
    "1QZKvJBJ7rlc",
    "fVJrz4vi6Cy5",
    "d1VKEszbvgpS",
    "TSXj9-6uCPlq",
    "jbDYJ_r6_xqk",
    "wSl1Fy3gcvbi",
    "W9Y2Idos-2Hl",
    "NGKpEqqwO9L6",
    "jyGqiRoQROHu",
    "NN0TbdPPfmKG",
    "SJe_Cy_aNJVx",
    "UrAIa9xTsucp",
    "G3sbhyAHvq6D",
    "E-dDQ_KXwAQQ",
    "hZIH3Wcyw76R",
    "m1KEaXz7xQMW",
    "0lAXqFH5yHgU",
    "i_VCkCCWyYYe",
    "yfPqFMjgythJ",
    "eIzBqATpythg",
    "gQujKtfNythh",
    "KMqHM-APythi"
   ],
   "name": "05_ML1010_GP_calcScores.pynb",
   "provenance": [
    {
     "file_id": "1TTophYisuYAESj-r2pcxC1cOw77kApN0",
     "timestamp": 1638578513850
    },
    {
     "file_id": "1R_J6p2OeOjXlMWk1bRbiOo7XdfzkzjGU",
     "timestamp": 1638295449964
    }
   ],
   "toc_visible": true
  },
  "kernelspec": {
   "display_name": "ML1010_env2",
   "language": "python",
   "name": "ml1010_env2"
  },
  "language_info": {
   "codemirror_mode": {
    "name": "ipython",
    "version": 3
   },
   "file_extension": ".py",
   "mimetype": "text/x-python",
   "name": "python",
   "nbconvert_exporter": "python",
   "pygments_lexer": "ipython3",
   "version": "3.7.12"
  }
 },
 "nbformat": 4,
 "nbformat_minor": 4
}
