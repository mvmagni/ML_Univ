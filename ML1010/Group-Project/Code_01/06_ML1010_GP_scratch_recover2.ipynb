{
 "cells": [
  {
   "cell_type": "markdown",
   "metadata": {
    "id": "pn8fyGevt62D",
    "tags": []
   },
   "source": [
    "# Configuration"
   ]
  },
  {
   "cell_type": "code",
   "execution_count": 1,
   "metadata": {
    "executionInfo": {
     "elapsed": 4,
     "status": "ok",
     "timestamp": 1639849468402,
     "user": {
      "displayName": "Michael Vasiliou",
      "photoUrl": "https://lh3.googleusercontent.com/a/default-user=s64",
      "userId": "07079983815732559270"
     },
     "user_tz": 300
    },
    "id": "XmHgvt15t48a"
   },
   "outputs": [],
   "source": [
    "# Parameters\n",
    "PROJECT_NAME = 'ML1010-Group-Project'\n",
    "ENABLE_COLAB = False\n",
    "\n",
    "#Root Machine Learning Directory. Projects appear underneath\n",
    "GOOGLE_DRIVE_MOUNT = '/content/gdrive' \n",
    "COLAB_ROOT_DIR = GOOGLE_DRIVE_MOUNT + '/MyDrive/Colab Notebooks'\n",
    "COLAB_INIT_DIR = COLAB_ROOT_DIR + '/utility_files'\n",
    "\n",
    "LOCAL_ROOT_DIR = '/home/magni//ML_Root/project_root'\n",
    "LOCAL_INIT_DIR = LOCAL_ROOT_DIR + '/utility_files'"
   ]
  },
  {
   "cell_type": "markdown",
   "metadata": {
    "id": "1QZKvJBJ7rlc",
    "tags": []
   },
   "source": [
    "# Bootstrap Environment"
   ]
  },
  {
   "cell_type": "code",
   "execution_count": 2,
   "metadata": {
    "colab": {
     "base_uri": "https://localhost:8080/"
    },
    "executionInfo": {
     "elapsed": 19195,
     "status": "ok",
     "timestamp": 1639849489183,
     "user": {
      "displayName": "Michael Vasiliou",
      "photoUrl": "https://lh3.googleusercontent.com/a/default-user=s64",
      "userId": "07079983815732559270"
     },
     "user_tz": 300
    },
    "id": "jgMPxKZBzfFw",
    "outputId": "ae39cdc2-271b-4bdf-a71b-40f4a11dc389"
   },
   "outputs": [
    {
     "name": "stdout",
     "output_type": "stream",
     "text": [
      "Wha...where am I?\n",
      "I am awake now.\n",
      "\n",
      "I have set your current working directory to /home/magni/ML_Root/project_root/ML1010-Group-Project\n",
      "The current time is 19:43\n",
      "Hello sir. I hope you had dinner.\n",
      "\n"
     ]
    }
   ],
   "source": [
    "#add in support for utility file directory and importing\n",
    "import sys\n",
    "import os\n",
    "\n",
    "if ENABLE_COLAB:\n",
    "  #Need access to drive\n",
    "  from google.colab import drive\n",
    "  drive.mount(GOOGLE_DRIVE_MOUNT, force_remount=True)\n",
    "  \n",
    "  #add in utility directory to syspath to import \n",
    "  INIT_DIR = COLAB_INIT_DIR\n",
    "  sys.path.append(os.path.abspath(INIT_DIR))\n",
    "  \n",
    "  #Config environment variables\n",
    "  ROOT_DIR = COLAB_ROOT_DIR\n",
    "  \n",
    "else:\n",
    "  #add in utility directory to syspath to import\n",
    "  INIT_DIR = LOCAL_INIT_DIR\n",
    "  sys.path.append(os.path.abspath(INIT_DIR))\n",
    "  \n",
    "  #Config environment variables\n",
    "  ROOT_DIR = LOCAL_ROOT_DIR\n",
    "\n",
    "#Import Utility Support\n",
    "from jarvis import Jarvis\n",
    "jarvis = Jarvis(ROOT_DIR, PROJECT_NAME)\n",
    "\n",
    "import mv_python_utils as mvutils"
   ]
  },
  {
   "cell_type": "markdown",
   "metadata": {
    "id": "fVJrz4vi6Cy5",
    "tags": []
   },
   "source": [
    "# Setup Runtime Environment"
   ]
  },
  {
   "cell_type": "code",
   "execution_count": 3,
   "metadata": {
    "colab": {
     "base_uri": "https://localhost:8080/",
     "height": 764
    },
    "executionInfo": {
     "elapsed": 74966,
     "status": "ok",
     "timestamp": 1639849569348,
     "user": {
      "displayName": "Michael Vasiliou",
      "photoUrl": "https://lh3.googleusercontent.com/a/default-user=s64",
      "userId": "07079983815732559270"
     },
     "user_tz": 300
    },
    "id": "a4BLE0oU8Lhr",
    "outputId": "8f3ceedc-1d7f-4fd6-fe49-c47b8a549554"
   },
   "outputs": [
    {
     "data": {
      "text/plain": [
       "'Google Colab not enabled'"
      ]
     },
     "metadata": {},
     "output_type": "display_data"
    },
    {
     "name": "stderr",
     "output_type": "stream",
     "text": [
      "[nltk_data] Downloading package stopwords to /home/magni/nltk_data...\n",
      "[nltk_data]   Package stopwords is already up-to-date!\n"
     ]
    }
   ],
   "source": [
    "if ENABLE_COLAB:\n",
    "  #!pip install scipy -q\n",
    "  #!pip install scikit-learn -q\n",
    "  #!pip install pycaret -q\n",
    "  #!pip install matplotlib -q\n",
    "  #!pip install joblib -q\n",
    "  #!pip install pandasql -q\n",
    "  !pip install umap_learn -q\n",
    "  !pip install sentence_transformers -q\n",
    "  !pip install spacytextblob -q\n",
    "  !pip install flair -q\n",
    "  display('Google Colab enabled')\n",
    "else:\n",
    "  display('Google Colab not enabled')\n",
    "\n",
    "#Common imports\n",
    "import json\n",
    "import pandas as pd\n",
    "import numpy as np\n",
    "import matplotlib\n",
    "import re\n",
    "import nltk\n",
    "import matplotlib.pyplot as plt\n",
    "from sklearn.cluster import KMeans\n",
    "from sklearn import metrics\n",
    "from sklearn.datasets import load_digits\n",
    "from sklearn.model_selection import train_test_split as tts\n",
    "#from yellowbrick.classifier import ConfusionMatrix\n",
    "#from sklearn.linear_model import LogisticRegression\n",
    "from yellowbrick.target import ClassBalance\n",
    "from xgboost import XGBClassifier\n",
    "from sklearn.model_selection import train_test_split\n",
    "from sklearn.metrics import accuracy_score, confusion_matrix\n",
    "\n",
    "\n",
    "nltk.download('stopwords')\n",
    "%matplotlib inline"
   ]
  },
  {
   "cell_type": "code",
   "execution_count": 4,
   "metadata": {
    "id": "hTpH7cxU5wag"
   },
   "outputs": [
    {
     "name": "stderr",
     "output_type": "stream",
     "text": [
      "2022-01-08 19:43:26.045625: W tensorflow/stream_executor/platform/default/dso_loader.cc:64] Could not load dynamic library 'libcudart.so.11.0'; dlerror: libcudart.so.11.0: cannot open shared object file: No such file or directory\n",
      "2022-01-08 19:43:26.045656: I tensorflow/stream_executor/cuda/cudart_stub.cc:29] Ignore above cudart dlerror if you do not have a GPU set up on your machine.\n"
     ]
    }
   ],
   "source": [
    "import cw_df_metric_utils as cwutils"
   ]
  },
  {
   "cell_type": "code",
   "execution_count": 5,
   "metadata": {
    "id": "LWHq10XLs5DV"
   },
   "outputs": [],
   "source": [
    "axis_labels5=[1,2,3,4,5]\n",
    "axis_labels2=[0,1]"
   ]
  },
  {
   "cell_type": "markdown",
   "metadata": {
    "id": "d1VKEszbvgpS",
    "jp-MarkdownHeadingCollapsed": true,
    "tags": []
   },
   "source": [
    "# Load Data"
   ]
  },
  {
   "cell_type": "code",
   "execution_count": null,
   "metadata": {
    "colab": {
     "base_uri": "https://localhost:8080/"
    },
    "executionInfo": {
     "elapsed": 324,
     "status": "ok",
     "timestamp": 1638748712626,
     "user": {
      "displayName": "Michael Vasiliou",
      "photoUrl": "https://lh3.googleusercontent.com/a/default-user=s64",
      "userId": "07079983815732559270"
     },
     "user_tz": 300
    },
    "id": "BeiSV4vQh9gt",
    "outputId": "275aacf7-21e4-4f2c-9460-e6ee7ee42a25"
   },
   "outputs": [],
   "source": [
    "jarvis.getPackageVersion('pandas')\n",
    "!python -V\n",
    "jarvis.showProjectDataFiles()"
   ]
  },
  {
   "cell_type": "code",
   "execution_count": null,
   "metadata": {
    "colab": {
     "base_uri": "https://localhost:8080/",
     "height": 1000
    },
    "executionInfo": {
     "elapsed": 9941,
     "status": "ok",
     "timestamp": 1638749561882,
     "user": {
      "displayName": "Michael Vasiliou",
      "photoUrl": "https://lh3.googleusercontent.com/a/default-user=s64",
      "userId": "07079983815732559270"
     },
     "user_tz": 300
    },
    "id": "WCfeBAaxvjWJ",
    "outputId": "317584d2-f7b5-4d86-aa10-e9e95adc4c56"
   },
   "outputs": [],
   "source": [
    "dataSrc = pd.read_pickle(jarvis.DATA_DIR_WORK + \"/01_NL_ReviewText_All(new).pkl.gz\")\n",
    "mvutils.exploreDataframe (dataSrc, numRecords=1)"
   ]
  },
  {
   "cell_type": "markdown",
   "metadata": {
    "id": "V2Il8ZHhYWyk",
    "jp-MarkdownHeadingCollapsed": true,
    "tags": []
   },
   "source": [
    "# Lemma - dropNA and Balance (2 class and 5 class)"
   ]
  },
  {
   "cell_type": "code",
   "execution_count": null,
   "metadata": {
    "id": "iMkTVeh4YhZr"
   },
   "outputs": [],
   "source": [
    "dataCoreLemma = dataSrc[['uuid',\n",
    "                         'overall',\n",
    "                         'overall_posneg',\n",
    "                         'reviewText_lemma',\n",
    "                         'reviewText_lemma_tb_pol',\n",
    "                         'reviewText_lemma_tb_subj',\n",
    "                         'reviewText_lemma_tb_tokens', \n",
    "                         'reviewText_lemma_tb_length',\n",
    "                         'reviewText_lemma_bert',\n",
    "                         'reviewText_lemma_flairSent',\n",
    "                         'reviewText_lemma_flairSent_norm',\n",
    "                         'reviewText_lemma_flairSent_posneg',\n",
    "                         'reviewText_lemma_tb_pol_norm',\n",
    "                         'reviewText_lemma_tb_pol_posneg'\n",
    "                        ]].copy()"
   ]
  },
  {
   "cell_type": "code",
   "execution_count": null,
   "metadata": {
    "colab": {
     "base_uri": "https://localhost:8080/"
    },
    "executionInfo": {
     "elapsed": 150,
     "status": "ok",
     "timestamp": 1638749943636,
     "user": {
      "displayName": "Michael Vasiliou",
      "photoUrl": "https://lh3.googleusercontent.com/a/default-user=s64",
      "userId": "07079983815732559270"
     },
     "user_tz": 300
    },
    "id": "bcQ09KUMDcHM",
    "outputId": "b5e85681-f7f0-4e5b-897e-b8292d377e5c"
   },
   "outputs": [],
   "source": [
    "dataCoreLemma.info()"
   ]
  },
  {
   "cell_type": "code",
   "execution_count": null,
   "metadata": {
    "colab": {
     "base_uri": "https://localhost:8080/"
    },
    "executionInfo": {
     "elapsed": 160,
     "status": "ok",
     "timestamp": 1638749947367,
     "user": {
      "displayName": "Michael Vasiliou",
      "photoUrl": "https://lh3.googleusercontent.com/a/default-user=s64",
      "userId": "07079983815732559270"
     },
     "user_tz": 300
    },
    "id": "x6iMSnNCDlfz",
    "outputId": "6b15b62b-a0e9-423f-aff5-2e38df08fedd"
   },
   "outputs": [],
   "source": [
    "#Drop null values from flairSent\n",
    "dataCoreLemma.dropna(subset=['reviewText_lemma_flairSent'], inplace=True)\n",
    "dataCoreLemma.reset_index(drop=True, inplace=True)\n",
    "dataCoreLemma.info()"
   ]
  },
  {
   "cell_type": "code",
   "execution_count": null,
   "metadata": {
    "colab": {
     "base_uri": "https://localhost:8080/",
     "height": 560
    },
    "executionInfo": {
     "elapsed": 328,
     "status": "ok",
     "timestamp": 1638749950948,
     "user": {
      "displayName": "Michael Vasiliou",
      "photoUrl": "https://lh3.googleusercontent.com/a/default-user=s64",
      "userId": "07079983815732559270"
     },
     "user_tz": 300
    },
    "id": "VkSSEZ7HC5ot",
    "outputId": "f597ac05-975d-4f4f-cc5e-a7eb21fde2fa"
   },
   "outputs": [],
   "source": [
    "dataCoreLemmaBal2 = mvutils.classBalanceUndersample(dataCoreLemma, 'overall_posneg')"
   ]
  },
  {
   "cell_type": "code",
   "execution_count": null,
   "metadata": {
    "colab": {
     "base_uri": "https://localhost:8080/",
     "height": 560
    },
    "executionInfo": {
     "elapsed": 376,
     "status": "ok",
     "timestamp": 1638749955809,
     "user": {
      "displayName": "Michael Vasiliou",
      "photoUrl": "https://lh3.googleusercontent.com/a/default-user=s64",
      "userId": "07079983815732559270"
     },
     "user_tz": 300
    },
    "id": "WAIiY-euGjMe",
    "outputId": "5f056215-f56d-44a2-c2af-ca073c503c87"
   },
   "outputs": [],
   "source": [
    "dataCoreLemmaBal5 = mvutils.classBalanceUndersample(dataCoreLemma, 'overall')"
   ]
  },
  {
   "cell_type": "markdown",
   "metadata": {
    "id": "6rmO5lPyZwwJ",
    "jp-MarkdownHeadingCollapsed": true,
    "tags": []
   },
   "source": [
    "# Lemma - Prune data and Balance (2 class and 5 class)"
   ]
  },
  {
   "cell_type": "code",
   "execution_count": null,
   "metadata": {
    "colab": {
     "base_uri": "https://localhost:8080/"
    },
    "executionInfo": {
     "elapsed": 139,
     "status": "ok",
     "timestamp": 1638755300594,
     "user": {
      "displayName": "Michael Vasiliou",
      "photoUrl": "https://lh3.googleusercontent.com/a/default-user=s64",
      "userId": "07079983815732559270"
     },
     "user_tz": 300
    },
    "id": "bfwby-pcZ2uY",
    "outputId": "45d541a2-db18-42f0-a44c-b6f798e20177"
   },
   "outputs": [],
   "source": [
    "dataCoreLemmaPrune = dataCoreLemma.copy()\n",
    "dataCoreLemmaPrune.info()"
   ]
  },
  {
   "cell_type": "code",
   "execution_count": null,
   "metadata": {
    "colab": {
     "base_uri": "https://localhost:8080/",
     "height": 526
    },
    "executionInfo": {
     "elapsed": 626,
     "status": "ok",
     "timestamp": 1638755303223,
     "user": {
      "displayName": "Michael Vasiliou",
      "photoUrl": "https://lh3.googleusercontent.com/a/default-user=s64",
      "userId": "07079983815732559270"
     },
     "user_tz": 300
    },
    "id": "j9WMvN0aZH45",
    "outputId": "ab9e0af1-927c-4816-dcd6-fda73f80e58e"
   },
   "outputs": [],
   "source": [
    "mvutils.examineColumnNumeric(dataCoreLemmaPrune, \n",
    "                             'reviewText_lemma_tb_tokens', \n",
    "                             binsize=1, \n",
    "                             zoom=True,\n",
    "                             minZoomLevel=0,\n",
    "                             maxZoomLevel=20,\n",
    "                             plotsize=5)"
   ]
  },
  {
   "cell_type": "code",
   "execution_count": null,
   "metadata": {
    "colab": {
     "base_uri": "https://localhost:8080/",
     "height": 540
    },
    "executionInfo": {
     "elapsed": 661,
     "status": "ok",
     "timestamp": 1638755306163,
     "user": {
      "displayName": "Michael Vasiliou",
      "photoUrl": "https://lh3.googleusercontent.com/a/default-user=s64",
      "userId": "07079983815732559270"
     },
     "user_tz": 300
    },
    "id": "Gip7DbyyZIA5",
    "outputId": "9b8f62f5-7e66-4c1e-b9c4-ff5498654c70"
   },
   "outputs": [],
   "source": [
    "mvutils.examineColumnNumeric(dataCoreLemmaPrune, \n",
    "                             'reviewText_lemma_tb_tokens', \n",
    "                             binsize=100, \n",
    "                             zoom=True,\n",
    "                             minZoomLevel=1500,\n",
    "                             maxZoomLevel=5000,\n",
    "                             plotsize=5)"
   ]
  },
  {
   "cell_type": "code",
   "execution_count": null,
   "metadata": {
    "id": "gnFmjJwqZIDt"
   },
   "outputs": [],
   "source": [
    "#import numpy as np\n",
    "idx = np.where((dataCoreLemmaPrune['reviewText_lemma_tb_tokens']>=5) &\n",
    "               (dataCoreLemmaPrune['reviewText_lemma_tb_tokens']<= 2100))"
   ]
  },
  {
   "cell_type": "code",
   "execution_count": null,
   "metadata": {
    "id": "b0nl-guXZIGt"
   },
   "outputs": [],
   "source": [
    "dataCoreLemmaPrune = dataCoreLemmaPrune.loc[idx].copy()\n",
    "dataCoreLemmaPrune.reset_index(inplace=True, drop=True)"
   ]
  },
  {
   "cell_type": "code",
   "execution_count": null,
   "metadata": {
    "colab": {
     "base_uri": "https://localhost:8080/"
    },
    "executionInfo": {
     "elapsed": 145,
     "status": "ok",
     "timestamp": 1638755313832,
     "user": {
      "displayName": "Michael Vasiliou",
      "photoUrl": "https://lh3.googleusercontent.com/a/default-user=s64",
      "userId": "07079983815732559270"
     },
     "user_tz": 300
    },
    "id": "uO3ig_nLZ25-",
    "outputId": "3259d461-8931-42cb-ec6d-d9c9449cd1db"
   },
   "outputs": [],
   "source": [
    "dataCoreLemmaPrune.info()"
   ]
  },
  {
   "cell_type": "code",
   "execution_count": null,
   "metadata": {
    "colab": {
     "base_uri": "https://localhost:8080/",
     "height": 1000
    },
    "executionInfo": {
     "elapsed": 562,
     "status": "ok",
     "timestamp": 1638755363423,
     "user": {
      "displayName": "Michael Vasiliou",
      "photoUrl": "https://lh3.googleusercontent.com/a/default-user=s64",
      "userId": "07079983815732559270"
     },
     "user_tz": 300
    },
    "id": "xrkDfao2bi76",
    "outputId": "5301cecb-8c70-4201-ead4-2c87b2523ec6"
   },
   "outputs": [],
   "source": [
    "dataCoreLemmaPruneBal2 = mvutils.classBalanceUndersample(dataCoreLemmaPrune, 'overall_posneg')"
   ]
  },
  {
   "cell_type": "code",
   "execution_count": null,
   "metadata": {
    "colab": {
     "base_uri": "https://localhost:8080/",
     "height": 1000
    },
    "executionInfo": {
     "elapsed": 651,
     "status": "ok",
     "timestamp": 1638755388545,
     "user": {
      "displayName": "Michael Vasiliou",
      "photoUrl": "https://lh3.googleusercontent.com/a/default-user=s64",
      "userId": "07079983815732559270"
     },
     "user_tz": 300
    },
    "id": "BHQzMSolbi77",
    "outputId": "274942b6-3292-4e8f-a454-860df005f712"
   },
   "outputs": [],
   "source": [
    "dataCoreLemmaPruneBal5 = mvutils.classBalanceUndersample(dataCoreLemmaPrune, 'overall')"
   ]
  },
  {
   "cell_type": "markdown",
   "metadata": {
    "id": "bPcNp9h5KmJM"
   },
   "source": [
    "**Reporting [Lemma.Core.Flair.5 Star]**"
   ]
  },
  {
   "cell_type": "code",
   "execution_count": null,
   "metadata": {
    "colab": {
     "base_uri": "https://localhost:8080/",
     "height": 737
    },
    "executionInfo": {
     "elapsed": 487,
     "status": "ok",
     "timestamp": 1638758167754,
     "user": {
      "displayName": "Michael Vasiliou",
      "photoUrl": "https://lh3.googleusercontent.com/a/default-user=s64",
      "userId": "07079983815732559270"
     },
     "user_tz": 300
    },
    "id": "OTi0AxD45qck",
    "outputId": "4632fcd1-88c2-4bd7-a1b4-6626c16b653e"
   },
   "outputs": [],
   "source": [
    "cwutils.showTestReport(df=dataCoreLemmaBal5,\n",
    "               colNameActual='overall',\n",
    "               colNamePredict='reviewText_lemma_flairSent_norm',\n",
    "               axisLabels=axis_labels5,\n",
    "               chartTitle='Flair [Lemma.Core.5]')"
   ]
  },
  {
   "cell_type": "markdown",
   "metadata": {
    "id": "kg2F0snjLOis"
   },
   "source": [
    "**Reporting [Lemma.Core.Flair.Pos/Neg]**"
   ]
  },
  {
   "cell_type": "code",
   "execution_count": null,
   "metadata": {
    "colab": {
     "base_uri": "https://localhost:8080/",
     "height": 685
    },
    "executionInfo": {
     "elapsed": 1288,
     "status": "ok",
     "timestamp": 1638751296588,
     "user": {
      "displayName": "Michael Vasiliou",
      "photoUrl": "https://lh3.googleusercontent.com/a/default-user=s64",
      "userId": "07079983815732559270"
     },
     "user_tz": 300
    },
    "id": "oDPAKexCLOit",
    "outputId": "6c51d0bc-b375-427f-b94d-0788a333f0b7"
   },
   "outputs": [],
   "source": [
    "cwutils.showTestReport(df=dataCoreLemmaBal2,\n",
    "               colNameActual='overall_posneg',\n",
    "               colNamePredict='reviewText_lemma_flairSent_posneg',\n",
    "               axisLabels=axis_labels2,\n",
    "               chartTitle='Flair [Lemma.Core.PosNeg]')"
   ]
  },
  {
   "cell_type": "markdown",
   "metadata": {
    "id": "AYdHiKLZMzwg"
   },
   "source": [
    "**Reporting [Lemma.Core.spaCyTextBlob.5 Star]**"
   ]
  },
  {
   "cell_type": "code",
   "execution_count": null,
   "metadata": {
    "colab": {
     "base_uri": "https://localhost:8080/",
     "height": 737
    },
    "executionInfo": {
     "elapsed": 567,
     "status": "ok",
     "timestamp": 1638751567118,
     "user": {
      "displayName": "Michael Vasiliou",
      "photoUrl": "https://lh3.googleusercontent.com/a/default-user=s64",
      "userId": "07079983815732559270"
     },
     "user_tz": 300
    },
    "id": "6GfpBbriMzwh",
    "outputId": "9c8bae08-c2f1-4611-887f-176e0b8faee9"
   },
   "outputs": [],
   "source": [
    "cwutils.showTestReport(df=dataCoreLemmaBal5,\n",
    "               colNameActual='overall',\n",
    "               colNamePredict='reviewText_lemma_tb_pol_norm',\n",
    "               axisLabels=axis_labels5,\n",
    "               chartTitle='spaCy/TextBlob [Lemma.Core.5]')"
   ]
  },
  {
   "cell_type": "markdown",
   "metadata": {
    "id": "DeN6vNaMLujE"
   },
   "source": [
    "**Reporting [Lemma.Core.SpacyTextBlob.Pos/Neg]**"
   ]
  },
  {
   "cell_type": "code",
   "execution_count": null,
   "metadata": {
    "colab": {
     "base_uri": "https://localhost:8080/",
     "height": 685
    },
    "executionInfo": {
     "elapsed": 485,
     "status": "ok",
     "timestamp": 1638751593503,
     "user": {
      "displayName": "Michael Vasiliou",
      "photoUrl": "https://lh3.googleusercontent.com/a/default-user=s64",
      "userId": "07079983815732559270"
     },
     "user_tz": 300
    },
    "id": "ZzLizHtXLujF",
    "outputId": "bbdebc31-4e2e-4c46-e17c-64b9cc5d0e92"
   },
   "outputs": [],
   "source": [
    "cwutils.showTestReport(df=dataCoreLemmaBal2,\n",
    "               colNameActual='overall_posneg',\n",
    "               colNamePredict='reviewText_lemma_tb_pol_posneg',\n",
    "               axisLabels=axis_labels2,\n",
    "               chartTitle='spaCy/TextBlob [Lemma.Core.PosNeg]')"
   ]
  },
  {
   "cell_type": "markdown",
   "metadata": {
    "id": "SJe_Cy_aNJVx",
    "tags": []
   },
   "source": [
    "# BERT - [Lemma.Core]"
   ]
  },
  {
   "cell_type": "code",
   "execution_count": null,
   "metadata": {
    "colab": {
     "base_uri": "https://localhost:8080/"
    },
    "executionInfo": {
     "elapsed": 423,
     "status": "ok",
     "timestamp": 1638753729439,
     "user": {
      "displayName": "Michael Vasiliou",
      "photoUrl": "https://lh3.googleusercontent.com/a/default-user=s64",
      "userId": "07079983815732559270"
     },
     "user_tz": 300
    },
    "id": "RKBdUxq1J1h5",
    "outputId": "c60f31c5-003c-4696-f8b4-e72b36687c68"
   },
   "outputs": [],
   "source": [
    "import importlib\n",
    "importlib.reload(cwutils)\n"
   ]
  },
  {
   "cell_type": "code",
   "execution_count": null,
   "metadata": {
    "colab": {
     "base_uri": "https://localhost:8080/",
     "height": 737
    },
    "executionInfo": {
     "elapsed": 218744,
     "status": "ok",
     "timestamp": 1638754001188,
     "user": {
      "displayName": "Michael Vasiliou",
      "photoUrl": "https://lh3.googleusercontent.com/a/default-user=s64",
      "userId": "07079983815732559270"
     },
     "user_tz": 300
    },
    "id": "6b2K3CyDUntg",
    "outputId": "dbb8a31e-d2cf-427a-8e57-799f470d2608"
   },
   "outputs": [],
   "source": [
    "classifier = XGBClassifier(eval_metric='mlogloss')\n",
    "\n",
    "modelBertCoreLemma5, dfmodelBertCoreLemma5 = cwutils.createBertModel(df=dataCoreLemmaBal5,\n",
    "                bertColumn='reviewText_lemma_bert',\n",
    "                uniqueColumn='uuid',\n",
    "                targetColumn='overall',\n",
    "                classifier=classifier\n",
    "                )\n",
    "\n"
   ]
  },
  {
   "cell_type": "code",
   "execution_count": null,
   "metadata": {},
   "outputs": [],
   "source": [
    "cwutils.showTestReport(df=dfmodelBertCoreLemma5,\n",
    "               colNameActual='y_test',\n",
    "               colNamePredict='y_pred',\n",
    "               axisLabels=axis_labels5,\n",
    "               chartTitle='BERT [Lemma.Core.5]')"
   ]
  },
  {
   "cell_type": "code",
   "execution_count": null,
   "metadata": {
    "colab": {
     "base_uri": "https://localhost:8080/"
    },
    "executionInfo": {
     "elapsed": 423,
     "status": "ok",
     "timestamp": 1638753729439,
     "user": {
      "displayName": "Michael Vasiliou",
      "photoUrl": "https://lh3.googleusercontent.com/a/default-user=s64",
      "userId": "07079983815732559270"
     },
     "user_tz": 300
    },
    "id": "RKBdUxq1J1h5",
    "outputId": "c60f31c5-003c-4696-f8b4-e72b36687c68"
   },
   "outputs": [],
   "source": [
    "import importlib\n",
    "importlib.reload(cwutils)\n"
   ]
  },
  {
   "cell_type": "code",
   "execution_count": null,
   "metadata": {
    "colab": {
     "base_uri": "https://localhost:8080/",
     "height": 737
    },
    "executionInfo": {
     "elapsed": 218744,
     "status": "ok",
     "timestamp": 1638754001188,
     "user": {
      "displayName": "Michael Vasiliou",
      "photoUrl": "https://lh3.googleusercontent.com/a/default-user=s64",
      "userId": "07079983815732559270"
     },
     "user_tz": 300
    },
    "id": "6b2K3CyDUntg",
    "outputId": "dbb8a31e-d2cf-427a-8e57-799f470d2608"
   },
   "outputs": [],
   "source": [
    "tDf = cwutils.plotModelFeatureImportance(modelBertCoreLemma5, returnAbove=0.0020)\n",
    "\n",
    "modelTest, dfTestModel= cwutils.createBertModel(df=dataCoreLemmaBal5,\n",
    "                bertColumn='reviewText_lemma_bert',\n",
    "                uniqueColumn='uuid',\n",
    "                targetColumn='overall',\n",
    "                classifier=classifier,\n",
    "                featureFilter=tDf['feature'].tolist()                                                     \n",
    "                )\n",
    "\n",
    "cwutils.showTestReport(df=dfTestModel,\n",
    "               colNameActual='y_test',\n",
    "               colNamePredict='y_pred',\n",
    "               axisLabels=axis_labels5,\n",
    "               chartTitle='BERT [Lemma.Core.5]')"
   ]
  },
  {
   "cell_type": "code",
   "execution_count": null,
   "metadata": {},
   "outputs": [],
   "source": [
    "from sklearn.linear_model import LinearRegression\n",
    "from sklearn.svm import SVC\n",
    "from sklearn.naive_bayes import GaussianNB\n",
    "from sklearn.model_selection import learning_curve\n",
    "from sklearn.model_selection import ShuffleSplit\n",
    "from sklearn.ensemble import RandomForestClassifier\n",
    "from sklearn.model_selection import StratifiedKFold\n",
    "\n",
    "\n",
    "dfBert = cwutils.getBertEncodeFrame(df=dataCoreLemmaBal5,\n",
    "                                    bertColumn='reviewText_lemma_bert',\n",
    "                                    uniqueColumn='uuid',\n",
    "                                    otherColumns=['overall']\n",
    "                                    )\n",
    "\n",
    "#Get list of all columns\n",
    "features = list(dfBert.columns)\n",
    "\n",
    "#Remove unique and target colums\n",
    "features.remove('uuid')\n",
    "features.remove('overall')\n",
    "features_all = features.copy()\n",
    "features_small = features.copy()\n",
    "\n",
    "#Get list of \"low value\" features, the \"filter\"\n",
    "featureFilter = tDf['feature'].tolist()\n",
    "\n",
    "#Remove high first so list shortens from tail\n",
    "featureFilter.sort(reverse=True)\n",
    "#Remove features identified previously\n",
    "#So we only have the good ones left\n",
    "for x in featureFilter:\n",
    "    del features_small[x]\n",
    "\n",
    "print (len(features_all))\n",
    "print (len(features_small))\n",
    "print (len(featureFilter))\n",
    "\n",
    "cv = StratifiedKFold(n_splits=5, random_state=0, shuffle=True)\n",
    "target = 'overall'\n",
    "\n",
    "\n",
    "fig, axes = plt.subplots(3, 2, figsize=(10, 15))\n",
    "\n",
    "title = \"Learning Curves (Naive Bayes)\"\n",
    "\n",
    "#xgb_model = xgboost.XGBClassifier(num_class=7,\n",
    "#                                  learning_rate=0.1,\n",
    "#                                  num_iterations=1000,\n",
    "#                                  max_depth=10,\n",
    "#                                  feature_fraction=0.7, \n",
    "#                                  scale_pos_weight=1.5,\n",
    "#                                  boosting='gbdt',\n",
    "#                                  metric='multiclass',\n",
    "#                                  eval_metric='mlogloss'\n",
    "                                \n",
    "estimator = XGBClassifier(eval_metric='mlogloss')\n",
    "plot_learning_curve(\n",
    "    estimator, title, dfBert[features_small], dfBert[target], axes=axes[:, 0], ylim=(0.0, 1.01), cv=cv, n_jobs=16\n",
    ")\n",
    "\n",
    "title = r\"Learning Curves (SVM, RBF kernel, $\\gamma=0.001$)\"\n",
    "estimator = SVC(gamma=0.001)\n",
    "plot_learning_curve(\n",
    "    estimator, title, dfBert[features_small], dfBert[target], axes=axes[:, 1], ylim=(0.0, 1.01), cv=cv, n_jobs=16\n",
    ")\n",
    "\n",
    "plt.show()\n"
   ]
  },
  {
   "cell_type": "markdown",
   "metadata": {},
   "source": [
    "# Scratchpad"
   ]
  },
  {
   "cell_type": "code",
   "execution_count": 6,
   "metadata": {},
   "outputs": [],
   "source": [
    "import importlib\n",
    "import DataPackage as dp"
   ]
  },
  {
   "cell_type": "code",
   "execution_count": null,
   "metadata": {},
   "outputs": [],
   "source": [
    "importlib.reload(dp)"
   ]
  },
  {
   "cell_type": "code",
   "execution_count": 7,
   "metadata": {},
   "outputs": [],
   "source": [
    "testDf = pd.read_pickle(jarvis.DATA_DIR_WORK + \"/01_NL_ReviewText_All(new).pkl.gz\")\n",
    "testFilename = '01_alphaTest'\n",
    "#mvutils.exploreDataframe (testDf, numRecords=1)\n",
    "testDfBert = cwutils.getBertEncodeFrame(df=testDf,\n",
    "                                        bertColumn='reviewText_lemma_bert',\n",
    "                                        uniqueColumn='uuid',\n",
    "                                        otherColumns=['overall']\n",
    "                                        )"
   ]
  },
  {
   "cell_type": "code",
   "execution_count": 8,
   "metadata": {},
   "outputs": [],
   "source": [
    "myDataPackage = dp.DataPackage(testDfBert)"
   ]
  },
  {
   "cell_type": "code",
   "execution_count": 9,
   "metadata": {},
   "outputs": [],
   "source": [
    "jarvis.saveExperiment(myDataPackage, testFilename)"
   ]
  },
  {
   "cell_type": "code",
   "execution_count": 10,
   "metadata": {},
   "outputs": [],
   "source": [
    "loadedDataPackage = jarvis.loadExperiment(testFilename)"
   ]
  },
  {
   "cell_type": "code",
   "execution_count": 11,
   "metadata": {},
   "outputs": [
    {
     "name": "stdout",
     "output_type": "stream",
     "text": [
      "dataframe shape: (63413, 770)\n",
      "\n",
      "dataframe info: \n",
      "<class 'pandas.core.frame.DataFrame'>\n",
      "Int64Index: 63413 entries, 0 to 63412\n",
      "Columns: 770 entries, uuid to overall\n",
      "dtypes: float32(768), float64(1), object(1)\n",
      "memory usage: 187.2+ MB\n",
      "None\n",
      "\n",
      "Top 1 in dataframe\n"
     ]
    },
    {
     "data": {
      "text/html": [
       "<div>\n",
       "<style scoped>\n",
       "    .dataframe tbody tr th:only-of-type {\n",
       "        vertical-align: middle;\n",
       "    }\n",
       "\n",
       "    .dataframe tbody tr th {\n",
       "        vertical-align: top;\n",
       "    }\n",
       "\n",
       "    .dataframe thead th {\n",
       "        text-align: right;\n",
       "    }\n",
       "</style>\n",
       "<table border=\"1\" class=\"dataframe\">\n",
       "  <thead>\n",
       "    <tr style=\"text-align: right;\">\n",
       "      <th></th>\n",
       "      <th>uuid</th>\n",
       "      <th>c0</th>\n",
       "      <th>c1</th>\n",
       "      <th>c2</th>\n",
       "      <th>c3</th>\n",
       "      <th>c4</th>\n",
       "      <th>c5</th>\n",
       "      <th>c6</th>\n",
       "      <th>c7</th>\n",
       "      <th>c8</th>\n",
       "      <th>...</th>\n",
       "      <th>c759</th>\n",
       "      <th>c760</th>\n",
       "      <th>c761</th>\n",
       "      <th>c762</th>\n",
       "      <th>c763</th>\n",
       "      <th>c764</th>\n",
       "      <th>c765</th>\n",
       "      <th>c766</th>\n",
       "      <th>c767</th>\n",
       "      <th>overall</th>\n",
       "    </tr>\n",
       "  </thead>\n",
       "  <tbody>\n",
       "    <tr>\n",
       "      <th>0</th>\n",
       "      <td>e5322688-1105-401b-be69-888bc1d89bcf</td>\n",
       "      <td>0.472575</td>\n",
       "      <td>1.131676</td>\n",
       "      <td>0.477244</td>\n",
       "      <td>0.40458</td>\n",
       "      <td>1.095912</td>\n",
       "      <td>0.094882</td>\n",
       "      <td>1.815453</td>\n",
       "      <td>0.733118</td>\n",
       "      <td>1.012068</td>\n",
       "      <td>...</td>\n",
       "      <td>0.241637</td>\n",
       "      <td>-0.54165</td>\n",
       "      <td>-0.52954</td>\n",
       "      <td>0.28598</td>\n",
       "      <td>0.032169</td>\n",
       "      <td>0.533272</td>\n",
       "      <td>0.211305</td>\n",
       "      <td>1.009963</td>\n",
       "      <td>1.077491</td>\n",
       "      <td>1.0</td>\n",
       "    </tr>\n",
       "  </tbody>\n",
       "</table>\n",
       "<p>1 rows × 770 columns</p>\n",
       "</div>"
      ],
      "text/plain": [
       "                                   uuid        c0        c1        c2  \\\n",
       "0  e5322688-1105-401b-be69-888bc1d89bcf  0.472575  1.131676  0.477244   \n",
       "\n",
       "        c3        c4        c5        c6        c7        c8  ...      c759  \\\n",
       "0  0.40458  1.095912  0.094882  1.815453  0.733118  1.012068  ...  0.241637   \n",
       "\n",
       "      c760     c761     c762      c763      c764      c765      c766  \\\n",
       "0 -0.54165 -0.52954  0.28598  0.032169  0.533272  0.211305  1.009963   \n",
       "\n",
       "       c767  overall  \n",
       "0  1.077491      1.0  \n",
       "\n",
       "[1 rows x 770 columns]"
      ]
     },
     "metadata": {},
     "output_type": "display_data"
    },
    {
     "name": "stdout",
     "output_type": "stream",
     "text": [
      "\n",
      "Bottom 1 in dataframe\n"
     ]
    },
    {
     "data": {
      "text/html": [
       "<div>\n",
       "<style scoped>\n",
       "    .dataframe tbody tr th:only-of-type {\n",
       "        vertical-align: middle;\n",
       "    }\n",
       "\n",
       "    .dataframe tbody tr th {\n",
       "        vertical-align: top;\n",
       "    }\n",
       "\n",
       "    .dataframe thead th {\n",
       "        text-align: right;\n",
       "    }\n",
       "</style>\n",
       "<table border=\"1\" class=\"dataframe\">\n",
       "  <thead>\n",
       "    <tr style=\"text-align: right;\">\n",
       "      <th></th>\n",
       "      <th>uuid</th>\n",
       "      <th>c0</th>\n",
       "      <th>c1</th>\n",
       "      <th>c2</th>\n",
       "      <th>c3</th>\n",
       "      <th>c4</th>\n",
       "      <th>c5</th>\n",
       "      <th>c6</th>\n",
       "      <th>c7</th>\n",
       "      <th>c8</th>\n",
       "      <th>...</th>\n",
       "      <th>c759</th>\n",
       "      <th>c760</th>\n",
       "      <th>c761</th>\n",
       "      <th>c762</th>\n",
       "      <th>c763</th>\n",
       "      <th>c764</th>\n",
       "      <th>c765</th>\n",
       "      <th>c766</th>\n",
       "      <th>c767</th>\n",
       "      <th>overall</th>\n",
       "    </tr>\n",
       "  </thead>\n",
       "  <tbody>\n",
       "    <tr>\n",
       "      <th>63412</th>\n",
       "      <td>8f71ec3b-73e0-408e-b7e0-acd146f697e7</td>\n",
       "      <td>-0.114804</td>\n",
       "      <td>0.812048</td>\n",
       "      <td>0.726903</td>\n",
       "      <td>0.353847</td>\n",
       "      <td>1.201606</td>\n",
       "      <td>0.093721</td>\n",
       "      <td>1.054865</td>\n",
       "      <td>0.254875</td>\n",
       "      <td>1.106876</td>\n",
       "      <td>...</td>\n",
       "      <td>-1.019994</td>\n",
       "      <td>-0.142057</td>\n",
       "      <td>-0.613902</td>\n",
       "      <td>0.36779</td>\n",
       "      <td>0.136367</td>\n",
       "      <td>0.085395</td>\n",
       "      <td>0.539971</td>\n",
       "      <td>0.42914</td>\n",
       "      <td>0.903761</td>\n",
       "      <td>4.0</td>\n",
       "    </tr>\n",
       "  </tbody>\n",
       "</table>\n",
       "<p>1 rows × 770 columns</p>\n",
       "</div>"
      ],
      "text/plain": [
       "                                       uuid        c0        c1        c2  \\\n",
       "63412  8f71ec3b-73e0-408e-b7e0-acd146f697e7 -0.114804  0.812048  0.726903   \n",
       "\n",
       "             c3        c4        c5        c6        c7        c8  ...  \\\n",
       "63412  0.353847  1.201606  0.093721  1.054865  0.254875  1.106876  ...   \n",
       "\n",
       "           c759      c760      c761     c762      c763      c764      c765  \\\n",
       "63412 -1.019994 -0.142057 -0.613902  0.36779  0.136367  0.085395  0.539971   \n",
       "\n",
       "          c766      c767  overall  \n",
       "63412  0.42914  0.903761      4.0  \n",
       "\n",
       "[1 rows x 770 columns]"
      ]
     },
     "metadata": {},
     "output_type": "display_data"
    }
   ],
   "source": [
    "mvutils.exploreDataframe (loadedDataPackage.getDataFrame(), numRecords=1)"
   ]
  },
  {
   "cell_type": "code",
   "execution_count": null,
   "metadata": {},
   "outputs": [],
   "source": []
  }
 ],
 "metadata": {
  "colab": {
   "authorship_tag": "ABX9TyOHRhk3MnSb4v5m2pip9Csd",
   "collapsed_sections": [
    "pn8fyGevt62D",
    "1QZKvJBJ7rlc",
    "fVJrz4vi6Cy5",
    "d1VKEszbvgpS",
    "TSXj9-6uCPlq",
    "jbDYJ_r6_xqk",
    "wSl1Fy3gcvbi",
    "W9Y2Idos-2Hl",
    "NGKpEqqwO9L6",
    "jyGqiRoQROHu",
    "NN0TbdPPfmKG",
    "SJe_Cy_aNJVx",
    "UrAIa9xTsucp",
    "G3sbhyAHvq6D",
    "E-dDQ_KXwAQQ",
    "hZIH3Wcyw76R",
    "m1KEaXz7xQMW",
    "0lAXqFH5yHgU",
    "i_VCkCCWyYYe",
    "yfPqFMjgythJ",
    "eIzBqATpythg",
    "gQujKtfNythh",
    "KMqHM-APythi"
   ],
   "name": "05_ML1010_GP_calcScores.pynb",
   "provenance": [
    {
     "file_id": "1TTophYisuYAESj-r2pcxC1cOw77kApN0",
     "timestamp": 1638578513850
    },
    {
     "file_id": "1R_J6p2OeOjXlMWk1bRbiOo7XdfzkzjGU",
     "timestamp": 1638295449964
    }
   ],
   "toc_visible": true
  },
  "kernelspec": {
   "display_name": "ML1010_env2",
   "language": "python",
   "name": "ml1010_env2"
  },
  "language_info": {
   "codemirror_mode": {
    "name": "ipython",
    "version": 3
   },
   "file_extension": ".py",
   "mimetype": "text/x-python",
   "name": "python",
   "nbconvert_exporter": "python",
   "pygments_lexer": "ipython3",
   "version": "3.7.12"
  }
 },
 "nbformat": 4,
 "nbformat_minor": 4
}
