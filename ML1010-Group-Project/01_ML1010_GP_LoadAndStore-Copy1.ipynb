{
 "cells": [
  {
   "cell_type": "markdown",
   "id": "pn8fyGevt62D",
   "metadata": {
    "id": "pn8fyGevt62D"
   },
   "source": [
    "# Configuration"
   ]
  },
  {
   "cell_type": "code",
   "execution_count": 1,
   "id": "XmHgvt15t48a",
   "metadata": {
    "executionInfo": {
     "elapsed": 129,
     "status": "ok",
     "timestamp": 1638629771753,
     "user": {
      "displayName": "Michael Vasiliou",
      "photoUrl": "https://lh3.googleusercontent.com/a/default-user=s64",
      "userId": "07079983815732559270"
     },
     "user_tz": 300
    },
    "id": "XmHgvt15t48a"
   },
   "outputs": [],
   "source": [
    "# Parameters\n",
    "ENABLE_COLAB = False\n",
    "\n",
    "PROJECT_NAME = 'ML1010-Group-Project'\n",
    "#EXPERIMENT_NAME = 'ReviewText_Lemma_Bert2 (Logistic Regression)'\n",
    "#FILE_NAME = '01_ML1010_GP_LR_Bert2'\n",
    "#LOAD_FROM_EXP = False\n",
    "\n",
    "#Root Machine Learning Directory. Projects appear underneath\n",
    "GOOGLE_DRIVE_MOUNT = '/content/gdrive' \n",
    "COLAB_ROOT_DIR = GOOGLE_DRIVE_MOUNT + '/MyDrive/Colab Notebooks'\n",
    "COLAB_INIT_DIR = COLAB_ROOT_DIR + '/utility_files'\n",
    "\n",
    "LOCAL_ROOT_DIR = '/home/magni//ML_Root/project_root'\n",
    "LOCAL_INIT_DIR = LOCAL_ROOT_DIR + '/utility_files'"
   ]
  },
  {
   "cell_type": "markdown",
   "id": "AKuOInGo45OB",
   "metadata": {
    "id": "AKuOInGo45OB"
   },
   "source": [
    "# Bootstrap Environment"
   ]
  },
  {
   "cell_type": "code",
   "execution_count": 2,
   "id": "nri_N7sIEMjQ",
   "metadata": {
    "colab": {
     "base_uri": "https://localhost:8080/"
    },
    "executionInfo": {
     "elapsed": 21910,
     "status": "ok",
     "timestamp": 1638629820071,
     "user": {
      "displayName": "Michael Vasiliou",
      "photoUrl": "https://lh3.googleusercontent.com/a/default-user=s64",
      "userId": "07079983815732559270"
     },
     "user_tz": 300
    },
    "id": "nri_N7sIEMjQ",
    "outputId": "84d60f04-6eec-49f0-e0c3-ca994afeee3f"
   },
   "outputs": [
    {
     "name": "stdout",
     "output_type": "stream",
     "text": [
      "Wha...where am I?\n",
      "I am awake now.\n",
      "\n",
      "I have set your current working directory to /home/magni/ML_Root/project_root/ML1010-Group-Project\n",
      "The current time is 20:24\n",
      "Hello sir. I hope you had dinner.\n",
      "\n"
     ]
    }
   ],
   "source": [
    "#add in support for utility file directory and importing\n",
    "import sys\n",
    "import os\n",
    "\n",
    "if ENABLE_COLAB:\n",
    "  #Need access to drive\n",
    "  from google.colab import drive\n",
    "  drive.mount(GOOGLE_DRIVE_MOUNT, force_remount=True)\n",
    "  \n",
    "  #add in utility directory to syspath to import \n",
    "  INIT_DIR = COLAB_INIT_DIR\n",
    "  sys.path.append(os.path.abspath(INIT_DIR))\n",
    "  \n",
    "  #Config environment variables\n",
    "  ROOT_DIR = COLAB_ROOT_DIR\n",
    "  \n",
    "else:\n",
    "  #add in utility directory to syspath to import\n",
    "  INIT_DIR = LOCAL_INIT_DIR\n",
    "  sys.path.append(os.path.abspath(INIT_DIR))\n",
    "  \n",
    "  #Config environment variables\n",
    "  ROOT_DIR = LOCAL_ROOT_DIR\n",
    "\n",
    "#Import Utility Support\n",
    "from jarvis import Jarvis\n",
    "jarvis = Jarvis(ROOT_DIR, PROJECT_NAME)\n",
    "\n",
    "import mv_python_utils as mvutils\n"
   ]
  },
  {
   "cell_type": "markdown",
   "id": "fVJrz4vi6Cy5",
   "metadata": {
    "id": "fVJrz4vi6Cy5"
   },
   "source": [
    "# Setup Runtime Environment"
   ]
  },
  {
   "cell_type": "code",
   "execution_count": 3,
   "id": "jf_PpJBuERwL",
   "metadata": {
    "colab": {
     "base_uri": "https://localhost:8080/",
     "height": 0
    },
    "executionInfo": {
     "elapsed": 98889,
     "status": "ok",
     "timestamp": 1638629922024,
     "user": {
      "displayName": "Michael Vasiliou",
      "photoUrl": "https://lh3.googleusercontent.com/a/default-user=s64",
      "userId": "07079983815732559270"
     },
     "user_tz": 300
    },
    "id": "jf_PpJBuERwL",
    "outputId": "1b29a679-7983-4cf5-d9b7-540f82389a7a"
   },
   "outputs": [
    {
     "data": {
      "text/plain": [
       "'Google Colab not enabled'"
      ]
     },
     "metadata": {},
     "output_type": "display_data"
    },
    {
     "name": "stdout",
     "output_type": "stream",
     "text": [
      "2022-01-24 20:24:26.569834: W tensorflow/stream_executor/platform/default/dso_loader.cc:64] Could not load dynamic library 'libcudart.so.11.0'; dlerror: libcudart.so.11.0: cannot open shared object file: No such file or directory\n",
      "2022-01-24 20:24:26.569858: I tensorflow/stream_executor/cuda/cudart_stub.cc:29] Ignore above cudart dlerror if you do not have a GPU set up on your machine.\n",
      "Collecting en-core-web-sm==3.2.0\n",
      "  Downloading https://github.com/explosion/spacy-models/releases/download/en_core_web_sm-3.2.0/en_core_web_sm-3.2.0-py3-none-any.whl (13.9 MB)\n",
      "     |████████████████████████████████| 13.9 MB 9.4 MB/s            \n",
      "\u001b[?25hRequirement already satisfied: spacy<3.3.0,>=3.2.0 in /home/magni/python_env/ML1010_env2/lib/python3.7/site-packages (from en-core-web-sm==3.2.0) (3.2.1)\n",
      "Requirement already satisfied: typer<0.5.0,>=0.3.0 in /home/magni/python_env/ML1010_env2/lib/python3.7/site-packages (from spacy<3.3.0,>=3.2.0->en-core-web-sm==3.2.0) (0.4.0)\n",
      "Requirement already satisfied: preshed<3.1.0,>=3.0.2 in /home/magni/python_env/ML1010_env2/lib/python3.7/site-packages (from spacy<3.3.0,>=3.2.0->en-core-web-sm==3.2.0) (3.0.6)\n",
      "Requirement already satisfied: tqdm<5.0.0,>=4.38.0 in /home/magni/python_env/ML1010_env2/lib/python3.7/site-packages (from spacy<3.3.0,>=3.2.0->en-core-web-sm==3.2.0) (4.62.3)\n",
      "Requirement already satisfied: blis<0.8.0,>=0.4.0 in /home/magni/python_env/ML1010_env2/lib/python3.7/site-packages (from spacy<3.3.0,>=3.2.0->en-core-web-sm==3.2.0) (0.7.5)\n",
      "Requirement already satisfied: langcodes<4.0.0,>=3.2.0 in /home/magni/python_env/ML1010_env2/lib/python3.7/site-packages (from spacy<3.3.0,>=3.2.0->en-core-web-sm==3.2.0) (3.3.0)\n",
      "Requirement already satisfied: jinja2 in /home/magni/python_env/ML1010_env2/lib/python3.7/site-packages (from spacy<3.3.0,>=3.2.0->en-core-web-sm==3.2.0) (3.0.3)\n",
      "Requirement already satisfied: setuptools in /home/magni/python_env/ML1010_env2/lib/python3.7/site-packages (from spacy<3.3.0,>=3.2.0->en-core-web-sm==3.2.0) (57.4.0)\n",
      "Requirement already satisfied: spacy-legacy<3.1.0,>=3.0.8 in /home/magni/python_env/ML1010_env2/lib/python3.7/site-packages (from spacy<3.3.0,>=3.2.0->en-core-web-sm==3.2.0) (3.0.8)\n",
      "Requirement already satisfied: murmurhash<1.1.0,>=0.28.0 in /home/magni/python_env/ML1010_env2/lib/python3.7/site-packages (from spacy<3.3.0,>=3.2.0->en-core-web-sm==3.2.0) (1.0.6)\n",
      "Requirement already satisfied: pathy>=0.3.5 in /home/magni/python_env/ML1010_env2/lib/python3.7/site-packages (from spacy<3.3.0,>=3.2.0->en-core-web-sm==3.2.0) (0.6.1)\n",
      "Requirement already satisfied: pydantic!=1.8,!=1.8.1,<1.9.0,>=1.7.4 in /home/magni/python_env/ML1010_env2/lib/python3.7/site-packages (from spacy<3.3.0,>=3.2.0->en-core-web-sm==3.2.0) (1.8.2)\n",
      "Requirement already satisfied: spacy-loggers<2.0.0,>=1.0.0 in /home/magni/python_env/ML1010_env2/lib/python3.7/site-packages (from spacy<3.3.0,>=3.2.0->en-core-web-sm==3.2.0) (1.0.1)\n",
      "Requirement already satisfied: wasabi<1.1.0,>=0.8.1 in /home/magni/python_env/ML1010_env2/lib/python3.7/site-packages (from spacy<3.3.0,>=3.2.0->en-core-web-sm==3.2.0) (0.9.0)\n",
      "Requirement already satisfied: srsly<3.0.0,>=2.4.1 in /home/magni/python_env/ML1010_env2/lib/python3.7/site-packages (from spacy<3.3.0,>=3.2.0->en-core-web-sm==3.2.0) (2.4.2)\n",
      "Requirement already satisfied: packaging>=20.0 in /home/magni/python_env/ML1010_env2/lib/python3.7/site-packages (from spacy<3.3.0,>=3.2.0->en-core-web-sm==3.2.0) (21.3)\n",
      "Requirement already satisfied: numpy>=1.15.0 in /home/magni/python_env/ML1010_env2/lib/python3.7/site-packages (from spacy<3.3.0,>=3.2.0->en-core-web-sm==3.2.0) (1.19.5)\n",
      "Requirement already satisfied: catalogue<2.1.0,>=2.0.6 in /home/magni/python_env/ML1010_env2/lib/python3.7/site-packages (from spacy<3.3.0,>=3.2.0->en-core-web-sm==3.2.0) (2.0.6)\n",
      "Requirement already satisfied: cymem<2.1.0,>=2.0.2 in /home/magni/python_env/ML1010_env2/lib/python3.7/site-packages (from spacy<3.3.0,>=3.2.0->en-core-web-sm==3.2.0) (2.0.6)\n",
      "Requirement already satisfied: thinc<8.1.0,>=8.0.12 in /home/magni/python_env/ML1010_env2/lib/python3.7/site-packages (from spacy<3.3.0,>=3.2.0->en-core-web-sm==3.2.0) (8.0.13)\n",
      "Requirement already satisfied: requests<3.0.0,>=2.13.0 in /home/magni/python_env/ML1010_env2/lib/python3.7/site-packages (from spacy<3.3.0,>=3.2.0->en-core-web-sm==3.2.0) (2.26.0)\n",
      "Requirement already satisfied: typing-extensions<4.0.0.0,>=3.7.4 in /home/magni/python_env/ML1010_env2/lib/python3.7/site-packages (from spacy<3.3.0,>=3.2.0->en-core-web-sm==3.2.0) (3.10.0.2)\n",
      "Requirement already satisfied: zipp>=0.5 in /home/magni/python_env/ML1010_env2/lib/python3.7/site-packages (from catalogue<2.1.0,>=2.0.6->spacy<3.3.0,>=3.2.0->en-core-web-sm==3.2.0) (3.7.0)\n",
      "Requirement already satisfied: pyparsing!=3.0.5,>=2.0.2 in /home/magni/python_env/ML1010_env2/lib/python3.7/site-packages (from packaging>=20.0->spacy<3.3.0,>=3.2.0->en-core-web-sm==3.2.0) (3.0.6)\n",
      "Requirement already satisfied: smart-open<6.0.0,>=5.0.0 in /home/magni/python_env/ML1010_env2/lib/python3.7/site-packages (from pathy>=0.3.5->spacy<3.3.0,>=3.2.0->en-core-web-sm==3.2.0) (5.2.1)\n",
      "Requirement already satisfied: certifi>=2017.4.17 in /home/magni/python_env/ML1010_env2/lib/python3.7/site-packages (from requests<3.0.0,>=2.13.0->spacy<3.3.0,>=3.2.0->en-core-web-sm==3.2.0) (2021.10.8)\n",
      "Requirement already satisfied: idna<4,>=2.5 in /home/magni/python_env/ML1010_env2/lib/python3.7/site-packages (from requests<3.0.0,>=2.13.0->spacy<3.3.0,>=3.2.0->en-core-web-sm==3.2.0) (3.3)\n",
      "Requirement already satisfied: charset-normalizer~=2.0.0 in /home/magni/python_env/ML1010_env2/lib/python3.7/site-packages (from requests<3.0.0,>=2.13.0->spacy<3.3.0,>=3.2.0->en-core-web-sm==3.2.0) (2.0.9)\n",
      "Requirement already satisfied: urllib3<1.27,>=1.21.1 in /home/magni/python_env/ML1010_env2/lib/python3.7/site-packages (from requests<3.0.0,>=2.13.0->spacy<3.3.0,>=3.2.0->en-core-web-sm==3.2.0) (1.26.7)\n",
      "Requirement already satisfied: click<9.0.0,>=7.1.1 in /home/magni/python_env/ML1010_env2/lib/python3.7/site-packages (from typer<0.5.0,>=0.3.0->spacy<3.3.0,>=3.2.0->en-core-web-sm==3.2.0) (8.0.3)\n",
      "Requirement already satisfied: MarkupSafe>=2.0 in /home/magni/python_env/ML1010_env2/lib/python3.7/site-packages (from jinja2->spacy<3.3.0,>=3.2.0->en-core-web-sm==3.2.0) (2.0.1)\n",
      "Requirement already satisfied: importlib-metadata in /home/magni/python_env/ML1010_env2/lib/python3.7/site-packages (from click<9.0.0,>=7.1.1->typer<0.5.0,>=0.3.0->spacy<3.3.0,>=3.2.0->en-core-web-sm==3.2.0) (4.10.1)\n",
      "\u001b[38;5;2m✔ Download and installation successful\u001b[0m\n",
      "You can now load the package via spacy.load('en_core_web_sm')\n"
     ]
    },
    {
     "name": "stderr",
     "output_type": "stream",
     "text": [
      "[nltk_data] Downloading package stopwords to /home/magni/nltk_data...\n",
      "[nltk_data]   Package stopwords is already up-to-date!\n",
      "2022-01-24 20:24:32.085664: W tensorflow/stream_executor/platform/default/dso_loader.cc:64] Could not load dynamic library 'libcudart.so.11.0'; dlerror: libcudart.so.11.0: cannot open shared object file: No such file or directory\n",
      "2022-01-24 20:24:32.085687: I tensorflow/stream_executor/cuda/cudart_stub.cc:29] Ignore above cudart dlerror if you do not have a GPU set up on your machine.\n"
     ]
    }
   ],
   "source": [
    "#%%capture\n",
    "if ENABLE_COLAB:\n",
    "  #!pip install scipy -q\n",
    "  #!pip install scikit-learn -q\n",
    "  #!pip install pycaret -q\n",
    "  #!pip install matplotlib -q\n",
    "  #!pip install joblib -q\n",
    "  #!pip install pandasql -q \n",
    "  !pip install sentence_transformers -q\n",
    "  !pip install flair -q\n",
    "  !pip install spacy -U -q\n",
    "  !pip install spacytextblob -q\n",
    "  display('Google Colab enabled')\n",
    "else:\n",
    "  display('Google Colab not enabled')\n",
    "\n",
    "#Common imports\n",
    "import json\n",
    "import gzip\n",
    "import pandas as pd\n",
    "import numpy as np\n",
    "import matplotlib\n",
    "import re\n",
    "import nltk\n",
    "import matplotlib.pyplot as plt\n",
    "\n",
    "!python -m spacy download en_core_web_sm\n",
    "\n",
    "nltk.download('stopwords')\n",
    "%matplotlib inline\n",
    "\n",
    "import cw_df_metric_utils as cwutils"
   ]
  },
  {
   "cell_type": "markdown",
   "id": "hEdTR2FNx6kk",
   "metadata": {
    "id": "hEdTR2FNx6kk"
   },
   "source": [
    "# Load Data"
   ]
  },
  {
   "cell_type": "code",
   "execution_count": 4,
   "id": "028f2a6c",
   "metadata": {
    "colab": {
     "base_uri": "https://localhost:8080/"
    },
    "executionInfo": {
     "elapsed": 21434,
     "status": "ok",
     "timestamp": 1638629955459,
     "user": {
      "displayName": "Michael Vasiliou",
      "photoUrl": "https://lh3.googleusercontent.com/a/default-user=s64",
      "userId": "07079983815732559270"
     },
     "user_tz": 300
    },
    "id": "028f2a6c",
    "outputId": "b5aba168-2717-4e5e-d38d-fcca513f35a2"
   },
   "outputs": [
    {
     "name": "stdout",
     "output_type": "stream",
     "text": [
      "Here are all your project data files\n",
      "[D] /home/magni//ML_Root/project_root/data/ML1010-Group-Project [Empty directory]\n",
      "\n",
      "[D] /home/magni//ML_Root/project_root/data/ML1010-Group-Project/01_original\n",
      "---[   gz][ json]--> Cell_Phones_and_Accessories.json.gz (1.15 GB)\n",
      "---[   gz][ json]--> Cell_Phones_and_Accessories_5.json.gz (161.24 MB)\n",
      "---[   gz][ json]--> meta_Cell_Phones_and_Accessories.json.gz (343.33 MB)\n",
      "\n",
      "[D] /home/magni//ML_Root/project_root/data/ML1010-Group-Project/02_working\n",
      "[*][  pkl]---------> 01_Cellphone_small.pkl (45.46 MB)\n",
      "---[   gz][  pkl]--> 01_NLP_ReviewText_Narrow_1.pkl.gz (6.88 MB)\n",
      "---[   gz][  pkl]--> 01_NLP_ReviewText_Narrow_2.pkl.gz (170.55 MB)\n",
      "---[   gz][  pkl]--> 01_NLP_ReviewText_Narrow_3.pkl.gz (295.59 MB)\n",
      "[*][  pkl]---------> 01_NLP_ReviewText_small.pkl (28.94 MB)\n",
      "[*][  pkl]---------> 01_NLP_Summary_small.pkl (3.82 MB)\n",
      "[*][  pkl]---------> 01_NLP_Title_small.pkl (2.73 MB)\n",
      "---[   gz][  pkl]--> 01_NL_ReviewText_All(new).pkl.gz (821.15 MB)\n",
      "---[   gz][  pkl]--> 01_NL_ReviewText_All.pkl.gz (592.92 MB)\n",
      "---[   gz][  pkl]--> 01_NL_ReviewText_textSplit.pkl.gz (15.78 MB)\n",
      "[*][  pkl]---------> 02_Cellphone.pkl (46.32 MB)\n",
      "[*][  pkl]---------> 02_NLP_ReviewTextData.pkl (87.00 MB)\n",
      "[*][  pkl]---------> 02_NLP_SummaryData.pkl (8.32 MB)\n",
      "[*][  pkl]---------> 02_NLP_TitleData.pkl (16.71 MB)\n",
      "[*][  pkl]---------> 03_Cellphone.pkl (46.31 MB)\n",
      "[*][  pkl]---------> 03_NLP_ReviewTextData.pkl (28.94 MB)\n",
      "[*][  pkl]---------> 03_NLP_ReviewText_Narrow.pkl (17.13 MB)\n",
      "[*][  pkl]---------> 03_NLP_SummaryData.pkl (3.82 MB)\n",
      "[*][  pkl]---------> 03_NLP_TitleData.pkl (2.73 MB)\n",
      "[*][  pkl]---------> 04_NLP_ReviewText_Narrow.pkl (16.95 MB)\n",
      "[*][  pkl]---------> 05_NLP_ReviewText_Narrow.pkl (66.15 MB)\n",
      "[*][  pkl]---------> 05_NLP_ReviewText_Narrow_full.pkl (207.91 MB)\n",
      "\n",
      "[D] /home/magni//ML_Root/project_root/data/ML1010-Group-Project/03_train [Empty directory]\n",
      "\n",
      "[D] /home/magni//ML_Root/project_root/data/ML1010-Group-Project/04_test [Empty directory]\n",
      "\n",
      "[D] /home/magni//ML_Root/project_root/data/ML1010-Group-Project/05_experiments\n",
      "---[   gz][ jexp]--> 01_ML1010_GP_LR_Bert2.jexp.gz (68.31 MB)\n",
      "---[   gz][ jexp]--> 01_ML1010_GP_LSTM_Bert2.jexp.gz (68.00 MB)\n",
      "---[   gz][ jexp]--> 01_ML1010_GP_LSTM_Bert2_2Way.jexp.gz (67.93 MB)\n",
      "---[   gz][ jexp]--> 01_ML1010_GP_LSTM_Bert2_scratch.jexp.gz (68.03 MB)\n",
      "---[   gz][ jexp]--> 01_ML1010_GP_RF_Bert2.jexp.gz (87.32 MB)\n",
      "---[   gz][ jexp]--> 01_ML1010_GP_RF_Glove2.jexp.gz (47.09 MB)\n",
      "---[   gz][ jexp]--> 01_ML1010_GP_RF_MPNet2.jexp.gz (88.73 MB)\n",
      "---[   gz][ jexp]--> 01_ML1010_GP_RF_TFIDF2.jexp.gz (40.96 MB)\n",
      "---[   gz][ jexp]--> 01_ML1010_GP_XGB_Bert2.jexp.gz (69.02 MB)\n",
      "---[   gz][ jexp]--> 01_ML1010_GP_XGB_Glove2.jexp.gz (27.75 MB)\n",
      "---[   gz][ jexp]--> 01_ML1010_GP_XGB_MPNet2.jexp.gz (69.29 MB)\n",
      "---[   gz][ jexp]--> 01_ML1010_GP_XGB_TFIDF2.jexp.gz (6.51 MB)\n",
      "---[   gz][  pkl]--> reviewText_TF-IDF.pkl.gz (11.91 MB)\n",
      "\n",
      "10063255\n",
      "{'overall': 5.0, 'verified': False, 'reviewTime': '11 19, 2014', 'reviewerID': 'A1GG51FWU0XQYH', 'asin': '098949232X', 'reviewerName': 'Paul Williams', 'reviewText': 'If your into space this is the Calendar for you.', 'summary': 'Five Stars', 'unixReviewTime': 1416355200}\n"
     ]
    }
   ],
   "source": [
    "### load the meta data\n",
    "jarvis.showProjectDataFiles()\n",
    "data = []\n",
    "with gzip.open(jarvis.DATA_DIR + '/01_original/Cell_Phones_and_Accessories.json.gz') as f:\n",
    "    for l in f:\n",
    "        data.append(json.loads(l.strip()))\n",
    "    \n",
    "# total length of list, this number equals total number of products\n",
    "print(len(data))\n",
    "\n",
    "# first row of the list\n",
    "print(data[0])"
   ]
  },
  {
   "cell_type": "code",
   "execution_count": 5,
   "id": "ca351321",
   "metadata": {
    "colab": {
     "base_uri": "https://localhost:8080/"
    },
    "executionInfo": {
     "elapsed": 4133,
     "status": "ok",
     "timestamp": 1638629965121,
     "user": {
      "displayName": "Michael Vasiliou",
      "photoUrl": "https://lh3.googleusercontent.com/a/default-user=s64",
      "userId": "07079983815732559270"
     },
     "user_tz": 300
    },
    "id": "ca351321",
    "outputId": "a5b72d9e-4e39-4eed-9aee-19b281699283"
   },
   "outputs": [
    {
     "name": "stdout",
     "output_type": "stream",
     "text": [
      "10063255\n"
     ]
    }
   ],
   "source": [
    "# convert list into pandas dataframe\n",
    "df = pd.DataFrame.from_dict(data)\n",
    "\n",
    "print(len(df))"
   ]
  },
  {
   "cell_type": "code",
   "execution_count": 6,
   "id": "IFkenQS9FX6I",
   "metadata": {
    "colab": {
     "base_uri": "https://localhost:8080/"
    },
    "executionInfo": {
     "elapsed": 1222,
     "status": "ok",
     "timestamp": 1638629967969,
     "user": {
      "displayName": "Michael Vasiliou",
      "photoUrl": "https://lh3.googleusercontent.com/a/default-user=s64",
      "userId": "07079983815732559270"
     },
     "user_tz": 300
    },
    "id": "IFkenQS9FX6I",
    "outputId": "dd629a12-357f-4cc6-9728-293731d5f123"
   },
   "outputs": [
    {
     "name": "stdout",
     "output_type": "stream",
     "text": [
      "<class 'pandas.core.frame.DataFrame'>\n",
      "RangeIndex: 10063255 entries, 0 to 10063254\n",
      "Data columns (total 12 columns):\n",
      " #   Column          Dtype  \n",
      "---  ------          -----  \n",
      " 0   overall         float64\n",
      " 1   verified        bool   \n",
      " 2   reviewTime      object \n",
      " 3   reviewerID      object \n",
      " 4   asin            object \n",
      " 5   reviewerName    object \n",
      " 6   reviewText      object \n",
      " 7   summary         object \n",
      " 8   unixReviewTime  int64  \n",
      " 9   vote            object \n",
      " 10  image           object \n",
      " 11  style           object \n",
      "dtypes: bool(1), float64(1), int64(1), object(9)\n",
      "memory usage: 854.1+ MB\n"
     ]
    }
   ],
   "source": [
    "df.info()"
   ]
  },
  {
   "cell_type": "code",
   "execution_count": 7,
   "id": "VIwypVZtG6Rs",
   "metadata": {
    "colab": {
     "base_uri": "https://localhost:8080/"
    },
    "executionInfo": {
     "elapsed": 4067,
     "status": "ok",
     "timestamp": 1638629975215,
     "user": {
      "displayName": "Michael Vasiliou",
      "photoUrl": "https://lh3.googleusercontent.com/a/default-user=s64",
      "userId": "07079983815732559270"
     },
     "user_tz": 300
    },
    "id": "VIwypVZtG6Rs",
    "outputId": "a8920b75-8449-4f27-8864-8ba6f9ec34ec"
   },
   "outputs": [
    {
     "name": "stdout",
     "output_type": "stream",
     "text": [
      "<class 'pandas.core.frame.DataFrame'>\n",
      "RangeIndex: 10063255 entries, 0 to 10063254\n",
      "Data columns (total 12 columns):\n",
      " #   Column          Dtype         \n",
      "---  ------          -----         \n",
      " 0   overall         float64       \n",
      " 1   verified        bool          \n",
      " 2   reviewTime      datetime64[ns]\n",
      " 3   reviewerID      object        \n",
      " 4   asin            object        \n",
      " 5   reviewerName    object        \n",
      " 6   reviewText      object        \n",
      " 7   summary         object        \n",
      " 8   unixReviewTime  int64         \n",
      " 9   vote            object        \n",
      " 10  image           object        \n",
      " 11  style           object        \n",
      "dtypes: bool(1), datetime64[ns](1), float64(1), int64(1), object(8)\n",
      "memory usage: 854.1+ MB\n"
     ]
    }
   ],
   "source": [
    "df['reviewTime'] = pd.to_datetime(df['reviewTime'], format=\"%m %d, %Y\")\n",
    "df.info()"
   ]
  },
  {
   "cell_type": "code",
   "execution_count": 8,
   "id": "3983c66b",
   "metadata": {
    "colab": {
     "base_uri": "https://localhost:8080/",
     "height": 241
    },
    "executionInfo": {
     "elapsed": 92,
     "status": "ok",
     "timestamp": 1638629979492,
     "user": {
      "displayName": "Michael Vasiliou",
      "photoUrl": "https://lh3.googleusercontent.com/a/default-user=s64",
      "userId": "07079983815732559270"
     },
     "user_tz": 300
    },
    "id": "3983c66b",
    "outputId": "cbf3d73e-674c-4b69-e1bc-2b9f63b7eb44"
   },
   "outputs": [
    {
     "data": {
      "text/html": [
       "<div>\n",
       "<style scoped>\n",
       "    .dataframe tbody tr th:only-of-type {\n",
       "        vertical-align: middle;\n",
       "    }\n",
       "\n",
       "    .dataframe tbody tr th {\n",
       "        vertical-align: top;\n",
       "    }\n",
       "\n",
       "    .dataframe thead th {\n",
       "        text-align: right;\n",
       "    }\n",
       "</style>\n",
       "<table border=\"1\" class=\"dataframe\">\n",
       "  <thead>\n",
       "    <tr style=\"text-align: right;\">\n",
       "      <th></th>\n",
       "      <th>overall</th>\n",
       "      <th>verified</th>\n",
       "      <th>reviewTime</th>\n",
       "      <th>reviewerID</th>\n",
       "      <th>asin</th>\n",
       "      <th>reviewerName</th>\n",
       "      <th>reviewText</th>\n",
       "      <th>summary</th>\n",
       "      <th>unixReviewTime</th>\n",
       "      <th>vote</th>\n",
       "      <th>image</th>\n",
       "      <th>style</th>\n",
       "    </tr>\n",
       "  </thead>\n",
       "  <tbody>\n",
       "    <tr>\n",
       "      <th>0</th>\n",
       "      <td>5.0</td>\n",
       "      <td>False</td>\n",
       "      <td>2014-11-19</td>\n",
       "      <td>A1GG51FWU0XQYH</td>\n",
       "      <td>098949232X</td>\n",
       "      <td>Paul Williams</td>\n",
       "      <td>If your into space this is the Calendar for you.</td>\n",
       "      <td>Five Stars</td>\n",
       "      <td>1416355200</td>\n",
       "      <td>NaN</td>\n",
       "      <td>NaN</td>\n",
       "      <td>NaN</td>\n",
       "    </tr>\n",
       "    <tr>\n",
       "      <th>1</th>\n",
       "      <td>5.0</td>\n",
       "      <td>False</td>\n",
       "      <td>2014-11-19</td>\n",
       "      <td>AVFIDS9RK38E0</td>\n",
       "      <td>098949232X</td>\n",
       "      <td>Sean Powell</td>\n",
       "      <td>Awesome pictures!</td>\n",
       "      <td>Five Stars</td>\n",
       "      <td>1416355200</td>\n",
       "      <td>NaN</td>\n",
       "      <td>NaN</td>\n",
       "      <td>NaN</td>\n",
       "    </tr>\n",
       "    <tr>\n",
       "      <th>2</th>\n",
       "      <td>5.0</td>\n",
       "      <td>False</td>\n",
       "      <td>2014-11-19</td>\n",
       "      <td>A2S4AVR5SJ7KMI</td>\n",
       "      <td>098949232X</td>\n",
       "      <td>Tom Davis</td>\n",
       "      <td>Great wall art and information for space explo...</td>\n",
       "      <td>Five Stars</td>\n",
       "      <td>1416355200</td>\n",
       "      <td>NaN</td>\n",
       "      <td>NaN</td>\n",
       "      <td>NaN</td>\n",
       "    </tr>\n",
       "    <tr>\n",
       "      <th>3</th>\n",
       "      <td>5.0</td>\n",
       "      <td>False</td>\n",
       "      <td>2014-11-19</td>\n",
       "      <td>AEMMMVOR9BFLI</td>\n",
       "      <td>098949232X</td>\n",
       "      <td>Kwajmeck</td>\n",
       "      <td>As always, it is a quality calendar full of ve...</td>\n",
       "      <td>I love it. I buy a new one every year</td>\n",
       "      <td>1416355200</td>\n",
       "      <td>NaN</td>\n",
       "      <td>NaN</td>\n",
       "      <td>NaN</td>\n",
       "    </tr>\n",
       "    <tr>\n",
       "      <th>4</th>\n",
       "      <td>5.0</td>\n",
       "      <td>False</td>\n",
       "      <td>2014-11-19</td>\n",
       "      <td>A2DZXMBTY7KLYP</td>\n",
       "      <td>098949232X</td>\n",
       "      <td>ScottG43</td>\n",
       "      <td>This is a fantastic calendar. This is my third...</td>\n",
       "      <td>Great Calendar.</td>\n",
       "      <td>1416355200</td>\n",
       "      <td>NaN</td>\n",
       "      <td>NaN</td>\n",
       "      <td>NaN</td>\n",
       "    </tr>\n",
       "  </tbody>\n",
       "</table>\n",
       "</div>"
      ],
      "text/plain": [
       "   overall  verified reviewTime      reviewerID        asin   reviewerName  \\\n",
       "0      5.0     False 2014-11-19  A1GG51FWU0XQYH  098949232X  Paul Williams   \n",
       "1      5.0     False 2014-11-19   AVFIDS9RK38E0  098949232X    Sean Powell   \n",
       "2      5.0     False 2014-11-19  A2S4AVR5SJ7KMI  098949232X      Tom Davis   \n",
       "3      5.0     False 2014-11-19   AEMMMVOR9BFLI  098949232X       Kwajmeck   \n",
       "4      5.0     False 2014-11-19  A2DZXMBTY7KLYP  098949232X       ScottG43   \n",
       "\n",
       "                                          reviewText  \\\n",
       "0   If your into space this is the Calendar for you.   \n",
       "1                                  Awesome pictures!   \n",
       "2  Great wall art and information for space explo...   \n",
       "3  As always, it is a quality calendar full of ve...   \n",
       "4  This is a fantastic calendar. This is my third...   \n",
       "\n",
       "                                 summary  unixReviewTime vote image style  \n",
       "0                             Five Stars      1416355200  NaN   NaN   NaN  \n",
       "1                             Five Stars      1416355200  NaN   NaN   NaN  \n",
       "2                             Five Stars      1416355200  NaN   NaN   NaN  \n",
       "3  I love it. I buy a new one every year      1416355200  NaN   NaN   NaN  \n",
       "4                        Great Calendar.      1416355200  NaN   NaN   NaN  "
      ]
     },
     "execution_count": 8,
     "metadata": {},
     "output_type": "execute_result"
    }
   ],
   "source": [
    "df.head(5)"
   ]
  },
  {
   "cell_type": "code",
   "execution_count": 9,
   "id": "e253e0bf",
   "metadata": {
    "colab": {
     "base_uri": "https://localhost:8080/"
    },
    "executionInfo": {
     "elapsed": 55271,
     "status": "ok",
     "timestamp": 1638630037273,
     "user": {
      "displayName": "Michael Vasiliou",
      "photoUrl": "https://lh3.googleusercontent.com/a/default-user=s64",
      "userId": "07079983815732559270"
     },
     "user_tz": 300
    },
    "id": "e253e0bf",
    "outputId": "f46ec76f-b6c7-4d57-ea2d-bd7471c5cd49"
   },
   "outputs": [
    {
     "name": "stdout",
     "output_type": "stream",
     "text": [
      "590071\n",
      "{'category': ['Cell Phones & Accessories', 'Accessories', 'Screen Protectors'], 'tech1': '', 'description': [], 'fit': '', 'title': 'Trollies Sing a Long Party VHS', 'also_buy': [], 'tech2': '', 'brand': '', 'feature': [], 'rank': '557,379 in Movies & TV (', 'also_view': [], 'details': {'ASIN: ': '6303195164'}, 'main_cat': 'Movies & TV', 'similar_item': '', 'date': '', 'price': '', 'asin': '6303195164', 'imageURL': [], 'imageURLHighRes': []}\n"
     ]
    }
   ],
   "source": [
    "### load the meta data\n",
    "dataMeta = []\n",
    "with gzip.open(jarvis.DATA_DIR + '/01_original/meta_Cell_Phones_and_Accessories.json.gz') as f:\n",
    "    for l in f:\n",
    "        dataMeta.append(json.loads(l.strip()))\n",
    "    \n",
    "# total length of list, this number equals total number of products\n",
    "print(len(dataMeta))\n",
    "\n",
    "# first row of the list\n",
    "print(dataMeta[0])"
   ]
  },
  {
   "cell_type": "code",
   "execution_count": 10,
   "id": "bc348c60",
   "metadata": {
    "colab": {
     "base_uri": "https://localhost:8080/"
    },
    "executionInfo": {
     "elapsed": 4698,
     "status": "ok",
     "timestamp": 1638630052211,
     "user": {
      "displayName": "Michael Vasiliou",
      "photoUrl": "https://lh3.googleusercontent.com/a/default-user=s64",
      "userId": "07079983815732559270"
     },
     "user_tz": 300
    },
    "id": "bc348c60",
    "outputId": "330e0350-217d-439e-963d-4b172c96cad0"
   },
   "outputs": [
    {
     "name": "stdout",
     "output_type": "stream",
     "text": [
      "590071\n"
     ]
    }
   ],
   "source": [
    "# convert list into pandas dataframe\n",
    "dfMeta = pd.DataFrame.from_dict(dataMeta)\n",
    "\n",
    "print(len(dfMeta))"
   ]
  },
  {
   "cell_type": "code",
   "execution_count": 11,
   "id": "d68ddf0c",
   "metadata": {
    "colab": {
     "base_uri": "https://localhost:8080/"
    },
    "executionInfo": {
     "elapsed": 99,
     "status": "ok",
     "timestamp": 1638630055607,
     "user": {
      "displayName": "Michael Vasiliou",
      "photoUrl": "https://lh3.googleusercontent.com/a/default-user=s64",
      "userId": "07079983815732559270"
     },
     "user_tz": 300
    },
    "id": "d68ddf0c",
    "outputId": "a6e140d9-7557-4174-e169-a975689353e8"
   },
   "outputs": [
    {
     "name": "stdout",
     "output_type": "stream",
     "text": [
      "<class 'pandas.core.frame.DataFrame'>\n",
      "RangeIndex: 590071 entries, 0 to 590070\n",
      "Data columns (total 19 columns):\n",
      " #   Column           Non-Null Count   Dtype \n",
      "---  ------           --------------   ----- \n",
      " 0   category         590071 non-null  object\n",
      " 1   tech1            590071 non-null  object\n",
      " 2   description      590071 non-null  object\n",
      " 3   fit              590071 non-null  object\n",
      " 4   title            590071 non-null  object\n",
      " 5   also_buy         590071 non-null  object\n",
      " 6   tech2            590071 non-null  object\n",
      " 7   brand            590071 non-null  object\n",
      " 8   feature          590071 non-null  object\n",
      " 9   rank             590071 non-null  object\n",
      " 10  also_view        590071 non-null  object\n",
      " 11  details          590071 non-null  object\n",
      " 12  main_cat         590071 non-null  object\n",
      " 13  similar_item     590071 non-null  object\n",
      " 14  date             590071 non-null  object\n",
      " 15  price            590071 non-null  object\n",
      " 16  asin             590071 non-null  object\n",
      " 17  imageURL         590071 non-null  object\n",
      " 18  imageURLHighRes  590071 non-null  object\n",
      "dtypes: object(19)\n",
      "memory usage: 85.5+ MB\n"
     ]
    }
   ],
   "source": [
    "dfMeta.info()"
   ]
  },
  {
   "cell_type": "code",
   "execution_count": 12,
   "id": "029b5fb2",
   "metadata": {
    "colab": {
     "base_uri": "https://localhost:8080/",
     "height": 660
    },
    "executionInfo": {
     "elapsed": 112,
     "status": "ok",
     "timestamp": 1638630057765,
     "user": {
      "displayName": "Michael Vasiliou",
      "photoUrl": "https://lh3.googleusercontent.com/a/default-user=s64",
      "userId": "07079983815732559270"
     },
     "user_tz": 300
    },
    "id": "029b5fb2",
    "outputId": "9060566b-38a7-4c0d-bca9-6b18fdf671e9"
   },
   "outputs": [
    {
     "data": {
      "text/html": [
       "<div>\n",
       "<style scoped>\n",
       "    .dataframe tbody tr th:only-of-type {\n",
       "        vertical-align: middle;\n",
       "    }\n",
       "\n",
       "    .dataframe tbody tr th {\n",
       "        vertical-align: top;\n",
       "    }\n",
       "\n",
       "    .dataframe thead th {\n",
       "        text-align: right;\n",
       "    }\n",
       "</style>\n",
       "<table border=\"1\" class=\"dataframe\">\n",
       "  <thead>\n",
       "    <tr style=\"text-align: right;\">\n",
       "      <th></th>\n",
       "      <th>category</th>\n",
       "      <th>tech1</th>\n",
       "      <th>description</th>\n",
       "      <th>fit</th>\n",
       "      <th>title</th>\n",
       "      <th>also_buy</th>\n",
       "      <th>tech2</th>\n",
       "      <th>brand</th>\n",
       "      <th>feature</th>\n",
       "      <th>rank</th>\n",
       "      <th>also_view</th>\n",
       "      <th>details</th>\n",
       "      <th>main_cat</th>\n",
       "      <th>similar_item</th>\n",
       "      <th>date</th>\n",
       "      <th>price</th>\n",
       "      <th>asin</th>\n",
       "      <th>imageURL</th>\n",
       "      <th>imageURLHighRes</th>\n",
       "    </tr>\n",
       "  </thead>\n",
       "  <tbody>\n",
       "    <tr>\n",
       "      <th>0</th>\n",
       "      <td>[Cell Phones &amp; Accessories, Accessories, Scree...</td>\n",
       "      <td></td>\n",
       "      <td>[]</td>\n",
       "      <td></td>\n",
       "      <td>Trollies Sing a Long Party VHS</td>\n",
       "      <td>[]</td>\n",
       "      <td></td>\n",
       "      <td></td>\n",
       "      <td>[]</td>\n",
       "      <td>557,379 in Movies &amp; TV (</td>\n",
       "      <td>[]</td>\n",
       "      <td>{'ASIN: ': '6303195164'}</td>\n",
       "      <td>Movies &amp; TV</td>\n",
       "      <td></td>\n",
       "      <td></td>\n",
       "      <td></td>\n",
       "      <td>6303195164</td>\n",
       "      <td>[]</td>\n",
       "      <td>[]</td>\n",
       "    </tr>\n",
       "    <tr>\n",
       "      <th>1</th>\n",
       "      <td>[Cell Phones &amp; Accessories, Accessories, Car A...</td>\n",
       "      <td></td>\n",
       "      <td>[]</td>\n",
       "      <td></td>\n",
       "      <td>La Pura VHS</td>\n",
       "      <td>[]</td>\n",
       "      <td></td>\n",
       "      <td>Maribel Guardia</td>\n",
       "      <td>[]</td>\n",
       "      <td>1,024,449 in Movies &amp; TV (</td>\n",
       "      <td>[]</td>\n",
       "      <td>{'ASIN: ': '630524412X'}</td>\n",
       "      <td>Movies &amp; TV</td>\n",
       "      <td></td>\n",
       "      <td></td>\n",
       "      <td></td>\n",
       "      <td>630524412X</td>\n",
       "      <td>[]</td>\n",
       "      <td>[]</td>\n",
       "    </tr>\n",
       "    <tr>\n",
       "      <th>2</th>\n",
       "      <td>[Cell Phones &amp; Accessories, Cases, Holsters &amp; ...</td>\n",
       "      <td></td>\n",
       "      <td>[New items to give you a new good mood, welcom...</td>\n",
       "      <td></td>\n",
       "      <td>Leopard Thanksgiving Easter PC Black Case for ...</td>\n",
       "      <td>[]</td>\n",
       "      <td></td>\n",
       "      <td></td>\n",
       "      <td>[]</td>\n",
       "      <td>5,315,017 in Books (</td>\n",
       "      <td>[]</td>\n",
       "      <td>{'Publisher:': 'juduiou', 'ASIN:': '6310200240...</td>\n",
       "      <td>Books</td>\n",
       "      <td></td>\n",
       "      <td></td>\n",
       "      <td></td>\n",
       "      <td>6310200240</td>\n",
       "      <td>[]</td>\n",
       "      <td>[]</td>\n",
       "    </tr>\n",
       "    <tr>\n",
       "      <th>3</th>\n",
       "      <td>[Cell Phones &amp; Accessories, Cases, Holsters &amp; ...</td>\n",
       "      <td></td>\n",
       "      <td>[A brand-new, unused, unopened, undamaged item...</td>\n",
       "      <td></td>\n",
       "      <td>Puppies Faceplate Hard Case Protector for Net1...</td>\n",
       "      <td>[]</td>\n",
       "      <td></td>\n",
       "      <td>Live2Pedal</td>\n",
       "      <td>[Protect your phone with style through this At...</td>\n",
       "      <td>[&gt;#6,368,825 in Cell Phones &amp; Accessories (See...</td>\n",
       "      <td>[]</td>\n",
       "      <td>{}</td>\n",
       "      <td>Cell Phones &amp; Accessories</td>\n",
       "      <td></td>\n",
       "      <td></td>\n",
       "      <td></td>\n",
       "      <td>6786501710</td>\n",
       "      <td>[]</td>\n",
       "      <td>[]</td>\n",
       "    </tr>\n",
       "    <tr>\n",
       "      <th>4</th>\n",
       "      <td>[Cell Phones &amp; Accessories, Cases, Holsters &amp; ...</td>\n",
       "      <td></td>\n",
       "      <td>[A brand-new, unused, unopened, undamaged item...</td>\n",
       "      <td></td>\n",
       "      <td>White Wolf Faceplate Protector Hard Case for S...</td>\n",
       "      <td>[]</td>\n",
       "      <td></td>\n",
       "      <td>wirelessoutletusa</td>\n",
       "      <td>[Protect your phone with style through this At...</td>\n",
       "      <td>[&gt;#2,672,454 in Cell Phones &amp; Accessories (See...</td>\n",
       "      <td>[]</td>\n",
       "      <td>{}</td>\n",
       "      <td>Cell Phones &amp; Accessories</td>\n",
       "      <td></td>\n",
       "      <td></td>\n",
       "      <td></td>\n",
       "      <td>6786501273</td>\n",
       "      <td>[]</td>\n",
       "      <td>[]</td>\n",
       "    </tr>\n",
       "  </tbody>\n",
       "</table>\n",
       "</div>"
      ],
      "text/plain": [
       "                                            category tech1  \\\n",
       "0  [Cell Phones & Accessories, Accessories, Scree...         \n",
       "1  [Cell Phones & Accessories, Accessories, Car A...         \n",
       "2  [Cell Phones & Accessories, Cases, Holsters & ...         \n",
       "3  [Cell Phones & Accessories, Cases, Holsters & ...         \n",
       "4  [Cell Phones & Accessories, Cases, Holsters & ...         \n",
       "\n",
       "                                         description fit  \\\n",
       "0                                                 []       \n",
       "1                                                 []       \n",
       "2  [New items to give you a new good mood, welcom...       \n",
       "3  [A brand-new, unused, unopened, undamaged item...       \n",
       "4  [A brand-new, unused, unopened, undamaged item...       \n",
       "\n",
       "                                               title also_buy tech2  \\\n",
       "0                     Trollies Sing a Long Party VHS       []         \n",
       "1                                        La Pura VHS       []         \n",
       "2  Leopard Thanksgiving Easter PC Black Case for ...       []         \n",
       "3  Puppies Faceplate Hard Case Protector for Net1...       []         \n",
       "4  White Wolf Faceplate Protector Hard Case for S...       []         \n",
       "\n",
       "               brand                                            feature  \\\n",
       "0                                                                    []   \n",
       "1    Maribel Guardia                                                 []   \n",
       "2                                                                    []   \n",
       "3         Live2Pedal  [Protect your phone with style through this At...   \n",
       "4  wirelessoutletusa  [Protect your phone with style through this At...   \n",
       "\n",
       "                                                rank also_view  \\\n",
       "0                           557,379 in Movies & TV (        []   \n",
       "1                         1,024,449 in Movies & TV (        []   \n",
       "2                               5,315,017 in Books (        []   \n",
       "3  [>#6,368,825 in Cell Phones & Accessories (See...        []   \n",
       "4  [>#2,672,454 in Cell Phones & Accessories (See...        []   \n",
       "\n",
       "                                             details  \\\n",
       "0                           {'ASIN: ': '6303195164'}   \n",
       "1                           {'ASIN: ': '630524412X'}   \n",
       "2  {'Publisher:': 'juduiou', 'ASIN:': '6310200240...   \n",
       "3                                                 {}   \n",
       "4                                                 {}   \n",
       "\n",
       "                    main_cat similar_item date price        asin imageURL  \\\n",
       "0                Movies & TV                          6303195164       []   \n",
       "1                Movies & TV                          630524412X       []   \n",
       "2                      Books                          6310200240       []   \n",
       "3  Cell Phones & Accessories                          6786501710       []   \n",
       "4  Cell Phones & Accessories                          6786501273       []   \n",
       "\n",
       "  imageURLHighRes  \n",
       "0              []  \n",
       "1              []  \n",
       "2              []  \n",
       "3              []  \n",
       "4              []  "
      ]
     },
     "execution_count": 12,
     "metadata": {},
     "output_type": "execute_result"
    }
   ],
   "source": [
    "dfMeta.head(5)"
   ]
  },
  {
   "cell_type": "code",
   "execution_count": 13,
   "id": "e0d0fafb",
   "metadata": {
    "executionInfo": {
     "elapsed": 3110,
     "status": "ok",
     "timestamp": 1638630063755,
     "user": {
      "displayName": "Michael Vasiliou",
      "photoUrl": "https://lh3.googleusercontent.com/a/default-user=s64",
      "userId": "07079983815732559270"
     },
     "user_tz": 300
    },
    "id": "e0d0fafb"
   },
   "outputs": [],
   "source": [
    "dfMerge = pd.merge(df, dfMeta, how=\"inner\", on=[\"asin\"])"
   ]
  },
  {
   "cell_type": "code",
   "execution_count": null,
   "id": "7247ac88",
   "metadata": {
    "colab": {
     "base_uri": "https://localhost:8080/"
    },
    "executionInfo": {
     "elapsed": 6771,
     "status": "ok",
     "timestamp": 1638630073304,
     "user": {
      "displayName": "Michael Vasiliou",
      "photoUrl": "https://lh3.googleusercontent.com/a/default-user=s64",
      "userId": "07079983815732559270"
     },
     "user_tz": 300
    },
    "id": "7247ac88",
    "outputId": "7fe64ad4-0ed8-4acb-f03b-5f66e9748e5b"
   },
   "outputs": [],
   "source": [
    "dfMerge.info(memory_usage='deep')"
   ]
  },
  {
   "cell_type": "code",
   "execution_count": 14,
   "id": "19bc210c",
   "metadata": {
    "colab": {
     "base_uri": "https://localhost:8080/"
    },
    "executionInfo": {
     "elapsed": 3858,
     "status": "ok",
     "timestamp": 1638630085739,
     "user": {
      "displayName": "Michael Vasiliou",
      "photoUrl": "https://lh3.googleusercontent.com/a/default-user=s64",
      "userId": "07079983815732559270"
     },
     "user_tz": 300
    },
    "id": "19bc210c",
    "outputId": "52287ab1-cea3-4911-a8bd-aaa8fd4e3e3b"
   },
   "outputs": [
    {
     "name": "stdout",
     "output_type": "stream",
     "text": [
      "<class 'pandas.core.frame.DataFrame'>\n",
      "Int64Index: 10071535 entries, 0 to 10071534\n",
      "Data columns (total 30 columns):\n",
      " #   Column           Dtype         \n",
      "---  ------           -----         \n",
      " 0   overall          float64       \n",
      " 1   verified         bool          \n",
      " 2   reviewTime       datetime64[ns]\n",
      " 3   reviewerID       object        \n",
      " 4   asin             object        \n",
      " 5   reviewerName     object        \n",
      " 6   reviewText       object        \n",
      " 7   summary          object        \n",
      " 8   unixReviewTime   int64         \n",
      " 9   vote             object        \n",
      " 10  image            object        \n",
      " 11  style            object        \n",
      " 12  category         string        \n",
      " 13  tech1            object        \n",
      " 14  description      object        \n",
      " 15  fit              object        \n",
      " 16  title            object        \n",
      " 17  also_buy         object        \n",
      " 18  tech2            object        \n",
      " 19  brand            object        \n",
      " 20  feature          object        \n",
      " 21  rank             object        \n",
      " 22  also_view        object        \n",
      " 23  details          object        \n",
      " 24  main_cat         object        \n",
      " 25  similar_item     object        \n",
      " 26  date             object        \n",
      " 27  price            object        \n",
      " 28  imageURL         object        \n",
      " 29  imageURLHighRes  object        \n",
      "dtypes: bool(1), datetime64[ns](1), float64(1), int64(1), object(25), string(1)\n",
      "memory usage: 2.3+ GB\n"
     ]
    }
   ],
   "source": [
    "dfMerge['category'] = dfMerge['category'].astype(\"string\")\n",
    "#dfMerge['style'] = dfMerge['style'].astype(\"string\")\n",
    "dfMerge.info()"
   ]
  },
  {
   "cell_type": "code",
   "execution_count": null,
   "id": "db60daaf",
   "metadata": {
    "colab": {
     "base_uri": "https://localhost:8080/",
     "height": 608
    },
    "executionInfo": {
     "elapsed": 92,
     "status": "ok",
     "timestamp": 1638630087577,
     "user": {
      "displayName": "Michael Vasiliou",
      "photoUrl": "https://lh3.googleusercontent.com/a/default-user=s64",
      "userId": "07079983815732559270"
     },
     "user_tz": 300
    },
    "id": "db60daaf",
    "outputId": "bb9d86d4-ad4d-4d97-e3d5-4d441365ce12"
   },
   "outputs": [],
   "source": [
    "dfMerge.head(5)"
   ]
  },
  {
   "cell_type": "markdown",
   "id": "6yoNqZOV0AeW",
   "metadata": {
    "id": "6yoNqZOV0AeW"
   },
   "source": [
    "# Merged Data Explore"
   ]
  },
  {
   "cell_type": "code",
   "execution_count": 15,
   "id": "gB2ORFxVxkMO",
   "metadata": {
    "colab": {
     "base_uri": "https://localhost:8080/",
     "height": 0
    },
    "executionInfo": {
     "elapsed": 2249,
     "status": "ok",
     "timestamp": 1638630093360,
     "user": {
      "displayName": "Michael Vasiliou",
      "photoUrl": "https://lh3.googleusercontent.com/a/default-user=s64",
      "userId": "07079983815732559270"
     },
     "user_tz": 300
    },
    "id": "gB2ORFxVxkMO",
    "outputId": "c57bc0d2-c9cb-4308-bb6c-b6a3e46fa56e"
   },
   "outputs": [
    {
     "data": {
      "text/plain": [
       "'(10063255, 12)'"
      ]
     },
     "metadata": {},
     "output_type": "display_data"
    },
    {
     "data": {
      "text/plain": [
       "'(10020286, 12)'"
      ]
     },
     "metadata": {},
     "output_type": "display_data"
    }
   ],
   "source": [
    "dfTemp = df\n",
    "display(str(dfTemp.shape))\n",
    "dfDeDupe = dfTemp.drop_duplicates(subset=['reviewerID', 'asin', 'reviewText', 'reviewTime'],keep=False)\n",
    "display(str(dfDeDupe.shape))"
   ]
  },
  {
   "cell_type": "code",
   "execution_count": 16,
   "id": "0a9cd90e",
   "metadata": {
    "colab": {
     "base_uri": "https://localhost:8080/",
     "height": 0
    },
    "executionInfo": {
     "elapsed": 145,
     "status": "ok",
     "timestamp": 1638630093502,
     "user": {
      "displayName": "Michael Vasiliou",
      "photoUrl": "https://lh3.googleusercontent.com/a/default-user=s64",
      "userId": "07079983815732559270"
     },
     "user_tz": 300
    },
    "id": "0a9cd90e",
    "outputId": "2d3ff639-fde6-48c0-840b-263fd5ff7cf2"
   },
   "outputs": [
    {
     "data": {
      "text/plain": [
       "(36, 1)"
      ]
     },
     "metadata": {},
     "output_type": "display_data"
    },
    {
     "data": {
      "text/html": [
       "<div>\n",
       "<style scoped>\n",
       "    .dataframe tbody tr th:only-of-type {\n",
       "        vertical-align: middle;\n",
       "    }\n",
       "\n",
       "    .dataframe tbody tr th {\n",
       "        vertical-align: top;\n",
       "    }\n",
       "\n",
       "    .dataframe thead th {\n",
       "        text-align: right;\n",
       "    }\n",
       "</style>\n",
       "<table border=\"1\" class=\"dataframe\">\n",
       "  <thead>\n",
       "    <tr style=\"text-align: right;\">\n",
       "      <th></th>\n",
       "      <th>reviewCnt</th>\n",
       "    </tr>\n",
       "    <tr>\n",
       "      <th>main_cat</th>\n",
       "      <th></th>\n",
       "    </tr>\n",
       "  </thead>\n",
       "  <tbody>\n",
       "    <tr>\n",
       "      <th>Cell Phones &amp; Accessories</th>\n",
       "      <td>9238625</td>\n",
       "    </tr>\n",
       "    <tr>\n",
       "      <th>All Electronics</th>\n",
       "      <td>384002</td>\n",
       "    </tr>\n",
       "    <tr>\n",
       "      <th>Computers</th>\n",
       "      <td>132097</td>\n",
       "    </tr>\n",
       "    <tr>\n",
       "      <th>Sports &amp; Outdoors</th>\n",
       "      <td>40105</td>\n",
       "    </tr>\n",
       "    <tr>\n",
       "      <th>Amazon Home</th>\n",
       "      <td>37667</td>\n",
       "    </tr>\n",
       "    <tr>\n",
       "      <th>Camera &amp; Photo</th>\n",
       "      <td>28782</td>\n",
       "    </tr>\n",
       "    <tr>\n",
       "      <th>Home Audio &amp; Theater</th>\n",
       "      <td>24440</td>\n",
       "    </tr>\n",
       "    <tr>\n",
       "      <th>Books</th>\n",
       "      <td>20581</td>\n",
       "    </tr>\n",
       "    <tr>\n",
       "      <th>Portable Audio &amp; Accessories</th>\n",
       "      <td>19883</td>\n",
       "    </tr>\n",
       "    <tr>\n",
       "      <th>&lt;img src=\"https://images-na.ssl-images-amazon.com/images/G/01/nav2/images/gui/amazon-fashion-store-new._CB520838675_.png\" class=\"nav-categ-image\" alt=\"AMAZON FASHION\"/&gt;</th>\n",
       "      <td>16885</td>\n",
       "    </tr>\n",
       "    <tr>\n",
       "      <th>Car Electronics</th>\n",
       "      <td>15078</td>\n",
       "    </tr>\n",
       "    <tr>\n",
       "      <th>Tools &amp; Home Improvement</th>\n",
       "      <td>14898</td>\n",
       "    </tr>\n",
       "    <tr>\n",
       "      <th>Health &amp; Personal Care</th>\n",
       "      <td>12548</td>\n",
       "    </tr>\n",
       "    <tr>\n",
       "      <th></th>\n",
       "      <td>11509</td>\n",
       "    </tr>\n",
       "    <tr>\n",
       "      <th>Amazon Devices</th>\n",
       "      <td>11178</td>\n",
       "    </tr>\n",
       "    <tr>\n",
       "      <th>Office Products</th>\n",
       "      <td>10192</td>\n",
       "    </tr>\n",
       "    <tr>\n",
       "      <th>Automotive</th>\n",
       "      <td>10085</td>\n",
       "    </tr>\n",
       "    <tr>\n",
       "      <th>All Beauty</th>\n",
       "      <td>8165</td>\n",
       "    </tr>\n",
       "    <tr>\n",
       "      <th>Toys &amp; Games</th>\n",
       "      <td>8147</td>\n",
       "    </tr>\n",
       "    <tr>\n",
       "      <th>Industrial &amp; Scientific</th>\n",
       "      <td>3919</td>\n",
       "    </tr>\n",
       "    <tr>\n",
       "      <th>Arts, Crafts &amp; Sewing</th>\n",
       "      <td>3846</td>\n",
       "    </tr>\n",
       "    <tr>\n",
       "      <th>Musical Instruments</th>\n",
       "      <td>3743</td>\n",
       "    </tr>\n",
       "    <tr>\n",
       "      <th>Apple Products</th>\n",
       "      <td>3616</td>\n",
       "    </tr>\n",
       "    <tr>\n",
       "      <th>Fire Phone</th>\n",
       "      <td>3391</td>\n",
       "    </tr>\n",
       "    <tr>\n",
       "      <th>Video Games</th>\n",
       "      <td>2155</td>\n",
       "    </tr>\n",
       "    <tr>\n",
       "      <th>GPS &amp; Navigation</th>\n",
       "      <td>1983</td>\n",
       "    </tr>\n",
       "    <tr>\n",
       "      <th>Baby</th>\n",
       "      <td>1726</td>\n",
       "    </tr>\n",
       "    <tr>\n",
       "      <th>Pet Supplies</th>\n",
       "      <td>1623</td>\n",
       "    </tr>\n",
       "    <tr>\n",
       "      <th>Grocery</th>\n",
       "      <td>347</td>\n",
       "    </tr>\n",
       "  </tbody>\n",
       "</table>\n",
       "</div>"
      ],
      "text/plain": [
       "                                                    reviewCnt\n",
       "main_cat                                                     \n",
       "Cell Phones & Accessories                             9238625\n",
       "All Electronics                                        384002\n",
       "Computers                                              132097\n",
       "Sports & Outdoors                                       40105\n",
       "Amazon Home                                             37667\n",
       "Camera & Photo                                          28782\n",
       "Home Audio & Theater                                    24440\n",
       "Books                                                   20581\n",
       "Portable Audio & Accessories                            19883\n",
       "<img src=\"https://images-na.ssl-images-amazon.c...      16885\n",
       "Car Electronics                                         15078\n",
       "Tools & Home Improvement                                14898\n",
       "Health & Personal Care                                  12548\n",
       "                                                        11509\n",
       "Amazon Devices                                          11178\n",
       "Office Products                                         10192\n",
       "Automotive                                              10085\n",
       "All Beauty                                               8165\n",
       "Toys & Games                                             8147\n",
       "Industrial & Scientific                                  3919\n",
       "Arts, Crafts & Sewing                                    3846\n",
       "Musical Instruments                                      3743\n",
       "Apple Products                                           3616\n",
       "Fire Phone                                               3391\n",
       "Video Games                                              2155\n",
       "GPS & Navigation                                         1983\n",
       "Baby                                                     1726\n",
       "Pet Supplies                                             1623\n",
       "Grocery                                                   347"
      ]
     },
     "execution_count": 16,
     "metadata": {},
     "output_type": "execute_result"
    }
   ],
   "source": [
    "cat_One = dfMerge.groupby(['main_cat']).size().to_frame('reviewCnt')\n",
    "cat_One = cat_One.sort_values(by='reviewCnt', ascending=False)        \n",
    "display(cat_One.shape)    \n",
    "# show top records\n",
    "cat_One.head(29)"
   ]
  },
  {
   "cell_type": "code",
   "execution_count": 17,
   "id": "7eaabe3f",
   "metadata": {
    "colab": {
     "base_uri": "https://localhost:8080/",
     "height": 0
    },
    "executionInfo": {
     "elapsed": 602,
     "status": "ok",
     "timestamp": 1638630094102,
     "user": {
      "displayName": "Michael Vasiliou",
      "photoUrl": "https://lh3.googleusercontent.com/a/default-user=s64",
      "userId": "07079983815732559270"
     },
     "user_tz": 300
    },
    "id": "7eaabe3f",
    "outputId": "06edabce-1d52-418b-d99f-bcf2727a660e"
   },
   "outputs": [
    {
     "data": {
      "text/plain": [
       "(1660, 1)"
      ]
     },
     "metadata": {},
     "output_type": "display_data"
    },
    {
     "data": {
      "text/html": [
       "<div>\n",
       "<style scoped>\n",
       "    .dataframe tbody tr th:only-of-type {\n",
       "        vertical-align: middle;\n",
       "    }\n",
       "\n",
       "    .dataframe tbody tr th {\n",
       "        vertical-align: top;\n",
       "    }\n",
       "\n",
       "    .dataframe thead th {\n",
       "        text-align: right;\n",
       "    }\n",
       "</style>\n",
       "<table border=\"1\" class=\"dataframe\">\n",
       "  <thead>\n",
       "    <tr style=\"text-align: right;\">\n",
       "      <th></th>\n",
       "      <th>reviewCnt</th>\n",
       "    </tr>\n",
       "    <tr>\n",
       "      <th>category</th>\n",
       "      <th></th>\n",
       "    </tr>\n",
       "  </thead>\n",
       "  <tbody>\n",
       "    <tr>\n",
       "      <th>['Cell Phones &amp; Accessories', 'Cases, Holsters &amp; Sleeves', 'Basic Cases']</th>\n",
       "      <td>2331144</td>\n",
       "    </tr>\n",
       "    <tr>\n",
       "      <th>['Cell Phones &amp; Accessories', 'Cases, Holsters &amp; Sleeves']</th>\n",
       "      <td>1650735</td>\n",
       "    </tr>\n",
       "    <tr>\n",
       "      <th>['Cell Phones &amp; Accessories', 'Accessories', 'Screen Protectors']</th>\n",
       "      <td>947013</td>\n",
       "    </tr>\n",
       "    <tr>\n",
       "      <th>[]</th>\n",
       "      <td>645418</td>\n",
       "    </tr>\n",
       "    <tr>\n",
       "      <th>['Cell Phones &amp; Accessories', 'Accessories', 'Cables']</th>\n",
       "      <td>456917</td>\n",
       "    </tr>\n",
       "    <tr>\n",
       "      <th>...</th>\n",
       "      <td>...</td>\n",
       "    </tr>\n",
       "    <tr>\n",
       "      <th>['Cell Phones &amp; Accessories', 'Cases, Holsters &amp; Sleeves', 'Basic Cases', 'Imported', '100% brand new and high quality.']</th>\n",
       "      <td>40</td>\n",
       "    </tr>\n",
       "    <tr>\n",
       "      <th>['Cell Phones &amp; Accessories', 'Accessories', 'Chargers &amp; Power Adapters', 'Wall Chargers', 'Plastic', 'Charges handsets, tablets, and other USB devices at max rate for increased charging efficiency', 'Capacity to charge any two devices simultaneously; no need to wait for a port to be free', 'Short circuit and over charge protection for safety', 'Folding AC prongs for portability', 'Cables sold separately']</th>\n",
       "      <td>39</td>\n",
       "    </tr>\n",
       "    <tr>\n",
       "      <th>['Cell Phones &amp; Accessories', 'Cases, Holsters &amp; Sleeves', 'Basic Cases', 'Compatible for Samsung Galaxy NOTE 5', 'Material: PC,Rhinestone', 'It protects your Phone back and frame from Fingerprints, Scratches, Dusts, Collisions And Abrasion', 'Easy access to all buttons, controls &amp; ports without having to remove the case', \"It Perfectly matches with your Phone's shape\"]</th>\n",
       "      <td>39</td>\n",
       "    </tr>\n",
       "    <tr>\n",
       "      <th>['Cell Phones &amp; Accessories', 'Cases, Holsters &amp; Sleeves', 'Style: Tech Accessories - Phone Cases', 'Material: Plastic/Silicone', 'Exterior: Add a little sparkle to your iPhone 5 with this mini rhinestone accent cell phone case.', 'Interior: This product consist of an inner silicone case and a protective outer plastic case. - Compatible with iPhone 5S and iPhone 5C- Sparkling mini rhinestones on back- Inner silicone case', 'Approx. Size: 2.5\"W x 5\"H x 0.5\"D']</th>\n",
       "      <td>38</td>\n",
       "    </tr>\n",
       "    <tr>\n",
       "      <th>['Cell Phones &amp; Accessories', 'Accessories', 'The IQ Shield Samsung Galaxy Gear 2 Neo Screen Protector includes our proprietary screen protector, installation tray or spray solution, squeegee, lint-free cloth, and intuitive installation instructions', 'Innovative LIQuidSkin adhesive coupled with our unique IQ Shield wet-install method ensures easy, bubble-free and frustration free installation that will leave the film perfectly contoured to any device', 'Unlike other common screen protectors, IQ Shield LIQuidSkin protectors are crafted using a revolutionary process that melds high response sensitivity, self healing durability, and non-yellowing, optical transparency into a single layer of flexible yet tough film', 'Classified as a smart film and optically transparent once applied, the LIQuidSkin line seamlessly merges mobile protection and user interactivity into a single enjoyable experience', 'Every Screen Protector for Samsung Galaxy Gear 2 Neo (6-Pack) is backed by our Lifetime Replacement Warranty and 100% Satisfaction Guarantee']</th>\n",
       "      <td>38</td>\n",
       "    </tr>\n",
       "  </tbody>\n",
       "</table>\n",
       "<p>133 rows × 1 columns</p>\n",
       "</div>"
      ],
      "text/plain": [
       "                                                    reviewCnt\n",
       "category                                                     \n",
       "['Cell Phones & Accessories', 'Cases, Holsters ...    2331144\n",
       "['Cell Phones & Accessories', 'Cases, Holsters ...    1650735\n",
       "['Cell Phones & Accessories', 'Accessories', 'S...     947013\n",
       "[]                                                     645418\n",
       "['Cell Phones & Accessories', 'Accessories', 'C...     456917\n",
       "...                                                       ...\n",
       "['Cell Phones & Accessories', 'Cases, Holsters ...         40\n",
       "['Cell Phones & Accessories', 'Accessories', 'C...         39\n",
       "['Cell Phones & Accessories', 'Cases, Holsters ...         39\n",
       "['Cell Phones & Accessories', 'Cases, Holsters ...         38\n",
       "['Cell Phones & Accessories', 'Accessories', 'T...         38\n",
       "\n",
       "[133 rows x 1 columns]"
      ]
     },
     "execution_count": 17,
     "metadata": {},
     "output_type": "execute_result"
    }
   ],
   "source": [
    "# group by category\n",
    "cat_Two = dfMerge.groupby(['category']).size().to_frame('reviewCnt')\n",
    "cat_Two = cat_Two.sort_values(by='reviewCnt', ascending=False)        \n",
    "display(cat_Two.shape)\n",
    "# show top records\n",
    "cat_Two.head(133)"
   ]
  },
  {
   "cell_type": "code",
   "execution_count": 18,
   "id": "caf7b7f4",
   "metadata": {
    "colab": {
     "base_uri": "https://localhost:8080/",
     "height": 0
    },
    "executionInfo": {
     "elapsed": 311,
     "status": "ok",
     "timestamp": 1638630094407,
     "user": {
      "displayName": "Michael Vasiliou",
      "photoUrl": "https://lh3.googleusercontent.com/a/default-user=s64",
      "userId": "07079983815732559270"
     },
     "user_tz": 300
    },
    "id": "caf7b7f4",
    "outputId": "2a1c1f38-368d-4020-9239-f8c03a7e0cdd"
   },
   "outputs": [
    {
     "data": {
      "text/plain": [
       "(572547, 1)"
      ]
     },
     "metadata": {},
     "output_type": "display_data"
    },
    {
     "data": {
      "text/html": [
       "<div>\n",
       "<style scoped>\n",
       "    .dataframe tbody tr th:only-of-type {\n",
       "        vertical-align: middle;\n",
       "    }\n",
       "\n",
       "    .dataframe tbody tr th {\n",
       "        vertical-align: top;\n",
       "    }\n",
       "\n",
       "    .dataframe thead th {\n",
       "        text-align: right;\n",
       "    }\n",
       "</style>\n",
       "<table border=\"1\" class=\"dataframe\">\n",
       "  <thead>\n",
       "    <tr style=\"text-align: right;\">\n",
       "      <th></th>\n",
       "      <th>reviewCnt</th>\n",
       "    </tr>\n",
       "    <tr>\n",
       "      <th>title</th>\n",
       "      <th></th>\n",
       "    </tr>\n",
       "  </thead>\n",
       "  <tbody>\n",
       "    <tr>\n",
       "      <th>Anker Astro E1 5200mAh Candy bar-Sized Ultra Compact Portable Charger (External Battery Power Bank) with High-Speed Charging PowerIQ Technology (Black)</th>\n",
       "      <td>17732</td>\n",
       "    </tr>\n",
       "    <tr>\n",
       "      <th>Portable Chargers 16750 RAVPower 16750mAh External Battery Pack 4.5A Dual USB Output External Phone Charger Battery Bank Power Bank (iSmart 2.0 Tech) for Nintendo Switch, iPhone 7, Galaxy S8 - White</th>\n",
       "      <td>13560</td>\n",
       "    </tr>\n",
       "    <tr>\n",
       "      <th>Anker PowerCore+ Mini, 3350mAh Lipstick-Sized Portable Charger (Premium Aluminum Power Bank), One of The Most Compact External Batteries, Compatible with iPhone Xs/XR, Android Smartphones and More</th>\n",
       "      <td>13248</td>\n",
       "    </tr>\n",
       "    <tr>\n",
       "      <th>Anker PowerCore 20100 - Ultra High Capacity Power Bank with 4.8A Output, PowerIQ Technology for iPhone, iPad and Samsung Galaxy and More (Black)</th>\n",
       "      <td>13063</td>\n",
       "    </tr>\n",
       "    <tr>\n",
       "      <th>Maxboost iPhone 6 Screen Protector, [3 Pack ] iPhone 6 Tempered Glass Screen Protectors 0.2mm Ballistic Glass For Apple iPhone 6 4.7 inch ONLY and Work with most Protective Case</th>\n",
       "      <td>11227</td>\n",
       "    </tr>\n",
       "  </tbody>\n",
       "</table>\n",
       "</div>"
      ],
      "text/plain": [
       "                                                    reviewCnt\n",
       "title                                                        \n",
       "Anker Astro E1 5200mAh Candy bar-Sized Ultra Co...      17732\n",
       "Portable Chargers 16750 RAVPower 16750mAh Exter...      13560\n",
       "Anker PowerCore+ Mini, 3350mAh Lipstick-Sized P...      13248\n",
       "Anker PowerCore 20100 - Ultra High Capacity Pow...      13063\n",
       "Maxboost iPhone 6 Screen Protector, [3 Pack ] i...      11227"
      ]
     },
     "execution_count": 18,
     "metadata": {},
     "output_type": "execute_result"
    }
   ],
   "source": [
    "# group by category\n",
    "cat_Three = dfMerge.groupby(['title']).size().to_frame('reviewCnt')\n",
    "cat_Three = cat_Three.sort_values(by='reviewCnt', ascending=False)        \n",
    "display(cat_Three.shape)\n",
    "# show top 5 records\n",
    "cat_Three.head(5)"
   ]
  },
  {
   "cell_type": "code",
   "execution_count": 19,
   "id": "20efe945",
   "metadata": {
    "colab": {
     "base_uri": "https://localhost:8080/",
     "height": 0
    },
    "executionInfo": {
     "elapsed": 999,
     "status": "ok",
     "timestamp": 1638630095403,
     "user": {
      "displayName": "Michael Vasiliou",
      "photoUrl": "https://lh3.googleusercontent.com/a/default-user=s64",
      "userId": "07079983815732559270"
     },
     "user_tz": 300
    },
    "id": "20efe945",
    "outputId": "edc693f3-0d62-46c9-ab26-73bcea57d4f5"
   },
   "outputs": [
    {
     "data": {
      "text/plain": [
       "(574417, 4)"
      ]
     },
     "metadata": {},
     "output_type": "display_data"
    },
    {
     "data": {
      "text/html": [
       "<div>\n",
       "<style scoped>\n",
       "    .dataframe tbody tr th:only-of-type {\n",
       "        vertical-align: middle;\n",
       "    }\n",
       "\n",
       "    .dataframe tbody tr th {\n",
       "        vertical-align: top;\n",
       "    }\n",
       "\n",
       "    .dataframe thead th {\n",
       "        text-align: right;\n",
       "    }\n",
       "</style>\n",
       "<table border=\"1\" class=\"dataframe\">\n",
       "  <thead>\n",
       "    <tr style=\"text-align: right;\">\n",
       "      <th></th>\n",
       "      <th>main_cat</th>\n",
       "      <th>category</th>\n",
       "      <th>title</th>\n",
       "      <th>reviewCnt</th>\n",
       "    </tr>\n",
       "  </thead>\n",
       "  <tbody>\n",
       "    <tr>\n",
       "      <th>0</th>\n",
       "      <td>Cell Phones &amp; Accessories</td>\n",
       "      <td>['Cell Phones &amp; Accessories', 'Accessories', '...</td>\n",
       "      <td>Anker Astro E1 5200mAh Candy bar-Sized Ultra C...</td>\n",
       "      <td>17732</td>\n",
       "    </tr>\n",
       "    <tr>\n",
       "      <th>1</th>\n",
       "      <td>Cell Phones &amp; Accessories</td>\n",
       "      <td>['Cell Phones &amp; Accessories', 'Accessories', '...</td>\n",
       "      <td>Portable Chargers 16750 RAVPower 16750mAh Exte...</td>\n",
       "      <td>13560</td>\n",
       "    </tr>\n",
       "    <tr>\n",
       "      <th>2</th>\n",
       "      <td>Cell Phones &amp; Accessories</td>\n",
       "      <td>['Cell Phones &amp; Accessories', 'Accessories', '...</td>\n",
       "      <td>Anker PowerCore+ Mini, 3350mAh Lipstick-Sized ...</td>\n",
       "      <td>13248</td>\n",
       "    </tr>\n",
       "    <tr>\n",
       "      <th>3</th>\n",
       "      <td>Cell Phones &amp; Accessories</td>\n",
       "      <td>['Cell Phones &amp; Accessories', 'Accessories', '...</td>\n",
       "      <td>Anker PowerCore 20100 - Ultra High Capacity Po...</td>\n",
       "      <td>13063</td>\n",
       "    </tr>\n",
       "    <tr>\n",
       "      <th>4</th>\n",
       "      <td>All Electronics</td>\n",
       "      <td>['Cell Phones &amp; Accessories', 'Accessories', '...</td>\n",
       "      <td>Maxboost iPhone 6 Screen Protector, [3 Pack ] ...</td>\n",
       "      <td>11227</td>\n",
       "    </tr>\n",
       "  </tbody>\n",
       "</table>\n",
       "</div>"
      ],
      "text/plain": [
       "                    main_cat  \\\n",
       "0  Cell Phones & Accessories   \n",
       "1  Cell Phones & Accessories   \n",
       "2  Cell Phones & Accessories   \n",
       "3  Cell Phones & Accessories   \n",
       "4            All Electronics   \n",
       "\n",
       "                                            category  \\\n",
       "0  ['Cell Phones & Accessories', 'Accessories', '...   \n",
       "1  ['Cell Phones & Accessories', 'Accessories', '...   \n",
       "2  ['Cell Phones & Accessories', 'Accessories', '...   \n",
       "3  ['Cell Phones & Accessories', 'Accessories', '...   \n",
       "4  ['Cell Phones & Accessories', 'Accessories', '...   \n",
       "\n",
       "                                               title  reviewCnt  \n",
       "0  Anker Astro E1 5200mAh Candy bar-Sized Ultra C...      17732  \n",
       "1  Portable Chargers 16750 RAVPower 16750mAh Exte...      13560  \n",
       "2  Anker PowerCore+ Mini, 3350mAh Lipstick-Sized ...      13248  \n",
       "3  Anker PowerCore 20100 - Ultra High Capacity Po...      13063  \n",
       "4  Maxboost iPhone 6 Screen Protector, [3 Pack ] ...      11227  "
      ]
     },
     "execution_count": 19,
     "metadata": {},
     "output_type": "execute_result"
    }
   ],
   "source": [
    "# group by category, count distinct subreddits and posts\n",
    "cat_All = dfMerge.groupby(['main_cat','category', 'title']).size().to_frame('reviewCnt')\n",
    "cat_All = cat_All.sort_values(by='reviewCnt', ascending=False)\n",
    "cat_All = cat_All.reset_index()\n",
    "display(cat_All.shape)    \n",
    "# show top 5 records\n",
    "cat_All.head(5)"
   ]
  },
  {
   "cell_type": "code",
   "execution_count": 20,
   "id": "27bdb4f0",
   "metadata": {
    "colab": {
     "base_uri": "https://localhost:8080/"
    },
    "executionInfo": {
     "elapsed": 126,
     "status": "ok",
     "timestamp": 1638630095525,
     "user": {
      "displayName": "Michael Vasiliou",
      "photoUrl": "https://lh3.googleusercontent.com/a/default-user=s64",
      "userId": "07079983815732559270"
     },
     "user_tz": 300
    },
    "id": "27bdb4f0",
    "outputId": "3e36b8e3-d3d7-476d-fa3f-156e97afaeff"
   },
   "outputs": [
    {
     "data": {
      "text/plain": [
       "1660"
      ]
     },
     "execution_count": 20,
     "metadata": {},
     "output_type": "execute_result"
    }
   ],
   "source": [
    "cat_All['category'].nunique()"
   ]
  },
  {
   "cell_type": "code",
   "execution_count": 21,
   "id": "709e1070",
   "metadata": {
    "colab": {
     "base_uri": "https://localhost:8080/"
    },
    "executionInfo": {
     "elapsed": 337,
     "status": "ok",
     "timestamp": 1638630095860,
     "user": {
      "displayName": "Michael Vasiliou",
      "photoUrl": "https://lh3.googleusercontent.com/a/default-user=s64",
      "userId": "07079983815732559270"
     },
     "user_tz": 300
    },
    "id": "709e1070",
    "outputId": "f60d3749-2f16-43b6-d08c-30594367da35"
   },
   "outputs": [
    {
     "name": "stderr",
     "output_type": "stream",
     "text": [
      "/home/magni/python_env/ML1010_env2/lib64/python3.7/site-packages/ipykernel_launcher.py:12: SettingWithCopyWarning: \n",
      "A value is trying to be set on a copy of a slice from a DataFrame.\n",
      "Try using .loc[row_indexer,col_indexer] = value instead\n",
      "\n",
      "See the caveats in the documentation: https://pandas.pydata.org/pandas-docs/stable/user_guide/indexing.html#returning-a-view-versus-a-copy\n",
      "  if sys.path[0] == '':\n"
     ]
    },
    {
     "name": "stdout",
     "output_type": "stream",
     "text": [
      "<class 'pandas.core.frame.DataFrame'>\n",
      "RangeIndex: 512237 entries, 0 to 512236\n",
      "Data columns (total 30 columns):\n",
      " #   Column           Non-Null Count   Dtype         \n",
      "---  ------           --------------   -----         \n",
      " 0   overall          512237 non-null  float64       \n",
      " 1   verified         512237 non-null  bool          \n",
      " 2   reviewTime       512237 non-null  datetime64[ns]\n",
      " 3   reviewerID       512237 non-null  object        \n",
      " 4   asin             512237 non-null  object        \n",
      " 5   reviewerName     512204 non-null  object        \n",
      " 6   reviewText       511900 non-null  object        \n",
      " 7   summary          512067 non-null  object        \n",
      " 8   unixReviewTime   512237 non-null  int64         \n",
      " 9   vote             105628 non-null  object        \n",
      " 10  image            4444 non-null    object        \n",
      " 11  style            217187 non-null  object        \n",
      " 12  category         512237 non-null  string        \n",
      " 13  tech1            512237 non-null  object        \n",
      " 14  description      512237 non-null  object        \n",
      " 15  fit              512237 non-null  object        \n",
      " 16  title            512237 non-null  object        \n",
      " 17  also_buy         512237 non-null  object        \n",
      " 18  tech2            512237 non-null  object        \n",
      " 19  brand            512237 non-null  object        \n",
      " 20  feature          512237 non-null  object        \n",
      " 21  rank             512237 non-null  object        \n",
      " 22  also_view        512237 non-null  object        \n",
      " 23  details          512237 non-null  object        \n",
      " 24  main_cat         512237 non-null  object        \n",
      " 25  similar_item     512237 non-null  object        \n",
      " 26  date             512237 non-null  object        \n",
      " 27  price            512237 non-null  object        \n",
      " 28  imageURL         512237 non-null  object        \n",
      " 29  imageURLHighRes  512237 non-null  object        \n",
      "dtypes: bool(1), datetime64[ns](1), float64(1), int64(1), object(25), string(1)\n",
      "memory usage: 113.8+ MB\n"
     ]
    }
   ],
   "source": [
    "#Trim and fix column Dtypes for saving to database\n",
    "value_list=[\"['Cell Phones & Accessories', 'Cell Phones']\",\n",
    "           \"['Cell Phones & Accessories', 'Cell Phones', 'Unlocked Cell Phones']\",\n",
    "           \"['Cell Phones & Accessories', 'Cell Phones', 'Carrier Cell Phones']\" \n",
    "           ]\n",
    "#Trim records\n",
    "dfTrim = dfMerge.loc[(dfMerge.category.isin(value_list))]\n",
    "#dfTrim = dfTrim.drop(dfTrim.columns[5], axis=1) #drop the Style column\n",
    "dfTrim.reset_index(inplace=True, drop=True)\n",
    "\n",
    "#change the review to a date time\n",
    "dfTrim['reviewTime'] = pd.to_datetime(dfTrim['reviewTime'], format=\"%m %d, %Y\")\n",
    "\n",
    "#Convert all columns that are objects to string.\n",
    "#having an issue writing it to the database with type issues. \n",
    "#objectColumns = list(dfTrim.select_dtypes(['object']))\n",
    "#dfTrim[objectColumns] = dfTrim[objectColumns].astype(\"string\")\n",
    "\n",
    "dfTrim.info()                    "
   ]
  },
  {
   "cell_type": "code",
   "execution_count": null,
   "id": "5DNbnheubzHv",
   "metadata": {
    "colab": {
     "base_uri": "https://localhost:8080/",
     "height": 0
    },
    "executionInfo": {
     "elapsed": 16,
     "status": "ok",
     "timestamp": 1638630095861,
     "user": {
      "displayName": "Michael Vasiliou",
      "photoUrl": "https://lh3.googleusercontent.com/a/default-user=s64",
      "userId": "07079983815732559270"
     },
     "user_tz": 300
    },
    "id": "5DNbnheubzHv",
    "outputId": "b6b79048-f819-497b-9e9f-f925e58c64fd"
   },
   "outputs": [],
   "source": [
    "dfTrim.head(5)"
   ]
  },
  {
   "cell_type": "markdown",
   "id": "3PXF3qPDT-4R",
   "metadata": {
    "id": "3PXF3qPDT-4R"
   },
   "source": [
    "# Export option exploration"
   ]
  },
  {
   "cell_type": "code",
   "execution_count": null,
   "id": "5ae8e44d",
   "metadata": {
    "executionInfo": {
     "elapsed": 108,
     "status": "ok",
     "timestamp": 1638630133663,
     "user": {
      "displayName": "Michael Vasiliou",
      "photoUrl": "https://lh3.googleusercontent.com/a/default-user=s64",
      "userId": "07079983815732559270"
     },
     "user_tz": 300
    },
    "id": "5ae8e44d"
   },
   "outputs": [],
   "source": [
    "#import sqlite3\n",
    "\n",
    "#con = sqlite3.connect('trimmed_cellphone.db')\n",
    "#dfTrim.to_sql('src_data', con=con, if_exists='replace')\n",
    "#con.commit()\n",
    "#con.close()\n",
    "#DB Size is 2.14GB"
   ]
  },
  {
   "cell_type": "code",
   "execution_count": null,
   "id": "NUEXv4fNIRH4",
   "metadata": {
    "executionInfo": {
     "elapsed": 3,
     "status": "ok",
     "timestamp": 1638630133761,
     "user": {
      "displayName": "Michael Vasiliou",
      "photoUrl": "https://lh3.googleusercontent.com/a/default-user=s64",
      "userId": "07079983815732559270"
     },
     "user_tz": 300
    },
    "id": "NUEXv4fNIRH4"
   },
   "outputs": [],
   "source": [
    "#dfTrim.to_csv('trimmed_cellphone.csv.gz', compression='gzip')\n",
    "#GZip csv is 224MB"
   ]
  },
  {
   "cell_type": "code",
   "execution_count": null,
   "id": "SP7Bn6RVUygf",
   "metadata": {
    "executionInfo": {
     "elapsed": 3,
     "status": "ok",
     "timestamp": 1638630133762,
     "user": {
      "displayName": "Michael Vasiliou",
      "photoUrl": "https://lh3.googleusercontent.com/a/default-user=s64",
      "userId": "07079983815732559270"
     },
     "user_tz": 300
    },
    "id": "SP7Bn6RVUygf"
   },
   "outputs": [],
   "source": [
    "#dfTrim.to_pickle('trimmed_cellphone.pkl')\n",
    "#296.4MB"
   ]
  },
  {
   "cell_type": "markdown",
   "id": "nqJs3J24wbWw",
   "metadata": {
    "id": "nqJs3J24wbWw"
   },
   "source": [
    "# Data Cleaning"
   ]
  },
  {
   "cell_type": "code",
   "execution_count": 22,
   "id": "L0MCYsUVwaKe",
   "metadata": {
    "colab": {
     "base_uri": "https://localhost:8080/"
    },
    "executionInfo": {
     "elapsed": 233,
     "status": "ok",
     "timestamp": 1638630137124,
     "user": {
      "displayName": "Michael Vasiliou",
      "photoUrl": "https://lh3.googleusercontent.com/a/default-user=s64",
      "userId": "07079983815732559270"
     },
     "user_tz": 300
    },
    "id": "L0MCYsUVwaKe",
    "outputId": "9b51dc60-caae-40f4-9ab6-4f98df9f0c60"
   },
   "outputs": [
    {
     "name": "stdout",
     "output_type": "stream",
     "text": [
      "<class 'pandas.core.frame.DataFrame'>\n",
      "RangeIndex: 512237 entries, 0 to 512236\n",
      "Data columns (total 30 columns):\n",
      " #   Column           Non-Null Count   Dtype         \n",
      "---  ------           --------------   -----         \n",
      " 0   overall          512237 non-null  float64       \n",
      " 1   verified         512237 non-null  bool          \n",
      " 2   reviewTime       512237 non-null  datetime64[ns]\n",
      " 3   reviewerID       512237 non-null  object        \n",
      " 4   asin             512237 non-null  object        \n",
      " 5   reviewerName     512204 non-null  object        \n",
      " 6   reviewText       511900 non-null  object        \n",
      " 7   summary          512067 non-null  object        \n",
      " 8   unixReviewTime   512237 non-null  int64         \n",
      " 9   vote             105628 non-null  object        \n",
      " 10  image            4444 non-null    object        \n",
      " 11  style            217187 non-null  object        \n",
      " 12  category         512237 non-null  string        \n",
      " 13  tech1            512237 non-null  object        \n",
      " 14  description      512237 non-null  object        \n",
      " 15  fit              512237 non-null  object        \n",
      " 16  title            512237 non-null  object        \n",
      " 17  also_buy         512237 non-null  object        \n",
      " 18  tech2            512237 non-null  object        \n",
      " 19  brand            512237 non-null  object        \n",
      " 20  feature          512237 non-null  object        \n",
      " 21  rank             512237 non-null  object        \n",
      " 22  also_view        512237 non-null  object        \n",
      " 23  details          512237 non-null  object        \n",
      " 24  main_cat         512237 non-null  object        \n",
      " 25  similar_item     512237 non-null  object        \n",
      " 26  date             512237 non-null  object        \n",
      " 27  price            512237 non-null  object        \n",
      " 28  imageURL         512237 non-null  object        \n",
      " 29  imageURLHighRes  512237 non-null  object        \n",
      "dtypes: bool(1), datetime64[ns](1), float64(1), int64(1), object(25), string(1)\n",
      "memory usage: 113.8+ MB\n"
     ]
    }
   ],
   "source": [
    "pd.set_option('mode.chained_assignment', None)\n",
    "dfTrim.info()"
   ]
  },
  {
   "cell_type": "code",
   "execution_count": 23,
   "id": "fw4gYSnaxpl3",
   "metadata": {
    "colab": {
     "base_uri": "https://localhost:8080/"
    },
    "executionInfo": {
     "elapsed": 388,
     "status": "ok",
     "timestamp": 1638630142828,
     "user": {
      "displayName": "Michael Vasiliou",
      "photoUrl": "https://lh3.googleusercontent.com/a/default-user=s64",
      "userId": "07079983815732559270"
     },
     "user_tz": 300
    },
    "id": "fw4gYSnaxpl3",
    "outputId": "d8b7d8f1-da4b-4b1b-8a21-7f315c11ecce"
   },
   "outputs": [
    {
     "data": {
      "text/plain": [
       "0"
      ]
     },
     "execution_count": 23,
     "metadata": {},
     "output_type": "execute_result"
    }
   ],
   "source": [
    "#Step 1 - Add in column for GUID\n",
    "import uuid\n",
    "dfTrim['uuid'] = [uuid.uuid4() for _ in range(len(dfTrim.index))]\n",
    "\n",
    "dfTrim.uuid.duplicated().sum()"
   ]
  },
  {
   "cell_type": "code",
   "execution_count": 24,
   "id": "HMtgc5tX3bH6",
   "metadata": {
    "executionInfo": {
     "elapsed": 110,
     "status": "ok",
     "timestamp": 1638630148394,
     "user": {
      "displayName": "Michael Vasiliou",
      "photoUrl": "https://lh3.googleusercontent.com/a/default-user=s64",
      "userId": "07079983815732559270"
     },
     "user_tz": 300
    },
    "id": "HMtgc5tX3bH6"
   },
   "outputs": [],
   "source": [
    "#Step 2 - Add in year column\n",
    "dfTrim['reviewYear'] = dfTrim['reviewTime'].dt.year"
   ]
  },
  {
   "cell_type": "code",
   "execution_count": 25,
   "id": "1D4khco255hs",
   "metadata": {
    "colab": {
     "base_uri": "https://localhost:8080/",
     "height": 486
    },
    "executionInfo": {
     "elapsed": 224,
     "status": "ok",
     "timestamp": 1638630195597,
     "user": {
      "displayName": "Michael Vasiliou",
      "photoUrl": "https://lh3.googleusercontent.com/a/default-user=s64",
      "userId": "07079983815732559270"
     },
     "user_tz": 300
    },
    "id": "1D4khco255hs",
    "outputId": "603283d1-3e74-4851-9069-a2c2c7b22b61"
   },
   "outputs": [
    {
     "name": "stdout",
     "output_type": "stream",
     "text": [
      "<class 'pandas.core.frame.DataFrame'>\n",
      "RangeIndex: 512237 entries, 0 to 512236\n",
      "Data columns (total 18 columns):\n",
      " #   Column       Non-Null Count   Dtype         \n",
      "---  ------       --------------   -----         \n",
      " 0   uuid         512237 non-null  object        \n",
      " 1   overall      512237 non-null  float64       \n",
      " 2   verified     512237 non-null  bool          \n",
      " 3   reviewTime   512237 non-null  datetime64[ns]\n",
      " 4   reviewYear   512237 non-null  int64         \n",
      " 5   reviewerID   512237 non-null  object        \n",
      " 6   asin         512237 non-null  object        \n",
      " 7   style        217187 non-null  object        \n",
      " 8   reviewText   511900 non-null  object        \n",
      " 9   summary      512067 non-null  object        \n",
      " 10  vote         105628 non-null  object        \n",
      " 11  category     512237 non-null  string        \n",
      " 12  description  512237 non-null  object        \n",
      " 13  title        512237 non-null  object        \n",
      " 14  brand        512237 non-null  object        \n",
      " 15  feature      512237 non-null  object        \n",
      " 16  main_cat     512237 non-null  object        \n",
      " 17  price        512237 non-null  object        \n",
      "dtypes: bool(1), datetime64[ns](1), float64(1), int64(1), object(13), string(1)\n",
      "memory usage: 66.9+ MB\n"
     ]
    },
    {
     "data": {
      "text/plain": [
       "(512237, 32)"
      ]
     },
     "metadata": {},
     "output_type": "display_data"
    },
    {
     "data": {
      "text/plain": [
       "(512237, 32)"
      ]
     },
     "metadata": {},
     "output_type": "display_data"
    }
   ],
   "source": [
    "#Step 3 - Trim to only chosen columns\n",
    "columns = ['uuid', 'overall', 'verified', 'reviewTime', 'reviewYear',\n",
    "            'reviewerID', 'asin', 'style', 'reviewText',\n",
    "            'summary', 'vote','category',  'description',\n",
    "            'title', 'brand', 'feature',  'main_cat','price']\n",
    "dfExport = dfTrim[columns]\n",
    "dfExport.info()\n",
    "display(dfTrim.shape)\n",
    "dfExport.drop_duplicates\n",
    "display(dfTrim.shape)"
   ]
  },
  {
   "cell_type": "code",
   "execution_count": 26,
   "id": "Se3VWxJ48OSA",
   "metadata": {
    "colab": {
     "base_uri": "https://localhost:8080/"
    },
    "executionInfo": {
     "elapsed": 205,
     "status": "ok",
     "timestamp": 1638630199912,
     "user": {
      "displayName": "Michael Vasiliou",
      "photoUrl": "https://lh3.googleusercontent.com/a/default-user=s64",
      "userId": "07079983815732559270"
     },
     "user_tz": 300
    },
    "id": "Se3VWxJ48OSA",
    "outputId": "962a90a4-4616-49d0-eeb5-dd451ccc02a2"
   },
   "outputs": [
    {
     "name": "stdout",
     "output_type": "stream",
     "text": [
      "<class 'pandas.core.frame.DataFrame'>\n",
      "RangeIndex: 506922 entries, 0 to 506921\n",
      "Data columns (total 18 columns):\n",
      " #   Column       Non-Null Count   Dtype         \n",
      "---  ------       --------------   -----         \n",
      " 0   uuid         506922 non-null  object        \n",
      " 1   overall      506922 non-null  float64       \n",
      " 2   verified     506922 non-null  bool          \n",
      " 3   reviewTime   506922 non-null  datetime64[ns]\n",
      " 4   reviewYear   506922 non-null  int64         \n",
      " 5   reviewerID   506922 non-null  object        \n",
      " 6   asin         506922 non-null  object        \n",
      " 7   style        215656 non-null  object        \n",
      " 8   reviewText   506592 non-null  object        \n",
      " 9   summary      506757 non-null  object        \n",
      " 10  vote         104004 non-null  object        \n",
      " 11  category     506922 non-null  string        \n",
      " 12  description  506922 non-null  object        \n",
      " 13  title        506922 non-null  object        \n",
      " 14  brand        506922 non-null  object        \n",
      " 15  feature      506922 non-null  object        \n",
      " 16  main_cat     506922 non-null  object        \n",
      " 17  price        506922 non-null  object        \n",
      "dtypes: bool(1), datetime64[ns](1), float64(1), int64(1), object(13), string(1)\n",
      "memory usage: 66.2+ MB\n"
     ]
    }
   ],
   "source": [
    "#Step 4 - Remove identified data we don't want\n",
    "#identified in python book 02 during data column explore\n",
    "value_list=[\"Cell Phones & Accessories\"] \n",
    "#Trim records\n",
    "dfExport = dfExport.loc[(dfExport.main_cat.isin(value_list))]\n",
    "dfExport.reset_index(inplace=True, drop=True)\n",
    "dfExport.info()"
   ]
  },
  {
   "cell_type": "code",
   "execution_count": 27,
   "id": "uRiSvGNRl83S",
   "metadata": {
    "colab": {
     "base_uri": "https://localhost:8080/"
    },
    "executionInfo": {
     "elapsed": 425,
     "status": "ok",
     "timestamp": 1638630211867,
     "user": {
      "displayName": "Michael Vasiliou",
      "photoUrl": "https://lh3.googleusercontent.com/a/default-user=s64",
      "userId": "07079983815732559270"
     },
     "user_tz": 300
    },
    "id": "uRiSvGNRl83S",
    "outputId": "1808eb87-6c3e-428b-cc8c-365fc31ee290"
   },
   "outputs": [
    {
     "name": "stdout",
     "output_type": "stream",
     "text": [
      "<class 'pandas.core.frame.DataFrame'>\n",
      "RangeIndex: 506438 entries, 0 to 506437\n",
      "Data columns (total 18 columns):\n",
      " #   Column       Non-Null Count   Dtype         \n",
      "---  ------       --------------   -----         \n",
      " 0   uuid         506438 non-null  object        \n",
      " 1   overall      506438 non-null  float64       \n",
      " 2   verified     506438 non-null  bool          \n",
      " 3   reviewTime   506438 non-null  datetime64[ns]\n",
      " 4   reviewYear   506438 non-null  int64         \n",
      " 5   reviewerID   506438 non-null  object        \n",
      " 6   asin         506438 non-null  object        \n",
      " 7   style        215400 non-null  object        \n",
      " 8   reviewText   506438 non-null  object        \n",
      " 9   summary      506438 non-null  object        \n",
      " 10  vote         103930 non-null  object        \n",
      " 11  category     506438 non-null  string        \n",
      " 12  description  506438 non-null  object        \n",
      " 13  title        506438 non-null  object        \n",
      " 14  brand        506438 non-null  object        \n",
      " 15  feature      506438 non-null  object        \n",
      " 16  main_cat     506438 non-null  object        \n",
      " 17  price        506438 non-null  object        \n",
      "dtypes: bool(1), datetime64[ns](1), float64(1), int64(1), object(13), string(1)\n",
      "memory usage: 66.2+ MB\n"
     ]
    }
   ],
   "source": [
    "#Step 5 - Drop null values\n",
    "\n",
    "#drop all nulls in reviewText\n",
    "dfExport = dfExport.dropna(subset=['reviewText']) \n",
    "\n",
    "#drop all nulls in \"overall\". Shouldn't be null but in case data changes\n",
    "dfExport = dfExport.dropna(subset=['overall']) \n",
    "\n",
    "#drop all nulls in \"summary\". Shouldn't be null but in case data changes\n",
    "dfExport = dfExport.dropna(subset=['summary']) \n",
    "\n",
    "dfExport.reset_index(drop=True, inplace=True)\n",
    "\n",
    "dfExport.info()\n",
    "\n",
    "\n"
   ]
  },
  {
   "cell_type": "code",
   "execution_count": 28,
   "id": "009b6e54",
   "metadata": {
    "executionInfo": {
     "elapsed": 1650,
     "status": "ok",
     "timestamp": 1638630378970,
     "user": {
      "displayName": "Michael Vasiliou",
      "photoUrl": "https://lh3.googleusercontent.com/a/default-user=s64",
      "userId": "07079983815732559270"
     },
     "user_tz": 300
    },
    "id": "009b6e54"
   },
   "outputs": [],
   "source": [
    "dfExport.to_pickle(jarvis.DATA_DIR + '/02_working/01_Cellphone_full.pkl', protocol=4)"
   ]
  },
  {
   "cell_type": "code",
   "execution_count": 30,
   "id": "753e76b0-dbca-452b-974e-01c773bc5775",
   "metadata": {},
   "outputs": [],
   "source": [
    "dfExport['overall_posneg'] = dfExport.overall.apply(lambda x: 1 if x > 3 else 0)"
   ]
  },
  {
   "cell_type": "code",
   "execution_count": 32,
   "id": "d3f439f3-7551-4234-bd3c-ef38d6757071",
   "metadata": {},
   "outputs": [
    {
     "name": "stderr",
     "output_type": "stream",
     "text": [
      "Expanding column: reviewText: 506438it [54:48, 154.02it/s]\n"
     ]
    }
   ],
   "source": [
    "cwutils.expandColumn(dfExport, 'reviewText')"
   ]
  },
  {
   "cell_type": "code",
   "execution_count": 33,
   "id": "16be9cfc-1af6-45ba-87d4-d6a94be41115",
   "metadata": {},
   "outputs": [
    {
     "name": "stdout",
     "output_type": "stream",
     "text": [
      "Loading sentence transformer: sentence-transformers/multi-qa-distilbert-cos-v1\n",
      "sentence-transformers/multi-qa-distilbert-cos-v1 sentence transformer has been loaded\n",
      "Generating encodings\n"
     ]
    },
    {
     "name": "stderr",
     "output_type": "stream",
     "text": [
      "100%|█████████████████████████████████| 506438/506438 [2:38:46<00:00, 53.16it/s]"
     ]
    },
    {
     "name": "stdout",
     "output_type": "stream",
     "text": [
      "sentence-transformers/multi-qa-distilbert-cos-v1 encodings completed\n"
     ]
    },
    {
     "name": "stderr",
     "output_type": "stream",
     "text": [
      "\n"
     ]
    }
   ],
   "source": [
    "#Bert Encode Column\n",
    "cwutils.columnEncode(data=dfExport,\n",
    "                   columnName='reviewText_lemma',\n",
    "                   #transformerType='sentence-transformers/distilbert-base-nli-mean-token',\n",
    "                    transformerType = 'sentence-transformers/multi-qa-distilbert-cos-v1',\n",
    "                   colSuffix='_bert')\n"
   ]
  },
  {
   "cell_type": "code",
   "execution_count": 34,
   "id": "23c88520-bf42-4c30-bc1a-71af0a055b4d",
   "metadata": {},
   "outputs": [],
   "source": [
    "dfExport.to_pickle(jarvis.DATA_DIR + '/02_working/01_Cellphone_full.pkl.gz', protocol=4)"
   ]
  },
  {
   "cell_type": "code",
   "execution_count": 38,
   "id": "21b72dc5-2223-405a-a6f4-7ed631015e4d",
   "metadata": {},
   "outputs": [
    {
     "name": "stdout",
     "output_type": "stream",
     "text": [
      "Scanning [/home/magni//ML_Root/project_root/data/ML1010-Group-Project] for data files to compress\n",
      "======> No files found in directory.\n",
      "\n",
      "Scanning [/home/magni//ML_Root/project_root/data/ML1010-Group-Project/01_original] for data files to compress\n",
      "======> 3 files found in directory.\n",
      "======> 0 file(s) have been compressed.\n",
      "\n",
      "Scanning [/home/magni//ML_Root/project_root/data/ML1010-Group-Project/02_working] for data files to compress\n",
      "======> 40 files found in directory.\n",
      "======> compressing file: 01_Cellphone_full.pkl\n",
      "======> compressing file: 01_Cellphone_small.pkl\n",
      "======> compressing file: 01_NLP_ReviewText_small.pkl\n",
      "======> compressing file: 01_NLP_Summary_small.pkl\n",
      "======> compressing file: 01_NLP_Title_small.pkl\n",
      "======> compressing file: 02_Cellphone.pkl\n",
      "======> compressing file: 02_NLP_ReviewTextData.pkl\n",
      "======> compressing file: 02_NLP_SummaryData.pkl\n",
      "======> compressing file: 02_NLP_TitleData.pkl\n",
      "======> compressing file: 03_Cellphone.pkl\n",
      "======> compressing file: 03_NLP_ReviewTextData.pkl\n",
      "======> compressing file: 03_NLP_ReviewText_Narrow.pkl\n",
      "======> compressing file: 03_NLP_SummaryData.pkl\n",
      "======> compressing file: 03_NLP_TitleData.pkl\n",
      "======> compressing file: 04_NLP_ReviewText_Narrow.pkl\n",
      "======> compressing file: 05_NLP_ReviewText_Narrow.pkl\n",
      "======> compressing file: 05_NLP_ReviewText_Narrow_full.pkl\n",
      "======> 17 file(s) have been compressed.\n",
      "\n",
      "Scanning [/home/magni//ML_Root/project_root/data/ML1010-Group-Project/03_train] for data files to compress\n",
      "======> No files found in directory.\n",
      "\n",
      "Scanning [/home/magni//ML_Root/project_root/data/ML1010-Group-Project/04_test] for data files to compress\n",
      "======> No files found in directory.\n",
      "\n",
      "Scanning [/home/magni//ML_Root/project_root/data/ML1010-Group-Project/05_experiments] for data files to compress\n",
      "======> 13 files found in directory.\n",
      "======> 0 file(s) have been compressed.\n",
      "\n"
     ]
    }
   ],
   "source": [
    "#jarvis.showProjectDataFiles()\n",
    "jarvis.compressProjectDataFiles(removeOriginal=True)"
   ]
  }
 ],
 "metadata": {
  "colab": {
   "collapsed_sections": [
    "fVJrz4vi6Cy5",
    "hEdTR2FNx6kk",
    "6yoNqZOV0AeW",
    "3PXF3qPDT-4R"
   ],
   "name": "01_ML1010_GP_LoadAndStore.ipynb",
   "provenance": [],
   "toc_visible": true
  },
  "kernelspec": {
   "display_name": "Python 3",
   "language": "python",
   "name": "python3"
  },
  "language_info": {
   "codemirror_mode": {
    "name": "ipython",
    "version": 3
   },
   "file_extension": ".py",
   "mimetype": "text/x-python",
   "name": "python",
   "nbconvert_exporter": "python",
   "pygments_lexer": "ipython3",
   "version": "3.7.13"
  }
 },
 "nbformat": 4,
 "nbformat_minor": 5
}
