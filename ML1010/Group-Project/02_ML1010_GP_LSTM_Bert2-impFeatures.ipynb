{
 "cells": [
  {
   "cell_type": "markdown",
   "metadata": {
    "id": "pn8fyGevt62D",
    "tags": []
   },
   "source": [
    "# Configuration"
   ]
  },
  {
   "cell_type": "code",
   "execution_count": 1,
   "metadata": {
    "executionInfo": {
     "elapsed": 4,
     "status": "ok",
     "timestamp": 1639849468402,
     "user": {
      "displayName": "Michael Vasiliou",
      "photoUrl": "https://lh3.googleusercontent.com/a/default-user=s64",
      "userId": "07079983815732559270"
     },
     "user_tz": 300
    },
    "id": "XmHgvt15t48a"
   },
   "outputs": [],
   "source": [
    "# Parameters\n",
    "ENABLE_COLAB = False\n",
    "\n",
    "PROJECT_NAME = 'ML1010-Group-Project'\n",
    "EXPERIMENT_NAME = 'ReviewText_Lemma_Bert2 (LSTM)'\n",
    "FILE_NAME = '01_ML1010_GP_LSTM_Bert2_scratch'\n",
    "LOAD_FROM_EXP = False\n",
    "\n",
    "#Root Machine Learning Directory. Projects appear underneath\n",
    "GOOGLE_DRIVE_MOUNT = '/content/gdrive' \n",
    "COLAB_ROOT_DIR = GOOGLE_DRIVE_MOUNT + '/MyDrive/Colab Notebooks'\n",
    "COLAB_INIT_DIR = COLAB_ROOT_DIR + '/utility_files'\n",
    "\n",
    "LOCAL_ROOT_DIR = '/home/magni//ML_Root/project_root'\n",
    "LOCAL_INIT_DIR = LOCAL_ROOT_DIR + '/utility_files'"
   ]
  },
  {
   "cell_type": "markdown",
   "metadata": {
    "id": "1QZKvJBJ7rlc",
    "tags": []
   },
   "source": [
    "# Bootstrap Environment"
   ]
  },
  {
   "cell_type": "code",
   "execution_count": 2,
   "metadata": {
    "colab": {
     "base_uri": "https://localhost:8080/"
    },
    "executionInfo": {
     "elapsed": 19195,
     "status": "ok",
     "timestamp": 1639849489183,
     "user": {
      "displayName": "Michael Vasiliou",
      "photoUrl": "https://lh3.googleusercontent.com/a/default-user=s64",
      "userId": "07079983815732559270"
     },
     "user_tz": 300
    },
    "id": "jgMPxKZBzfFw",
    "outputId": "ae39cdc2-271b-4bdf-a71b-40f4a11dc389"
   },
   "outputs": [
    {
     "name": "stdout",
     "output_type": "stream",
     "text": [
      "Wha...where am I?\n",
      "I am awake now.\n",
      "\n",
      "I have set your current working directory to /home/magni/ML_Root/project_root/ML1010-Group-Project\n",
      "The current time is 19:53\n",
      "Hello sir. I hope you had dinner.\n",
      "\n"
     ]
    }
   ],
   "source": [
    "#add in support for utility file directory and importing\n",
    "import sys\n",
    "import os\n",
    "\n",
    "if ENABLE_COLAB:\n",
    "  #Need access to drive\n",
    "  from google.colab import drive\n",
    "  drive.mount(GOOGLE_DRIVE_MOUNT, force_remount=True)\n",
    "  \n",
    "  #add in utility directory to syspath to import \n",
    "  INIT_DIR = COLAB_INIT_DIR\n",
    "  sys.path.append(os.path.abspath(INIT_DIR))\n",
    "  \n",
    "  #Config environment variables\n",
    "  ROOT_DIR = COLAB_ROOT_DIR\n",
    "  \n",
    "else:\n",
    "  #add in utility directory to syspath to import\n",
    "  INIT_DIR = LOCAL_INIT_DIR\n",
    "  sys.path.append(os.path.abspath(INIT_DIR))\n",
    "  \n",
    "  #Config environment variables\n",
    "  ROOT_DIR = LOCAL_ROOT_DIR\n",
    "\n",
    "#Import Utility Support\n",
    "from jarvis import Jarvis\n",
    "jarvis = Jarvis(ROOT_DIR, PROJECT_NAME)\n",
    "\n",
    "import mv_python_utils as mvutils"
   ]
  },
  {
   "cell_type": "markdown",
   "metadata": {
    "id": "fVJrz4vi6Cy5",
    "tags": []
   },
   "source": [
    "# Setup Runtime Environment"
   ]
  },
  {
   "cell_type": "code",
   "execution_count": 3,
   "metadata": {
    "colab": {
     "base_uri": "https://localhost:8080/",
     "height": 764
    },
    "executionInfo": {
     "elapsed": 74966,
     "status": "ok",
     "timestamp": 1639849569348,
     "user": {
      "displayName": "Michael Vasiliou",
      "photoUrl": "https://lh3.googleusercontent.com/a/default-user=s64",
      "userId": "07079983815732559270"
     },
     "user_tz": 300
    },
    "id": "a4BLE0oU8Lhr",
    "outputId": "8f3ceedc-1d7f-4fd6-fe49-c47b8a549554"
   },
   "outputs": [
    {
     "data": {
      "text/plain": [
       "'Google Colab not enabled'"
      ]
     },
     "metadata": {},
     "output_type": "display_data"
    },
    {
     "name": "stderr",
     "output_type": "stream",
     "text": [
      "[nltk_data] Downloading package stopwords to /home/magni/nltk_data...\n",
      "[nltk_data]   Package stopwords is already up-to-date!\n"
     ]
    }
   ],
   "source": [
    "if ENABLE_COLAB:\n",
    "  #!pip install scipy -q\n",
    "  #!pip install scikit-learn -q\n",
    "  #!pip install pycaret -q\n",
    "  #!pip install matplotlib -q\n",
    "  #!pip install joblib -q\n",
    "  #!pip install pandasql -q\n",
    "  !pip install umap_learn -q\n",
    "  !pip install sentence_transformers -q\n",
    "  !pip install spacytextblob -q\n",
    "  !pip install flair -q\n",
    "  display('Google Colab enabled')\n",
    "else:\n",
    "  display('Google Colab not enabled')\n",
    "\n",
    "#Common imports\n",
    "import json\n",
    "import pandas as pd\n",
    "import numpy as np\n",
    "import matplotlib\n",
    "import re\n",
    "import nltk\n",
    "import matplotlib.pyplot as plt\n",
    "from sklearn.cluster import KMeans\n",
    "from sklearn import metrics\n",
    "from sklearn.datasets import load_digits\n",
    "from sklearn.model_selection import train_test_split as tts\n",
    "#from yellowbrick.classifier import ConfusionMatrix\n",
    "#from sklearn.linear_model import LogisticRegression\n",
    "from yellowbrick.target import ClassBalance\n",
    "from xgboost import XGBClassifier\n",
    "from sklearn.model_selection import train_test_split\n",
    "from sklearn.metrics import accuracy_score, confusion_matrix\n",
    "from sklearn.svm import SVC\n",
    "from sklearn.ensemble import RandomForestClassifier\n",
    "from sklearn.dummy import DummyClassifier\n",
    "\n",
    "nltk.download('stopwords')\n",
    "%matplotlib inline"
   ]
  },
  {
   "cell_type": "code",
   "execution_count": 4,
   "metadata": {
    "id": "hTpH7cxU5wag"
   },
   "outputs": [
    {
     "name": "stderr",
     "output_type": "stream",
     "text": [
      "2022-01-22 19:53:42.071072: W tensorflow/stream_executor/platform/default/dso_loader.cc:64] Could not load dynamic library 'libcudart.so.11.0'; dlerror: libcudart.so.11.0: cannot open shared object file: No such file or directory\n",
      "2022-01-22 19:53:42.071108: I tensorflow/stream_executor/cuda/cudart_stub.cc:29] Ignore above cudart dlerror if you do not have a GPU set up on your machine.\n"
     ]
    }
   ],
   "source": [
    "import cw_df_metric_utils as cwutils\n",
    "import importlib\n",
    "import DataPackage as dp\n",
    "import DataPackageSupport as dps\n",
    "import DataExperiment\n",
    "import DataExperimentSupport as des"
   ]
  },
  {
   "cell_type": "markdown",
   "metadata": {
    "id": "d1VKEszbvgpS",
    "tags": []
   },
   "source": [
    "# Load Data"
   ]
  },
  {
   "cell_type": "code",
   "execution_count": 5,
   "metadata": {
    "id": "LWHq10XLs5DV"
   },
   "outputs": [],
   "source": [
    "#axis_labels=[1,2,3,4,5]\n",
    "axis_labels=[0,1]\n",
    "\n",
    "# using a dummyclassifier as DataExperiment requires a classifier to load\n",
    "# and doesn't fully support Tensorflow models yet\n",
    "classifier = DummyClassifier()\n",
    "ANALYSIS_COL = 'reviewText_lemma_bert'\n",
    "UNIQUE_COL = 'uuid'\n",
    "TARGET_COL = 'overall_posneg'"
   ]
  },
  {
   "cell_type": "code",
   "execution_count": 12,
   "metadata": {},
   "outputs": [
    {
     "name": "stdout",
     "output_type": "stream",
     "text": [
      "DataExperiment summary:\n",
      "---> projectName: ML1010-Group-Project\n",
      "---> experimentName: ReviewText_Lemma_Bert2 (LSTM)\n",
      "---> isDataPackageLoaded: True\n",
      "---> isBaseModelLoaded: False\n",
      "---> isBaseModelPredicted: False\n",
      "---> isBaseModelLearningCurveCreated: False\n",
      "---> isFinalModelLoaded: False\n",
      "---> isFinalModelPredicted: False\n",
      "---> isFinalModelLearningCurveCreated: False\n",
      "---> isClassifierLoaded: True\n",
      "DummyClassifier()\n",
      "\n",
      "    DataPackage summary:\n",
      "    Attributes:\n",
      "    ---> uniqueColumn: uuid\n",
      "    ---> targetColumn: overall_posneg\n",
      "    Process:\n",
      "    ---> isBalanced: False\n",
      "    ---> isTrainTestSplit: False\n",
      "    Data:\n",
      "    ---> isOrigDataLoaded: True\n",
      "    ---> isTrainDataLoaded: False\n",
      "    ---> isTestDataLoaded: False\n"
     ]
    }
   ],
   "source": [
    "if LOAD_FROM_EXP:\n",
    "    #start from saved state\n",
    "    myExp = jarvis.loadExperiment(FILE_NAME)\n",
    "    myExp.display()\n",
    "\n",
    "else:\n",
    "    #start from source file and regenerate\n",
    "    testDf = pd.read_pickle(jarvis.DATA_DIR_WORK + \"/01_NL_ReviewText_All(new).pkl.gz\")\n",
    "\n",
    "    testDfBert = cwutils.getBertEncodeFrame(df=testDf,\n",
    "                                            bertColumn=ANALYSIS_COL,\n",
    "                                            uniqueColumn=UNIQUE_COL,\n",
    "                                            otherColumns=[TARGET_COL]\n",
    "                                            )\n",
    "  \n",
    "    myExp = DataExperiment.DataExperiment(projectName=PROJECT_NAME,\n",
    "                                          experimentName=EXPERIMENT_NAME,\n",
    "                                          origData=testDfBert,\n",
    "                                          uniqueColumn=UNIQUE_COL,\n",
    "                                          targetColumn=TARGET_COL,\n",
    "                                          classifier=classifier)"
   ]
  },
  {
   "cell_type": "code",
   "execution_count": 13,
   "metadata": {},
   "outputs": [
    {
     "data": {
      "image/png": "[encoded data removed]",
      "text/plain": [
       "<Figure size 432x288 with 1 Axes>"
      ]
     },
     "metadata": {
      "needs_background": "light"
     },
     "output_type": "display_data"
    },
    {
     "data": {
      "text/html": [
       "<div>\n",
       "<style scoped>\n",
       "    .dataframe tbody tr th:only-of-type {\n",
       "        vertical-align: middle;\n",
       "    }\n",
       "\n",
       "    .dataframe tbody tr th {\n",
       "        vertical-align: top;\n",
       "    }\n",
       "\n",
       "    .dataframe thead th {\n",
       "        text-align: right;\n",
       "    }\n",
       "</style>\n",
       "<table border=\"1\" class=\"dataframe\">\n",
       "  <thead>\n",
       "    <tr style=\"text-align: right;\">\n",
       "      <th></th>\n",
       "      <th>overall_posneg</th>\n",
       "      <th>ttlCol</th>\n",
       "    </tr>\n",
       "  </thead>\n",
       "  <tbody>\n",
       "    <tr>\n",
       "      <th>0</th>\n",
       "      <td>0</td>\n",
       "      <td>13440</td>\n",
       "    </tr>\n",
       "    <tr>\n",
       "      <th>1</th>\n",
       "      <td>1</td>\n",
       "      <td>49973</td>\n",
       "    </tr>\n",
       "  </tbody>\n",
       "</table>\n",
       "</div>"
      ],
      "text/plain": [
       "   overall_posneg  ttlCol\n",
       "0               0   13440\n",
       "1               1   49973"
      ]
     },
     "metadata": {},
     "output_type": "display_data"
    }
   ],
   "source": [
    "#get the train data and downsample to 2900\n",
    "tDf = myExp.dataPackage.getOrigData()\n",
    "dps.displayClassBalance(tDf, myExp.dataPackage.targetColumn, verbose=True)"
   ]
  },
  {
   "cell_type": "code",
   "execution_count": 14,
   "metadata": {},
   "outputs": [
    {
     "data": {
      "image/png": "[encoded data removed]",
      "text/plain": [
       "<Figure size 432x288 with 1 Axes>"
      ]
     },
     "metadata": {
      "needs_background": "light"
     },
     "output_type": "display_data"
    },
    {
     "name": "stdout",
     "output_type": "stream",
     "text": [
      "Undersampling data to match min class: 0 of size: 13440\n"
     ]
    },
    {
     "data": {
      "image/png": "[encoded data removed]",
      "text/plain": [
       "<Figure size 432x288 with 1 Axes>"
      ]
     },
     "metadata": {
      "needs_background": "light"
     },
     "output_type": "display_data"
    },
    {
     "data": {
      "text/html": [
       "<div>\n",
       "<style scoped>\n",
       "    .dataframe tbody tr th:only-of-type {\n",
       "        vertical-align: middle;\n",
       "    }\n",
       "\n",
       "    .dataframe tbody tr th {\n",
       "        vertical-align: top;\n",
       "    }\n",
       "\n",
       "    .dataframe thead th {\n",
       "        text-align: right;\n",
       "    }\n",
       "</style>\n",
       "<table border=\"1\" class=\"dataframe\">\n",
       "  <thead>\n",
       "    <tr style=\"text-align: right;\">\n",
       "      <th></th>\n",
       "      <th>overall_posneg</th>\n",
       "      <th>ttlCol</th>\n",
       "    </tr>\n",
       "  </thead>\n",
       "  <tbody>\n",
       "    <tr>\n",
       "      <th>0</th>\n",
       "      <td>0</td>\n",
       "      <td>13440</td>\n",
       "    </tr>\n",
       "    <tr>\n",
       "      <th>1</th>\n",
       "      <td>1</td>\n",
       "      <td>13440</td>\n",
       "    </tr>\n",
       "  </tbody>\n",
       "</table>\n",
       "</div>"
      ],
      "text/plain": [
       "   overall_posneg  ttlCol\n",
       "0               0   13440\n",
       "1               1   13440"
      ]
     },
     "metadata": {},
     "output_type": "display_data"
    },
    {
     "name": "stdout",
     "output_type": "stream",
     "text": [
      "Completed train/test split (train_size = 0.8):\n",
      "---> Original data size: 26880\n",
      "---> Training data size: 21504\n",
      "---> Testing data size: 5376\n",
      "---> Stratified on column: overall_posneg\n"
     ]
    }
   ],
   "source": [
    "myExp.dataPackage.classBalanceUndersample()\n",
    "myExp.dataPackage.splitTrainTest()"
   ]
  },
  {
   "cell_type": "code",
   "execution_count": 15,
   "metadata": {},
   "outputs": [
    {
     "data": {
      "image/png": "[encoded data removed]",
      "text/plain": [
       "<Figure size 432x288 with 1 Axes>"
      ]
     },
     "metadata": {
      "needs_background": "light"
     },
     "output_type": "display_data"
    },
    {
     "data": {
      "text/html": [
       "<div>\n",
       "<style scoped>\n",
       "    .dataframe tbody tr th:only-of-type {\n",
       "        vertical-align: middle;\n",
       "    }\n",
       "\n",
       "    .dataframe tbody tr th {\n",
       "        vertical-align: top;\n",
       "    }\n",
       "\n",
       "    .dataframe thead th {\n",
       "        text-align: right;\n",
       "    }\n",
       "</style>\n",
       "<table border=\"1\" class=\"dataframe\">\n",
       "  <thead>\n",
       "    <tr style=\"text-align: right;\">\n",
       "      <th></th>\n",
       "      <th>overall_posneg</th>\n",
       "      <th>ttlCol</th>\n",
       "    </tr>\n",
       "  </thead>\n",
       "  <tbody>\n",
       "    <tr>\n",
       "      <th>0</th>\n",
       "      <td>0</td>\n",
       "      <td>10752</td>\n",
       "    </tr>\n",
       "    <tr>\n",
       "      <th>1</th>\n",
       "      <td>1</td>\n",
       "      <td>10752</td>\n",
       "    </tr>\n",
       "  </tbody>\n",
       "</table>\n",
       "</div>"
      ],
      "text/plain": [
       "   overall_posneg  ttlCol\n",
       "0               0   10752\n",
       "1               1   10752"
      ]
     },
     "metadata": {},
     "output_type": "display_data"
    }
   ],
   "source": [
    "tDf2 = myExp.dataPackage.getTrainData()\n",
    "dps.displayClassBalance(tDf2, myExp.dataPackage.targetColumn, verbose=True)"
   ]
  },
  {
   "cell_type": "code",
   "execution_count": 16,
   "metadata": {},
   "outputs": [],
   "source": [
    "SAMPLE_DOWN_SIZE=10700\n",
    "# Do the sampling\n",
    "tDf2 = tDf2.groupby(myExp.dataPackage.targetColumn, group_keys=False).apply(lambda x: x.sample(SAMPLE_DOWN_SIZE))\n",
    "tDf2.reset_index(drop=True, inplace=True)"
   ]
  },
  {
   "cell_type": "code",
   "execution_count": 17,
   "metadata": {},
   "outputs": [
    {
     "data": {
      "image/png": "[encoded data removed]",
      "text/plain": [
       "<Figure size 432x288 with 1 Axes>"
      ]
     },
     "metadata": {
      "needs_background": "light"
     },
     "output_type": "display_data"
    },
    {
     "data": {
      "text/html": [
       "<div>\n",
       "<style scoped>\n",
       "    .dataframe tbody tr th:only-of-type {\n",
       "        vertical-align: middle;\n",
       "    }\n",
       "\n",
       "    .dataframe tbody tr th {\n",
       "        vertical-align: top;\n",
       "    }\n",
       "\n",
       "    .dataframe thead th {\n",
       "        text-align: right;\n",
       "    }\n",
       "</style>\n",
       "<table border=\"1\" class=\"dataframe\">\n",
       "  <thead>\n",
       "    <tr style=\"text-align: right;\">\n",
       "      <th></th>\n",
       "      <th>overall_posneg</th>\n",
       "      <th>ttlCol</th>\n",
       "    </tr>\n",
       "  </thead>\n",
       "  <tbody>\n",
       "    <tr>\n",
       "      <th>0</th>\n",
       "      <td>0</td>\n",
       "      <td>10700</td>\n",
       "    </tr>\n",
       "    <tr>\n",
       "      <th>1</th>\n",
       "      <td>1</td>\n",
       "      <td>10700</td>\n",
       "    </tr>\n",
       "  </tbody>\n",
       "</table>\n",
       "</div>"
      ],
      "text/plain": [
       "   overall_posneg  ttlCol\n",
       "0               0   10700\n",
       "1               1   10700"
      ]
     },
     "metadata": {},
     "output_type": "display_data"
    }
   ],
   "source": [
    "dps.displayClassBalance(tDf2, myExp.dataPackage.targetColumn, verbose=True)"
   ]
  },
  {
   "cell_type": "code",
   "execution_count": 18,
   "metadata": {},
   "outputs": [
    {
     "name": "stdout",
     "output_type": "stream",
     "text": [
      "2.7.0\n"
     ]
    },
    {
     "name": "stderr",
     "output_type": "stream",
     "text": [
      "2022-01-22 19:57:07.239681: W tensorflow/stream_executor/platform/default/dso_loader.cc:64] Could not load dynamic library 'libcuda.so.1'; dlerror: libcuda.so.1: cannot open shared object file: No such file or directory\n",
      "2022-01-22 19:57:07.239783: W tensorflow/stream_executor/cuda/cuda_driver.cc:269] failed call to cuInit: UNKNOWN ERROR (303)\n",
      "2022-01-22 19:57:07.239839: I tensorflow/stream_executor/cuda/cuda_diagnostics.cc:156] kernel driver does not appear to be running on this host (localhost.localdomain): /proc/driver/nvidia/version does not exist\n",
      "2022-01-22 19:57:07.240557: I tensorflow/core/platform/cpu_feature_guard.cc:151] This TensorFlow binary is optimized with oneAPI Deep Neural Network Library (oneDNN) to use the following CPU instructions in performance-critical operations:  AVX2 FMA\n",
      "To enable them in other operations, rebuild TensorFlow with the appropriate compiler flags.\n"
     ]
    },
    {
     "data": {
      "text/plain": [
       "[]"
      ]
     },
     "execution_count": 18,
     "metadata": {},
     "output_type": "execute_result"
    }
   ],
   "source": [
    "from xgboost import XGBClassifier\n",
    "from keras.layers.core import SpatialDropout1D\n",
    "from keras.layers import Dropout, Dense, Flatten, LSTM, Input, Conv1D, MaxPooling1D\n",
    "from keras.models import Sequential\n",
    "from keras.backend import clear_session\n",
    "from keras.layers.embeddings import Embedding\n",
    "import keras\n",
    "\n",
    "print(keras.__version__)\n",
    "from keras import backend as K\n",
    "K._get_available_gpus()"
   ]
  },
  {
   "cell_type": "code",
   "execution_count": 19,
   "metadata": {},
   "outputs": [
    {
     "name": "stdout",
     "output_type": "stream",
     "text": [
      "49\n",
      "c15\n"
     ]
    }
   ],
   "source": [
    "###Notes section:\n",
    "#model = Sequential()\n",
    "#model.add(LSTM(NumberOfLSTM, return_sequences=True,\n",
    "#               input_shape=(YourSequenceLenght, YourWord2VecLenght)))\n",
    "tExp = jarvis.loadExperiment('01_ML1010_GP_XGB_Bert2')\n",
    "tFeat = tExp.getFinalFeatures()\n",
    "print (len(tFeat))\n",
    "print (tFeat[1])"
   ]
  },
  {
   "cell_type": "code",
   "execution_count": 20,
   "metadata": {},
   "outputs": [],
   "source": [
    "from tensorflow.keras.metrics import AUC, Precision, Recall"
   ]
  },
  {
   "cell_type": "code",
   "execution_count": 35,
   "metadata": {},
   "outputs": [
    {
     "name": "stdout",
     "output_type": "stream",
     "text": [
      "(21400,)\n",
      "(21400, 49)\n"
     ]
    }
   ],
   "source": [
    "#tDf2 is sampled down training data\n",
    "\n",
    "tDf3 = tDf2.copy() \n",
    "Y_train = np.array(tDf3[myExp.dataPackage.targetColumn])\n",
    "X_train = np.array(tDf3[tFeat])\n",
    "\n",
    "X_test = np.array(myExp.dataPackage.getXTestData(tFeat))\n",
    "Y_test = np.array(myExp.dataPackage.getYTestData())\n",
    "\n",
    "print(Y_train.shape)\n",
    "print(X_train.shape)\n",
    "EPOCHS=5\n",
    "VAL_SPLIT=0.1\n",
    "\n",
    "BATCH_SIZE=100\n",
    "NUMBER_FEATURES=len(tFeat)\n",
    "\n",
    "DROPOUT_RATE=0.2\n",
    "INTERNAL_LAYERS=5\n",
    "LSTM_OUTPUT_UNITS=5"
   ]
  },
  {
   "cell_type": "code",
   "execution_count": 22,
   "metadata": {},
   "outputs": [
    {
     "name": "stdout",
     "output_type": "stream",
     "text": [
      "Epoch 1/5\n",
      "193/193 [==============================] - 3s 13ms/step - loss: 0.6739 - accuracy: 0.5641 - mse: 0.2406 - auc: 0.6042 - precision: 0.6559 - recall: 0.0403 - val_loss: 0.8091 - val_accuracy: 0.3491 - val_mse: 0.3065 - val_auc: 0.0000e+00 - val_precision: 1.0000 - val_recall: 0.3491\n",
      "Epoch 2/5\n",
      "193/193 [==============================] - 2s 10ms/step - loss: 0.6079 - accuracy: 0.6877 - mse: 0.2097 - auc: 0.7375 - precision: 0.6648 - recall: 0.5998 - val_loss: 0.6671 - val_accuracy: 0.7196 - val_mse: 0.2297 - val_auc: 0.0000e+00 - val_precision: 1.0000 - val_recall: 0.7196\n",
      "Epoch 3/5\n",
      "193/193 [==============================] - 2s 10ms/step - loss: 0.5590 - accuracy: 0.7280 - mse: 0.1877 - auc: 0.7886 - precision: 0.6839 - recall: 0.7215 - val_loss: 0.6239 - val_accuracy: 0.7467 - val_mse: 0.2073 - val_auc: 0.0000e+00 - val_precision: 1.0000 - val_recall: 0.7467\n",
      "Epoch 4/5\n",
      "193/193 [==============================] - 2s 11ms/step - loss: 0.5355 - accuracy: 0.7458 - mse: 0.1773 - auc: 0.8086 - precision: 0.7100 - recall: 0.7238 - val_loss: 0.5488 - val_accuracy: 0.7888 - val_mse: 0.1763 - val_auc: 0.0000e+00 - val_precision: 1.0000 - val_recall: 0.7888\n",
      "Epoch 5/5\n",
      "193/193 [==============================] - 2s 12ms/step - loss: 0.5217 - accuracy: 0.7571 - mse: 0.1716 - auc: 0.8186 - precision: 0.7262 - recall: 0.7280 - val_loss: 0.5808 - val_accuracy: 0.7514 - val_mse: 0.1905 - val_auc: 0.0000e+00 - val_precision: 1.0000 - val_recall: 0.7514\n"
     ]
    }
   ],
   "source": [
    "# Neural network\n",
    "keras.backend.clear_session()\n",
    "\n",
    "model2 = None\n",
    "model2 = Sequential()\n",
    "\n",
    "#model2.add(Input(shape=(NUMBER_FEATURES, 1)))\n",
    "#model2.add(Dense(INTERNAL_LAYERS, activation='relu'))\n",
    "#model2.add(Dropout(DROPOUT_RATE))\n",
    "\n",
    "model2.add(LSTM(units=LSTM_OUTPUT_UNITS, \n",
    "                input_shape=(NUMBER_FEATURES, 1),\n",
    "                return_sequences=False\n",
    "               )\n",
    "          )\n",
    "#model2.add(Dropout(DROPOUT_RATE))\n",
    "#model2.add(Conv1D(filters=LSTM_OUTPUT_UNITS, kernel_size=3, padding='same', activation='relu'))\n",
    "#model2.add(MaxPooling1D(pool_size=2))\n",
    "#model2.add(LSTM(units=LSTM_OUTPUT_UNITS))\n",
    "#model2.add(Dropout(DROPOUT_RATE))\n",
    "\n",
    "\n",
    "#model2.add(LSTM(units=LSTM_OUTPUT_UNITS))\n",
    "#model2.add(Dropout(DROPOUT_RATE))\n",
    "\n",
    "model2.add(Dense(INTERNAL_LAYERS, activation='relu'))\n",
    "model2.add(Dropout(DROPOUT_RATE))\n",
    "\n",
    "#model2.add(Dense(LSTM_OUTPUT_UNITS, activation='relu'))\n",
    "#model2.add(Dropout(DROPOUT_RATE))\n",
    "\n",
    "#model2.add(Dense(INTERNAL_LAYERS, activation='relu'))\n",
    "#model2.add(Dropout(DROPOUT_RATE))\n",
    "\n",
    "#model2.add(Dense(LSTM_OUTPUT_UNITS, activation='relu'))\n",
    "#model2.add(Dropout(DROPOUT_RATE))\n",
    "\n",
    "\n",
    "#softmax is for multiclass\n",
    "#model2.add(Dense(1, activation='softmax'))\n",
    "#----\n",
    "#sigmoid is not for multiclass\n",
    "model2.add(Dense(1, activation='sigmoid'))\n",
    "\n",
    "model2.compile(loss='binary_crossentropy', \n",
    "               optimizer='adam', \n",
    "               metrics=['accuracy',\n",
    "                        'mse',\n",
    "                        AUC(),\n",
    "                        Precision(),\n",
    "                        Recall()\n",
    "                       ]\n",
    "              )\n",
    "\n",
    "history = model2.fit(x=X_train, \n",
    "                     y=Y_train, \n",
    "                     epochs=EPOCHS, \n",
    "                     batch_size=BATCH_SIZE,\n",
    "                     validation_split=VAL_SPLIT)"
   ]
  },
  {
   "cell_type": "code",
   "execution_count": 23,
   "metadata": {},
   "outputs": [
    {
     "name": "stdout",
     "output_type": "stream",
     "text": [
      "dict_keys(['loss', 'accuracy', 'mse', 'auc', 'precision', 'recall', 'val_loss', 'val_accuracy', 'val_mse', 'val_auc', 'val_precision', 'val_recall'])\n"
     ]
    },
    {
     "data": {
      "image/png": "[encoded data removed]",
      "text/plain": [
       "<Figure size 1008x864 with 6 Axes>"
      ]
     },
     "metadata": {},
     "output_type": "display_data"
    },
    {
     "data": {
      "text/plain": [
       "<Figure size 432x288 with 0 Axes>"
      ]
     },
     "metadata": {},
     "output_type": "display_data"
    }
   ],
   "source": [
    "des.plot_history(history)"
   ]
  },
  {
   "cell_type": "code",
   "execution_count": 100,
   "metadata": {},
   "outputs": [
    {
     "name": "stdout",
     "output_type": "stream",
     "text": [
      "Model: \"sequential\"\n",
      "_________________________________________________________________\n",
      " Layer (type)                Output Shape              Param #   \n",
      "=================================================================\n",
      " lstm (LSTM)                 (None, 5)                 140       \n",
      "                                                                 \n",
      " dense (Dense)               (None, 5)                 30        \n",
      "                                                                 \n",
      " dropout (Dropout)           (None, 5)                 0         \n",
      "                                                                 \n",
      " dense_1 (Dense)             (None, 1)                 6         \n",
      "                                                                 \n",
      "=================================================================\n",
      "Total params: 176\n",
      "Trainable params: 176\n",
      "Non-trainable params: 0\n",
      "_________________________________________________________________\n",
      "None\n"
     ]
    }
   ],
   "source": [
    "print(model2.summary())"
   ]
  },
  {
   "cell_type": "code",
   "execution_count": 31,
   "metadata": {},
   "outputs": [],
   "source": [
    "myExp.setBaseModel(model2)\n",
    "#myExp.predictBaseModel()\n",
    "myExp.setFinalModel(model2,\n",
    "                    finalFeatures=tExp.finalFeatures,\n",
    "                    finalFeaturesAll=tExp.finalFeaturesAll\n",
    "                    )\n"
   ]
  },
  {
   "cell_type": "code",
   "execution_count": 101,
   "metadata": {},
   "outputs": [
    {
     "name": "stdout",
     "output_type": "stream",
     "text": [
      "Accuracy: 0.76\n",
      "Precision: 0.76\n",
      "Recall: 0.76\n",
      "F1: 0.76\n",
      "CohenKappa: 0.53\n"
     ]
    }
   ],
   "source": [
    "colActual='y_actual'\n",
    "colPredict='y_pred'\n",
    "#y_pred = model2.predict(X_test)\n",
    "y_pred = (model2.predict(X_test) > 0.5).astype(\"int32\")\n",
    "\n",
    "dfPredict = pd.DataFrame(data=y_pred, columns=[colPredict])\n",
    "dfPredict[colActual] = Y_test.tolist()\n",
    "des.printMetrics(data=dfPredict, colActual=colActual, colPredict=colPredict)"
   ]
  },
  {
   "cell_type": "code",
   "execution_count": 97,
   "metadata": {},
   "outputs": [
    {
     "data": {
      "text/plain": [
       "<module 'DataExperimentSupport' from '/home/magni/ML_Root/project_root/utility_files/DataExperimentSupport.py'>"
      ]
     },
     "execution_count": 97,
     "metadata": {},
     "output_type": "execute_result"
    }
   ],
   "source": [
    "importlib.reload(des)"
   ]
  },
  {
   "cell_type": "markdown",
   "metadata": {
    "tags": []
   },
   "source": [
    "#  Save Experiment"
   ]
  },
  {
   "cell_type": "code",
   "execution_count": 102,
   "metadata": {},
   "outputs": [
    {
     "name": "stderr",
     "output_type": "stream",
     "text": [
      "WARNING:absl:Found untraced functions such as lstm_cell_layer_call_fn, lstm_cell_layer_call_and_return_conditional_losses, lstm_cell_layer_call_fn, lstm_cell_layer_call_and_return_conditional_losses, lstm_cell_layer_call_and_return_conditional_losses while saving (showing 5 of 5). These functions will not be directly callable after loading.\n"
     ]
    },
    {
     "name": "stdout",
     "output_type": "stream",
     "text": [
      "INFO:tensorflow:Assets written to: ram://c9b62a87-baa4-4f69-adbb-8bed4c62bddd/assets\n"
     ]
    },
    {
     "name": "stderr",
     "output_type": "stream",
     "text": [
      "INFO:tensorflow:Assets written to: ram://c9b62a87-baa4-4f69-adbb-8bed4c62bddd/assets\n",
      "WARNING:absl:<keras.layers.recurrent.LSTMCell object at 0x7f2759dc7fd0> has the same name 'LSTMCell' as a built-in Keras object. Consider renaming <class 'keras.layers.recurrent.LSTMCell'> to avoid naming conflicts when loading with `tf.keras.models.load_model`. If renaming is not possible, pass the object in the `custom_objects` parameter of the load function.\n"
     ]
    }
   ],
   "source": [
    "jarvis.saveExperiment(myExp, FILE_NAME)"
   ]
  },
  {
   "cell_type": "markdown",
   "metadata": {},
   "source": [
    "#  Scratchpad"
   ]
  },
  {
   "cell_type": "code",
   "execution_count": null,
   "metadata": {},
   "outputs": [],
   "source": []
  }
 ],
 "metadata": {
  "colab": {
   "authorship_tag": "ABX9TyOHRhk3MnSb4v5m2pip9Csd",
   "collapsed_sections": [
    "pn8fyGevt62D",
    "1QZKvJBJ7rlc",
    "fVJrz4vi6Cy5",
    "d1VKEszbvgpS",
    "TSXj9-6uCPlq",
    "jbDYJ_r6_xqk",
    "wSl1Fy3gcvbi",
    "W9Y2Idos-2Hl",
    "NGKpEqqwO9L6",
    "jyGqiRoQROHu",
    "NN0TbdPPfmKG",
    "SJe_Cy_aNJVx",
    "UrAIa9xTsucp",
    "G3sbhyAHvq6D",
    "E-dDQ_KXwAQQ",
    "hZIH3Wcyw76R",
    "m1KEaXz7xQMW",
    "0lAXqFH5yHgU",
    "i_VCkCCWyYYe",
    "yfPqFMjgythJ",
    "eIzBqATpythg",
    "gQujKtfNythh",
    "KMqHM-APythi"
   ],
   "name": "05_ML1010_GP_calcScores.pynb",
   "provenance": [
    {
     "file_id": "1TTophYisuYAESj-r2pcxC1cOw77kApN0",
     "timestamp": 1638578513850
    },
    {
     "file_id": "1R_J6p2OeOjXlMWk1bRbiOo7XdfzkzjGU",
     "timestamp": 1638295449964
    }
   ],
   "toc_visible": true
  },
  "kernelspec": {
   "display_name": "ML1010_env2",
   "language": "python",
   "name": "ml1010_env2"
  },
  "language_info": {
   "codemirror_mode": {
    "name": "ipython",
    "version": 3
   },
   "file_extension": ".py",
   "mimetype": "text/x-python",
   "name": "python",
   "nbconvert_exporter": "python",
   "pygments_lexer": "ipython3",
   "version": "3.7.12"
  }
 },
 "nbformat": 4,
 "nbformat_minor": 4
}
