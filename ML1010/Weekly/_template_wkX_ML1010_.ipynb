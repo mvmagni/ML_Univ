{
 "cells": [
  {
   "cell_type": "markdown",
   "metadata": {
    "id": "pn8fyGevt62D"
   },
   "source": [
    "# Configuration"
   ]
  },
  {
   "cell_type": "code",
   "execution_count": 1,
   "metadata": {
    "id": "XmHgvt15t48a"
   },
   "outputs": [],
   "source": [
    "# Parameters\n",
    "PROJECT_NAME = 'ML1010-Group-Project'\n",
    "ENABLE_COLAB = False\n",
    "\n",
    "#Root Machine Learning Directory. Projects appear underneath\n",
    "GOOGLE_DRIVE_MOUNT = '/content/gdrive' \n",
    "COLAB_ROOT_DIR = GOOGLE_DRIVE_MOUNT + '/MyDrive/Colab Notebooks'\n",
    "COLAB_INIT_DIR = COLAB_ROOT_DIR + '/utility_files'\n",
    "\n",
    "LOCAL_ROOT_DIR = '/home/magni//ML_Root/project_root'\n",
    "LOCAL_INIT_DIR = LOCAL_ROOT_DIR + '/utility_files'"
   ]
  },
  {
   "cell_type": "markdown",
   "metadata": {
    "id": "1QZKvJBJ7rlc"
   },
   "source": [
    "# Bootstrap Environment"
   ]
  },
  {
   "cell_type": "code",
   "execution_count": null,
   "metadata": {
    "colab": {
     "base_uri": "https://localhost:8080/"
    },
    "executionInfo": {
     "elapsed": 2266,
     "status": "ok",
     "timestamp": 1637961005073,
     "user": {
      "displayName": "Michael Vasiliou",
      "photoUrl": "https://lh3.googleusercontent.com/a/default-user=s64",
      "userId": "07079983815732559270"
     },
     "user_tz": 300
    },
    "id": "jgMPxKZBzfFw",
    "outputId": "764d1c27-8651-4188-e412-32d75dbc940d"
   },
   "outputs": [
    {
     "name": "stdout",
     "output_type": "stream",
     "text": [
      "Mounted at /content/gdrive\n",
      "Wha...where am I?\n",
      "I am awake now.\n",
      "I am inspecting the local environment...\n",
      "Your environment has been configured: \n",
      "PROJECT_NAME:     Jarvis\n",
      "ROOT_DIR: /content/gdrive/MyDrive/Colab Notebooks\n",
      "ROOT_DATA_DIR: /content/gdrive/MyDrive/Colab Notebooks\n",
      "DATA_DIR:     /content/gdrive/MyDrive/Colab Notebooks/data/Jarvis\n",
      "WORKING_DIR:  /content/gdrive/MyDrive/Colab Notebooks/Jarvis\n",
      "UTILITY_DIR:  /content/gdrive/MyDrive/Colab Notebooks/utility_files\n",
      "\n",
      "Here are all your project work files\n",
      "[D] /content/gdrive/MyDrive/Colab Notebooks/Jarvis\n",
      "---[ipynb]-------> Jarvis_Test.ipynb (13.67 KB)\n",
      "\n",
      "Here are all your project data files\n",
      "[D] /content/gdrive/MyDrive/Colab Notebooks/data/Jarvis\n",
      "[*][ pkl]-------> 02_NLP_ReviewTextData.pkl (87.00 MB)\n",
      "---[  gz][ pkl]--> 02_NLP_ReviewTextData.pkl.gz (30.08 MB)\n",
      "[*][ pkl]-------> 02_NLP_SummaryData.pkl (8.32 MB)\n",
      "---[  gz][ pkl]--> 02_NLP_SummaryData.pkl.gz (2.88 MB)\n",
      "\n",
      "[D] /content/gdrive/MyDrive/Colab Notebooks/data/Jarvis/01_original\n",
      "----->** No files **\n",
      "\n",
      "[D] /content/gdrive/MyDrive/Colab Notebooks/data/Jarvis/02_working\n",
      "----->** No files **\n",
      "\n",
      "[D] /content/gdrive/MyDrive/Colab Notebooks/data/Jarvis/03_train\n",
      "----->** No files **\n",
      "\n",
      "[D] /content/gdrive/MyDrive/Colab Notebooks/data/Jarvis/04_test\n",
      "----->** No files **\n",
      "\n",
      "I have set your current working directory to /content/gdrive/MyDrive/Colab Notebooks/Jarvis\n",
      "The current time is 16:10\n",
      "Hello sir. Reminder, no more coffee.\n",
      "\n"
     ]
    }
   ],
   "source": [
    "#add in support for utility file directory and importing\n",
    "import sys\n",
    "import os\n",
    "\n",
    "if ENABLE_COLAB:\n",
    "  #Need access to drive\n",
    "  from google.colab import drive\n",
    "  drive.mount(GOOGLE_DRIVE_MOUNT, force_remount=True)\n",
    "  \n",
    "  #add in utility directory to syspath to import \n",
    "  INIT_DIR = COLAB_INIT_DIR\n",
    "  sys.path.append(os.path.abspath(INIT_DIR))\n",
    "  \n",
    "  #Config environment variables\n",
    "  ROOT_DIR = COLAB_ROOT_DIR\n",
    "  \n",
    "else:\n",
    "  #add in utility directory to syspath to import\n",
    "  INIT_DIR = LOCAL_INIT_DIR\n",
    "  sys.path.append(os.path.abspath(INIT_DIR))\n",
    "  \n",
    "  #Config environment variables\n",
    "  ROOT_DIR = LOCAL_ROOT_DIR\n",
    "\n",
    "#Import Utility Support\n",
    "from jarvis import Jarvis\n",
    "jarvis = Jarvis(ROOT_DIR, PROJECT_NAME)\n",
    "\n",
    "import mv_python_utils as mvutils"
   ]
  },
  {
   "cell_type": "markdown",
   "metadata": {
    "id": "fVJrz4vi6Cy5"
   },
   "source": [
    "# Setup Runtime Environment"
   ]
  },
  {
   "cell_type": "code",
   "execution_count": null,
   "metadata": {
    "colab": {
     "base_uri": "https://localhost:8080/"
    },
    "executionInfo": {
     "elapsed": 229,
     "status": "ok",
     "timestamp": 1637802866801,
     "user": {
      "displayName": "Michael Vasiliou",
      "photoUrl": "https://lh3.googleusercontent.com/a/default-user=s64",
      "userId": "07079983815732559270"
     },
     "user_tz": 300
    },
    "id": "CHI-rXnnyTbi",
    "outputId": "22debd2c-e9c7-42af-e7a9-bbe3c8d79d94"
   },
   "outputs": [
    {
     "name": "stdout",
     "output_type": "stream",
     "text": [
      "[nltk_data] Downloading package stopwords to /root/nltk_data...\n",
      "[nltk_data]   Package stopwords is already up-to-date!\n"
     ]
    }
   ],
   "source": [
    "if ENABLE_COLAB:\n",
    "  #!pip install scipy -q\n",
    "  #!pip install scikit-learn -q\n",
    "  #!pip install pycaret -q\n",
    "  #!pip install matplotlib -q\n",
    "  #!pip install joblib -q\n",
    "  #!pip install pandasql -q\n",
    "\n",
    "  display('Google Colab enabled')\n",
    "else:\n",
    "  display('Google Colab not enabled')\n",
    "\n",
    "#Common imports\n",
    "import json\n",
    "import gzip\n",
    "import pandas as pd\n",
    "import numpy as np\n",
    "import matplotlib\n",
    "import re\n",
    "import nltk\n",
    "import matplotlib.pyplot as plt\n",
    "\n",
    "pd.set_option('mode.chained_assignment', None)\n",
    "nltk.download('stopwords')\n",
    "%matplotlib inline"
   ]
  },
  {
   "cell_type": "markdown",
   "metadata": {
    "id": "GIOd0sJRBosG"
   },
   "source": [
    "# Load Data"
   ]
  },
  {
   "cell_type": "code",
   "execution_count": null,
   "metadata": {
    "id": "PBeX0D7GMTuq"
   },
   "outputs": [],
   "source": []
  }
 ],
 "metadata": {
  "colab": {
   "authorship_tag": "ABX9TyPZJZKgNDsjJFjiDrOCivnc",
   "collapsed_sections": [],
   "name": "_template_wkX_ML1010_.ipynb",
   "provenance": [
    {
     "file_id": "1R_J6p2OeOjXlMWk1bRbiOo7XdfzkzjGU",
     "timestamp": 1637805661262
    }
   ]
  },
  "kernelspec": {
   "display_name": "Python 3 (ipykernel)",
   "language": "python",
   "name": "python3"
  },
  "language_info": {
   "codemirror_mode": {
    "name": "ipython",
    "version": 3
   },
   "file_extension": ".py",
   "mimetype": "text/x-python",
   "name": "python",
   "nbconvert_exporter": "python",
   "pygments_lexer": "ipython3",
   "version": "3.7.12"
  }
 },
 "nbformat": 4,
 "nbformat_minor": 4
}
