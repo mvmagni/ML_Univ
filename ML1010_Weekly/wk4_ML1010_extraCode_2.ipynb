{
 "cells": [
  {
   "cell_type": "markdown",
   "metadata": {
    "id": "pn8fyGevt62D"
   },
   "source": [
    "# Configuration"
   ]
  },
  {
   "cell_type": "code",
   "execution_count": 1,
   "metadata": {
    "executionInfo": {
     "elapsed": 5,
     "status": "ok",
     "timestamp": 1640614992661,
     "user": {
      "displayName": "Michael Vasiliou",
      "photoUrl": "https://lh3.googleusercontent.com/a/default-user=s64",
      "userId": "07079983815732559270"
     },
     "user_tz": 300
    },
    "id": "XmHgvt15t48a"
   },
   "outputs": [],
   "source": [
    "#Parameters\n",
    "PROJECT_NAME = 'ML1010_Weekly'\n",
    "ENABLE_COLAB = True\n",
    "\n",
    "#Root Machine Learning Directory. Projects appear underneath\n",
    "GOOGLE_DRIVE_MOUNT = '/content/gdrive' \n",
    "COLAB_ROOT_DIR = GOOGLE_DRIVE_MOUNT + '/MyDrive/Colab Notebooks'\n",
    "COLAB_INIT_DIR = COLAB_ROOT_DIR + '/utility_files'\n",
    "\n",
    "LOCAL_ROOT_DIR = '/home/magni/Documents/ML_Projects'\n",
    "LOCAL_INIT_DIR = LOCAL_ROOT_DIR + '/utility_files'"
   ]
  },
  {
   "cell_type": "markdown",
   "metadata": {
    "id": "1QZKvJBJ7rlc"
   },
   "source": [
    "# Bootstrap Environment"
   ]
  },
  {
   "cell_type": "code",
   "execution_count": 2,
   "metadata": {
    "colab": {
     "base_uri": "https://localhost:8080/"
    },
    "executionInfo": {
     "elapsed": 15227,
     "status": "ok",
     "timestamp": 1640615009927,
     "user": {
      "displayName": "Michael Vasiliou",
      "photoUrl": "https://lh3.googleusercontent.com/a/default-user=s64",
      "userId": "07079983815732559270"
     },
     "user_tz": 300
    },
    "id": "jgMPxKZBzfFw",
    "outputId": "d025848c-c0da-4a97-a6ec-250d64f0f96f"
   },
   "outputs": [
    {
     "name": "stdout",
     "output_type": "stream",
     "text": [
      "Mounted at /content/gdrive\n",
      "Wha...where am I?\n",
      "I am awake now.\n",
      "\n",
      "I have set your current working directory to /content/gdrive/MyDrive/Colab Notebooks/ML1010_Weekly\n",
      "The current time is 09:23\n",
      "Hello sir. Extra caffeine may help.\n",
      "\n"
     ]
    }
   ],
   "source": [
    "#add in support for utility file directory and importing\n",
    "import sys\n",
    "import os\n",
    "\n",
    "if ENABLE_COLAB:\n",
    "  #Need access to drive\n",
    "  from google.colab import drive\n",
    "  drive.mount(GOOGLE_DRIVE_MOUNT, force_remount=True)\n",
    "  \n",
    "  #add in utility directory to syspath to import \n",
    "  INIT_DIR = COLAB_INIT_DIR\n",
    "  sys.path.append(os.path.abspath(INIT_DIR))\n",
    "  \n",
    "  #Config environment variables\n",
    "  ROOT_DIR = COLAB_ROOT_DIR\n",
    "  \n",
    "else:\n",
    "  #add in utility directory to syspath to import\n",
    "  INIT_DIR = LOCAL_INIT_DIR\n",
    "  sys.path.append(os.path.abspath(INIT_DIR))\n",
    "  \n",
    "  #Config environment variables\n",
    "  ROOT_DIR = LOCAL_ROOT_DIR\n",
    "\n",
    "#Import Utility Support\n",
    "from jarvis import Jarvis\n",
    "jarvis = Jarvis(ROOT_DIR, PROJECT_NAME)\n",
    "\n",
    "import mv_python_utils as mvutils"
   ]
  },
  {
   "cell_type": "markdown",
   "metadata": {
    "id": "fVJrz4vi6Cy5"
   },
   "source": [
    "# Setup Runtime Environment"
   ]
  },
  {
   "cell_type": "code",
   "execution_count": 3,
   "metadata": {
    "colab": {
     "base_uri": "https://localhost:8080/",
     "height": 70
    },
    "executionInfo": {
     "elapsed": 646,
     "status": "ok",
     "timestamp": 1640615012922,
     "user": {
      "displayName": "Michael Vasiliou",
      "photoUrl": "https://lh3.googleusercontent.com/a/default-user=s64",
      "userId": "07079983815732559270"
     },
     "user_tz": 300
    },
    "id": "CHI-rXnnyTbi",
    "outputId": "09277d6b-cb5b-4b8a-bfb2-8d1df9618694"
   },
   "outputs": [
    {
     "data": {
      "application/vnd.google.colaboratory.intrinsic+json": {
       "type": "string"
      },
      "text/plain": [
       "'Google Colab enabled'"
      ]
     },
     "metadata": {},
     "output_type": "display_data"
    },
    {
     "name": "stdout",
     "output_type": "stream",
     "text": [
      "[nltk_data] Downloading package stopwords to /root/nltk_data...\n",
      "[nltk_data]   Unzipping corpora/stopwords.zip.\n"
     ]
    }
   ],
   "source": [
    "if ENABLE_COLAB:\n",
    "  #!pip install scipy -q\n",
    "  #!pip install scikit-learn -q\n",
    "  #!pip install pycaret -q\n",
    "  #!pip install matplotlib -q\n",
    "  #!pip install joblib -q\n",
    "  #!pip install pandasql -q\n",
    "\n",
    "  display('Google Colab enabled')\n",
    "else:\n",
    "  display('Google Colab not enabled')\n",
    "\n",
    "#Common imports\n",
    "import json\n",
    "import gzip\n",
    "import pandas as pd\n",
    "import numpy as np\n",
    "import matplotlib\n",
    "import re\n",
    "import nltk\n",
    "import matplotlib.pyplot as plt\n",
    "\n",
    "pd.set_option('mode.chained_assignment', None)\n",
    "nltk.download('stopwords')\n",
    "%matplotlib inline"
   ]
  },
  {
   "cell_type": "markdown",
   "metadata": {
    "id": "GIOd0sJRBosG"
   },
   "source": [
    "# Load Data"
   ]
  },
  {
   "cell_type": "code",
   "execution_count": 4,
   "metadata": {
    "colab": {
     "base_uri": "https://localhost:8080/"
    },
    "executionInfo": {
     "elapsed": 783,
     "status": "ok",
     "timestamp": 1640615016004,
     "user": {
      "displayName": "Michael Vasiliou",
      "photoUrl": "https://lh3.googleusercontent.com/a/default-user=s64",
      "userId": "07079983815732559270"
     },
     "user_tz": 300
    },
    "id": "Atag6eegJ2In",
    "outputId": "5d8ac83d-2e31-4c24-c920-44c949520fc3"
   },
   "outputs": [
    {
     "name": "stdout",
     "output_type": "stream",
     "text": [
      "sentence    Wow... Loved this place.\n",
      "label                              1\n",
      "source                          yelp\n",
      "Name: 0, dtype: object\n"
     ]
    }
   ],
   "source": [
    "import pandas as pd\n",
    "\n",
    "filepath_dict = {'yelp':   jarvis.DATA_DIR + '/sentiment_analysis/yelp_labelled.txt',\n",
    "                 'amazon': jarvis.DATA_DIR + '/sentiment_analysis/amazon_cells_labelled.txt',\n",
    "                 'imdb':   jarvis.DATA_DIR + '/sentiment_analysis/imdb_labelled.txt'}\n",
    "\n",
    "df_list = []\n",
    "for source, filepath in filepath_dict.items():\n",
    "    df = pd.read_csv(filepath, names=['sentence', 'label'], sep='\\t')\n",
    "    df['source'] = source  # Add another column filled with the source name\n",
    "    df_list.append(df)\n",
    "\n",
    "df = pd.concat(df_list)\n",
    "print(df.iloc[0])"
   ]
  },
  {
   "cell_type": "code",
   "execution_count": 5,
   "metadata": {
    "executionInfo": {
     "elapsed": 151,
     "status": "ok",
     "timestamp": 1640615017638,
     "user": {
      "displayName": "Michael Vasiliou",
      "photoUrl": "https://lh3.googleusercontent.com/a/default-user=s64",
      "userId": "07079983815732559270"
     },
     "user_tz": 300
    },
    "id": "0YukZmQhJ2K9"
   },
   "outputs": [],
   "source": [
    "from sklearn.model_selection import train_test_split\n",
    "\n",
    "df_yelp = df[df['source'] == 'yelp']\n",
    "\n",
    "sentences = df_yelp['sentence'].values\n",
    "y = df_yelp['label'].values\n",
    "\n",
    "sentences_train, sentences_test, y_train, y_test = train_test_split(\n",
    "   sentences, y, test_size=0.25, random_state=1000)"
   ]
  },
  {
   "cell_type": "code",
   "execution_count": 6,
   "metadata": {
    "colab": {
     "base_uri": "https://localhost:8080/"
    },
    "executionInfo": {
     "elapsed": 131,
     "status": "ok",
     "timestamp": 1640615019315,
     "user": {
      "displayName": "Michael Vasiliou",
      "photoUrl": "https://lh3.googleusercontent.com/a/default-user=s64",
      "userId": "07079983815732559270"
     },
     "user_tz": 300
    },
    "id": "ZADY9yR8J2df",
    "outputId": "2a286fa0-f7c5-48fe-8261-dac575df4203"
   },
   "outputs": [
    {
     "data": {
      "text/plain": [
       "<750x1714 sparse matrix of type '<class 'numpy.int64'>'\n",
       "\twith 7368 stored elements in Compressed Sparse Row format>"
      ]
     },
     "execution_count": 6,
     "metadata": {},
     "output_type": "execute_result"
    }
   ],
   "source": [
    "from sklearn.feature_extraction.text import CountVectorizer\n",
    "\n",
    "vectorizer = CountVectorizer()\n",
    "vectorizer.fit(sentences_train)\n",
    "\n",
    "X_train = vectorizer.transform(sentences_train)\n",
    "X_test  = vectorizer.transform(sentences_test)\n",
    "X_train"
   ]
  },
  {
   "cell_type": "code",
   "execution_count": 7,
   "metadata": {
    "colab": {
     "base_uri": "https://localhost:8080/"
    },
    "executionInfo": {
     "elapsed": 151,
     "status": "ok",
     "timestamp": 1640615020491,
     "user": {
      "displayName": "Michael Vasiliou",
      "photoUrl": "https://lh3.googleusercontent.com/a/default-user=s64",
      "userId": "07079983815732559270"
     },
     "user_tz": 300
    },
    "id": "AoAtN-tuJ2gi",
    "outputId": "710f535f-4d17-464d-b70d-ca9a10aad6ab"
   },
   "outputs": [
    {
     "name": "stdout",
     "output_type": "stream",
     "text": [
      "Accuracy: 0.796\n"
     ]
    }
   ],
   "source": [
    "from sklearn.linear_model import LogisticRegression\n",
    "\n",
    "classifier = LogisticRegression()\n",
    "classifier.fit(X_train, y_train)\n",
    "score = classifier.score(X_test, y_test)\n",
    "\n",
    "print(\"Accuracy:\", score)"
   ]
  },
  {
   "cell_type": "code",
   "execution_count": 8,
   "metadata": {
    "colab": {
     "base_uri": "https://localhost:8080/"
    },
    "executionInfo": {
     "elapsed": 333,
     "status": "ok",
     "timestamp": 1640615021677,
     "user": {
      "displayName": "Michael Vasiliou",
      "photoUrl": "https://lh3.googleusercontent.com/a/default-user=s64",
      "userId": "07079983815732559270"
     },
     "user_tz": 300
    },
    "id": "4Vpy643EJ2jo",
    "outputId": "61d385e6-8581-46ea-ebc1-cf60eb8a9613"
   },
   "outputs": [
    {
     "name": "stdout",
     "output_type": "stream",
     "text": [
      "Accuracy for yelp data: 0.7960\n",
      "Accuracy for amazon data: 0.7960\n",
      "Accuracy for imdb data: 0.7487\n"
     ]
    }
   ],
   "source": [
    "for source in df['source'].unique():\n",
    "    df_source = df[df['source'] == source]\n",
    "    sentences = df_source['sentence'].values\n",
    "    y = df_source['label'].values\n",
    "\n",
    "    sentences_train, sentences_test, y_train, y_test = train_test_split(\n",
    "        sentences, y, test_size=0.25, random_state=1000)\n",
    "\n",
    "    vectorizer = CountVectorizer()\n",
    "    vectorizer.fit(sentences_train)\n",
    "    X_train = vectorizer.transform(sentences_train)\n",
    "    X_test  = vectorizer.transform(sentences_test)\n",
    "\n",
    "    classifier = LogisticRegression()\n",
    "    classifier.fit(X_train, y_train)\n",
    "    score = classifier.score(X_test, y_test)\n",
    "    print('Accuracy for {} data: {:.4f}'.format(source, score))"
   ]
  },
  {
   "cell_type": "code",
   "execution_count": 22,
   "metadata": {
    "executionInfo": {
     "elapsed": 166,
     "status": "ok",
     "timestamp": 1640615442014,
     "user": {
      "displayName": "Michael Vasiliou",
      "photoUrl": "https://lh3.googleusercontent.com/a/default-user=s64",
      "userId": "07079983815732559270"
     },
     "user_tz": 300
    },
    "id": "ORs8AAJ9J2me"
   },
   "outputs": [],
   "source": [
    "from keras.models import Sequential\n",
    "from keras import layers\n",
    "\n",
    "input_dim = X_train.shape[1]  # Number of features\n",
    "\n",
    "model = Sequential()\n",
    "model.add(layers.Dense(10, input_dim=input_dim, activation='relu'))\n",
    "model.add(layers.Dense(1, activation='sigmoid'))\n"
   ]
  },
  {
   "cell_type": "code",
   "execution_count": 24,
   "metadata": {
    "colab": {
     "base_uri": "https://localhost:8080/"
    },
    "executionInfo": {
     "elapsed": 127,
     "status": "ok",
     "timestamp": 1640615446405,
     "user": {
      "displayName": "Michael Vasiliou",
      "photoUrl": "https://lh3.googleusercontent.com/a/default-user=s64",
      "userId": "07079983815732559270"
     },
     "user_tz": 300
    },
    "id": "lCZQqRPuRZ50",
    "outputId": "7fa9ea16-38ec-4b94-f432-6a66d3a06d01"
   },
   "outputs": [
    {
     "name": "stdout",
     "output_type": "stream",
     "text": [
      "Model: \"sequential\"\n",
      "_________________________________________________________________\n",
      " Layer (type)                Output Shape              Param #   \n",
      "=================================================================\n",
      " dense (Dense)               (None, 10)                25060     \n",
      "                                                                 \n",
      " dense_1 (Dense)             (None, 1)                 11        \n",
      "                                                                 \n",
      "=================================================================\n",
      "Total params: 25,071\n",
      "Trainable params: 25,071\n",
      "Non-trainable params: 0\n",
      "_________________________________________________________________\n"
     ]
    }
   ],
   "source": [
    "model.compile(loss='binary_crossentropy', \n",
    "              optimizer='adam', \n",
    "              metrics=['accuracy'])\n",
    "model.summary()"
   ]
  },
  {
   "cell_type": "code",
   "execution_count": 53,
   "metadata": {
    "colab": {
     "base_uri": "https://localhost:8080/"
    },
    "executionInfo": {
     "elapsed": 41200,
     "status": "ok",
     "timestamp": 1640617056820,
     "user": {
      "displayName": "Michael Vasiliou",
      "photoUrl": "https://lh3.googleusercontent.com/a/default-user=s64",
      "userId": "07079983815732559270"
     },
     "user_tz": 300
    },
    "id": "jBN0Y7ZNSEnP",
    "outputId": "4c6f5ff3-c294-462e-8a6a-e5128124c423"
   },
   "outputs": [
    {
     "name": "stdout",
     "output_type": "stream",
     "text": [
      "Epoch 1/100\n",
      "57/57 [==============================] - 0s 8ms/step - loss: 0.0013 - accuracy: 1.0000 - val_loss: 0.8891 - val_accuracy: 0.6471\n",
      "Epoch 2/100\n",
      "57/57 [==============================] - 0s 7ms/step - loss: 0.0011 - accuracy: 1.0000 - val_loss: 0.9009 - val_accuracy: 0.6524\n",
      "Epoch 3/100\n",
      "57/57 [==============================] - 0s 7ms/step - loss: 9.6834e-04 - accuracy: 1.0000 - val_loss: 0.9087 - val_accuracy: 0.6524\n",
      "Epoch 4/100\n",
      "57/57 [==============================] - 0s 4ms/step - loss: 8.6137e-04 - accuracy: 1.0000 - val_loss: 0.9152 - val_accuracy: 0.6524\n",
      "Epoch 5/100\n",
      "57/57 [==============================] - 0s 4ms/step - loss: 7.8018e-04 - accuracy: 1.0000 - val_loss: 0.9217 - val_accuracy: 0.6471\n",
      "Epoch 6/100\n",
      "57/57 [==============================] - 0s 5ms/step - loss: 6.9626e-04 - accuracy: 1.0000 - val_loss: 0.9268 - val_accuracy: 0.6471\n",
      "Epoch 7/100\n",
      "57/57 [==============================] - 0s 5ms/step - loss: 6.2141e-04 - accuracy: 1.0000 - val_loss: 0.9337 - val_accuracy: 0.6471\n",
      "Epoch 8/100\n",
      "57/57 [==============================] - 0s 5ms/step - loss: 5.6806e-04 - accuracy: 1.0000 - val_loss: 0.9415 - val_accuracy: 0.6471\n",
      "Epoch 9/100\n",
      "57/57 [==============================] - 0s 4ms/step - loss: 5.1952e-04 - accuracy: 1.0000 - val_loss: 0.9484 - val_accuracy: 0.6471\n",
      "Epoch 10/100\n",
      "57/57 [==============================] - 0s 5ms/step - loss: 4.7383e-04 - accuracy: 1.0000 - val_loss: 0.9549 - val_accuracy: 0.6471\n",
      "Epoch 11/100\n",
      "57/57 [==============================] - 0s 4ms/step - loss: 4.3486e-04 - accuracy: 1.0000 - val_loss: 0.9595 - val_accuracy: 0.6471\n",
      "Epoch 12/100\n",
      "57/57 [==============================] - 0s 4ms/step - loss: 4.0314e-04 - accuracy: 1.0000 - val_loss: 0.9659 - val_accuracy: 0.6471\n",
      "Epoch 13/100\n",
      "57/57 [==============================] - 0s 5ms/step - loss: 3.7149e-04 - accuracy: 1.0000 - val_loss: 0.9718 - val_accuracy: 0.6471\n",
      "Epoch 14/100\n",
      "57/57 [==============================] - 0s 4ms/step - loss: 3.4520e-04 - accuracy: 1.0000 - val_loss: 0.9778 - val_accuracy: 0.6471\n",
      "Epoch 15/100\n",
      "57/57 [==============================] - 0s 5ms/step - loss: 3.1993e-04 - accuracy: 1.0000 - val_loss: 0.9833 - val_accuracy: 0.6471\n",
      "Epoch 16/100\n",
      "57/57 [==============================] - 0s 5ms/step - loss: 2.9813e-04 - accuracy: 1.0000 - val_loss: 0.9876 - val_accuracy: 0.6471\n",
      "Epoch 17/100\n",
      "57/57 [==============================] - 0s 4ms/step - loss: 2.7767e-04 - accuracy: 1.0000 - val_loss: 0.9938 - val_accuracy: 0.6524\n",
      "Epoch 18/100\n",
      "57/57 [==============================] - 0s 4ms/step - loss: 2.5774e-04 - accuracy: 1.0000 - val_loss: 1.0013 - val_accuracy: 0.6524\n",
      "Epoch 19/100\n",
      "57/57 [==============================] - 0s 5ms/step - loss: 2.4071e-04 - accuracy: 1.0000 - val_loss: 1.0051 - val_accuracy: 0.6524\n",
      "Epoch 20/100\n",
      "57/57 [==============================] - 0s 4ms/step - loss: 2.2643e-04 - accuracy: 1.0000 - val_loss: 1.0091 - val_accuracy: 0.6471\n",
      "Epoch 21/100\n",
      "57/57 [==============================] - 0s 4ms/step - loss: 2.1324e-04 - accuracy: 1.0000 - val_loss: 1.0146 - val_accuracy: 0.6524\n",
      "Epoch 22/100\n",
      "57/57 [==============================] - 0s 4ms/step - loss: 1.9892e-04 - accuracy: 1.0000 - val_loss: 1.0190 - val_accuracy: 0.6524\n",
      "Epoch 23/100\n",
      "57/57 [==============================] - 0s 4ms/step - loss: 1.8655e-04 - accuracy: 1.0000 - val_loss: 1.0230 - val_accuracy: 0.6524\n",
      "Epoch 24/100\n",
      "57/57 [==============================] - 0s 5ms/step - loss: 1.7506e-04 - accuracy: 1.0000 - val_loss: 1.0286 - val_accuracy: 0.6524\n",
      "Epoch 25/100\n",
      "57/57 [==============================] - 0s 4ms/step - loss: 1.6543e-04 - accuracy: 1.0000 - val_loss: 1.0329 - val_accuracy: 0.6524\n",
      "Epoch 26/100\n",
      "57/57 [==============================] - 0s 4ms/step - loss: 1.5606e-04 - accuracy: 1.0000 - val_loss: 1.0371 - val_accuracy: 0.6524\n",
      "Epoch 27/100\n",
      "57/57 [==============================] - 0s 4ms/step - loss: 1.4768e-04 - accuracy: 1.0000 - val_loss: 1.0416 - val_accuracy: 0.6524\n",
      "Epoch 28/100\n",
      "57/57 [==============================] - 0s 4ms/step - loss: 1.3895e-04 - accuracy: 1.0000 - val_loss: 1.0447 - val_accuracy: 0.6524\n",
      "Epoch 29/100\n",
      "57/57 [==============================] - 0s 5ms/step - loss: 1.3177e-04 - accuracy: 1.0000 - val_loss: 1.0493 - val_accuracy: 0.6578\n",
      "Epoch 30/100\n",
      "57/57 [==============================] - 0s 5ms/step - loss: 1.2496e-04 - accuracy: 1.0000 - val_loss: 1.0543 - val_accuracy: 0.6524\n",
      "Epoch 31/100\n",
      "57/57 [==============================] - 0s 4ms/step - loss: 1.1711e-04 - accuracy: 1.0000 - val_loss: 1.0566 - val_accuracy: 0.6578\n",
      "Epoch 32/100\n",
      "57/57 [==============================] - 0s 4ms/step - loss: 1.1141e-04 - accuracy: 1.0000 - val_loss: 1.0617 - val_accuracy: 0.6578\n",
      "Epoch 33/100\n",
      "57/57 [==============================] - 0s 4ms/step - loss: 1.0542e-04 - accuracy: 1.0000 - val_loss: 1.0661 - val_accuracy: 0.6578\n",
      "Epoch 34/100\n",
      "57/57 [==============================] - 0s 4ms/step - loss: 9.9993e-05 - accuracy: 1.0000 - val_loss: 1.0702 - val_accuracy: 0.6578\n",
      "Epoch 35/100\n",
      "57/57 [==============================] - 0s 5ms/step - loss: 9.5072e-05 - accuracy: 1.0000 - val_loss: 1.0746 - val_accuracy: 0.6578\n",
      "Epoch 36/100\n",
      "57/57 [==============================] - 0s 5ms/step - loss: 9.0372e-05 - accuracy: 1.0000 - val_loss: 1.0779 - val_accuracy: 0.6578\n",
      "Epoch 37/100\n",
      "57/57 [==============================] - 0s 4ms/step - loss: 8.6080e-05 - accuracy: 1.0000 - val_loss: 1.0813 - val_accuracy: 0.6578\n",
      "Epoch 38/100\n",
      "57/57 [==============================] - 0s 4ms/step - loss: 8.2035e-05 - accuracy: 1.0000 - val_loss: 1.0864 - val_accuracy: 0.6631\n",
      "Epoch 39/100\n",
      "57/57 [==============================] - 0s 4ms/step - loss: 7.8127e-05 - accuracy: 1.0000 - val_loss: 1.0897 - val_accuracy: 0.6578\n",
      "Epoch 40/100\n",
      "57/57 [==============================] - 0s 4ms/step - loss: 7.4665e-05 - accuracy: 1.0000 - val_loss: 1.0930 - val_accuracy: 0.6578\n",
      "Epoch 41/100\n",
      "57/57 [==============================] - 0s 5ms/step - loss: 7.1081e-05 - accuracy: 1.0000 - val_loss: 1.0972 - val_accuracy: 0.6631\n",
      "Epoch 42/100\n",
      "57/57 [==============================] - 0s 5ms/step - loss: 6.7926e-05 - accuracy: 1.0000 - val_loss: 1.1004 - val_accuracy: 0.6578\n",
      "Epoch 43/100\n",
      "57/57 [==============================] - 0s 4ms/step - loss: 6.4661e-05 - accuracy: 1.0000 - val_loss: 1.1049 - val_accuracy: 0.6631\n",
      "Epoch 44/100\n",
      "57/57 [==============================] - 0s 4ms/step - loss: 6.1854e-05 - accuracy: 1.0000 - val_loss: 1.1084 - val_accuracy: 0.6631\n",
      "Epoch 45/100\n",
      "57/57 [==============================] - 0s 4ms/step - loss: 5.9708e-05 - accuracy: 1.0000 - val_loss: 1.1120 - val_accuracy: 0.6631\n",
      "Epoch 46/100\n",
      "57/57 [==============================] - 0s 5ms/step - loss: 5.6602e-05 - accuracy: 1.0000 - val_loss: 1.1152 - val_accuracy: 0.6578\n",
      "Epoch 47/100\n",
      "57/57 [==============================] - 0s 4ms/step - loss: 5.4069e-05 - accuracy: 1.0000 - val_loss: 1.1192 - val_accuracy: 0.6631\n",
      "Epoch 48/100\n",
      "57/57 [==============================] - 0s 4ms/step - loss: 5.1712e-05 - accuracy: 1.0000 - val_loss: 1.1234 - val_accuracy: 0.6631\n",
      "Epoch 49/100\n",
      "57/57 [==============================] - 0s 4ms/step - loss: 4.9355e-05 - accuracy: 1.0000 - val_loss: 1.1265 - val_accuracy: 0.6631\n",
      "Epoch 50/100\n",
      "57/57 [==============================] - 0s 4ms/step - loss: 4.7197e-05 - accuracy: 1.0000 - val_loss: 1.1298 - val_accuracy: 0.6631\n",
      "Epoch 51/100\n",
      "57/57 [==============================] - 0s 4ms/step - loss: 4.5275e-05 - accuracy: 1.0000 - val_loss: 1.1335 - val_accuracy: 0.6631\n",
      "Epoch 52/100\n",
      "57/57 [==============================] - 0s 5ms/step - loss: 4.3288e-05 - accuracy: 1.0000 - val_loss: 1.1362 - val_accuracy: 0.6578\n",
      "Epoch 53/100\n",
      "57/57 [==============================] - 0s 5ms/step - loss: 4.1623e-05 - accuracy: 1.0000 - val_loss: 1.1394 - val_accuracy: 0.6578\n",
      "Epoch 54/100\n",
      "57/57 [==============================] - 0s 5ms/step - loss: 3.9960e-05 - accuracy: 1.0000 - val_loss: 1.1424 - val_accuracy: 0.6578\n",
      "Epoch 55/100\n",
      "57/57 [==============================] - 0s 4ms/step - loss: 3.8230e-05 - accuracy: 1.0000 - val_loss: 1.1464 - val_accuracy: 0.6631\n",
      "Epoch 56/100\n",
      "57/57 [==============================] - 0s 5ms/step - loss: 3.6620e-05 - accuracy: 1.0000 - val_loss: 1.1502 - val_accuracy: 0.6631\n",
      "Epoch 57/100\n",
      "57/57 [==============================] - 0s 4ms/step - loss: 3.5192e-05 - accuracy: 1.0000 - val_loss: 1.1527 - val_accuracy: 0.6578\n",
      "Epoch 58/100\n",
      "57/57 [==============================] - 0s 5ms/step - loss: 3.3773e-05 - accuracy: 1.0000 - val_loss: 1.1565 - val_accuracy: 0.6578\n",
      "Epoch 59/100\n",
      "57/57 [==============================] - 0s 5ms/step - loss: 3.2357e-05 - accuracy: 1.0000 - val_loss: 1.1595 - val_accuracy: 0.6578\n",
      "Epoch 60/100\n",
      "57/57 [==============================] - 0s 5ms/step - loss: 3.1151e-05 - accuracy: 1.0000 - val_loss: 1.1632 - val_accuracy: 0.6578\n",
      "Epoch 61/100\n",
      "57/57 [==============================] - 0s 4ms/step - loss: 2.9858e-05 - accuracy: 1.0000 - val_loss: 1.1656 - val_accuracy: 0.6578\n",
      "Epoch 62/100\n",
      "57/57 [==============================] - 0s 5ms/step - loss: 2.8743e-05 - accuracy: 1.0000 - val_loss: 1.1693 - val_accuracy: 0.6578\n",
      "Epoch 63/100\n",
      "57/57 [==============================] - 0s 4ms/step - loss: 2.7623e-05 - accuracy: 1.0000 - val_loss: 1.1718 - val_accuracy: 0.6578\n",
      "Epoch 64/100\n",
      "57/57 [==============================] - 0s 5ms/step - loss: 2.6471e-05 - accuracy: 1.0000 - val_loss: 1.1754 - val_accuracy: 0.6578\n",
      "Epoch 65/100\n",
      "57/57 [==============================] - 0s 4ms/step - loss: 2.5440e-05 - accuracy: 1.0000 - val_loss: 1.1795 - val_accuracy: 0.6578\n",
      "Epoch 66/100\n",
      "57/57 [==============================] - 0s 5ms/step - loss: 2.4472e-05 - accuracy: 1.0000 - val_loss: 1.1819 - val_accuracy: 0.6578\n",
      "Epoch 67/100\n",
      "57/57 [==============================] - 0s 5ms/step - loss: 2.3488e-05 - accuracy: 1.0000 - val_loss: 1.1857 - val_accuracy: 0.6578\n",
      "Epoch 68/100\n",
      "57/57 [==============================] - 0s 4ms/step - loss: 2.2622e-05 - accuracy: 1.0000 - val_loss: 1.1886 - val_accuracy: 0.6578\n",
      "Epoch 69/100\n",
      "57/57 [==============================] - 0s 5ms/step - loss: 2.1764e-05 - accuracy: 1.0000 - val_loss: 1.1917 - val_accuracy: 0.6578\n",
      "Epoch 70/100\n",
      "57/57 [==============================] - 0s 5ms/step - loss: 2.0908e-05 - accuracy: 1.0000 - val_loss: 1.1959 - val_accuracy: 0.6578\n",
      "Epoch 71/100\n",
      "57/57 [==============================] - 0s 4ms/step - loss: 2.0161e-05 - accuracy: 1.0000 - val_loss: 1.1983 - val_accuracy: 0.6578\n",
      "Epoch 72/100\n",
      "57/57 [==============================] - 0s 5ms/step - loss: 1.9409e-05 - accuracy: 1.0000 - val_loss: 1.2018 - val_accuracy: 0.6578\n",
      "Epoch 73/100\n",
      "57/57 [==============================] - 0s 5ms/step - loss: 1.8635e-05 - accuracy: 1.0000 - val_loss: 1.2042 - val_accuracy: 0.6578\n",
      "Epoch 74/100\n",
      "57/57 [==============================] - 0s 4ms/step - loss: 1.7954e-05 - accuracy: 1.0000 - val_loss: 1.2076 - val_accuracy: 0.6578\n",
      "Epoch 75/100\n",
      "57/57 [==============================] - 0s 4ms/step - loss: 1.7282e-05 - accuracy: 1.0000 - val_loss: 1.2101 - val_accuracy: 0.6578\n",
      "Epoch 76/100\n",
      "57/57 [==============================] - 0s 4ms/step - loss: 1.6622e-05 - accuracy: 1.0000 - val_loss: 1.2137 - val_accuracy: 0.6578\n",
      "Epoch 77/100\n",
      "57/57 [==============================] - 0s 5ms/step - loss: 1.6062e-05 - accuracy: 1.0000 - val_loss: 1.2167 - val_accuracy: 0.6578\n",
      "Epoch 78/100\n",
      "57/57 [==============================] - 0s 5ms/step - loss: 1.5457e-05 - accuracy: 1.0000 - val_loss: 1.2201 - val_accuracy: 0.6578\n",
      "Epoch 79/100\n",
      "57/57 [==============================] - 0s 5ms/step - loss: 1.4907e-05 - accuracy: 1.0000 - val_loss: 1.2230 - val_accuracy: 0.6578\n",
      "Epoch 80/100\n",
      "57/57 [==============================] - 0s 4ms/step - loss: 1.4357e-05 - accuracy: 1.0000 - val_loss: 1.2255 - val_accuracy: 0.6578\n",
      "Epoch 81/100\n",
      "57/57 [==============================] - 0s 4ms/step - loss: 1.3832e-05 - accuracy: 1.0000 - val_loss: 1.2281 - val_accuracy: 0.6578\n",
      "Epoch 82/100\n",
      "57/57 [==============================] - 0s 5ms/step - loss: 1.3311e-05 - accuracy: 1.0000 - val_loss: 1.2313 - val_accuracy: 0.6578\n",
      "Epoch 83/100\n",
      "57/57 [==============================] - 0s 4ms/step - loss: 1.2860e-05 - accuracy: 1.0000 - val_loss: 1.2346 - val_accuracy: 0.6578\n",
      "Epoch 84/100\n",
      "57/57 [==============================] - 0s 4ms/step - loss: 1.2381e-05 - accuracy: 1.0000 - val_loss: 1.2381 - val_accuracy: 0.6578\n",
      "Epoch 85/100\n",
      "57/57 [==============================] - 0s 4ms/step - loss: 1.1951e-05 - accuracy: 1.0000 - val_loss: 1.2404 - val_accuracy: 0.6578\n",
      "Epoch 86/100\n",
      "57/57 [==============================] - 0s 4ms/step - loss: 1.1511e-05 - accuracy: 1.0000 - val_loss: 1.2428 - val_accuracy: 0.6578\n",
      "Epoch 87/100\n",
      "57/57 [==============================] - 0s 4ms/step - loss: 1.1098e-05 - accuracy: 1.0000 - val_loss: 1.2460 - val_accuracy: 0.6578\n",
      "Epoch 88/100\n",
      "57/57 [==============================] - 0s 5ms/step - loss: 1.0733e-05 - accuracy: 1.0000 - val_loss: 1.2493 - val_accuracy: 0.6578\n",
      "Epoch 89/100\n",
      "57/57 [==============================] - 0s 5ms/step - loss: 1.0326e-05 - accuracy: 1.0000 - val_loss: 1.2524 - val_accuracy: 0.6578\n",
      "Epoch 90/100\n",
      "57/57 [==============================] - 0s 5ms/step - loss: 9.9750e-06 - accuracy: 1.0000 - val_loss: 1.2544 - val_accuracy: 0.6524\n",
      "Epoch 91/100\n",
      "57/57 [==============================] - 0s 5ms/step - loss: 9.6365e-06 - accuracy: 1.0000 - val_loss: 1.2579 - val_accuracy: 0.6578\n",
      "Epoch 92/100\n",
      "57/57 [==============================] - 0s 5ms/step - loss: 9.2895e-06 - accuracy: 1.0000 - val_loss: 1.2604 - val_accuracy: 0.6524\n",
      "Epoch 93/100\n",
      "57/57 [==============================] - 0s 5ms/step - loss: 8.9615e-06 - accuracy: 1.0000 - val_loss: 1.2648 - val_accuracy: 0.6578\n",
      "Epoch 94/100\n",
      "57/57 [==============================] - 0s 4ms/step - loss: 8.6553e-06 - accuracy: 1.0000 - val_loss: 1.2679 - val_accuracy: 0.6578\n",
      "Epoch 95/100\n",
      "57/57 [==============================] - 0s 5ms/step - loss: 8.3415e-06 - accuracy: 1.0000 - val_loss: 1.2699 - val_accuracy: 0.6578\n",
      "Epoch 96/100\n",
      "57/57 [==============================] - 0s 5ms/step - loss: 8.0543e-06 - accuracy: 1.0000 - val_loss: 1.2730 - val_accuracy: 0.6524\n",
      "Epoch 97/100\n",
      "57/57 [==============================] - 0s 4ms/step - loss: 7.7638e-06 - accuracy: 1.0000 - val_loss: 1.2768 - val_accuracy: 0.6578\n",
      "Epoch 98/100\n",
      "57/57 [==============================] - 0s 4ms/step - loss: 7.4967e-06 - accuracy: 1.0000 - val_loss: 1.2793 - val_accuracy: 0.6578\n",
      "Epoch 99/100\n",
      "57/57 [==============================] - 0s 4ms/step - loss: 7.2255e-06 - accuracy: 1.0000 - val_loss: 1.2813 - val_accuracy: 0.6524\n",
      "Epoch 100/100\n",
      "57/57 [==============================] - 0s 5ms/step - loss: 6.9909e-06 - accuracy: 1.0000 - val_loss: 1.2846 - val_accuracy: 0.6524\n"
     ]
    }
   ],
   "source": [
    "history = model.fit(X_train, y_train,\n",
    "                    epochs=100,\n",
    "                    verbose=True,\n",
    "                    validation_data=(X_test, y_test),\n",
    "                    batch_size=10)"
   ]
  },
  {
   "cell_type": "code",
   "execution_count": 54,
   "metadata": {
    "colab": {
     "base_uri": "https://localhost:8080/"
    },
    "executionInfo": {
     "elapsed": 187,
     "status": "ok",
     "timestamp": 1640617056975,
     "user": {
      "displayName": "Michael Vasiliou",
      "photoUrl": "https://lh3.googleusercontent.com/a/default-user=s64",
      "userId": "07079983815732559270"
     },
     "user_tz": 300
    },
    "id": "rNY1xj2WSpdH",
    "outputId": "4f08c9ac-6235-41b4-fff9-9eba12a845c6"
   },
   "outputs": [
    {
     "name": "stdout",
     "output_type": "stream",
     "text": [
      "Training Accuracy: 1.0000\n",
      "Testing Accuracy:  0.6524\n"
     ]
    }
   ],
   "source": [
    "loss, accuracy = model.evaluate(X_train, y_train, verbose=False)\n",
    "print(\"Training Accuracy: {:.4f}\".format(accuracy))\n",
    "loss, accuracy = model.evaluate(X_test, y_test, verbose=False)\n",
    "print(\"Testing Accuracy:  {:.4f}\".format(accuracy))"
   ]
  },
  {
   "cell_type": "code",
   "execution_count": 55,
   "metadata": {
    "executionInfo": {
     "elapsed": 6,
     "status": "ok",
     "timestamp": 1640617056976,
     "user": {
      "displayName": "Michael Vasiliou",
      "photoUrl": "https://lh3.googleusercontent.com/a/default-user=s64",
      "userId": "07079983815732559270"
     },
     "user_tz": 300
    },
    "id": "5Rs900bcTBMJ"
   },
   "outputs": [],
   "source": [
    "#from keras.backend import clear_session\n",
    "#clear_session()"
   ]
  },
  {
   "cell_type": "code",
   "execution_count": 56,
   "metadata": {
    "executionInfo": {
     "elapsed": 7,
     "status": "ok",
     "timestamp": 1640617056977,
     "user": {
      "displayName": "Michael Vasiliou",
      "photoUrl": "https://lh3.googleusercontent.com/a/default-user=s64",
      "userId": "07079983815732559270"
     },
     "user_tz": 300
    },
    "id": "RYmU6ZgNTcEW"
   },
   "outputs": [],
   "source": [
    "plt.style.use('ggplot')\n",
    "\n",
    "def plot_history(history):\n",
    "    acc = history.history['accuracy']\n",
    "    val_acc = history.history['val_accuracy']\n",
    "    loss = history.history['loss']\n",
    "    val_loss = history.history['val_loss']\n",
    "    x = range(1, len(acc) + 1)\n",
    "\n",
    "    plt.figure(figsize=(12, 5))\n",
    "    plt.subplot(1, 2, 1)\n",
    "    plt.plot(x, acc, 'b', label='Training acc')\n",
    "    plt.plot(x, val_acc, 'r', label='Validation acc')\n",
    "    plt.title('Training and validation accuracy')\n",
    "    plt.legend()\n",
    "    plt.subplot(1, 2, 2)\n",
    "    plt.plot(x, loss, 'b', label='Training loss')\n",
    "    plt.plot(x, val_loss, 'r', label='Validation loss')\n",
    "    plt.title('Training and validation loss')\n",
    "    plt.legend()"
   ]
  },
  {
   "cell_type": "code",
   "execution_count": 57,
   "metadata": {
    "colab": {
     "base_uri": "https://localhost:8080/",
     "height": 337
    },
    "executionInfo": {
     "elapsed": 343,
     "status": "ok",
     "timestamp": 1640617057314,
     "user": {
      "displayName": "Michael Vasiliou",
      "photoUrl": "https://lh3.googleusercontent.com/a/default-user=s64",
      "userId": "07079983815732559270"
     },
     "user_tz": 300
    },
    "id": "smOF_N6zTfyj",
    "outputId": "fcc2e63a-e7d5-4711-af97-cfd76786f473"
   },
   "outputs": [
    {
     "data": {
      "image/png": "[encoded data removed]",
      "text/plain": [
       "<Figure size 864x360 with 2 Axes>"
      ]
     },
     "metadata": {},
     "output_type": "display_data"
    }
   ],
   "source": [
    "plot_history(history)"
   ]
  },
  {
   "cell_type": "code",
   "execution_count": 58,
   "metadata": {
    "colab": {
     "base_uri": "https://localhost:8080/"
    },
    "executionInfo": {
     "elapsed": 143,
     "status": "ok",
     "timestamp": 1640617057452,
     "user": {
      "displayName": "Michael Vasiliou",
      "photoUrl": "https://lh3.googleusercontent.com/a/default-user=s64",
      "userId": "07079983815732559270"
     },
     "user_tz": 300
    },
    "id": "dqsJO8k5TpkY",
    "outputId": "78a202e2-7860-45e8-bbb5-215422a25748"
   },
   "outputs": [
    {
     "name": "stdout",
     "output_type": "stream",
     "text": [
      "dict_keys(['loss', 'accuracy', 'val_loss', 'val_accuracy'])\n"
     ]
    }
   ],
   "source": [
    "print(history.history.keys())\n",
    "#dict_keys(['loss'])"
   ]
  },
  {
   "cell_type": "code",
   "execution_count": 59,
   "metadata": {
    "colab": {
     "base_uri": "https://localhost:8080/"
    },
    "executionInfo": {
     "elapsed": 12,
     "status": "ok",
     "timestamp": 1640617057452,
     "user": {
      "displayName": "Michael Vasiliou",
      "photoUrl": "https://lh3.googleusercontent.com/a/default-user=s64",
      "userId": "07079983815732559270"
     },
     "user_tz": 300
    },
    "id": "H-JKRCvaVQBk",
    "outputId": "8702d512-48b0-460e-cabf-b4fe299e0b45"
   },
   "outputs": [
    {
     "name": "stdout",
     "output_type": "stream",
     "text": [
      "['London', 'Berlin', 'Berlin', 'New York', 'London']\n",
      "[1 0 0 2 1]\n"
     ]
    }
   ],
   "source": [
    "cities = ['London', 'Berlin', 'Berlin', 'New York', 'London']\n",
    "print(cities)\n",
    "from sklearn.preprocessing import LabelEncoder\n",
    "\n",
    "encoder = LabelEncoder()\n",
    "city_labels = encoder.fit_transform(cities)\n",
    "print(city_labels)\n",
    "\n"
   ]
  },
  {
   "cell_type": "code",
   "execution_count": 60,
   "metadata": {
    "colab": {
     "base_uri": "https://localhost:8080/"
    },
    "executionInfo": {
     "elapsed": 10,
     "status": "ok",
     "timestamp": 1640617057452,
     "user": {
      "displayName": "Michael Vasiliou",
      "photoUrl": "https://lh3.googleusercontent.com/a/default-user=s64",
      "userId": "07079983815732559270"
     },
     "user_tz": 300
    },
    "id": "DdkXDx8dVZuB",
    "outputId": "7799a124-5042-4470-8a54-a7a78a42002e"
   },
   "outputs": [
    {
     "name": "stdout",
     "output_type": "stream",
     "text": [
      "[[1]\n",
      " [0]\n",
      " [0]\n",
      " [2]\n",
      " [1]]\n"
     ]
    },
    {
     "data": {
      "text/plain": [
       "array([[0., 1., 0.],\n",
       "       [1., 0., 0.],\n",
       "       [1., 0., 0.],\n",
       "       [0., 0., 1.],\n",
       "       [0., 1., 0.]])"
      ]
     },
     "execution_count": 60,
     "metadata": {},
     "output_type": "execute_result"
    }
   ],
   "source": [
    "from sklearn.preprocessing import OneHotEncoder\n",
    "\n",
    "encoder = OneHotEncoder(sparse=False)\n",
    "city_labels = city_labels.reshape((5, 1))\n",
    "print(city_labels)\n",
    "encoder.fit_transform(city_labels)"
   ]
  },
  {
   "cell_type": "code",
   "execution_count": 61,
   "metadata": {
    "colab": {
     "base_uri": "https://localhost:8080/"
    },
    "executionInfo": {
     "elapsed": 10,
     "status": "ok",
     "timestamp": 1640617057453,
     "user": {
      "displayName": "Michael Vasiliou",
      "photoUrl": "https://lh3.googleusercontent.com/a/default-user=s64",
      "userId": "07079983815732559270"
     },
     "user_tz": 300
    },
    "id": "huOurOW1WkGs",
    "outputId": "3e76142a-2f93-4210-db8f-34672cdb31db"
   },
   "outputs": [
    {
     "name": "stdout",
     "output_type": "stream",
     "text": [
      "I am a fan of his ... This movie sucked really bad.  \n",
      "[7, 150, 2, 932, 4, 49, 6, 11, 563, 45, 30]\n"
     ]
    }
   ],
   "source": [
    "from keras.preprocessing.text import Tokenizer\n",
    "\n",
    "tokenizer = Tokenizer(num_words=5000)\n",
    "tokenizer.fit_on_texts(sentences_train)\n",
    "\n",
    "X_train = tokenizer.texts_to_sequences(sentences_train)\n",
    "X_test = tokenizer.texts_to_sequences(sentences_test)\n",
    "\n",
    "vocab_size = len(tokenizer.word_index) + 1  # Adding 1 because of reserved 0 index\n",
    "\n",
    "print(sentences_train[2])\n",
    "print(X_train[2])"
   ]
  },
  {
   "cell_type": "code",
   "execution_count": 62,
   "metadata": {
    "colab": {
     "base_uri": "https://localhost:8080/"
    },
    "executionInfo": {
     "elapsed": 9,
     "status": "ok",
     "timestamp": 1640617057453,
     "user": {
      "displayName": "Michael Vasiliou",
      "photoUrl": "https://lh3.googleusercontent.com/a/default-user=s64",
      "userId": "07079983815732559270"
     },
     "user_tz": 300
    },
    "id": "A6cbdh_AXHIq",
    "outputId": "6baea034-3a00-4970-c7e7-3c5bfd1876ce"
   },
   "outputs": [
    {
     "name": "stdout",
     "output_type": "stream",
     "text": [
      "the: 1\n",
      "all: 27\n",
      "fan: 932\n",
      "sucked: 563\n"
     ]
    }
   ],
   "source": [
    "for word in ['the', 'all', 'fan', 'sucked']:\n",
    "    print('{}: {}'.format(word, tokenizer.word_index[word]))"
   ]
  },
  {
   "cell_type": "code",
   "execution_count": 63,
   "metadata": {
    "colab": {
     "base_uri": "https://localhost:8080/"
    },
    "executionInfo": {
     "elapsed": 7,
     "status": "ok",
     "timestamp": 1640617057453,
     "user": {
      "displayName": "Michael Vasiliou",
      "photoUrl": "https://lh3.googleusercontent.com/a/default-user=s64",
      "userId": "07079983815732559270"
     },
     "user_tz": 300
    },
    "id": "Ux1JDNTwXguv",
    "outputId": "7b6a53e6-463e-4beb-9ad1-a0dcc23bf75a"
   },
   "outputs": [
    {
     "name": "stdout",
     "output_type": "stream",
     "text": [
      "[170 116 390  35   0   0   0   0   0   0   0   0   0   0   0   0   0   0\n",
      "   0   0   0   0   0   0   0   0   0   0   0   0   0   0   0   0   0   0\n",
      "   0   0   0   0   0   0   0   0   0   0   0   0   0   0   0   0   0   0\n",
      "   0   0   0   0   0   0   0   0   0   0   0   0   0   0   0   0   0   0\n",
      "   0   0   0   0   0   0   0   0   0   0   0   0   0   0   0   0   0   0\n",
      "   0   0   0   0   0   0   0   0   0   0]\n"
     ]
    }
   ],
   "source": [
    "from keras.preprocessing.sequence import pad_sequences\n",
    "\n",
    "maxlen = 100\n",
    "\n",
    "X_train = pad_sequences(X_train, padding='post', maxlen=maxlen)\n",
    "X_test = pad_sequences(X_test, padding='post', maxlen=maxlen)\n",
    "\n",
    "print(X_train[0, :])"
   ]
  },
  {
   "cell_type": "code",
   "execution_count": 64,
   "metadata": {
    "colab": {
     "base_uri": "https://localhost:8080/"
    },
    "executionInfo": {
     "elapsed": 7,
     "status": "ok",
     "timestamp": 1640617057454,
     "user": {
      "displayName": "Michael Vasiliou",
      "photoUrl": "https://lh3.googleusercontent.com/a/default-user=s64",
      "userId": "07079983815732559270"
     },
     "user_tz": 300
    },
    "id": "4GmA7jj-YLe3",
    "outputId": "3db3eeed-02ab-40c4-8251-c6954e35afff"
   },
   "outputs": [
    {
     "name": "stdout",
     "output_type": "stream",
     "text": [
      "Model: \"sequential_2\"\n",
      "_________________________________________________________________\n",
      " Layer (type)                Output Shape              Param #   \n",
      "=================================================================\n",
      " embedding_1 (Embedding)     (None, 100, 50)           128750    \n",
      "                                                                 \n",
      " flatten_1 (Flatten)         (None, 5000)              0         \n",
      "                                                                 \n",
      " dense_4 (Dense)             (None, 10)                50010     \n",
      "                                                                 \n",
      " dense_5 (Dense)             (None, 1)                 11        \n",
      "                                                                 \n",
      "=================================================================\n",
      "Total params: 178,771\n",
      "Trainable params: 178,771\n",
      "Non-trainable params: 0\n",
      "_________________________________________________________________\n"
     ]
    }
   ],
   "source": [
    "from keras.models import Sequential\n",
    "from keras import layers\n",
    "\n",
    "embedding_dim = 50\n",
    "\n",
    "model = Sequential()\n",
    "model.add(layers.Embedding(input_dim=vocab_size, \n",
    "                           output_dim=embedding_dim, \n",
    "                           input_length=maxlen))\n",
    "model.add(layers.Flatten())\n",
    "model.add(layers.Dense(10, activation='relu'))\n",
    "model.add(layers.Dense(1, activation='sigmoid'))\n",
    "model.compile(optimizer='adam',\n",
    "              loss='binary_crossentropy',\n",
    "              metrics=['accuracy'])\n",
    "model.summary()"
   ]
  },
  {
   "cell_type": "code",
   "execution_count": 65,
   "metadata": {
    "colab": {
     "base_uri": "https://localhost:8080/",
     "height": 372
    },
    "executionInfo": {
     "elapsed": 6250,
     "status": "ok",
     "timestamp": 1640617063699,
     "user": {
      "displayName": "Michael Vasiliou",
      "photoUrl": "https://lh3.googleusercontent.com/a/default-user=s64",
      "userId": "07079983815732559270"
     },
     "user_tz": 300
    },
    "id": "S6mK19GOY-Gx",
    "outputId": "c20b978e-b003-4648-fd58-95b5be58198d"
   },
   "outputs": [
    {
     "name": "stdout",
     "output_type": "stream",
     "text": [
      "Training Accuracy: 1.0000\n",
      "Testing Accuracy:  0.6364\n"
     ]
    },
    {
     "data": {
      "image/png": "[encoded data removed]",
      "text/plain": [
       "<Figure size 864x360 with 2 Axes>"
      ]
     },
     "metadata": {},
     "output_type": "display_data"
    }
   ],
   "source": [
    "history = model.fit(X_train, y_train,\n",
    "                    epochs=20,\n",
    "                    verbose=False,\n",
    "                    validation_data=(X_test, y_test),\n",
    "                    batch_size=10)\n",
    "loss, accuracy = model.evaluate(X_train, y_train, verbose=False)\n",
    "print(\"Training Accuracy: {:.4f}\".format(accuracy))\n",
    "loss, accuracy = model.evaluate(X_test, y_test, verbose=False)\n",
    "print(\"Testing Accuracy:  {:.4f}\".format(accuracy))\n",
    "plot_history(history)"
   ]
  },
  {
   "cell_type": "code",
   "execution_count": 66,
   "metadata": {
    "colab": {
     "base_uri": "https://localhost:8080/"
    },
    "executionInfo": {
     "elapsed": 153,
     "status": "ok",
     "timestamp": 1640617167420,
     "user": {
      "displayName": "Michael Vasiliou",
      "photoUrl": "https://lh3.googleusercontent.com/a/default-user=s64",
      "userId": "07079983815732559270"
     },
     "user_tz": 300
    },
    "id": "-xNWHh_IZ0RA",
    "outputId": "9be0e232-dfb6-4946-fcc4-74ce2f92c52e"
   },
   "outputs": [
    {
     "name": "stdout",
     "output_type": "stream",
     "text": [
      "Model: \"sequential_3\"\n",
      "_________________________________________________________________\n",
      " Layer (type)                Output Shape              Param #   \n",
      "=================================================================\n",
      " embedding_2 (Embedding)     (None, 100, 50)           128750    \n",
      "                                                                 \n",
      " global_max_pooling1d (Globa  (None, 50)               0         \n",
      " lMaxPooling1D)                                                  \n",
      "                                                                 \n",
      " dense_6 (Dense)             (None, 10)                510       \n",
      "                                                                 \n",
      " dense_7 (Dense)             (None, 1)                 11        \n",
      "                                                                 \n",
      "=================================================================\n",
      "Total params: 129,271\n",
      "Trainable params: 129,271\n",
      "Non-trainable params: 0\n",
      "_________________________________________________________________\n"
     ]
    }
   ],
   "source": [
    "from keras.models import Sequential\n",
    "from keras import layers\n",
    "\n",
    "embedding_dim = 50\n",
    "\n",
    "model = Sequential()\n",
    "model.add(layers.Embedding(input_dim=vocab_size, \n",
    "                           output_dim=embedding_dim, \n",
    "                           input_length=maxlen))\n",
    "model.add(layers.GlobalMaxPool1D())\n",
    "model.add(layers.Dense(10, activation='relu'))\n",
    "model.add(layers.Dense(1, activation='sigmoid'))\n",
    "model.compile(optimizer='adam',\n",
    "              loss='binary_crossentropy',\n",
    "              metrics=['accuracy'])\n",
    "model.summary()"
   ]
  },
  {
   "cell_type": "code",
   "execution_count": 67,
   "metadata": {
    "colab": {
     "base_uri": "https://localhost:8080/",
     "height": 372
    },
    "executionInfo": {
     "elapsed": 22382,
     "status": "ok",
     "timestamp": 1640617211805,
     "user": {
      "displayName": "Michael Vasiliou",
      "photoUrl": "https://lh3.googleusercontent.com/a/default-user=s64",
      "userId": "07079983815732559270"
     },
     "user_tz": 300
    },
    "id": "0M57ofX1Z5td",
    "outputId": "2bd12365-f86a-4b1e-fc1a-d20d1dc59c6c"
   },
   "outputs": [
    {
     "name": "stdout",
     "output_type": "stream",
     "text": [
      "Training Accuracy: 1.0000\n",
      "Testing Accuracy:  0.7487\n"
     ]
    },
    {
     "data": {
      "image/png": "[encoded data removed]",
      "text/plain": [
       "<Figure size 864x360 with 2 Axes>"
      ]
     },
     "metadata": {},
     "output_type": "display_data"
    }
   ],
   "source": [
    "history = model.fit(X_train, y_train,\n",
    "                    epochs=50,\n",
    "                    verbose=False,\n",
    "                    validation_data=(X_test, y_test),\n",
    "                    batch_size=10)\n",
    "loss, accuracy = model.evaluate(X_train, y_train, verbose=False)\n",
    "print(\"Training Accuracy: {:.4f}\".format(accuracy))\n",
    "loss, accuracy = model.evaluate(X_test, y_test, verbose=False)\n",
    "print(\"Testing Accuracy:  {:.4f}\".format(accuracy))\n",
    "plot_history(history)"
   ]
  },
  {
   "cell_type": "code",
   "execution_count": 68,
   "metadata": {
    "executionInfo": {
     "elapsed": 151,
     "status": "ok",
     "timestamp": 1640617453514,
     "user": {
      "displayName": "Michael Vasiliou",
      "photoUrl": "https://lh3.googleusercontent.com/a/default-user=s64",
      "userId": "07079983815732559270"
     },
     "user_tz": 300
    },
    "id": "0ZRRUs9Xa6LE"
   },
   "outputs": [],
   "source": [
    "import numpy as np\n",
    "\n",
    "def create_embedding_matrix(filepath, word_index, embedding_dim):\n",
    "    vocab_size = len(word_index) + 1  # Adding again 1 because of reserved 0 index\n",
    "    embedding_matrix = np.zeros((vocab_size, embedding_dim))\n",
    "\n",
    "    with open(filepath) as f:\n",
    "        for line in f:\n",
    "            word, *vector = line.split()\n",
    "            if word in word_index:\n",
    "                idx = word_index[word] \n",
    "                embedding_matrix[idx] = np.array(\n",
    "                    vector, dtype=np.float32)[:embedding_dim]\n",
    "\n",
    "    return embedding_matrix"
   ]
  },
  {
   "cell_type": "code",
   "execution_count": 70,
   "metadata": {
    "executionInfo": {
     "elapsed": 3730,
     "status": "ok",
     "timestamp": 1640618171254,
     "user": {
      "displayName": "Michael Vasiliou",
      "photoUrl": "https://lh3.googleusercontent.com/a/default-user=s64",
      "userId": "07079983815732559270"
     },
     "user_tz": 300
    },
    "id": "UAizvutya9Rm"
   },
   "outputs": [],
   "source": [
    "embedding_dim = 50\n",
    "embedding_matrix = create_embedding_matrix(\n",
    "    jarvis.DATA_DIR + '/glove.6B.50d.txt',\n",
    "    tokenizer.word_index, embedding_dim)"
   ]
  },
  {
   "cell_type": "code",
   "execution_count": 71,
   "metadata": {
    "colab": {
     "base_uri": "https://localhost:8080/"
    },
    "executionInfo": {
     "elapsed": 180,
     "status": "ok",
     "timestamp": 1640618180109,
     "user": {
      "displayName": "Michael Vasiliou",
      "photoUrl": "https://lh3.googleusercontent.com/a/default-user=s64",
      "userId": "07079983815732559270"
     },
     "user_tz": 300
    },
    "id": "WfsUa6w4drfK",
    "outputId": "fdb6daba-d2df-4d75-bae2-9dfb749bce9c"
   },
   "outputs": [
    {
     "data": {
      "text/plain": [
       "0.9522330097087378"
      ]
     },
     "execution_count": 71,
     "metadata": {},
     "output_type": "execute_result"
    }
   ],
   "source": [
    "nonzero_elements = np.count_nonzero(np.count_nonzero(embedding_matrix, axis=1))\n",
    "nonzero_elements / vocab_size\n"
   ]
  },
  {
   "cell_type": "code",
   "execution_count": 72,
   "metadata": {
    "colab": {
     "base_uri": "https://localhost:8080/"
    },
    "executionInfo": {
     "elapsed": 176,
     "status": "ok",
     "timestamp": 1640618192267,
     "user": {
      "displayName": "Michael Vasiliou",
      "photoUrl": "https://lh3.googleusercontent.com/a/default-user=s64",
      "userId": "07079983815732559270"
     },
     "user_tz": 300
    },
    "id": "ZNHbwswydug-",
    "outputId": "e49dfbfa-176d-4927-d912-f624ae751bce"
   },
   "outputs": [
    {
     "name": "stdout",
     "output_type": "stream",
     "text": [
      "Model: \"sequential_4\"\n",
      "_________________________________________________________________\n",
      " Layer (type)                Output Shape              Param #   \n",
      "=================================================================\n",
      " embedding_3 (Embedding)     (None, 100, 50)           128750    \n",
      "                                                                 \n",
      " global_max_pooling1d_1 (Glo  (None, 50)               0         \n",
      " balMaxPooling1D)                                                \n",
      "                                                                 \n",
      " dense_8 (Dense)             (None, 10)                510       \n",
      "                                                                 \n",
      " dense_9 (Dense)             (None, 1)                 11        \n",
      "                                                                 \n",
      "=================================================================\n",
      "Total params: 129,271\n",
      "Trainable params: 521\n",
      "Non-trainable params: 128,750\n",
      "_________________________________________________________________\n"
     ]
    }
   ],
   "source": [
    "model = Sequential()\n",
    "model.add(layers.Embedding(vocab_size, embedding_dim, \n",
    "                           weights=[embedding_matrix], \n",
    "                           input_length=maxlen, \n",
    "                           trainable=False))\n",
    "model.add(layers.GlobalMaxPool1D())\n",
    "model.add(layers.Dense(10, activation='relu'))\n",
    "model.add(layers.Dense(1, activation='sigmoid'))\n",
    "model.compile(optimizer='adam',\n",
    "              loss='binary_crossentropy',\n",
    "              metrics=['accuracy'])\n",
    "model.summary()"
   ]
  },
  {
   "cell_type": "code",
   "execution_count": 73,
   "metadata": {
    "colab": {
     "base_uri": "https://localhost:8080/",
     "height": 372
    },
    "executionInfo": {
     "elapsed": 11760,
     "status": "ok",
     "timestamp": 1640618214169,
     "user": {
      "displayName": "Michael Vasiliou",
      "photoUrl": "https://lh3.googleusercontent.com/a/default-user=s64",
      "userId": "07079983815732559270"
     },
     "user_tz": 300
    },
    "id": "u2CzpN_GdxCE",
    "outputId": "3ad823b4-3db3-44b9-e6dc-9846a902c5da"
   },
   "outputs": [
    {
     "name": "stdout",
     "output_type": "stream",
     "text": [
      "Training Accuracy: 0.7807\n",
      "Testing Accuracy:  0.7540\n"
     ]
    },
    {
     "data": {
      "image/png": "[encoded data removed]",
      "text/plain": [
       "<Figure size 864x360 with 2 Axes>"
      ]
     },
     "metadata": {},
     "output_type": "display_data"
    }
   ],
   "source": [
    "history = model.fit(X_train, y_train,\n",
    "                    epochs=50,\n",
    "                    verbose=False,\n",
    "                    validation_data=(X_test, y_test),\n",
    "                    batch_size=10)\n",
    "loss, accuracy = model.evaluate(X_train, y_train, verbose=False)\n",
    "print(\"Training Accuracy: {:.4f}\".format(accuracy))\n",
    "loss, accuracy = model.evaluate(X_test, y_test, verbose=False)\n",
    "print(\"Testing Accuracy:  {:.4f}\".format(accuracy))\n",
    "plot_history(history)"
   ]
  },
  {
   "cell_type": "code",
   "execution_count": 74,
   "metadata": {
    "colab": {
     "base_uri": "https://localhost:8080/"
    },
    "executionInfo": {
     "elapsed": 129,
     "status": "ok",
     "timestamp": 1640618259982,
     "user": {
      "displayName": "Michael Vasiliou",
      "photoUrl": "https://lh3.googleusercontent.com/a/default-user=s64",
      "userId": "07079983815732559270"
     },
     "user_tz": 300
    },
    "id": "itVBn2f2d-E4",
    "outputId": "2d2b4f32-5958-4d9c-94c7-aa4305fe4dde"
   },
   "outputs": [
    {
     "name": "stdout",
     "output_type": "stream",
     "text": [
      "Model: \"sequential_5\"\n",
      "_________________________________________________________________\n",
      " Layer (type)                Output Shape              Param #   \n",
      "=================================================================\n",
      " embedding_4 (Embedding)     (None, 100, 50)           128750    \n",
      "                                                                 \n",
      " global_max_pooling1d_2 (Glo  (None, 50)               0         \n",
      " balMaxPooling1D)                                                \n",
      "                                                                 \n",
      " dense_10 (Dense)            (None, 10)                510       \n",
      "                                                                 \n",
      " dense_11 (Dense)            (None, 1)                 11        \n",
      "                                                                 \n",
      "=================================================================\n",
      "Total params: 129,271\n",
      "Trainable params: 129,271\n",
      "Non-trainable params: 0\n",
      "_________________________________________________________________\n"
     ]
    }
   ],
   "source": [
    "model = Sequential()\n",
    "model.add(layers.Embedding(vocab_size, embedding_dim, \n",
    "                           weights=[embedding_matrix], \n",
    "                           input_length=maxlen, \n",
    "                           trainable=True))\n",
    "model.add(layers.GlobalMaxPool1D())\n",
    "model.add(layers.Dense(10, activation='relu'))\n",
    "model.add(layers.Dense(1, activation='sigmoid'))\n",
    "model.compile(optimizer='adam',\n",
    "              loss='binary_crossentropy',\n",
    "              metrics=['accuracy'])\n",
    "model.summary()"
   ]
  },
  {
   "cell_type": "code",
   "execution_count": 75,
   "metadata": {
    "colab": {
     "base_uri": "https://localhost:8080/",
     "height": 372
    },
    "executionInfo": {
     "elapsed": 22078,
     "status": "ok",
     "timestamp": 1640618302959,
     "user": {
      "displayName": "Michael Vasiliou",
      "photoUrl": "https://lh3.googleusercontent.com/a/default-user=s64",
      "userId": "07079983815732559270"
     },
     "user_tz": 300
    },
    "id": "C_LY-4KyeEN-",
    "outputId": "dfdca329-f836-443e-86b9-f5286175bc7c"
   },
   "outputs": [
    {
     "name": "stdout",
     "output_type": "stream",
     "text": [
      "Training Accuracy: 1.0000\n",
      "Testing Accuracy:  0.7861\n"
     ]
    },
    {
     "data": {
      "image/png": "[encoded data removed]",
      "text/plain": [
       "<Figure size 864x360 with 2 Axes>"
      ]
     },
     "metadata": {},
     "output_type": "display_data"
    }
   ],
   "source": [
    "history = model.fit(X_train, y_train,\n",
    "                    epochs=50,\n",
    "                    verbose=False,\n",
    "                    validation_data=(X_test, y_test),\n",
    "                    batch_size=10)\n",
    "loss, accuracy = model.evaluate(X_train, y_train, verbose=False)\n",
    "print(\"Training Accuracy: {:.4f}\".format(accuracy))\n",
    "loss, accuracy = model.evaluate(X_test, y_test, verbose=False)\n",
    "print(\"Testing Accuracy:  {:.4f}\".format(accuracy))\n",
    "plot_history(history)"
   ]
  },
  {
   "cell_type": "code",
   "execution_count": 76,
   "metadata": {
    "colab": {
     "base_uri": "https://localhost:8080/"
    },
    "executionInfo": {
     "elapsed": 333,
     "status": "ok",
     "timestamp": 1640618844861,
     "user": {
      "displayName": "Michael Vasiliou",
      "photoUrl": "https://lh3.googleusercontent.com/a/default-user=s64",
      "userId": "07079983815732559270"
     },
     "user_tz": 300
    },
    "id": "IhOyY9eGgN0R",
    "outputId": "b6a27697-9501-48c8-a0ff-092941f065a2"
   },
   "outputs": [
    {
     "name": "stdout",
     "output_type": "stream",
     "text": [
      "Model: \"sequential_6\"\n",
      "_________________________________________________________________\n",
      " Layer (type)                Output Shape              Param #   \n",
      "=================================================================\n",
      " embedding_5 (Embedding)     (None, 100, 100)          257500    \n",
      "                                                                 \n",
      " conv1d (Conv1D)             (None, 96, 128)           64128     \n",
      "                                                                 \n",
      " global_max_pooling1d_3 (Glo  (None, 128)              0         \n",
      " balMaxPooling1D)                                                \n",
      "                                                                 \n",
      " dense_12 (Dense)            (None, 10)                1290      \n",
      "                                                                 \n",
      " dense_13 (Dense)            (None, 1)                 11        \n",
      "                                                                 \n",
      "=================================================================\n",
      "Total params: 322,929\n",
      "Trainable params: 322,929\n",
      "Non-trainable params: 0\n",
      "_________________________________________________________________\n"
     ]
    }
   ],
   "source": [
    "embedding_dim = 100\n",
    "\n",
    "model = Sequential()\n",
    "model.add(layers.Embedding(vocab_size, embedding_dim, input_length=maxlen))\n",
    "model.add(layers.Conv1D(128, 5, activation='relu'))\n",
    "model.add(layers.GlobalMaxPooling1D())\n",
    "model.add(layers.Dense(10, activation='relu'))\n",
    "model.add(layers.Dense(1, activation='sigmoid'))\n",
    "model.compile(optimizer='adam',\n",
    "              loss='binary_crossentropy',\n",
    "              metrics=['accuracy'])\n",
    "model.summary()"
   ]
  },
  {
   "cell_type": "code",
   "execution_count": 77,
   "metadata": {
    "colab": {
     "base_uri": "https://localhost:8080/",
     "height": 372
    },
    "executionInfo": {
     "elapsed": 11807,
     "status": "ok",
     "timestamp": 1640618880715,
     "user": {
      "displayName": "Michael Vasiliou",
      "photoUrl": "https://lh3.googleusercontent.com/a/default-user=s64",
      "userId": "07079983815732559270"
     },
     "user_tz": 300
    },
    "id": "Jns1VIrdgTyU",
    "outputId": "631b4eb4-9e29-4851-c382-faf5f1cd3a2a"
   },
   "outputs": [
    {
     "name": "stdout",
     "output_type": "stream",
     "text": [
      "Training Accuracy: 1.0000\n",
      "Testing Accuracy:  0.7914\n"
     ]
    },
    {
     "data": {
      "image/png": "[encoded data removed]",
      "text/plain": [
       "<Figure size 864x360 with 2 Axes>"
      ]
     },
     "metadata": {},
     "output_type": "display_data"
    }
   ],
   "source": [
    "history = model.fit(X_train, y_train,\n",
    "                    epochs=10,\n",
    "                    verbose=False,\n",
    "                    validation_data=(X_test, y_test),\n",
    "                    batch_size=10)\n",
    "loss, accuracy = model.evaluate(X_train, y_train, verbose=False)\n",
    "print(\"Training Accuracy: {:.4f}\".format(accuracy))\n",
    "loss, accuracy = model.evaluate(X_test, y_test, verbose=False)\n",
    "print(\"Testing Accuracy:  {:.4f}\".format(accuracy))\n",
    "plot_history(history)"
   ]
  },
  {
   "cell_type": "code",
   "execution_count": 78,
   "metadata": {
    "executionInfo": {
     "elapsed": 139,
     "status": "ok",
     "timestamp": 1640619059449,
     "user": {
      "displayName": "Michael Vasiliou",
      "photoUrl": "https://lh3.googleusercontent.com/a/default-user=s64",
      "userId": "07079983815732559270"
     },
     "user_tz": 300
    },
    "id": "XfV3yLrPghk8"
   },
   "outputs": [],
   "source": [
    "def create_model(num_filters, kernel_size, vocab_size, embedding_dim, maxlen):\n",
    "    model = Sequential()\n",
    "    model.add(layers.Embedding(vocab_size, embedding_dim, input_length=maxlen))\n",
    "    model.add(layers.Conv1D(num_filters, kernel_size, activation='relu'))\n",
    "    model.add(layers.GlobalMaxPooling1D())\n",
    "    model.add(layers.Dense(10, activation='relu'))\n",
    "    model.add(layers.Dense(1, activation='sigmoid'))\n",
    "    model.compile(optimizer='adam',\n",
    "                  loss='binary_crossentropy',\n",
    "                  metrics=['accuracy'])\n",
    "    return model"
   ]
  },
  {
   "cell_type": "code",
   "execution_count": 79,
   "metadata": {
    "executionInfo": {
     "elapsed": 126,
     "status": "ok",
     "timestamp": 1640619139928,
     "user": {
      "displayName": "Michael Vasiliou",
      "photoUrl": "https://lh3.googleusercontent.com/a/default-user=s64",
      "userId": "07079983815732559270"
     },
     "user_tz": 300
    },
    "id": "xk-EuZkahP3s"
   },
   "outputs": [],
   "source": [
    "param_grid = dict(num_filters=[32, 64, 128],\n",
    "                  kernel_size=[3, 5, 7],\n",
    "                  vocab_size=[5000], \n",
    "                  embedding_dim=[50],\n",
    "                  maxlen=[100])"
   ]
  },
  {
   "cell_type": "code",
   "execution_count": null,
   "metadata": {
    "colab": {
     "background_save": true,
     "base_uri": "https://localhost:8080/"
    },
    "id": "gjg5ZXphhWgc"
   },
   "outputs": [
    {
     "name": "stdout",
     "output_type": "stream",
     "text": [
      "Running grid search for data set : amazon\n",
      "Fitting 4 folds for each of 5 candidates, totalling 20 fits\n"
     ]
    },
    {
     "name": "stderr",
     "output_type": "stream",
     "text": [
      "/usr/local/lib/python3.7/dist-packages/ipykernel_launcher.py:41: DeprecationWarning: KerasClassifier is deprecated, use Sci-Keras (https://github.com/adriangb/scikeras) instead.\n"
     ]
    },
    {
     "name": "stdout",
     "output_type": "stream",
     "text": [
      "Running amazon data set\n",
      "Best Accuracy : 0.8185\n",
      "{'vocab_size': 4603, 'num_filters': 128, 'maxlen': 100, 'kernel_size': 5, 'embedding_dim': 50}\n",
      "Test Accuracy : 0.8355\n",
      "\n",
      "\n",
      "Running grid search for data set : imdb\n",
      "Fitting 4 folds for each of 5 candidates, totalling 20 fits\n"
     ]
    },
    {
     "name": "stderr",
     "output_type": "stream",
     "text": [
      "/usr/local/lib/python3.7/dist-packages/ipykernel_launcher.py:41: DeprecationWarning: KerasClassifier is deprecated, use Sci-Keras (https://github.com/adriangb/scikeras) instead.\n"
     ]
    }
   ],
   "source": [
    "from keras.wrappers.scikit_learn import KerasClassifier\n",
    "from sklearn.model_selection import RandomizedSearchCV\n",
    "\n",
    "# Main settings\n",
    "epochs = 20\n",
    "embedding_dim = 50\n",
    "maxlen = 100\n",
    "output_file = jarvis.DATA_DIR + '/wk4_model_output.txt'\n",
    "\n",
    "# Run grid search for each source (yelp, amazon, imdb)\n",
    "for source, frame in df.groupby('source'):\n",
    "    print('Running grid search for data set :', source)\n",
    "    sentences = df['sentence'].values\n",
    "    y = df['label'].values\n",
    "\n",
    "    # Train-test split\n",
    "    sentences_train, sentences_test, y_train, y_test = train_test_split(\n",
    "        sentences, y, test_size=0.25, random_state=1000)\n",
    "\n",
    "    # Tokenize words\n",
    "    tokenizer = Tokenizer(num_words=5000)\n",
    "    tokenizer.fit_on_texts(sentences_train)\n",
    "    X_train = tokenizer.texts_to_sequences(sentences_train)\n",
    "    X_test = tokenizer.texts_to_sequences(sentences_test)\n",
    "\n",
    "    # Adding 1 because of reserved 0 index\n",
    "    vocab_size = len(tokenizer.word_index) + 1\n",
    "\n",
    "    # Pad sequences with zeros\n",
    "    X_train = pad_sequences(X_train, padding='post', maxlen=maxlen)\n",
    "    X_test = pad_sequences(X_test, padding='post', maxlen=maxlen)\n",
    "\n",
    "    # Parameter grid for grid search\n",
    "    param_grid = dict(num_filters=[32, 64, 128],\n",
    "                      kernel_size=[3, 5, 7],\n",
    "                      vocab_size=[vocab_size],\n",
    "                      embedding_dim=[embedding_dim],\n",
    "                      maxlen=[maxlen])\n",
    "    model = KerasClassifier(build_fn=create_model,\n",
    "                            epochs=epochs, batch_size=10,\n",
    "                            verbose=False)\n",
    "    grid = RandomizedSearchCV(estimator=model, param_distributions=param_grid,\n",
    "                              cv=4, verbose=1, n_iter=5)\n",
    "    grid_result = grid.fit(X_train, y_train)\n",
    "\n",
    "    # Evaluate testing set\n",
    "    test_accuracy = grid.score(X_test, y_test)\n",
    "\n",
    "    # Save and evaluate results\n",
    "    prompt = input(f'finished {source}; write to file and proceed? [y/n]')\n",
    "    if prompt.lower() not in {'y', 'true', 'yes'}:\n",
    "        break\n",
    "    with open(output_file, 'a') as f:\n",
    "        s = ('Running {} data set\\nBest Accuracy : '\n",
    "             '{:.4f}\\n{}\\nTest Accuracy : {:.4f}\\n\\n')\n",
    "        output_string = s.format(\n",
    "            source,\n",
    "            grid_result.best_score_,\n",
    "            grid_result.best_params_,\n",
    "            test_accuracy)\n",
    "        print(output_string)\n",
    "        f.write(output_string)"
   ]
  }
 ],
 "metadata": {
  "accelerator": "GPU",
  "colab": {
   "authorship_tag": "ABX9TyNzWrkdH4h5Yky2muzxheEd",
   "collapsed_sections": [],
   "name": "wk4_ML1010_extraCode_2.ipynb",
   "provenance": [
    {
     "file_id": "1I0jO0WtPWk6Q5-t3w4tCL8e_gtin7I_y",
     "timestamp": 1640612845140
    },
    {
     "file_id": "1R_J6p2OeOjXlMWk1bRbiOo7XdfzkzjGU",
     "timestamp": 1637805661262
    }
   ],
   "version": ""
  },
  "kernelspec": {
   "display_name": "Python 3",
   "language": "python",
   "name": "python3"
  },
  "language_info": {
   "codemirror_mode": {
    "name": "ipython",
    "version": 3
   },
   "file_extension": ".py",
   "mimetype": "text/x-python",
   "name": "python",
   "nbconvert_exporter": "python",
   "pygments_lexer": "ipython3",
   "version": "3.7.13"
  }
 },
 "nbformat": 4,
 "nbformat_minor": 4
}
