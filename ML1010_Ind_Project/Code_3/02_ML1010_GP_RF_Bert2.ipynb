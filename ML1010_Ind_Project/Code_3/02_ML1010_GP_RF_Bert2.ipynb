{
 "cells": [
  {
   "cell_type": "markdown",
   "metadata": {
    "id": "pn8fyGevt62D",
    "tags": []
   },
   "source": [
    "# Configuration"
   ]
  },
  {
   "cell_type": "code",
   "execution_count": 18,
   "metadata": {
    "executionInfo": {
     "elapsed": 4,
     "status": "ok",
     "timestamp": 1639849468402,
     "user": {
      "displayName": "Michael Vasiliou",
      "photoUrl": "https://lh3.googleusercontent.com/a/default-user=s64",
      "userId": "07079983815732559270"
     },
     "user_tz": 300
    },
    "id": "XmHgvt15t48a"
   },
   "outputs": [],
   "source": [
    "# Parameters\n",
    "ENABLE_COLAB = False\n",
    "\n",
    "PROJECT_NAME = 'ML1010-Group-Project'\n",
    "EXPERIMENT_NAME = 'ReviewText_Lemma_Bert2 (Random Forest)'\n",
    "FILE_NAME = '01_ML1010_GP_RF_Bert2'\n",
    "LOAD_FROM_EXP = False\n",
    "\n",
    "#Root Machine Learning Directory. Projects appear underneath\n",
    "GOOGLE_DRIVE_MOUNT = '/content/gdrive' \n",
    "COLAB_ROOT_DIR = GOOGLE_DRIVE_MOUNT + '/MyDrive/Colab Notebooks'\n",
    "COLAB_INIT_DIR = COLAB_ROOT_DIR + '/utility_files'\n",
    "\n",
    "LOCAL_ROOT_DIR = '/home/magni//ML_Root/project_root'\n",
    "LOCAL_INIT_DIR = LOCAL_ROOT_DIR + '/utility_files'"
   ]
  },
  {
   "cell_type": "markdown",
   "metadata": {
    "id": "1QZKvJBJ7rlc",
    "tags": []
   },
   "source": [
    "# Bootstrap Environment"
   ]
  },
  {
   "cell_type": "code",
   "execution_count": 19,
   "metadata": {
    "colab": {
     "base_uri": "https://localhost:8080/"
    },
    "executionInfo": {
     "elapsed": 19195,
     "status": "ok",
     "timestamp": 1639849489183,
     "user": {
      "displayName": "Michael Vasiliou",
      "photoUrl": "https://lh3.googleusercontent.com/a/default-user=s64",
      "userId": "07079983815732559270"
     },
     "user_tz": 300
    },
    "id": "jgMPxKZBzfFw",
    "outputId": "ae39cdc2-271b-4bdf-a71b-40f4a11dc389"
   },
   "outputs": [
    {
     "name": "stdout",
     "output_type": "stream",
     "text": [
      "Wha...where am I?\n",
      "I am awake now.\n",
      "\n",
      "I have set your current working directory to /home/magni/ML_Root/project_root/ML1010-Group-Project\n",
      "The current time is 15:39\n",
      "Hello sir. An early morning I see.\n",
      "\n"
     ]
    }
   ],
   "source": [
    "#add in support for utility file directory and importing\n",
    "import sys\n",
    "import os\n",
    "\n",
    "if ENABLE_COLAB:\n",
    "  #Need access to drive\n",
    "  from google.colab import drive\n",
    "  drive.mount(GOOGLE_DRIVE_MOUNT, force_remount=True)\n",
    "  \n",
    "  #add in utility directory to syspath to import \n",
    "  INIT_DIR = COLAB_INIT_DIR\n",
    "  sys.path.append(os.path.abspath(INIT_DIR))\n",
    "  \n",
    "  #Config environment variables\n",
    "  ROOT_DIR = COLAB_ROOT_DIR\n",
    "  \n",
    "else:\n",
    "  #add in utility directory to syspath to import\n",
    "  INIT_DIR = LOCAL_INIT_DIR\n",
    "  sys.path.append(os.path.abspath(INIT_DIR))\n",
    "  \n",
    "  #Config environment variables\n",
    "  ROOT_DIR = LOCAL_ROOT_DIR\n",
    "\n",
    "#Import Utility Support\n",
    "from jarvis import Jarvis\n",
    "jarvis = Jarvis(ROOT_DIR, PROJECT_NAME)\n",
    "\n",
    "import mv_python_utils as mvutils"
   ]
  },
  {
   "cell_type": "markdown",
   "metadata": {
    "id": "fVJrz4vi6Cy5",
    "tags": []
   },
   "source": [
    "# Setup Runtime Environment"
   ]
  },
  {
   "cell_type": "code",
   "execution_count": 20,
   "metadata": {
    "colab": {
     "base_uri": "https://localhost:8080/",
     "height": 764
    },
    "executionInfo": {
     "elapsed": 74966,
     "status": "ok",
     "timestamp": 1639849569348,
     "user": {
      "displayName": "Michael Vasiliou",
      "photoUrl": "https://lh3.googleusercontent.com/a/default-user=s64",
      "userId": "07079983815732559270"
     },
     "user_tz": 300
    },
    "id": "a4BLE0oU8Lhr",
    "outputId": "8f3ceedc-1d7f-4fd6-fe49-c47b8a549554"
   },
   "outputs": [
    {
     "data": {
      "text/plain": [
       "'Google Colab not enabled'"
      ]
     },
     "metadata": {},
     "output_type": "display_data"
    },
    {
     "name": "stderr",
     "output_type": "stream",
     "text": [
      "[nltk_data] Downloading package stopwords to /home/magni/nltk_data...\n",
      "[nltk_data]   Package stopwords is already up-to-date!\n"
     ]
    }
   ],
   "source": [
    "if ENABLE_COLAB:\n",
    "  #!pip install scipy -q\n",
    "  #!pip install scikit-learn -q\n",
    "  #!pip install pycaret -q\n",
    "  #!pip install matplotlib -q\n",
    "  #!pip install joblib -q\n",
    "  #!pip install pandasql -q\n",
    "  !pip install umap_learn -q\n",
    "  !pip install sentence_transformers -q\n",
    "  !pip install spacytextblob -q\n",
    "  !pip install flair -q\n",
    "  display('Google Colab enabled')\n",
    "else:\n",
    "  display('Google Colab not enabled')\n",
    "\n",
    "#Common imports\n",
    "import json\n",
    "import pandas as pd\n",
    "import numpy as np\n",
    "import matplotlib\n",
    "import re\n",
    "import nltk\n",
    "import matplotlib.pyplot as plt\n",
    "from sklearn.cluster import KMeans\n",
    "from sklearn import metrics\n",
    "from sklearn.datasets import load_digits\n",
    "from sklearn.model_selection import train_test_split as tts\n",
    "#from yellowbrick.classifier import ConfusionMatrix\n",
    "#from sklearn.linear_model import LogisticRegression\n",
    "from yellowbrick.target import ClassBalance\n",
    "from xgboost import XGBClassifier\n",
    "from sklearn.model_selection import train_test_split\n",
    "from sklearn.metrics import accuracy_score, confusion_matrix\n",
    "from sklearn.svm import SVC\n",
    "from sklearn.ensemble import RandomForestClassifier\n",
    "\n",
    "nltk.download('stopwords')\n",
    "%matplotlib inline"
   ]
  },
  {
   "cell_type": "code",
   "execution_count": 21,
   "metadata": {
    "id": "hTpH7cxU5wag"
   },
   "outputs": [],
   "source": [
    "import importlib\n",
    "import cw_df_metric_utils as cwutils\n",
    "import DataPackage as dp\n",
    "import DataPackageSupport as dps\n",
    "import DataExperiment\n",
    "import DataExperimentSupport"
   ]
  },
  {
   "cell_type": "code",
   "execution_count": 22,
   "metadata": {},
   "outputs": [
    {
     "data": {
      "text/plain": [
       "<module 'DataExperimentSupport' from '/home/magni/ML_Root/project_root/utility_files/DataExperimentSupport.py'>"
      ]
     },
     "execution_count": 22,
     "metadata": {},
     "output_type": "execute_result"
    }
   ],
   "source": [
    "importlib.reload(dp)\n",
    "importlib.reload(dps)\n",
    "importlib.reload(DataExperiment)\n",
    "importlib.reload(DataExperimentSupport)"
   ]
  },
  {
   "cell_type": "markdown",
   "metadata": {
    "id": "d1VKEszbvgpS",
    "tags": []
   },
   "source": [
    "# Load Data"
   ]
  },
  {
   "cell_type": "code",
   "execution_count": 23,
   "metadata": {
    "id": "LWHq10XLs5DV"
   },
   "outputs": [],
   "source": [
    "#axis_labels=[1,2,3,4,5]\n",
    "axis_labels=[0,1]\n",
    "classifier = RandomForestClassifier()\n",
    "ANALSYSIS_COL = 'reviewText_lemma_bert'\n",
    "UNIQUE_COL = 'uuid'\n",
    "TARGET_COL = 'overall_posneg'"
   ]
  },
  {
   "cell_type": "code",
   "execution_count": 24,
   "metadata": {},
   "outputs": [
    {
     "name": "stdout",
     "output_type": "stream",
     "text": [
      "<class 'pandas.core.frame.DataFrame'>\n",
      "RangeIndex: 63413 entries, 0 to 63412\n",
      "Data columns (total 51 columns):\n",
      " #   Column                                  Non-Null Count  Dtype  \n",
      "---  ------                                  --------------  -----  \n",
      " 0   uuid                                    63413 non-null  object \n",
      " 1   reviewText                              63413 non-null  object \n",
      " 2   overall                                 63413 non-null  float64\n",
      " 3   reviewText_lemma                        63413 non-null  object \n",
      " 4   reviewText_nouns                        63413 non-null  object \n",
      " 5   reviewText_adjectives                   63413 non-null  object \n",
      " 6   reviewText_verbs                        63413 non-null  object \n",
      " 7   reviewText_nav                          63413 non-null  object \n",
      " 8   reviewText_lemma_tb_pol                 63310 non-null  float64\n",
      " 9   reviewText_lemma_tb_subj                63310 non-null  float64\n",
      " 10  reviewText_lemma_tb_tokens              63310 non-null  float64\n",
      " 11  reviewText_lemma_tb_length              63310 non-null  float64\n",
      " 12  reviewText_lemma_bert                   63413 non-null  object \n",
      " 13  reviewText_lemma_flairSent              63310 non-null  float64\n",
      " 14  reviewText_adjectives_tb_pol            50732 non-null  float64\n",
      " 15  reviewText_adjectives_tb_subj           50732 non-null  float64\n",
      " 16  reviewText_adjectives_tb_tokens         50732 non-null  float64\n",
      " 17  reviewText_adjectives_tb_length         50732 non-null  float64\n",
      " 18  reviewText_adjectives_bert              63413 non-null  object \n",
      " 19  reviewText_adjectives_flairSent         50732 non-null  float64\n",
      " 20  reviewText_verbs_tb_pol                 43234 non-null  float64\n",
      " 21  reviewText_verbs_tb_subj                43234 non-null  float64\n",
      " 22  reviewText_verbs_tb_tokens              43234 non-null  float64\n",
      " 23  reviewText_verbs_tb_length              43234 non-null  float64\n",
      " 24  reviewText_verbs_bert                   63413 non-null  object \n",
      " 25  reviewText_verbs_flairSent              43234 non-null  float64\n",
      " 26  reviewText_nav_tb_pol                   62332 non-null  float64\n",
      " 27  reviewText_nav_tb_subj                  62332 non-null  float64\n",
      " 28  reviewText_nav_tb_tokens                62332 non-null  float64\n",
      " 29  reviewText_nav_tb_length                62332 non-null  float64\n",
      " 30  reviewText_nav_bert                     63413 non-null  object \n",
      " 31  reviewText_nav_flairSent                62332 non-null  float64\n",
      " 32  overall_posneg                          63413 non-null  int64  \n",
      " 33  reviewText_lemma_flairSent_norm         63310 non-null  float64\n",
      " 34  reviewText_lemma_flairSent_posneg       63310 non-null  float64\n",
      " 35  reviewText_adjectives_flairSent_norm    50732 non-null  float64\n",
      " 36  reviewText_adjectives_flairSent_posneg  50732 non-null  float64\n",
      " 37  reviewText_verbs_flairSent_norm         43234 non-null  float64\n",
      " 38  reviewText_verbs_flairSent_posneg       43234 non-null  float64\n",
      " 39  reviewText_nav_flairSent_norm           62332 non-null  float64\n",
      " 40  reviewText_nav_flairSent_posneg         62332 non-null  float64\n",
      " 41  reviewText_lemma_tb_pol_norm            63310 non-null  float64\n",
      " 42  reviewText_lemma_tb_pol_posneg          63310 non-null  float64\n",
      " 43  reviewText_adjectives_tb_pol_norm       50732 non-null  float64\n",
      " 44  reviewText_adjectives_tb_pol_posneg     50732 non-null  float64\n",
      " 45  reviewText_verbs_tb_pol_norm            43234 non-null  float64\n",
      " 46  reviewText_verbs_tb_pol_posneg          43234 non-null  float64\n",
      " 47  reviewText_nav_tb_pol_norm              62332 non-null  float64\n",
      " 48  reviewText_nav_tb_pol_posneg            62332 non-null  float64\n",
      " 49  reviewText_lemma_glove                  63413 non-null  object \n",
      " 50  reviewText_lemma_mpnet                  63413 non-null  object \n",
      "dtypes: float64(37), int64(1), object(13)\n",
      "memory usage: 24.7+ MB\n",
      "None\n",
      "Encoded frame shape: (63413, 770)\n",
      "DataExperiment summary:\n",
      "---> projectName: ML1010-Group-Project\n",
      "---> experimentName: ReviewText_Lemma_Bert2 (Random Forest)\n",
      "---> isDataPackageLoaded: True\n",
      "---> isBaseModelLoaded: False\n",
      "---> isBaseModelPredicted: False\n",
      "---> isBaseModelLearningCurveCreated: False\n",
      "---> isFinalModelLoaded: False\n",
      "---> isFinalModelPredicted: False\n",
      "---> isFinalModelLearningCurveCreated: False\n",
      "---> isClassifierLoaded: True\n",
      "RandomForestClassifier()\n",
      "\n",
      "    DataPackage summary:\n",
      "    Attributes:\n",
      "    ---> uniqueColumn: uuid\n",
      "    ---> targetColumn: overall_posneg\n",
      "    Process:\n",
      "    ---> isBalanced: False\n",
      "    ---> isTrainTestSplit: False\n",
      "    Data:\n",
      "    ---> isOrigDataLoaded: True\n",
      "    ---> isTrainDataLoaded: False\n",
      "    ---> isTestDataLoaded: False\n"
     ]
    }
   ],
   "source": [
    "if LOAD_FROM_EXP:\n",
    "    #start from saved state\n",
    "    myExp = jarvis.loadExperiment(FILE_NAME)\n",
    "    myExp.display()\n",
    "\n",
    "else:\n",
    "    #start from source file and regenerate\n",
    "    testDf = pd.read_pickle(jarvis.DATA_DIR_WORK + \"/01_NL_ReviewText_All(new).pkl.gz\")\n",
    "    print(testDf.info())\n",
    "    \n",
    "    \n",
    "    testDfBert = cwutils.getBertEncodeFrame(df=testDf,\n",
    "                                            bertColumn=ANALSYSIS_COL,\n",
    "                                            uniqueColumn=UNIQUE_COL,\n",
    "                                            otherColumns=[TARGET_COL]\n",
    "                                            )\n",
    "    \n",
    "    print(f'Encoded frame shape: {testDfBert.shape}')\n",
    "    \n",
    "    myExp = DataExperiment.DataExperiment(projectName=PROJECT_NAME,\n",
    "                                          experimentName=EXPERIMENT_NAME,\n",
    "                                          origData=testDfBert,\n",
    "                                          uniqueColumn=UNIQUE_COL,\n",
    "                                          targetColumn=TARGET_COL,\n",
    "                                          classifier=classifier)"
   ]
  },
  {
   "cell_type": "code",
   "execution_count": 25,
   "metadata": {},
   "outputs": [
    {
     "data": {
      "image/png": "[encoded data removed]",
      "text/plain": [
       "<Figure size 432x288 with 1 Axes>"
      ]
     },
     "metadata": {
      "needs_background": "light"
     },
     "output_type": "display_data"
    },
    {
     "data": {
      "text/html": [
       "<div>\n",
       "<style scoped>\n",
       "    .dataframe tbody tr th:only-of-type {\n",
       "        vertical-align: middle;\n",
       "    }\n",
       "\n",
       "    .dataframe tbody tr th {\n",
       "        vertical-align: top;\n",
       "    }\n",
       "\n",
       "    .dataframe thead th {\n",
       "        text-align: right;\n",
       "    }\n",
       "</style>\n",
       "<table border=\"1\" class=\"dataframe\">\n",
       "  <thead>\n",
       "    <tr style=\"text-align: right;\">\n",
       "      <th></th>\n",
       "      <th>overall_posneg</th>\n",
       "      <th>ttlCol</th>\n",
       "    </tr>\n",
       "  </thead>\n",
       "  <tbody>\n",
       "    <tr>\n",
       "      <th>0</th>\n",
       "      <td>0</td>\n",
       "      <td>13440</td>\n",
       "    </tr>\n",
       "    <tr>\n",
       "      <th>1</th>\n",
       "      <td>1</td>\n",
       "      <td>49973</td>\n",
       "    </tr>\n",
       "  </tbody>\n",
       "</table>\n",
       "</div>"
      ],
      "text/plain": [
       "   overall_posneg  ttlCol\n",
       "0               0   13440\n",
       "1               1   49973"
      ]
     },
     "metadata": {},
     "output_type": "display_data"
    }
   ],
   "source": [
    "myExp.dataPackage.displayClassBalance(verbose=True)"
   ]
  },
  {
   "cell_type": "code",
   "execution_count": 26,
   "metadata": {},
   "outputs": [
    {
     "data": {
      "image/png": "[encoded data removed]",
      "text/plain": [
       "<Figure size 432x288 with 1 Axes>"
      ]
     },
     "metadata": {
      "needs_background": "light"
     },
     "output_type": "display_data"
    },
    {
     "data": {
      "image/png": "[encoded data removed]",
      "text/plain": [
       "<Figure size 432x288 with 1 Axes>"
      ]
     },
     "metadata": {
      "needs_background": "light"
     },
     "output_type": "display_data"
    },
    {
     "data": {
      "text/html": [
       "<div>\n",
       "<style scoped>\n",
       "    .dataframe tbody tr th:only-of-type {\n",
       "        vertical-align: middle;\n",
       "    }\n",
       "\n",
       "    .dataframe tbody tr th {\n",
       "        vertical-align: top;\n",
       "    }\n",
       "\n",
       "    .dataframe thead th {\n",
       "        text-align: right;\n",
       "    }\n",
       "</style>\n",
       "<table border=\"1\" class=\"dataframe\">\n",
       "  <thead>\n",
       "    <tr style=\"text-align: right;\">\n",
       "      <th></th>\n",
       "      <th>overall_posneg</th>\n",
       "      <th>ttlCol</th>\n",
       "    </tr>\n",
       "  </thead>\n",
       "  <tbody>\n",
       "    <tr>\n",
       "      <th>0</th>\n",
       "      <td>0</td>\n",
       "      <td>1000</td>\n",
       "    </tr>\n",
       "    <tr>\n",
       "      <th>1</th>\n",
       "      <td>1</td>\n",
       "      <td>1000</td>\n",
       "    </tr>\n",
       "  </tbody>\n",
       "</table>\n",
       "</div>"
      ],
      "text/plain": [
       "   overall_posneg  ttlCol\n",
       "0               0    1000\n",
       "1               1    1000"
      ]
     },
     "metadata": {},
     "output_type": "display_data"
    }
   ],
   "source": [
    "myExp.dataPackage.classBalanceUndersample(sampleSize=1000)"
   ]
  },
  {
   "cell_type": "code",
   "execution_count": 27,
   "metadata": {},
   "outputs": [
    {
     "name": "stdout",
     "output_type": "stream",
     "text": [
      "Completed train/test split (train_size = 0.8):\n",
      "---> Original data size: 2000\n",
      "---> Training data size: 1600\n",
      "---> Testing data size: 400\n",
      "---> Stratified on column: overall_posneg\n"
     ]
    }
   ],
   "source": [
    "#Options:\n",
    "#stratifyColumn=?\n",
    "#train_size=? (percentage or absolute)\n",
    "#random_state=?\n",
    "#shuffle=?\n",
    "\n",
    "myExp.dataPackage.splitTrainTest()"
   ]
  },
  {
   "cell_type": "code",
   "execution_count": 28,
   "metadata": {},
   "outputs": [
    {
     "name": "stdout",
     "output_type": "stream",
     "text": [
      "DataExperiment summary:\n",
      "---> projectName: ML1010-Group-Project\n",
      "---> experimentName: ReviewText_Lemma_Bert2 (Random Forest)\n",
      "---> isDataPackageLoaded: True\n",
      "---> isBaseModelLoaded: False\n",
      "---> isBaseModelPredicted: False\n",
      "---> isBaseModelLearningCurveCreated: False\n",
      "---> isFinalModelLoaded: False\n",
      "---> isFinalModelPredicted: False\n",
      "---> isFinalModelLearningCurveCreated: False\n",
      "---> isClassifierLoaded: True\n",
      "RandomForestClassifier()\n",
      "\n",
      "    DataPackage summary:\n",
      "    Attributes:\n",
      "    ---> uniqueColumn: uuid\n",
      "    ---> targetColumn: overall_posneg\n",
      "    Process:\n",
      "    ---> isBalanced: True\n",
      "    ---> isTrainTestSplit: True\n",
      "    Data:\n",
      "    ---> isOrigDataLoaded: False\n",
      "    ---> isTrainDataLoaded: True\n",
      "    ---> isTestDataLoaded: True\n"
     ]
    }
   ],
   "source": [
    "myExp.display()"
   ]
  },
  {
   "cell_type": "code",
   "execution_count": 29,
   "metadata": {},
   "outputs": [
    {
     "name": "stdout",
     "output_type": "stream",
     "text": [
      "Base Model Stats:\n",
      "Accuracy: 0.82\n",
      "Precision: 0.82\n",
      "Recalll: 0.82\n",
      "F1 Score: 0.82\n",
      "Cohen kappa:: 0.64\n",
      "CPU times: user 2.08 s, sys: 3.87 ms, total: 2.08 s\n",
      "Wall time: 2.08 s\n"
     ]
    }
   ],
   "source": [
    "%%time\n",
    "myExp.createBaseModel()"
   ]
  },
  {
   "cell_type": "code",
   "execution_count": null,
   "metadata": {},
   "outputs": [],
   "source": [
    "#myExp.showBaseLimeGlobalImportance()\n",
    "#myExp.showBaseLimeLocalImportance()\n",
    "\n",
    "_ = myExp.analyzeBaseModelFeatureImportance(returnAbove=0.002,\n",
    "                                            startValue=0,\n",
    "                                            increment=0.001,\n",
    "                                            upperValue=0.03)"
   ]
  },
  {
   "cell_type": "code",
   "execution_count": null,
   "metadata": {},
   "outputs": [],
   "source": [
    "%%time\n",
    "#myExp.createFinalModel(impFeatures=?)\n",
    "myExp.createFinalModel(featureImportanceThreshold=0.002)"
   ]
  },
  {
   "cell_type": "code",
   "execution_count": null,
   "metadata": {},
   "outputs": [],
   "source": [
    "%%time\n",
    "myExp.createBaseModelLearningCurve()"
   ]
  },
  {
   "cell_type": "code",
   "execution_count": null,
   "metadata": {},
   "outputs": [],
   "source": [
    "%%time\n",
    "myExp.createFinalModelLearningCurve()"
   ]
  },
  {
   "cell_type": "code",
   "execution_count": null,
   "metadata": {},
   "outputs": [],
   "source": [
    "myExp.showBaseModelReport(axisLabels=axis_labels,\n",
    "                          upperValue=0.025)"
   ]
  },
  {
   "cell_type": "code",
   "execution_count": null,
   "metadata": {},
   "outputs": [],
   "source": [
    "myExp.showFinalModelReport(axisLabels=axis_labels,\n",
    "                           startValue=0,\n",
    "                           increment=0.001,\n",
    "                           upperValue=0.03)"
   ]
  },
  {
   "cell_type": "code",
   "execution_count": null,
   "metadata": {},
   "outputs": [],
   "source": [
    "myExp.display()"
   ]
  },
  {
   "cell_type": "markdown",
   "metadata": {
    "tags": []
   },
   "source": [
    "#  Save Experiment"
   ]
  },
  {
   "cell_type": "code",
   "execution_count": null,
   "metadata": {},
   "outputs": [],
   "source": [
    "jarvis.saveExperiment(myExp, FILE_NAME)"
   ]
  },
  {
   "cell_type": "markdown",
   "metadata": {},
   "source": [
    "#  Scratchpad"
   ]
  },
  {
   "cell_type": "code",
   "execution_count": null,
   "metadata": {},
   "outputs": [],
   "source": []
  }
 ],
 "metadata": {
  "colab": {
   "authorship_tag": "ABX9TyOHRhk3MnSb4v5m2pip9Csd",
   "collapsed_sections": [
    "pn8fyGevt62D",
    "1QZKvJBJ7rlc",
    "fVJrz4vi6Cy5",
    "d1VKEszbvgpS",
    "TSXj9-6uCPlq",
    "jbDYJ_r6_xqk",
    "wSl1Fy3gcvbi",
    "W9Y2Idos-2Hl",
    "NGKpEqqwO9L6",
    "jyGqiRoQROHu",
    "NN0TbdPPfmKG",
    "SJe_Cy_aNJVx",
    "UrAIa9xTsucp",
    "G3sbhyAHvq6D",
    "E-dDQ_KXwAQQ",
    "hZIH3Wcyw76R",
    "m1KEaXz7xQMW",
    "0lAXqFH5yHgU",
    "i_VCkCCWyYYe",
    "yfPqFMjgythJ",
    "eIzBqATpythg",
    "gQujKtfNythh",
    "KMqHM-APythi"
   ],
   "name": "05_ML1010_GP_calcScores.pynb",
   "provenance": [
    {
     "file_id": "1TTophYisuYAESj-r2pcxC1cOw77kApN0",
     "timestamp": 1638578513850
    },
    {
     "file_id": "1R_J6p2OeOjXlMWk1bRbiOo7XdfzkzjGU",
     "timestamp": 1638295449964
    }
   ],
   "toc_visible": true
  },
  "kernelspec": {
   "display_name": "ML1010_env2",
   "language": "python",
   "name": "ml1010_env2"
  },
  "language_info": {
   "codemirror_mode": {
    "name": "ipython",
    "version": 3
   },
   "file_extension": ".py",
   "mimetype": "text/x-python",
   "name": "python",
   "nbconvert_exporter": "python",
   "pygments_lexer": "ipython3",
   "version": "3.7.12"
  }
 },
 "nbformat": 4,
 "nbformat_minor": 4
}
