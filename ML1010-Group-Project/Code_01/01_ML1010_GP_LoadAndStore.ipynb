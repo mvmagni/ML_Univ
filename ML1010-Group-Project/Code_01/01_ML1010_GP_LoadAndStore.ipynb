{
 "cells": [
  {
   "cell_type": "markdown",
   "id": "pn8fyGevt62D",
   "metadata": {
    "id": "pn8fyGevt62D"
   },
   "source": [
    "# Configuration"
   ]
  },
  {
   "cell_type": "code",
   "execution_count": 1,
   "id": "XmHgvt15t48a",
   "metadata": {
    "executionInfo": {
     "elapsed": 129,
     "status": "ok",
     "timestamp": 1638629771753,
     "user": {
      "displayName": "Michael Vasiliou",
      "photoUrl": "https://lh3.googleusercontent.com/a/default-user=s64",
      "userId": "07079983815732559270"
     },
     "user_tz": 300
    },
    "id": "XmHgvt15t48a"
   },
   "outputs": [],
   "source": [
    "# Parameters\n",
    "PROJECT_NAME = 'ML1010-Group-Project'\n",
    "ENABLE_COLAB = False\n",
    "\n",
    "#Root Machine Learning Directory. Projects appear underneath\n",
    "GOOGLE_DRIVE_MOUNT = '/content/gdrive' \n",
    "COLAB_ROOT_DIR = GOOGLE_DRIVE_MOUNT + '/MyDrive/Colab Notebooks'\n",
    "COLAB_INIT_DIR = COLAB_ROOT_DIR + '/utility_files'\n",
    "\n",
    "LOCAL_ROOT_DIR = '/home/magni/Documents/ML_Projects'\n",
    "LOCAL_INIT_DIR = LOCAL_ROOT_DIR + '/utility_files'"
   ]
  },
  {
   "cell_type": "markdown",
   "id": "AKuOInGo45OB",
   "metadata": {
    "id": "AKuOInGo45OB"
   },
   "source": [
    "# Bootstrap Environment"
   ]
  },
  {
   "cell_type": "code",
   "execution_count": 2,
   "id": "nri_N7sIEMjQ",
   "metadata": {
    "colab": {
     "base_uri": "https://localhost:8080/"
    },
    "executionInfo": {
     "elapsed": 21910,
     "status": "ok",
     "timestamp": 1638629820071,
     "user": {
      "displayName": "Michael Vasiliou",
      "photoUrl": "https://lh3.googleusercontent.com/a/default-user=s64",
      "userId": "07079983815732559270"
     },
     "user_tz": 300
    },
    "id": "nri_N7sIEMjQ",
    "outputId": "84d60f04-6eec-49f0-e0c3-ca994afeee3f"
   },
   "outputs": [
    {
     "name": "stdout",
     "output_type": "stream",
     "text": [
      "Mounted at /content/gdrive\n",
      "Wha...where am I?\n",
      "I am awake now.\n",
      "\n",
      "I have set your current working directory to /content/gdrive/MyDrive/Colab Notebooks/ML1010-Group-Project\n",
      "The current time is 09:56\n",
      "Hello sir. Extra caffeine may help.\n",
      "\n"
     ]
    }
   ],
   "source": [
    "#add in support for utility file directory and importing\n",
    "import sys\n",
    "import os\n",
    "\n",
    "if ENABLE_COLAB:\n",
    "  #Need access to drive\n",
    "  from google.colab import drive\n",
    "  drive.mount(GOOGLE_DRIVE_MOUNT, force_remount=True)\n",
    "  \n",
    "  #add in utility directory to syspath to import \n",
    "  INIT_DIR = COLAB_INIT_DIR\n",
    "  sys.path.append(os.path.abspath(INIT_DIR))\n",
    "  \n",
    "  #Config environment variables\n",
    "  ROOT_DIR = COLAB_ROOT_DIR\n",
    "  \n",
    "else:\n",
    "  #add in utility directory to syspath to import\n",
    "  INIT_DIR = LOCAL_INIT_DIR\n",
    "  sys.path.append(os.path.abspath(INIT_DIR))\n",
    "  \n",
    "  #Config environment variables\n",
    "  ROOT_DIR = LOCAL_ROOT_DIR\n",
    "\n",
    "#Import Utility Support\n",
    "from jarvis import Jarvis\n",
    "jarvis = Jarvis(ROOT_DIR, PROJECT_NAME)\n",
    "\n",
    "\n",
    "\n",
    "import mv_python_utils as mvutils\n"
   ]
  },
  {
   "cell_type": "markdown",
   "id": "fVJrz4vi6Cy5",
   "metadata": {
    "id": "fVJrz4vi6Cy5"
   },
   "source": [
    "# Setup Runtime Environment"
   ]
  },
  {
   "cell_type": "code",
   "execution_count": 3,
   "id": "jf_PpJBuERwL",
   "metadata": {
    "colab": {
     "base_uri": "https://localhost:8080/",
     "height": 0
    },
    "executionInfo": {
     "elapsed": 98889,
     "status": "ok",
     "timestamp": 1638629922024,
     "user": {
      "displayName": "Michael Vasiliou",
      "photoUrl": "https://lh3.googleusercontent.com/a/default-user=s64",
      "userId": "07079983815732559270"
     },
     "user_tz": 300
    },
    "id": "jf_PpJBuERwL",
    "outputId": "1b29a679-7983-4cf5-d9b7-540f82389a7a"
   },
   "outputs": [
    {
     "name": "stdout",
     "output_type": "stream",
     "text": [
      "\u001b[K     |████████████████████████████████| 78 kB 3.5 MB/s \n",
      "\u001b[K     |████████████████████████████████| 3.1 MB 11.6 MB/s \n",
      "\u001b[K     |████████████████████████████████| 3.3 MB 42.9 MB/s \n",
      "\u001b[K     |████████████████████████████████| 1.2 MB 32.1 MB/s \n",
      "\u001b[K     |████████████████████████████████| 61 kB 483 kB/s \n",
      "\u001b[K     |████████████████████████████████| 596 kB 45.7 MB/s \n",
      "\u001b[K     |████████████████████████████████| 895 kB 45.1 MB/s \n",
      "\u001b[?25h  Building wheel for sentence-transformers (setup.py) ... \u001b[?25l\u001b[?25hdone\n",
      "\u001b[K     |████████████████████████████████| 322 kB 5.1 MB/s \n",
      "\u001b[K     |████████████████████████████████| 64 kB 2.6 MB/s \n",
      "\u001b[?25h  Installing build dependencies ... \u001b[?25l\u001b[?25hdone\n",
      "  Getting requirements to build wheel ... \u001b[?25l\u001b[?25hdone\n",
      "    Preparing wheel metadata ... \u001b[?25l\u001b[?25hdone\n",
      "\u001b[K     |████████████████████████████████| 788 kB 39.8 MB/s \n",
      "\u001b[K     |████████████████████████████████| 19.7 MB 1.2 MB/s \n",
      "\u001b[K     |████████████████████████████████| 48 kB 4.9 MB/s \n",
      "\u001b[K     |████████████████████████████████| 1.2 MB 56.7 MB/s \n",
      "\u001b[K     |████████████████████████████████| 981 kB 65.6 MB/s \n",
      "\u001b[K     |████████████████████████████████| 62 kB 750 kB/s \n",
      "\u001b[?25h  Building wheel for gdown (PEP 517) ... \u001b[?25l\u001b[?25hdone\n",
      "  Building wheel for mpld3 (setup.py) ... \u001b[?25l\u001b[?25hdone\n",
      "  Building wheel for overrides (setup.py) ... \u001b[?25l\u001b[?25hdone\n",
      "  Building wheel for segtok (setup.py) ... \u001b[?25l\u001b[?25hdone\n",
      "  Building wheel for sqlitedict (setup.py) ... \u001b[?25l\u001b[?25hdone\n",
      "  Building wheel for ftfy (setup.py) ... \u001b[?25l\u001b[?25hdone\n",
      "  Building wheel for langdetect (setup.py) ... \u001b[?25l\u001b[?25hdone\n",
      "  Building wheel for wikipedia-api (setup.py) ... \u001b[?25l\u001b[?25hdone\n",
      "\u001b[31mERROR: pip's dependency resolver does not currently take into account all the packages that are installed. This behaviour is the source of the following dependency conflicts.\n",
      "markdown 3.3.6 requires importlib-metadata>=4.4; python_version < \"3.10\", but you have importlib-metadata 3.10.1 which is incompatible.\n",
      "google-colab 1.0.0 requires requests~=2.23.0, but you have requests 2.26.0 which is incompatible.\n",
      "datascience 0.10.6 requires folium==0.2.1, but you have folium 0.8.3 which is incompatible.\u001b[0m\n",
      "\u001b[K     |████████████████████████████████| 6.0 MB 5.3 MB/s \n",
      "\u001b[K     |████████████████████████████████| 628 kB 65.3 MB/s \n",
      "\u001b[K     |████████████████████████████████| 42 kB 1.4 MB/s \n",
      "\u001b[K     |████████████████████████████████| 451 kB 71.8 MB/s \n",
      "\u001b[K     |████████████████████████████████| 10.1 MB 31.0 MB/s \n",
      "\u001b[K     |████████████████████████████████| 181 kB 40.0 MB/s \n",
      "\u001b[?25h"
     ]
    },
    {
     "data": {
      "application/vnd.google.colaboratory.intrinsic+json": {
       "type": "string"
      },
      "text/plain": [
       "'Google Colab enabled'"
      ]
     },
     "metadata": {},
     "output_type": "display_data"
    },
    {
     "name": "stdout",
     "output_type": "stream",
     "text": [
      "Collecting en-core-web-sm==3.2.0\n",
      "  Downloading https://github.com/explosion/spacy-models/releases/download/en_core_web_sm-3.2.0/en_core_web_sm-3.2.0-py3-none-any.whl (13.9 MB)\n",
      "\u001b[K     |████████████████████████████████| 13.9 MB 1.6 MB/s \n",
      "\u001b[?25hRequirement already satisfied: spacy<3.3.0,>=3.2.0 in /usr/local/lib/python3.7/dist-packages (from en-core-web-sm==3.2.0) (3.2.0)\n",
      "Requirement already satisfied: wasabi<1.1.0,>=0.8.1 in /usr/local/lib/python3.7/dist-packages (from spacy<3.3.0,>=3.2.0->en-core-web-sm==3.2.0) (0.8.2)\n",
      "Requirement already satisfied: spacy-loggers<2.0.0,>=1.0.0 in /usr/local/lib/python3.7/dist-packages (from spacy<3.3.0,>=3.2.0->en-core-web-sm==3.2.0) (1.0.1)\n",
      "Requirement already satisfied: murmurhash<1.1.0,>=0.28.0 in /usr/local/lib/python3.7/dist-packages (from spacy<3.3.0,>=3.2.0->en-core-web-sm==3.2.0) (1.0.6)\n",
      "Requirement already satisfied: cymem<2.1.0,>=2.0.2 in /usr/local/lib/python3.7/dist-packages (from spacy<3.3.0,>=3.2.0->en-core-web-sm==3.2.0) (2.0.6)\n",
      "Requirement already satisfied: srsly<3.0.0,>=2.4.1 in /usr/local/lib/python3.7/dist-packages (from spacy<3.3.0,>=3.2.0->en-core-web-sm==3.2.0) (2.4.2)\n",
      "Requirement already satisfied: typing-extensions<4.0.0.0,>=3.7.4 in /usr/local/lib/python3.7/dist-packages (from spacy<3.3.0,>=3.2.0->en-core-web-sm==3.2.0) (3.10.0.2)\n",
      "Requirement already satisfied: numpy>=1.15.0 in /usr/local/lib/python3.7/dist-packages (from spacy<3.3.0,>=3.2.0->en-core-web-sm==3.2.0) (1.19.5)\n",
      "Requirement already satisfied: tqdm<5.0.0,>=4.38.0 in /usr/local/lib/python3.7/dist-packages (from spacy<3.3.0,>=3.2.0->en-core-web-sm==3.2.0) (4.62.3)\n",
      "Requirement already satisfied: jinja2 in /usr/local/lib/python3.7/dist-packages (from spacy<3.3.0,>=3.2.0->en-core-web-sm==3.2.0) (2.11.3)\n",
      "Requirement already satisfied: requests<3.0.0,>=2.13.0 in /usr/local/lib/python3.7/dist-packages (from spacy<3.3.0,>=3.2.0->en-core-web-sm==3.2.0) (2.26.0)\n",
      "Requirement already satisfied: blis<0.8.0,>=0.4.0 in /usr/local/lib/python3.7/dist-packages (from spacy<3.3.0,>=3.2.0->en-core-web-sm==3.2.0) (0.4.1)\n",
      "Requirement already satisfied: catalogue<2.1.0,>=2.0.6 in /usr/local/lib/python3.7/dist-packages (from spacy<3.3.0,>=3.2.0->en-core-web-sm==3.2.0) (2.0.6)\n",
      "Requirement already satisfied: pathy>=0.3.5 in /usr/local/lib/python3.7/dist-packages (from spacy<3.3.0,>=3.2.0->en-core-web-sm==3.2.0) (0.6.1)\n",
      "Requirement already satisfied: spacy-legacy<3.1.0,>=3.0.8 in /usr/local/lib/python3.7/dist-packages (from spacy<3.3.0,>=3.2.0->en-core-web-sm==3.2.0) (3.0.8)\n",
      "Requirement already satisfied: langcodes<4.0.0,>=3.2.0 in /usr/local/lib/python3.7/dist-packages (from spacy<3.3.0,>=3.2.0->en-core-web-sm==3.2.0) (3.3.0)\n",
      "Requirement already satisfied: pydantic!=1.8,!=1.8.1,<1.9.0,>=1.7.4 in /usr/local/lib/python3.7/dist-packages (from spacy<3.3.0,>=3.2.0->en-core-web-sm==3.2.0) (1.8.2)\n",
      "Requirement already satisfied: setuptools in /usr/local/lib/python3.7/dist-packages (from spacy<3.3.0,>=3.2.0->en-core-web-sm==3.2.0) (57.4.0)\n",
      "Requirement already satisfied: thinc<8.1.0,>=8.0.12 in /usr/local/lib/python3.7/dist-packages (from spacy<3.3.0,>=3.2.0->en-core-web-sm==3.2.0) (8.0.13)\n",
      "Requirement already satisfied: preshed<3.1.0,>=3.0.2 in /usr/local/lib/python3.7/dist-packages (from spacy<3.3.0,>=3.2.0->en-core-web-sm==3.2.0) (3.0.6)\n",
      "Requirement already satisfied: typer<0.5.0,>=0.3.0 in /usr/local/lib/python3.7/dist-packages (from spacy<3.3.0,>=3.2.0->en-core-web-sm==3.2.0) (0.4.0)\n",
      "Requirement already satisfied: packaging>=20.0 in /usr/local/lib/python3.7/dist-packages (from spacy<3.3.0,>=3.2.0->en-core-web-sm==3.2.0) (21.3)\n",
      "Requirement already satisfied: zipp>=0.5 in /usr/local/lib/python3.7/dist-packages (from catalogue<2.1.0,>=2.0.6->spacy<3.3.0,>=3.2.0->en-core-web-sm==3.2.0) (3.6.0)\n",
      "Requirement already satisfied: pyparsing!=3.0.5,>=2.0.2 in /usr/local/lib/python3.7/dist-packages (from packaging>=20.0->spacy<3.3.0,>=3.2.0->en-core-web-sm==3.2.0) (3.0.6)\n",
      "Requirement already satisfied: smart-open<6.0.0,>=5.0.0 in /usr/local/lib/python3.7/dist-packages (from pathy>=0.3.5->spacy<3.3.0,>=3.2.0->en-core-web-sm==3.2.0) (5.2.1)\n",
      "Requirement already satisfied: charset-normalizer~=2.0.0 in /usr/local/lib/python3.7/dist-packages (from requests<3.0.0,>=2.13.0->spacy<3.3.0,>=3.2.0->en-core-web-sm==3.2.0) (2.0.8)\n",
      "Requirement already satisfied: urllib3<1.27,>=1.21.1 in /usr/local/lib/python3.7/dist-packages (from requests<3.0.0,>=2.13.0->spacy<3.3.0,>=3.2.0->en-core-web-sm==3.2.0) (1.24.3)\n",
      "Requirement already satisfied: certifi>=2017.4.17 in /usr/local/lib/python3.7/dist-packages (from requests<3.0.0,>=2.13.0->spacy<3.3.0,>=3.2.0->en-core-web-sm==3.2.0) (2021.10.8)\n",
      "Requirement already satisfied: idna<4,>=2.5 in /usr/local/lib/python3.7/dist-packages (from requests<3.0.0,>=2.13.0->spacy<3.3.0,>=3.2.0->en-core-web-sm==3.2.0) (2.10)\n",
      "Requirement already satisfied: click<9.0.0,>=7.1.1 in /usr/local/lib/python3.7/dist-packages (from typer<0.5.0,>=0.3.0->spacy<3.3.0,>=3.2.0->en-core-web-sm==3.2.0) (7.1.2)\n",
      "Requirement already satisfied: MarkupSafe>=0.23 in /usr/local/lib/python3.7/dist-packages (from jinja2->spacy<3.3.0,>=3.2.0->en-core-web-sm==3.2.0) (2.0.1)\n",
      "Installing collected packages: en-core-web-sm\n",
      "  Attempting uninstall: en-core-web-sm\n",
      "    Found existing installation: en-core-web-sm 2.2.5\n",
      "    Uninstalling en-core-web-sm-2.2.5:\n",
      "      Successfully uninstalled en-core-web-sm-2.2.5\n",
      "Successfully installed en-core-web-sm-3.2.0\n",
      "\u001b[38;5;2m✔ Download and installation successful\u001b[0m\n",
      "You can now load the package via spacy.load('en_core_web_sm')\n",
      "[nltk_data] Downloading package stopwords to /root/nltk_data...\n",
      "[nltk_data]   Unzipping corpora/stopwords.zip.\n"
     ]
    }
   ],
   "source": [
    "#%%capture\n",
    "if ENABLE_COLAB:\n",
    "  #!pip install scipy -q\n",
    "  #!pip install scikit-learn -q\n",
    "  #!pip install pycaret -q\n",
    "  #!pip install matplotlib -q\n",
    "  #!pip install joblib -q\n",
    "  #!pip install pandasql -q \n",
    "  !pip install sentence_transformers -q\n",
    "  !pip install flair -q\n",
    "  !pip install spacy -U -q\n",
    "  !pip install spacytextblob -q\n",
    "  display('Google Colab enabled')\n",
    "else:\n",
    "  display('Google Colab not enabled')\n",
    "\n",
    "#Common imports\n",
    "import json\n",
    "import gzip\n",
    "import pandas as pd\n",
    "import numpy as np\n",
    "import matplotlib\n",
    "import re\n",
    "import nltk\n",
    "import matplotlib.pyplot as plt\n",
    "\n",
    "!python -m spacy download en_core_web_sm\n",
    "\n",
    "nltk.download('stopwords')\n",
    "%matplotlib inline\n",
    "\n",
    "import cw_df_metric_utils as cwutils"
   ]
  },
  {
   "cell_type": "markdown",
   "id": "hEdTR2FNx6kk",
   "metadata": {
    "id": "hEdTR2FNx6kk"
   },
   "source": [
    "# Load Data"
   ]
  },
  {
   "cell_type": "code",
   "execution_count": 4,
   "id": "028f2a6c",
   "metadata": {
    "colab": {
     "base_uri": "https://localhost:8080/"
    },
    "executionInfo": {
     "elapsed": 21434,
     "status": "ok",
     "timestamp": 1638629955459,
     "user": {
      "displayName": "Michael Vasiliou",
      "photoUrl": "https://lh3.googleusercontent.com/a/default-user=s64",
      "userId": "07079983815732559270"
     },
     "user_tz": 300
    },
    "id": "028f2a6c",
    "outputId": "b5aba168-2717-4e5e-d38d-fcca513f35a2"
   },
   "outputs": [
    {
     "name": "stdout",
     "output_type": "stream",
     "text": [
      "Here are all your project data files\n",
      "[D] /content/gdrive/MyDrive/Colab Notebooks/data/ML1010-Group-Project\n",
      "----->** No files **\n",
      "\n",
      "[D] /content/gdrive/MyDrive/Colab Notebooks/data/ML1010-Group-Project/01_original\n",
      "---[   gz][ json]--> Cell_Phones_and_Accessories_5.json.gz (161.24 MB)\n",
      "---[   gz][ json]--> meta_Cell_Phones_and_Accessories.json.gz (343.33 MB)\n",
      "\n",
      "[D] /content/gdrive/MyDrive/Colab Notebooks/data/ML1010-Group-Project/02_working\n",
      "[*][  pkl]---------> 02_Cellphone.pkl (46.32 MB)\n",
      "[*][  pkl]---------> 02_NLP_ReviewTextData.pkl (87.00 MB)\n",
      "[*][  pkl]---------> 02_NLP_SummaryData.pkl (8.32 MB)\n",
      "[*][  pkl]---------> 02_NLP_TitleData.pkl (16.71 MB)\n",
      "[*][  pkl]---------> 03_Cellphone.pkl (46.31 MB)\n",
      "[*][  pkl]---------> 03_NLP_ReviewTextData.pkl (28.94 MB)\n",
      "[*][  pkl]---------> 03_NLP_ReviewText_Narrow.pkl (17.13 MB)\n",
      "[*][  pkl]---------> 03_NLP_SummaryData.pkl (3.82 MB)\n",
      "[*][  pkl]---------> 03_NLP_TitleData.pkl (2.73 MB)\n",
      "[*][  pkl]---------> 04_NLP_ReviewText_Narrow.pkl (16.95 MB)\n",
      "[*][  pkl]---------> 05_NLP_ReviewText_Narrow.pkl (66.15 MB)\n",
      "[*][  pkl]---------> 05_NLP_ReviewText_Narrow_full.pkl (207.91 MB)\n",
      "\n",
      "[D] /content/gdrive/MyDrive/Colab Notebooks/data/ML1010-Group-Project/03_train\n",
      "----->** No files **\n",
      "\n",
      "[D] /content/gdrive/MyDrive/Colab Notebooks/data/ML1010-Group-Project/04_test\n",
      "----->** No files **\n",
      "\n",
      "1128437\n",
      "{'overall': 5.0, 'verified': True, 'reviewTime': '08 4, 2014', 'reviewerID': 'A24E3SXTC62LJI', 'asin': '7508492919', 'style': {'Color:': ' Bling'}, 'reviewerName': 'Claudia Valdivia', 'reviewText': 'Looks even better in person. Be careful to not drop your phone so often because the rhinestones will fall off (duh). More of a decorative case than it is protective, but I will say that it fits perfectly and securely on my phone. Overall, very pleased with this purchase.', 'summary': \"Can't stop won't stop looking at it\", 'unixReviewTime': 1407110400}\n"
     ]
    }
   ],
   "source": [
    "### load the meta data\n",
    "jarvis.showProjectDataFiles()\n",
    "data = []\n",
    "with gzip.open(jarvis.DATA_DIR + '/01_original/Cell_Phones_and_Accessories_5.json.gz') as f:\n",
    "    for l in f:\n",
    "        data.append(json.loads(l.strip()))\n",
    "    \n",
    "# total length of list, this number equals total number of products\n",
    "print(len(data))\n",
    "\n",
    "# first row of the list\n",
    "print(data[0])"
   ]
  },
  {
   "cell_type": "code",
   "execution_count": 5,
   "id": "ca351321",
   "metadata": {
    "colab": {
     "base_uri": "https://localhost:8080/"
    },
    "executionInfo": {
     "elapsed": 4133,
     "status": "ok",
     "timestamp": 1638629965121,
     "user": {
      "displayName": "Michael Vasiliou",
      "photoUrl": "https://lh3.googleusercontent.com/a/default-user=s64",
      "userId": "07079983815732559270"
     },
     "user_tz": 300
    },
    "id": "ca351321",
    "outputId": "a5b72d9e-4e39-4eed-9aee-19b281699283"
   },
   "outputs": [
    {
     "name": "stdout",
     "output_type": "stream",
     "text": [
      "1128437\n"
     ]
    }
   ],
   "source": [
    "# convert list into pandas dataframe\n",
    "df = pd.DataFrame.from_dict(data)\n",
    "\n",
    "print(len(df))"
   ]
  },
  {
   "cell_type": "code",
   "execution_count": 6,
   "id": "IFkenQS9FX6I",
   "metadata": {
    "colab": {
     "base_uri": "https://localhost:8080/"
    },
    "executionInfo": {
     "elapsed": 1222,
     "status": "ok",
     "timestamp": 1638629967969,
     "user": {
      "displayName": "Michael Vasiliou",
      "photoUrl": "https://lh3.googleusercontent.com/a/default-user=s64",
      "userId": "07079983815732559270"
     },
     "user_tz": 300
    },
    "id": "IFkenQS9FX6I",
    "outputId": "dd629a12-357f-4cc6-9728-293731d5f123"
   },
   "outputs": [
    {
     "name": "stdout",
     "output_type": "stream",
     "text": [
      "<class 'pandas.core.frame.DataFrame'>\n",
      "RangeIndex: 1128437 entries, 0 to 1128436\n",
      "Data columns (total 12 columns):\n",
      " #   Column          Non-Null Count    Dtype  \n",
      "---  ------          --------------    -----  \n",
      " 0   overall         1128437 non-null  float64\n",
      " 1   verified        1128437 non-null  bool   \n",
      " 2   reviewTime      1128437 non-null  object \n",
      " 3   reviewerID      1128437 non-null  object \n",
      " 4   asin            1128437 non-null  object \n",
      " 5   style           605241 non-null   object \n",
      " 6   reviewerName    1128302 non-null  object \n",
      " 7   reviewText      1127672 non-null  object \n",
      " 8   summary         1127920 non-null  object \n",
      " 9   unixReviewTime  1128437 non-null  int64  \n",
      " 10  vote            92034 non-null    object \n",
      " 11  image           27107 non-null    object \n",
      "dtypes: bool(1), float64(1), int64(1), object(9)\n",
      "memory usage: 95.8+ MB\n"
     ]
    }
   ],
   "source": [
    "df.info()"
   ]
  },
  {
   "cell_type": "code",
   "execution_count": 7,
   "id": "VIwypVZtG6Rs",
   "metadata": {
    "colab": {
     "base_uri": "https://localhost:8080/"
    },
    "executionInfo": {
     "elapsed": 4067,
     "status": "ok",
     "timestamp": 1638629975215,
     "user": {
      "displayName": "Michael Vasiliou",
      "photoUrl": "https://lh3.googleusercontent.com/a/default-user=s64",
      "userId": "07079983815732559270"
     },
     "user_tz": 300
    },
    "id": "VIwypVZtG6Rs",
    "outputId": "a8920b75-8449-4f27-8864-8ba6f9ec34ec"
   },
   "outputs": [
    {
     "name": "stdout",
     "output_type": "stream",
     "text": [
      "<class 'pandas.core.frame.DataFrame'>\n",
      "RangeIndex: 1128437 entries, 0 to 1128436\n",
      "Data columns (total 12 columns):\n",
      " #   Column          Non-Null Count    Dtype         \n",
      "---  ------          --------------    -----         \n",
      " 0   overall         1128437 non-null  float64       \n",
      " 1   verified        1128437 non-null  bool          \n",
      " 2   reviewTime      1128437 non-null  datetime64[ns]\n",
      " 3   reviewerID      1128437 non-null  object        \n",
      " 4   asin            1128437 non-null  object        \n",
      " 5   style           605241 non-null   object        \n",
      " 6   reviewerName    1128302 non-null  object        \n",
      " 7   reviewText      1127672 non-null  object        \n",
      " 8   summary         1127920 non-null  object        \n",
      " 9   unixReviewTime  1128437 non-null  int64         \n",
      " 10  vote            92034 non-null    object        \n",
      " 11  image           27107 non-null    object        \n",
      "dtypes: bool(1), datetime64[ns](1), float64(1), int64(1), object(8)\n",
      "memory usage: 95.8+ MB\n"
     ]
    }
   ],
   "source": [
    "df['reviewTime'] = pd.to_datetime(df['reviewTime'], format=\"%m %d, %Y\")\n",
    "df.info()"
   ]
  },
  {
   "cell_type": "code",
   "execution_count": 8,
   "id": "3983c66b",
   "metadata": {
    "colab": {
     "base_uri": "https://localhost:8080/",
     "height": 241
    },
    "executionInfo": {
     "elapsed": 92,
     "status": "ok",
     "timestamp": 1638629979492,
     "user": {
      "displayName": "Michael Vasiliou",
      "photoUrl": "https://lh3.googleusercontent.com/a/default-user=s64",
      "userId": "07079983815732559270"
     },
     "user_tz": 300
    },
    "id": "3983c66b",
    "outputId": "cbf3d73e-674c-4b69-e1bc-2b9f63b7eb44"
   },
   "outputs": [
    {
     "data": {
      "text/html": [
       "<div>\n",
       "<style scoped>\n",
       "    .dataframe tbody tr th:only-of-type {\n",
       "        vertical-align: middle;\n",
       "    }\n",
       "\n",
       "    .dataframe tbody tr th {\n",
       "        vertical-align: top;\n",
       "    }\n",
       "\n",
       "    .dataframe thead th {\n",
       "        text-align: right;\n",
       "    }\n",
       "</style>\n",
       "<table border=\"1\" class=\"dataframe\">\n",
       "  <thead>\n",
       "    <tr style=\"text-align: right;\">\n",
       "      <th></th>\n",
       "      <th>overall</th>\n",
       "      <th>verified</th>\n",
       "      <th>reviewTime</th>\n",
       "      <th>reviewerID</th>\n",
       "      <th>asin</th>\n",
       "      <th>style</th>\n",
       "      <th>reviewerName</th>\n",
       "      <th>reviewText</th>\n",
       "      <th>summary</th>\n",
       "      <th>unixReviewTime</th>\n",
       "      <th>vote</th>\n",
       "      <th>image</th>\n",
       "    </tr>\n",
       "  </thead>\n",
       "  <tbody>\n",
       "    <tr>\n",
       "      <th>0</th>\n",
       "      <td>5.0</td>\n",
       "      <td>True</td>\n",
       "      <td>2014-08-04</td>\n",
       "      <td>A24E3SXTC62LJI</td>\n",
       "      <td>7508492919</td>\n",
       "      <td>{'Color:': ' Bling'}</td>\n",
       "      <td>Claudia Valdivia</td>\n",
       "      <td>Looks even better in person. Be careful to not...</td>\n",
       "      <td>Can't stop won't stop looking at it</td>\n",
       "      <td>1407110400</td>\n",
       "      <td>NaN</td>\n",
       "      <td>NaN</td>\n",
       "    </tr>\n",
       "    <tr>\n",
       "      <th>1</th>\n",
       "      <td>5.0</td>\n",
       "      <td>True</td>\n",
       "      <td>2014-02-12</td>\n",
       "      <td>A269FLZCB4GIPV</td>\n",
       "      <td>7508492919</td>\n",
       "      <td>NaN</td>\n",
       "      <td>sarah ponce</td>\n",
       "      <td>When you don't want to spend a whole lot of ca...</td>\n",
       "      <td>1</td>\n",
       "      <td>1392163200</td>\n",
       "      <td>NaN</td>\n",
       "      <td>NaN</td>\n",
       "    </tr>\n",
       "    <tr>\n",
       "      <th>2</th>\n",
       "      <td>3.0</td>\n",
       "      <td>True</td>\n",
       "      <td>2014-02-08</td>\n",
       "      <td>AB6CHQWHZW4TV</td>\n",
       "      <td>7508492919</td>\n",
       "      <td>NaN</td>\n",
       "      <td>Kai</td>\n",
       "      <td>so the case came on time, i love the design. I...</td>\n",
       "      <td>Its okay</td>\n",
       "      <td>1391817600</td>\n",
       "      <td>NaN</td>\n",
       "      <td>NaN</td>\n",
       "    </tr>\n",
       "    <tr>\n",
       "      <th>3</th>\n",
       "      <td>2.0</td>\n",
       "      <td>True</td>\n",
       "      <td>2014-02-04</td>\n",
       "      <td>A1M117A53LEI8</td>\n",
       "      <td>7508492919</td>\n",
       "      <td>NaN</td>\n",
       "      <td>Sharon Williams</td>\n",
       "      <td>DON'T CARE FOR IT.  GAVE IT AS A GIFT AND THEY...</td>\n",
       "      <td>CASE</td>\n",
       "      <td>1391472000</td>\n",
       "      <td>NaN</td>\n",
       "      <td>NaN</td>\n",
       "    </tr>\n",
       "    <tr>\n",
       "      <th>4</th>\n",
       "      <td>4.0</td>\n",
       "      <td>True</td>\n",
       "      <td>2014-02-03</td>\n",
       "      <td>A272DUT8M88ZS8</td>\n",
       "      <td>7508492919</td>\n",
       "      <td>NaN</td>\n",
       "      <td>Bella Rodriguez</td>\n",
       "      <td>I liked it because it was cute, but the studs ...</td>\n",
       "      <td>Cute!</td>\n",
       "      <td>1391385600</td>\n",
       "      <td>NaN</td>\n",
       "      <td>NaN</td>\n",
       "    </tr>\n",
       "  </tbody>\n",
       "</table>\n",
       "</div>"
      ],
      "text/plain": [
       "   overall  verified reviewTime  ... unixReviewTime vote image\n",
       "0      5.0      True 2014-08-04  ...     1407110400  NaN   NaN\n",
       "1      5.0      True 2014-02-12  ...     1392163200  NaN   NaN\n",
       "2      3.0      True 2014-02-08  ...     1391817600  NaN   NaN\n",
       "3      2.0      True 2014-02-04  ...     1391472000  NaN   NaN\n",
       "4      4.0      True 2014-02-03  ...     1391385600  NaN   NaN\n",
       "\n",
       "[5 rows x 12 columns]"
      ]
     },
     "execution_count": 8,
     "metadata": {},
     "output_type": "execute_result"
    }
   ],
   "source": [
    "df.head(5)"
   ]
  },
  {
   "cell_type": "code",
   "execution_count": 9,
   "id": "e253e0bf",
   "metadata": {
    "colab": {
     "base_uri": "https://localhost:8080/"
    },
    "executionInfo": {
     "elapsed": 55271,
     "status": "ok",
     "timestamp": 1638630037273,
     "user": {
      "displayName": "Michael Vasiliou",
      "photoUrl": "https://lh3.googleusercontent.com/a/default-user=s64",
      "userId": "07079983815732559270"
     },
     "user_tz": 300
    },
    "id": "e253e0bf",
    "outputId": "f46ec76f-b6c7-4d57-ea2d-bd7471c5cd49"
   },
   "outputs": [
    {
     "name": "stdout",
     "output_type": "stream",
     "text": [
      "590071\n",
      "{'category': ['Cell Phones & Accessories', 'Accessories', 'Screen Protectors'], 'tech1': '', 'description': [], 'fit': '', 'title': 'Trollies Sing a Long Party VHS', 'also_buy': [], 'tech2': '', 'brand': '', 'feature': [], 'rank': '557,379 in Movies & TV (', 'also_view': [], 'details': {'ASIN: ': '6303195164'}, 'main_cat': 'Movies & TV', 'similar_item': '', 'date': '', 'price': '', 'asin': '6303195164', 'imageURL': [], 'imageURLHighRes': []}\n"
     ]
    }
   ],
   "source": [
    "### load the meta data\n",
    "dataMeta = []\n",
    "with gzip.open(jarvis.DATA_DIR + '/01_original/meta_Cell_Phones_and_Accessories.json.gz') as f:\n",
    "    for l in f:\n",
    "        dataMeta.append(json.loads(l.strip()))\n",
    "    \n",
    "# total length of list, this number equals total number of products\n",
    "print(len(dataMeta))\n",
    "\n",
    "# first row of the list\n",
    "print(dataMeta[0])"
   ]
  },
  {
   "cell_type": "code",
   "execution_count": 10,
   "id": "bc348c60",
   "metadata": {
    "colab": {
     "base_uri": "https://localhost:8080/"
    },
    "executionInfo": {
     "elapsed": 4698,
     "status": "ok",
     "timestamp": 1638630052211,
     "user": {
      "displayName": "Michael Vasiliou",
      "photoUrl": "https://lh3.googleusercontent.com/a/default-user=s64",
      "userId": "07079983815732559270"
     },
     "user_tz": 300
    },
    "id": "bc348c60",
    "outputId": "330e0350-217d-439e-963d-4b172c96cad0"
   },
   "outputs": [
    {
     "name": "stdout",
     "output_type": "stream",
     "text": [
      "590071\n"
     ]
    }
   ],
   "source": [
    "# convert list into pandas dataframe\n",
    "dfMeta = pd.DataFrame.from_dict(dataMeta)\n",
    "\n",
    "print(len(dfMeta))"
   ]
  },
  {
   "cell_type": "code",
   "execution_count": 11,
   "id": "d68ddf0c",
   "metadata": {
    "colab": {
     "base_uri": "https://localhost:8080/"
    },
    "executionInfo": {
     "elapsed": 99,
     "status": "ok",
     "timestamp": 1638630055607,
     "user": {
      "displayName": "Michael Vasiliou",
      "photoUrl": "https://lh3.googleusercontent.com/a/default-user=s64",
      "userId": "07079983815732559270"
     },
     "user_tz": 300
    },
    "id": "d68ddf0c",
    "outputId": "a6e140d9-7557-4174-e169-a975689353e8"
   },
   "outputs": [
    {
     "name": "stdout",
     "output_type": "stream",
     "text": [
      "<class 'pandas.core.frame.DataFrame'>\n",
      "RangeIndex: 590071 entries, 0 to 590070\n",
      "Data columns (total 19 columns):\n",
      " #   Column           Non-Null Count   Dtype \n",
      "---  ------           --------------   ----- \n",
      " 0   category         590071 non-null  object\n",
      " 1   tech1            590071 non-null  object\n",
      " 2   description      590071 non-null  object\n",
      " 3   fit              590071 non-null  object\n",
      " 4   title            590071 non-null  object\n",
      " 5   also_buy         590071 non-null  object\n",
      " 6   tech2            590071 non-null  object\n",
      " 7   brand            590071 non-null  object\n",
      " 8   feature          590071 non-null  object\n",
      " 9   rank             590071 non-null  object\n",
      " 10  also_view        590071 non-null  object\n",
      " 11  details          590071 non-null  object\n",
      " 12  main_cat         590071 non-null  object\n",
      " 13  similar_item     590071 non-null  object\n",
      " 14  date             590071 non-null  object\n",
      " 15  price            590071 non-null  object\n",
      " 16  asin             590071 non-null  object\n",
      " 17  imageURL         590071 non-null  object\n",
      " 18  imageURLHighRes  590071 non-null  object\n",
      "dtypes: object(19)\n",
      "memory usage: 85.5+ MB\n"
     ]
    }
   ],
   "source": [
    "dfMeta.info()"
   ]
  },
  {
   "cell_type": "code",
   "execution_count": 12,
   "id": "029b5fb2",
   "metadata": {
    "colab": {
     "base_uri": "https://localhost:8080/",
     "height": 660
    },
    "executionInfo": {
     "elapsed": 112,
     "status": "ok",
     "timestamp": 1638630057765,
     "user": {
      "displayName": "Michael Vasiliou",
      "photoUrl": "https://lh3.googleusercontent.com/a/default-user=s64",
      "userId": "07079983815732559270"
     },
     "user_tz": 300
    },
    "id": "029b5fb2",
    "outputId": "9060566b-38a7-4c0d-bca9-6b18fdf671e9"
   },
   "outputs": [
    {
     "data": {
      "text/html": [
       "<div>\n",
       "<style scoped>\n",
       "    .dataframe tbody tr th:only-of-type {\n",
       "        vertical-align: middle;\n",
       "    }\n",
       "\n",
       "    .dataframe tbody tr th {\n",
       "        vertical-align: top;\n",
       "    }\n",
       "\n",
       "    .dataframe thead th {\n",
       "        text-align: right;\n",
       "    }\n",
       "</style>\n",
       "<table border=\"1\" class=\"dataframe\">\n",
       "  <thead>\n",
       "    <tr style=\"text-align: right;\">\n",
       "      <th></th>\n",
       "      <th>category</th>\n",
       "      <th>tech1</th>\n",
       "      <th>description</th>\n",
       "      <th>fit</th>\n",
       "      <th>title</th>\n",
       "      <th>also_buy</th>\n",
       "      <th>tech2</th>\n",
       "      <th>brand</th>\n",
       "      <th>feature</th>\n",
       "      <th>rank</th>\n",
       "      <th>also_view</th>\n",
       "      <th>details</th>\n",
       "      <th>main_cat</th>\n",
       "      <th>similar_item</th>\n",
       "      <th>date</th>\n",
       "      <th>price</th>\n",
       "      <th>asin</th>\n",
       "      <th>imageURL</th>\n",
       "      <th>imageURLHighRes</th>\n",
       "    </tr>\n",
       "  </thead>\n",
       "  <tbody>\n",
       "    <tr>\n",
       "      <th>0</th>\n",
       "      <td>[Cell Phones &amp; Accessories, Accessories, Scree...</td>\n",
       "      <td></td>\n",
       "      <td>[]</td>\n",
       "      <td></td>\n",
       "      <td>Trollies Sing a Long Party VHS</td>\n",
       "      <td>[]</td>\n",
       "      <td></td>\n",
       "      <td></td>\n",
       "      <td>[]</td>\n",
       "      <td>557,379 in Movies &amp; TV (</td>\n",
       "      <td>[]</td>\n",
       "      <td>{'ASIN: ': '6303195164'}</td>\n",
       "      <td>Movies &amp; TV</td>\n",
       "      <td></td>\n",
       "      <td></td>\n",
       "      <td></td>\n",
       "      <td>6303195164</td>\n",
       "      <td>[]</td>\n",
       "      <td>[]</td>\n",
       "    </tr>\n",
       "    <tr>\n",
       "      <th>1</th>\n",
       "      <td>[Cell Phones &amp; Accessories, Accessories, Car A...</td>\n",
       "      <td></td>\n",
       "      <td>[]</td>\n",
       "      <td></td>\n",
       "      <td>La Pura VHS</td>\n",
       "      <td>[]</td>\n",
       "      <td></td>\n",
       "      <td>Maribel Guardia</td>\n",
       "      <td>[]</td>\n",
       "      <td>1,024,449 in Movies &amp; TV (</td>\n",
       "      <td>[]</td>\n",
       "      <td>{'ASIN: ': '630524412X'}</td>\n",
       "      <td>Movies &amp; TV</td>\n",
       "      <td></td>\n",
       "      <td></td>\n",
       "      <td></td>\n",
       "      <td>630524412X</td>\n",
       "      <td>[]</td>\n",
       "      <td>[]</td>\n",
       "    </tr>\n",
       "    <tr>\n",
       "      <th>2</th>\n",
       "      <td>[Cell Phones &amp; Accessories, Cases, Holsters &amp; ...</td>\n",
       "      <td></td>\n",
       "      <td>[New items to give you a new good mood, welcom...</td>\n",
       "      <td></td>\n",
       "      <td>Leopard Thanksgiving Easter PC Black Case for ...</td>\n",
       "      <td>[]</td>\n",
       "      <td></td>\n",
       "      <td></td>\n",
       "      <td>[]</td>\n",
       "      <td>5,315,017 in Books (</td>\n",
       "      <td>[]</td>\n",
       "      <td>{'Publisher:': 'juduiou', 'ASIN:': '6310200240...</td>\n",
       "      <td>Books</td>\n",
       "      <td></td>\n",
       "      <td></td>\n",
       "      <td></td>\n",
       "      <td>6310200240</td>\n",
       "      <td>[]</td>\n",
       "      <td>[]</td>\n",
       "    </tr>\n",
       "    <tr>\n",
       "      <th>3</th>\n",
       "      <td>[Cell Phones &amp; Accessories, Cases, Holsters &amp; ...</td>\n",
       "      <td></td>\n",
       "      <td>[A brand-new, unused, unopened, undamaged item...</td>\n",
       "      <td></td>\n",
       "      <td>Puppies Faceplate Hard Case Protector for Net1...</td>\n",
       "      <td>[]</td>\n",
       "      <td></td>\n",
       "      <td>Live2Pedal</td>\n",
       "      <td>[Protect your phone with style through this At...</td>\n",
       "      <td>[&gt;#6,368,825 in Cell Phones &amp; Accessories (See...</td>\n",
       "      <td>[]</td>\n",
       "      <td>{}</td>\n",
       "      <td>Cell Phones &amp; Accessories</td>\n",
       "      <td></td>\n",
       "      <td></td>\n",
       "      <td></td>\n",
       "      <td>6786501710</td>\n",
       "      <td>[]</td>\n",
       "      <td>[]</td>\n",
       "    </tr>\n",
       "    <tr>\n",
       "      <th>4</th>\n",
       "      <td>[Cell Phones &amp; Accessories, Cases, Holsters &amp; ...</td>\n",
       "      <td></td>\n",
       "      <td>[A brand-new, unused, unopened, undamaged item...</td>\n",
       "      <td></td>\n",
       "      <td>White Wolf Faceplate Protector Hard Case for S...</td>\n",
       "      <td>[]</td>\n",
       "      <td></td>\n",
       "      <td>wirelessoutletusa</td>\n",
       "      <td>[Protect your phone with style through this At...</td>\n",
       "      <td>[&gt;#2,672,454 in Cell Phones &amp; Accessories (See...</td>\n",
       "      <td>[]</td>\n",
       "      <td>{}</td>\n",
       "      <td>Cell Phones &amp; Accessories</td>\n",
       "      <td></td>\n",
       "      <td></td>\n",
       "      <td></td>\n",
       "      <td>6786501273</td>\n",
       "      <td>[]</td>\n",
       "      <td>[]</td>\n",
       "    </tr>\n",
       "  </tbody>\n",
       "</table>\n",
       "</div>"
      ],
      "text/plain": [
       "                                            category  ... imageURLHighRes\n",
       "0  [Cell Phones & Accessories, Accessories, Scree...  ...              []\n",
       "1  [Cell Phones & Accessories, Accessories, Car A...  ...              []\n",
       "2  [Cell Phones & Accessories, Cases, Holsters & ...  ...              []\n",
       "3  [Cell Phones & Accessories, Cases, Holsters & ...  ...              []\n",
       "4  [Cell Phones & Accessories, Cases, Holsters & ...  ...              []\n",
       "\n",
       "[5 rows x 19 columns]"
      ]
     },
     "execution_count": 12,
     "metadata": {},
     "output_type": "execute_result"
    }
   ],
   "source": [
    "dfMeta.head(5)"
   ]
  },
  {
   "cell_type": "code",
   "execution_count": 13,
   "id": "e0d0fafb",
   "metadata": {
    "executionInfo": {
     "elapsed": 3110,
     "status": "ok",
     "timestamp": 1638630063755,
     "user": {
      "displayName": "Michael Vasiliou",
      "photoUrl": "https://lh3.googleusercontent.com/a/default-user=s64",
      "userId": "07079983815732559270"
     },
     "user_tz": 300
    },
    "id": "e0d0fafb"
   },
   "outputs": [],
   "source": [
    "dfMerge = pd.merge(df, dfMeta, how=\"inner\", on=[\"asin\"])"
   ]
  },
  {
   "cell_type": "code",
   "execution_count": 14,
   "id": "7247ac88",
   "metadata": {
    "colab": {
     "base_uri": "https://localhost:8080/"
    },
    "executionInfo": {
     "elapsed": 6771,
     "status": "ok",
     "timestamp": 1638630073304,
     "user": {
      "displayName": "Michael Vasiliou",
      "photoUrl": "https://lh3.googleusercontent.com/a/default-user=s64",
      "userId": "07079983815732559270"
     },
     "user_tz": 300
    },
    "id": "7247ac88",
    "outputId": "7fe64ad4-0ed8-4acb-f03b-5f66e9748e5b"
   },
   "outputs": [
    {
     "name": "stdout",
     "output_type": "stream",
     "text": [
      "<class 'pandas.core.frame.DataFrame'>\n",
      "Int64Index: 1129035 entries, 0 to 1129034\n",
      "Data columns (total 30 columns):\n",
      " #   Column           Non-Null Count    Dtype         \n",
      "---  ------           --------------    -----         \n",
      " 0   overall          1129035 non-null  float64       \n",
      " 1   verified         1129035 non-null  bool          \n",
      " 2   reviewTime       1129035 non-null  datetime64[ns]\n",
      " 3   reviewerID       1129035 non-null  object        \n",
      " 4   asin             1129035 non-null  object        \n",
      " 5   style            605459 non-null   object        \n",
      " 6   reviewerName     1128900 non-null  object        \n",
      " 7   reviewText       1128270 non-null  object        \n",
      " 8   summary          1128518 non-null  object        \n",
      " 9   unixReviewTime   1129035 non-null  int64         \n",
      " 10  vote             92176 non-null    object        \n",
      " 11  image            27106 non-null    object        \n",
      " 12  category         1129035 non-null  object        \n",
      " 13  tech1            1129035 non-null  object        \n",
      " 14  description      1129035 non-null  object        \n",
      " 15  fit              1129035 non-null  object        \n",
      " 16  title            1129035 non-null  object        \n",
      " 17  also_buy         1129035 non-null  object        \n",
      " 18  tech2            1129035 non-null  object        \n",
      " 19  brand            1129035 non-null  object        \n",
      " 20  feature          1129035 non-null  object        \n",
      " 21  rank             1129035 non-null  object        \n",
      " 22  also_view        1129035 non-null  object        \n",
      " 23  details          1129035 non-null  object        \n",
      " 24  main_cat         1129035 non-null  object        \n",
      " 25  similar_item     1129035 non-null  object        \n",
      " 26  date             1129035 non-null  object        \n",
      " 27  price            1129035 non-null  object        \n",
      " 28  imageURL         1129035 non-null  object        \n",
      " 29  imageURLHighRes  1129035 non-null  object        \n",
      "dtypes: bool(1), datetime64[ns](1), float64(1), int64(1), object(26)\n",
      "memory usage: 21.4 GB\n"
     ]
    }
   ],
   "source": [
    "dfMerge.info(memory_usage='deep')"
   ]
  },
  {
   "cell_type": "code",
   "execution_count": 15,
   "id": "19bc210c",
   "metadata": {
    "colab": {
     "base_uri": "https://localhost:8080/"
    },
    "executionInfo": {
     "elapsed": 3858,
     "status": "ok",
     "timestamp": 1638630085739,
     "user": {
      "displayName": "Michael Vasiliou",
      "photoUrl": "https://lh3.googleusercontent.com/a/default-user=s64",
      "userId": "07079983815732559270"
     },
     "user_tz": 300
    },
    "id": "19bc210c",
    "outputId": "52287ab1-cea3-4911-a8bd-aaa8fd4e3e3b"
   },
   "outputs": [
    {
     "name": "stdout",
     "output_type": "stream",
     "text": [
      "<class 'pandas.core.frame.DataFrame'>\n",
      "Int64Index: 1129035 entries, 0 to 1129034\n",
      "Data columns (total 30 columns):\n",
      " #   Column           Non-Null Count    Dtype         \n",
      "---  ------           --------------    -----         \n",
      " 0   overall          1129035 non-null  float64       \n",
      " 1   verified         1129035 non-null  bool          \n",
      " 2   reviewTime       1129035 non-null  datetime64[ns]\n",
      " 3   reviewerID       1129035 non-null  object        \n",
      " 4   asin             1129035 non-null  object        \n",
      " 5   style            605459 non-null   object        \n",
      " 6   reviewerName     1128900 non-null  object        \n",
      " 7   reviewText       1128270 non-null  object        \n",
      " 8   summary          1128518 non-null  object        \n",
      " 9   unixReviewTime   1129035 non-null  int64         \n",
      " 10  vote             92176 non-null    object        \n",
      " 11  image            27106 non-null    object        \n",
      " 12  category         1129035 non-null  string        \n",
      " 13  tech1            1129035 non-null  object        \n",
      " 14  description      1129035 non-null  object        \n",
      " 15  fit              1129035 non-null  object        \n",
      " 16  title            1129035 non-null  object        \n",
      " 17  also_buy         1129035 non-null  object        \n",
      " 18  tech2            1129035 non-null  object        \n",
      " 19  brand            1129035 non-null  object        \n",
      " 20  feature          1129035 non-null  object        \n",
      " 21  rank             1129035 non-null  object        \n",
      " 22  also_view        1129035 non-null  object        \n",
      " 23  details          1129035 non-null  object        \n",
      " 24  main_cat         1129035 non-null  object        \n",
      " 25  similar_item     1129035 non-null  object        \n",
      " 26  date             1129035 non-null  object        \n",
      " 27  price            1129035 non-null  object        \n",
      " 28  imageURL         1129035 non-null  object        \n",
      " 29  imageURLHighRes  1129035 non-null  object        \n",
      "dtypes: bool(1), datetime64[ns](1), float64(1), int64(1), object(25), string(1)\n",
      "memory usage: 259.5+ MB\n"
     ]
    }
   ],
   "source": [
    "dfMerge['category'] = dfMerge['category'].astype(\"string\")\n",
    "#dfMerge['style'] = dfMerge['style'].astype(\"string\")\n",
    "dfMerge.info()"
   ]
  },
  {
   "cell_type": "code",
   "execution_count": 16,
   "id": "db60daaf",
   "metadata": {
    "colab": {
     "base_uri": "https://localhost:8080/",
     "height": 608
    },
    "executionInfo": {
     "elapsed": 92,
     "status": "ok",
     "timestamp": 1638630087577,
     "user": {
      "displayName": "Michael Vasiliou",
      "photoUrl": "https://lh3.googleusercontent.com/a/default-user=s64",
      "userId": "07079983815732559270"
     },
     "user_tz": 300
    },
    "id": "db60daaf",
    "outputId": "bb9d86d4-ad4d-4d97-e3d5-4d441365ce12"
   },
   "outputs": [
    {
     "data": {
      "text/html": [
       "<div>\n",
       "<style scoped>\n",
       "    .dataframe tbody tr th:only-of-type {\n",
       "        vertical-align: middle;\n",
       "    }\n",
       "\n",
       "    .dataframe tbody tr th {\n",
       "        vertical-align: top;\n",
       "    }\n",
       "\n",
       "    .dataframe thead th {\n",
       "        text-align: right;\n",
       "    }\n",
       "</style>\n",
       "<table border=\"1\" class=\"dataframe\">\n",
       "  <thead>\n",
       "    <tr style=\"text-align: right;\">\n",
       "      <th></th>\n",
       "      <th>overall</th>\n",
       "      <th>verified</th>\n",
       "      <th>reviewTime</th>\n",
       "      <th>reviewerID</th>\n",
       "      <th>asin</th>\n",
       "      <th>style</th>\n",
       "      <th>reviewerName</th>\n",
       "      <th>reviewText</th>\n",
       "      <th>summary</th>\n",
       "      <th>unixReviewTime</th>\n",
       "      <th>vote</th>\n",
       "      <th>image</th>\n",
       "      <th>category</th>\n",
       "      <th>tech1</th>\n",
       "      <th>description</th>\n",
       "      <th>fit</th>\n",
       "      <th>title</th>\n",
       "      <th>also_buy</th>\n",
       "      <th>tech2</th>\n",
       "      <th>brand</th>\n",
       "      <th>feature</th>\n",
       "      <th>rank</th>\n",
       "      <th>also_view</th>\n",
       "      <th>details</th>\n",
       "      <th>main_cat</th>\n",
       "      <th>similar_item</th>\n",
       "      <th>date</th>\n",
       "      <th>price</th>\n",
       "      <th>imageURL</th>\n",
       "      <th>imageURLHighRes</th>\n",
       "    </tr>\n",
       "  </thead>\n",
       "  <tbody>\n",
       "    <tr>\n",
       "      <th>0</th>\n",
       "      <td>5.0</td>\n",
       "      <td>True</td>\n",
       "      <td>2014-08-04</td>\n",
       "      <td>A24E3SXTC62LJI</td>\n",
       "      <td>7508492919</td>\n",
       "      <td>{'Color:': ' Bling'}</td>\n",
       "      <td>Claudia Valdivia</td>\n",
       "      <td>Looks even better in person. Be careful to not...</td>\n",
       "      <td>Can't stop won't stop looking at it</td>\n",
       "      <td>1407110400</td>\n",
       "      <td>NaN</td>\n",
       "      <td>NaN</td>\n",
       "      <td>['Cell Phones &amp; Accessories', 'Cases, Holsters...</td>\n",
       "      <td></td>\n",
       "      <td>[, Elegani Butterfly Case 3D Pattern Back Cove...</td>\n",
       "      <td></td>\n",
       "      <td>MinisDesign 3d Bling Crystal Bow Transparent C...</td>\n",
       "      <td>[]</td>\n",
       "      <td></td>\n",
       "      <td>ELEGANI</td>\n",
       "      <td>[Fashionable with unique 3D butterfly design f...</td>\n",
       "      <td>[&gt;#228,544 in Cell Phones &amp; Accessories (See T...</td>\n",
       "      <td>[]</td>\n",
       "      <td>{}</td>\n",
       "      <td>Cell Phones &amp; Accessories</td>\n",
       "      <td></td>\n",
       "      <td></td>\n",
       "      <td></td>\n",
       "      <td>[https://images-na.ssl-images-amazon.com/image...</td>\n",
       "      <td>[https://images-na.ssl-images-amazon.com/image...</td>\n",
       "    </tr>\n",
       "    <tr>\n",
       "      <th>1</th>\n",
       "      <td>5.0</td>\n",
       "      <td>True</td>\n",
       "      <td>2014-02-12</td>\n",
       "      <td>A269FLZCB4GIPV</td>\n",
       "      <td>7508492919</td>\n",
       "      <td>NaN</td>\n",
       "      <td>sarah ponce</td>\n",
       "      <td>When you don't want to spend a whole lot of ca...</td>\n",
       "      <td>1</td>\n",
       "      <td>1392163200</td>\n",
       "      <td>NaN</td>\n",
       "      <td>NaN</td>\n",
       "      <td>['Cell Phones &amp; Accessories', 'Cases, Holsters...</td>\n",
       "      <td></td>\n",
       "      <td>[, Elegani Butterfly Case 3D Pattern Back Cove...</td>\n",
       "      <td></td>\n",
       "      <td>MinisDesign 3d Bling Crystal Bow Transparent C...</td>\n",
       "      <td>[]</td>\n",
       "      <td></td>\n",
       "      <td>ELEGANI</td>\n",
       "      <td>[Fashionable with unique 3D butterfly design f...</td>\n",
       "      <td>[&gt;#228,544 in Cell Phones &amp; Accessories (See T...</td>\n",
       "      <td>[]</td>\n",
       "      <td>{}</td>\n",
       "      <td>Cell Phones &amp; Accessories</td>\n",
       "      <td></td>\n",
       "      <td></td>\n",
       "      <td></td>\n",
       "      <td>[https://images-na.ssl-images-amazon.com/image...</td>\n",
       "      <td>[https://images-na.ssl-images-amazon.com/image...</td>\n",
       "    </tr>\n",
       "    <tr>\n",
       "      <th>2</th>\n",
       "      <td>3.0</td>\n",
       "      <td>True</td>\n",
       "      <td>2014-02-08</td>\n",
       "      <td>AB6CHQWHZW4TV</td>\n",
       "      <td>7508492919</td>\n",
       "      <td>NaN</td>\n",
       "      <td>Kai</td>\n",
       "      <td>so the case came on time, i love the design. I...</td>\n",
       "      <td>Its okay</td>\n",
       "      <td>1391817600</td>\n",
       "      <td>NaN</td>\n",
       "      <td>NaN</td>\n",
       "      <td>['Cell Phones &amp; Accessories', 'Cases, Holsters...</td>\n",
       "      <td></td>\n",
       "      <td>[, Elegani Butterfly Case 3D Pattern Back Cove...</td>\n",
       "      <td></td>\n",
       "      <td>MinisDesign 3d Bling Crystal Bow Transparent C...</td>\n",
       "      <td>[]</td>\n",
       "      <td></td>\n",
       "      <td>ELEGANI</td>\n",
       "      <td>[Fashionable with unique 3D butterfly design f...</td>\n",
       "      <td>[&gt;#228,544 in Cell Phones &amp; Accessories (See T...</td>\n",
       "      <td>[]</td>\n",
       "      <td>{}</td>\n",
       "      <td>Cell Phones &amp; Accessories</td>\n",
       "      <td></td>\n",
       "      <td></td>\n",
       "      <td></td>\n",
       "      <td>[https://images-na.ssl-images-amazon.com/image...</td>\n",
       "      <td>[https://images-na.ssl-images-amazon.com/image...</td>\n",
       "    </tr>\n",
       "    <tr>\n",
       "      <th>3</th>\n",
       "      <td>2.0</td>\n",
       "      <td>True</td>\n",
       "      <td>2014-02-04</td>\n",
       "      <td>A1M117A53LEI8</td>\n",
       "      <td>7508492919</td>\n",
       "      <td>NaN</td>\n",
       "      <td>Sharon Williams</td>\n",
       "      <td>DON'T CARE FOR IT.  GAVE IT AS A GIFT AND THEY...</td>\n",
       "      <td>CASE</td>\n",
       "      <td>1391472000</td>\n",
       "      <td>NaN</td>\n",
       "      <td>NaN</td>\n",
       "      <td>['Cell Phones &amp; Accessories', 'Cases, Holsters...</td>\n",
       "      <td></td>\n",
       "      <td>[, Elegani Butterfly Case 3D Pattern Back Cove...</td>\n",
       "      <td></td>\n",
       "      <td>MinisDesign 3d Bling Crystal Bow Transparent C...</td>\n",
       "      <td>[]</td>\n",
       "      <td></td>\n",
       "      <td>ELEGANI</td>\n",
       "      <td>[Fashionable with unique 3D butterfly design f...</td>\n",
       "      <td>[&gt;#228,544 in Cell Phones &amp; Accessories (See T...</td>\n",
       "      <td>[]</td>\n",
       "      <td>{}</td>\n",
       "      <td>Cell Phones &amp; Accessories</td>\n",
       "      <td></td>\n",
       "      <td></td>\n",
       "      <td></td>\n",
       "      <td>[https://images-na.ssl-images-amazon.com/image...</td>\n",
       "      <td>[https://images-na.ssl-images-amazon.com/image...</td>\n",
       "    </tr>\n",
       "    <tr>\n",
       "      <th>4</th>\n",
       "      <td>4.0</td>\n",
       "      <td>True</td>\n",
       "      <td>2014-02-03</td>\n",
       "      <td>A272DUT8M88ZS8</td>\n",
       "      <td>7508492919</td>\n",
       "      <td>NaN</td>\n",
       "      <td>Bella Rodriguez</td>\n",
       "      <td>I liked it because it was cute, but the studs ...</td>\n",
       "      <td>Cute!</td>\n",
       "      <td>1391385600</td>\n",
       "      <td>NaN</td>\n",
       "      <td>NaN</td>\n",
       "      <td>['Cell Phones &amp; Accessories', 'Cases, Holsters...</td>\n",
       "      <td></td>\n",
       "      <td>[, Elegani Butterfly Case 3D Pattern Back Cove...</td>\n",
       "      <td></td>\n",
       "      <td>MinisDesign 3d Bling Crystal Bow Transparent C...</td>\n",
       "      <td>[]</td>\n",
       "      <td></td>\n",
       "      <td>ELEGANI</td>\n",
       "      <td>[Fashionable with unique 3D butterfly design f...</td>\n",
       "      <td>[&gt;#228,544 in Cell Phones &amp; Accessories (See T...</td>\n",
       "      <td>[]</td>\n",
       "      <td>{}</td>\n",
       "      <td>Cell Phones &amp; Accessories</td>\n",
       "      <td></td>\n",
       "      <td></td>\n",
       "      <td></td>\n",
       "      <td>[https://images-na.ssl-images-amazon.com/image...</td>\n",
       "      <td>[https://images-na.ssl-images-amazon.com/image...</td>\n",
       "    </tr>\n",
       "  </tbody>\n",
       "</table>\n",
       "</div>"
      ],
      "text/plain": [
       "   overall  ...                                    imageURLHighRes\n",
       "0      5.0  ...  [https://images-na.ssl-images-amazon.com/image...\n",
       "1      5.0  ...  [https://images-na.ssl-images-amazon.com/image...\n",
       "2      3.0  ...  [https://images-na.ssl-images-amazon.com/image...\n",
       "3      2.0  ...  [https://images-na.ssl-images-amazon.com/image...\n",
       "4      4.0  ...  [https://images-na.ssl-images-amazon.com/image...\n",
       "\n",
       "[5 rows x 30 columns]"
      ]
     },
     "execution_count": 16,
     "metadata": {},
     "output_type": "execute_result"
    }
   ],
   "source": [
    "dfMerge.head(5)"
   ]
  },
  {
   "cell_type": "markdown",
   "id": "6yoNqZOV0AeW",
   "metadata": {
    "id": "6yoNqZOV0AeW"
   },
   "source": [
    "# Merged Data Explore"
   ]
  },
  {
   "cell_type": "code",
   "execution_count": 17,
   "id": "gB2ORFxVxkMO",
   "metadata": {
    "colab": {
     "base_uri": "https://localhost:8080/",
     "height": 0
    },
    "executionInfo": {
     "elapsed": 2249,
     "status": "ok",
     "timestamp": 1638630093360,
     "user": {
      "displayName": "Michael Vasiliou",
      "photoUrl": "https://lh3.googleusercontent.com/a/default-user=s64",
      "userId": "07079983815732559270"
     },
     "user_tz": 300
    },
    "id": "gB2ORFxVxkMO",
    "outputId": "c57bc0d2-c9cb-4308-bb6c-b6a3e46fa56e"
   },
   "outputs": [
    {
     "data": {
      "application/vnd.google.colaboratory.intrinsic+json": {
       "type": "string"
      },
      "text/plain": [
       "'(1128437, 12)'"
      ]
     },
     "metadata": {},
     "output_type": "display_data"
    },
    {
     "data": {
      "application/vnd.google.colaboratory.intrinsic+json": {
       "type": "string"
      },
      "text/plain": [
       "'(1120076, 12)'"
      ]
     },
     "metadata": {},
     "output_type": "display_data"
    }
   ],
   "source": [
    "dfTemp = df\n",
    "display(str(dfTemp.shape))\n",
    "dfDeDupe = dfTemp.drop_duplicates(subset=['reviewerID', 'asin', 'reviewText', 'reviewTime'],keep=False)\n",
    "display(str(dfDeDupe.shape))"
   ]
  },
  {
   "cell_type": "code",
   "execution_count": 18,
   "id": "0a9cd90e",
   "metadata": {
    "colab": {
     "base_uri": "https://localhost:8080/",
     "height": 0
    },
    "executionInfo": {
     "elapsed": 145,
     "status": "ok",
     "timestamp": 1638630093502,
     "user": {
      "displayName": "Michael Vasiliou",
      "photoUrl": "https://lh3.googleusercontent.com/a/default-user=s64",
      "userId": "07079983815732559270"
     },
     "user_tz": 300
    },
    "id": "0a9cd90e",
    "outputId": "2d3ff639-fde6-48c0-840b-263fd5ff7cf2"
   },
   "outputs": [
    {
     "data": {
      "text/plain": [
       "(29, 1)"
      ]
     },
     "metadata": {},
     "output_type": "display_data"
    },
    {
     "data": {
      "text/html": [
       "<div>\n",
       "<style scoped>\n",
       "    .dataframe tbody tr th:only-of-type {\n",
       "        vertical-align: middle;\n",
       "    }\n",
       "\n",
       "    .dataframe tbody tr th {\n",
       "        vertical-align: top;\n",
       "    }\n",
       "\n",
       "    .dataframe thead th {\n",
       "        text-align: right;\n",
       "    }\n",
       "</style>\n",
       "<table border=\"1\" class=\"dataframe\">\n",
       "  <thead>\n",
       "    <tr style=\"text-align: right;\">\n",
       "      <th></th>\n",
       "      <th>reviewCnt</th>\n",
       "    </tr>\n",
       "    <tr>\n",
       "      <th>main_cat</th>\n",
       "      <th></th>\n",
       "    </tr>\n",
       "  </thead>\n",
       "  <tbody>\n",
       "    <tr>\n",
       "      <th>Cell Phones &amp; Accessories</th>\n",
       "      <td>1045517</td>\n",
       "    </tr>\n",
       "    <tr>\n",
       "      <th>All Electronics</th>\n",
       "      <td>41503</td>\n",
       "    </tr>\n",
       "    <tr>\n",
       "      <th>Computers</th>\n",
       "      <td>16199</td>\n",
       "    </tr>\n",
       "    <tr>\n",
       "      <th>Sports &amp; Outdoors</th>\n",
       "      <td>3387</td>\n",
       "    </tr>\n",
       "    <tr>\n",
       "      <th>Home Audio &amp; Theater</th>\n",
       "      <td>2683</td>\n",
       "    </tr>\n",
       "    <tr>\n",
       "      <th>Camera &amp; Photo</th>\n",
       "      <td>2266</td>\n",
       "    </tr>\n",
       "    <tr>\n",
       "      <th>Amazon Home</th>\n",
       "      <td>2173</td>\n",
       "    </tr>\n",
       "    <tr>\n",
       "      <th>Car Electronics</th>\n",
       "      <td>1983</td>\n",
       "    </tr>\n",
       "    <tr>\n",
       "      <th>Portable Audio &amp; Accessories</th>\n",
       "      <td>1960</td>\n",
       "    </tr>\n",
       "    <tr>\n",
       "      <th>Tools &amp; Home Improvement</th>\n",
       "      <td>1476</td>\n",
       "    </tr>\n",
       "    <tr>\n",
       "      <th>Health &amp; Personal Care</th>\n",
       "      <td>1339</td>\n",
       "    </tr>\n",
       "    <tr>\n",
       "      <th>Amazon Devices</th>\n",
       "      <td>1154</td>\n",
       "    </tr>\n",
       "    <tr>\n",
       "      <th>Automotive</th>\n",
       "      <td>1132</td>\n",
       "    </tr>\n",
       "    <tr>\n",
       "      <th>&lt;img src=\"https://images-na.ssl-images-amazon.com/images/G/01/nav2/images/gui/amazon-fashion-store-new._CB520838675_.png\" class=\"nav-categ-image\" alt=\"AMAZON FASHION\"/&gt;</th>\n",
       "      <td>935</td>\n",
       "    </tr>\n",
       "    <tr>\n",
       "      <th>Books</th>\n",
       "      <td>786</td>\n",
       "    </tr>\n",
       "    <tr>\n",
       "      <th>Office Products</th>\n",
       "      <td>712</td>\n",
       "    </tr>\n",
       "    <tr>\n",
       "      <th></th>\n",
       "      <td>619</td>\n",
       "    </tr>\n",
       "    <tr>\n",
       "      <th>Apple Products</th>\n",
       "      <td>550</td>\n",
       "    </tr>\n",
       "    <tr>\n",
       "      <th>Toys &amp; Games</th>\n",
       "      <td>544</td>\n",
       "    </tr>\n",
       "    <tr>\n",
       "      <th>All Beauty</th>\n",
       "      <td>384</td>\n",
       "    </tr>\n",
       "    <tr>\n",
       "      <th>Fire Phone</th>\n",
       "      <td>375</td>\n",
       "    </tr>\n",
       "    <tr>\n",
       "      <th>Industrial &amp; Scientific</th>\n",
       "      <td>346</td>\n",
       "    </tr>\n",
       "    <tr>\n",
       "      <th>Arts, Crafts &amp; Sewing</th>\n",
       "      <td>236</td>\n",
       "    </tr>\n",
       "    <tr>\n",
       "      <th>GPS &amp; Navigation</th>\n",
       "      <td>213</td>\n",
       "    </tr>\n",
       "    <tr>\n",
       "      <th>Musical Instruments</th>\n",
       "      <td>193</td>\n",
       "    </tr>\n",
       "    <tr>\n",
       "      <th>Video Games</th>\n",
       "      <td>180</td>\n",
       "    </tr>\n",
       "    <tr>\n",
       "      <th>Baby</th>\n",
       "      <td>118</td>\n",
       "    </tr>\n",
       "    <tr>\n",
       "      <th>Pet Supplies</th>\n",
       "      <td>62</td>\n",
       "    </tr>\n",
       "    <tr>\n",
       "      <th>Amazon Fire TV</th>\n",
       "      <td>10</td>\n",
       "    </tr>\n",
       "  </tbody>\n",
       "</table>\n",
       "</div>"
      ],
      "text/plain": [
       "                                                    reviewCnt\n",
       "main_cat                                                     \n",
       "Cell Phones & Accessories                             1045517\n",
       "All Electronics                                         41503\n",
       "Computers                                               16199\n",
       "Sports & Outdoors                                        3387\n",
       "Home Audio & Theater                                     2683\n",
       "Camera & Photo                                           2266\n",
       "Amazon Home                                              2173\n",
       "Car Electronics                                          1983\n",
       "Portable Audio & Accessories                             1960\n",
       "Tools & Home Improvement                                 1476\n",
       "Health & Personal Care                                   1339\n",
       "Amazon Devices                                           1154\n",
       "Automotive                                               1132\n",
       "<img src=\"https://images-na.ssl-images-amazon.c...        935\n",
       "Books                                                     786\n",
       "Office Products                                           712\n",
       "                                                          619\n",
       "Apple Products                                            550\n",
       "Toys & Games                                              544\n",
       "All Beauty                                                384\n",
       "Fire Phone                                                375\n",
       "Industrial & Scientific                                   346\n",
       "Arts, Crafts & Sewing                                     236\n",
       "GPS & Navigation                                          213\n",
       "Musical Instruments                                       193\n",
       "Video Games                                               180\n",
       "Baby                                                      118\n",
       "Pet Supplies                                               62\n",
       "Amazon Fire TV                                             10"
      ]
     },
     "execution_count": 18,
     "metadata": {},
     "output_type": "execute_result"
    }
   ],
   "source": [
    "cat_One = dfMerge.groupby(['main_cat']).size().to_frame('reviewCnt')\n",
    "cat_One = cat_One.sort_values(by='reviewCnt', ascending=False)        \n",
    "display(cat_One.shape)    \n",
    "# show top records\n",
    "cat_One.head(29)"
   ]
  },
  {
   "cell_type": "code",
   "execution_count": 19,
   "id": "7eaabe3f",
   "metadata": {
    "colab": {
     "base_uri": "https://localhost:8080/",
     "height": 0
    },
    "executionInfo": {
     "elapsed": 602,
     "status": "ok",
     "timestamp": 1638630094102,
     "user": {
      "displayName": "Michael Vasiliou",
      "photoUrl": "https://lh3.googleusercontent.com/a/default-user=s64",
      "userId": "07079983815732559270"
     },
     "user_tz": 300
    },
    "id": "7eaabe3f",
    "outputId": "06edabce-1d52-418b-d99f-bcf2727a660e"
   },
   "outputs": [
    {
     "data": {
      "text/plain": [
       "(133, 1)"
      ]
     },
     "metadata": {},
     "output_type": "display_data"
    },
    {
     "data": {
      "text/html": [
       "<div>\n",
       "<style scoped>\n",
       "    .dataframe tbody tr th:only-of-type {\n",
       "        vertical-align: middle;\n",
       "    }\n",
       "\n",
       "    .dataframe tbody tr th {\n",
       "        vertical-align: top;\n",
       "    }\n",
       "\n",
       "    .dataframe thead th {\n",
       "        text-align: right;\n",
       "    }\n",
       "</style>\n",
       "<table border=\"1\" class=\"dataframe\">\n",
       "  <thead>\n",
       "    <tr style=\"text-align: right;\">\n",
       "      <th></th>\n",
       "      <th>reviewCnt</th>\n",
       "    </tr>\n",
       "    <tr>\n",
       "      <th>category</th>\n",
       "      <th></th>\n",
       "    </tr>\n",
       "  </thead>\n",
       "  <tbody>\n",
       "    <tr>\n",
       "      <th>['Cell Phones &amp; Accessories', 'Cases, Holsters &amp; Sleeves', 'Basic Cases']</th>\n",
       "      <td>245197</td>\n",
       "    </tr>\n",
       "    <tr>\n",
       "      <th>['Cell Phones &amp; Accessories', 'Cases, Holsters &amp; Sleeves']</th>\n",
       "      <td>152192</td>\n",
       "    </tr>\n",
       "    <tr>\n",
       "      <th>['Cell Phones &amp; Accessories', 'Accessories', 'Screen Protectors']</th>\n",
       "      <td>137476</td>\n",
       "    </tr>\n",
       "    <tr>\n",
       "      <th>['Cell Phones &amp; Accessories', 'Accessories', 'Cables']</th>\n",
       "      <td>63510</td>\n",
       "    </tr>\n",
       "    <tr>\n",
       "      <th>[]</th>\n",
       "      <td>61861</td>\n",
       "    </tr>\n",
       "    <tr>\n",
       "      <th>...</th>\n",
       "      <td>...</td>\n",
       "    </tr>\n",
       "    <tr>\n",
       "      <th>['Cell Phones &amp; Accessories', 'Cases, Holsters &amp; Sleeves', 'Imported', 'Demension:7.5x3.7x1.1 inchesLxWxT', 'Compatibility:Apple iphone 4 4s,iphone 5,5S,5C,iPhone 6plus,6,iphone 7plus,7,iphone 8, iphone 8plus,iphone x,Samsung Galaxy S3 s4,s6,s7,s8,galaxy note8,note6,note5,note4 and other cell phone.Great wallet and zipper purse.', 'Super convenient clutch bag and Wristlet purse for cellphone,wallet,purse and small stuffs.It can contain money and card slots.', 'It is made of premium leather which is durable and pretty.It is designed with fashion funk elements.', 'Great zipper bag,it is designed with seperated pouches for multiple cards and others .Best organizer for women.']</th>\n",
       "      <td>5</td>\n",
       "    </tr>\n",
       "    <tr>\n",
       "      <th>['Cell Phones &amp; Accessories', 'Accessories', 'Screen Protectors', 'The Skinomi TechSkin Motorola Moto 360 full body protector is specifically designed to provide complete full-body coverage; Material flexibility allows total coverage regardless of shape or size', 'Self-Healing, flexible, tough, military-grade thermoplastic urethane, designed to absorb impact; The TechSkin is resistant against scratches, punctures, UV light and will not yellow', 'Easy, error-proof, and anti-bubble installation; Liquid solution allows adjustments during installation; Significantly reduces dust, oil and fingerprint smudges', 'Clear full body skin protector for Motorola Moto 360 with smooth surface; A great alternative to a typical \"static cling\" protectors', 'Made in the USA and comes with the Skinomi Lifetime Replacement Warranty from Manufacturer']</th>\n",
       "      <td>5</td>\n",
       "    </tr>\n",
       "    <tr>\n",
       "      <th>['Cell Phones &amp; Accessories', 'Cases, Holsters &amp; Sleeves', 'Elegant faux leather tapestry complimented with a unique printed design', 'Designed to hold up to 2 credit cards plus your money along-side your phone', 'Self stand function allows for convenient, comfortable media viewing or face talk', 'Precise cut out have been made to allow you full access to all functions', 'Manetic closing flap keeps the cover fimly closed for maximum screen protection']</th>\n",
       "      <td>5</td>\n",
       "    </tr>\n",
       "    <tr>\n",
       "      <th>['Cell Phones &amp; Accessories', 'Cases, Holsters &amp; Sleeves', 'Basic Cases', '100% Brand New and High Quality', 'Material: PU leather', 'Size: 154 X 75mm', 'Feature: large capacity for money, cards and phone like iphone 4, 4S, 5, GalaxyS2, S3,Note 2 7100 and any phone that in a similar or smaller size', 'Attention:the color of the actual item maybe slightly different from the picture shown, due to different light and computer monitor. Please allow us to have your understanding. Thank you.']</th>\n",
       "      <td>5</td>\n",
       "    </tr>\n",
       "    <tr>\n",
       "      <th>['Cell Phones &amp; Accessories', 'Accessories', '&lt;/span&gt;&lt;/span&gt;&lt;/span&gt;', 'The back pocket is big enough to hold your earphones and extra accessories', 'The detachable, metal carabiner will clip to your backpack or bag', 'Fully padded', 'Compatible with PSP 2000', 'LIFETIME WARRANTY']</th>\n",
       "      <td>2</td>\n",
       "    </tr>\n",
       "  </tbody>\n",
       "</table>\n",
       "<p>133 rows × 1 columns</p>\n",
       "</div>"
      ],
      "text/plain": [
       "                                                    reviewCnt\n",
       "category                                                     \n",
       "['Cell Phones & Accessories', 'Cases, Holsters ...     245197\n",
       "['Cell Phones & Accessories', 'Cases, Holsters ...     152192\n",
       "['Cell Phones & Accessories', 'Accessories', 'S...     137476\n",
       "['Cell Phones & Accessories', 'Accessories', 'C...      63510\n",
       "[]                                                      61861\n",
       "...                                                       ...\n",
       "['Cell Phones & Accessories', 'Cases, Holsters ...          5\n",
       "['Cell Phones & Accessories', 'Accessories', 'S...          5\n",
       "['Cell Phones & Accessories', 'Cases, Holsters ...          5\n",
       "['Cell Phones & Accessories', 'Cases, Holsters ...          5\n",
       "['Cell Phones & Accessories', 'Accessories', '<...          2\n",
       "\n",
       "[133 rows x 1 columns]"
      ]
     },
     "execution_count": 19,
     "metadata": {},
     "output_type": "execute_result"
    }
   ],
   "source": [
    "# group by category\n",
    "cat_Two = dfMerge.groupby(['category']).size().to_frame('reviewCnt')\n",
    "cat_Two = cat_Two.sort_values(by='reviewCnt', ascending=False)        \n",
    "display(cat_Two.shape)\n",
    "# show top records\n",
    "cat_Two.head(133)"
   ]
  },
  {
   "cell_type": "code",
   "execution_count": 20,
   "id": "caf7b7f4",
   "metadata": {
    "colab": {
     "base_uri": "https://localhost:8080/",
     "height": 0
    },
    "executionInfo": {
     "elapsed": 311,
     "status": "ok",
     "timestamp": 1638630094407,
     "user": {
      "displayName": "Michael Vasiliou",
      "photoUrl": "https://lh3.googleusercontent.com/a/default-user=s64",
      "userId": "07079983815732559270"
     },
     "user_tz": 300
    },
    "id": "caf7b7f4",
    "outputId": "2a1c1f38-368d-4020-9239-f8c03a7e0cdd"
   },
   "outputs": [
    {
     "data": {
      "text/plain": [
       "(47411, 1)"
      ]
     },
     "metadata": {},
     "output_type": "display_data"
    },
    {
     "data": {
      "text/html": [
       "<div>\n",
       "<style scoped>\n",
       "    .dataframe tbody tr th:only-of-type {\n",
       "        vertical-align: middle;\n",
       "    }\n",
       "\n",
       "    .dataframe tbody tr th {\n",
       "        vertical-align: top;\n",
       "    }\n",
       "\n",
       "    .dataframe thead th {\n",
       "        text-align: right;\n",
       "    }\n",
       "</style>\n",
       "<table border=\"1\" class=\"dataframe\">\n",
       "  <thead>\n",
       "    <tr style=\"text-align: right;\">\n",
       "      <th></th>\n",
       "      <th>reviewCnt</th>\n",
       "    </tr>\n",
       "    <tr>\n",
       "      <th>title</th>\n",
       "      <th></th>\n",
       "    </tr>\n",
       "  </thead>\n",
       "  <tbody>\n",
       "    <tr>\n",
       "      <th>Anker Astro E1 5200mAh Candy bar-Sized Ultra Compact Portable Charger (External Battery Power Bank) with High-Speed Charging PowerIQ Technology (Black)</th>\n",
       "      <td>3019</td>\n",
       "    </tr>\n",
       "    <tr>\n",
       "      <th>Anker 24W Dual USB Car Charger, PowerDrive 2 for iPhone Xs/XS Max/XR/X / 8/7 / 6 / Plus, iPad Pro/Air 2 / Mini, Note 5/4, LG, Nexus, HTC, and More</th>\n",
       "      <td>1684</td>\n",
       "    </tr>\n",
       "    <tr>\n",
       "      <th>Anker PowerCore+ Mini, 3350mAh Lipstick-Sized Portable Charger (Premium Aluminum Power Bank), One of The Most Compact External Batteries, Compatible with iPhone Xs/XR, Android Smartphones and More</th>\n",
       "      <td>1634</td>\n",
       "    </tr>\n",
       "    <tr>\n",
       "      <th>ZeroLemon Y313 Lightning to USB Plastic PVC Cable for Iphone 5s / 5c / 5, Ipad Air / Mini / Mini2, Ipad 4th Generation, Ipod 5th Generation, and Ipod Nano 7th Generation (PVC Green, 6-Inch)</th>\n",
       "      <td>1623</td>\n",
       "    </tr>\n",
       "    <tr>\n",
       "      <th>Anker PowerCore 20100 - Ultra High Capacity Power Bank with 4.8A Output, PowerIQ Technology for iPhone, iPad and Samsung Galaxy and More (Black)</th>\n",
       "      <td>1514</td>\n",
       "    </tr>\n",
       "  </tbody>\n",
       "</table>\n",
       "</div>"
      ],
      "text/plain": [
       "                                                    reviewCnt\n",
       "title                                                        \n",
       "Anker Astro E1 5200mAh Candy bar-Sized Ultra Co...       3019\n",
       "Anker 24W Dual USB Car Charger, PowerDrive 2 fo...       1684\n",
       "Anker PowerCore+ Mini, 3350mAh Lipstick-Sized P...       1634\n",
       "ZeroLemon Y313 Lightning to USB Plastic PVC Cab...       1623\n",
       "Anker PowerCore 20100 - Ultra High Capacity Pow...       1514"
      ]
     },
     "execution_count": 20,
     "metadata": {},
     "output_type": "execute_result"
    }
   ],
   "source": [
    "# group by category\n",
    "cat_Three = dfMerge.groupby(['title']).size().to_frame('reviewCnt')\n",
    "cat_Three = cat_Three.sort_values(by='reviewCnt', ascending=False)        \n",
    "display(cat_Three.shape)\n",
    "# show top 5 records\n",
    "cat_Three.head(5)"
   ]
  },
  {
   "cell_type": "code",
   "execution_count": 21,
   "id": "20efe945",
   "metadata": {
    "colab": {
     "base_uri": "https://localhost:8080/",
     "height": 0
    },
    "executionInfo": {
     "elapsed": 999,
     "status": "ok",
     "timestamp": 1638630095403,
     "user": {
      "displayName": "Michael Vasiliou",
      "photoUrl": "https://lh3.googleusercontent.com/a/default-user=s64",
      "userId": "07079983815732559270"
     },
     "user_tz": 300
    },
    "id": "20efe945",
    "outputId": "edc693f3-0d62-46c9-ab26-73bcea57d4f5"
   },
   "outputs": [
    {
     "data": {
      "text/plain": [
       "(47506, 4)"
      ]
     },
     "metadata": {},
     "output_type": "display_data"
    },
    {
     "data": {
      "text/html": [
       "<div>\n",
       "<style scoped>\n",
       "    .dataframe tbody tr th:only-of-type {\n",
       "        vertical-align: middle;\n",
       "    }\n",
       "\n",
       "    .dataframe tbody tr th {\n",
       "        vertical-align: top;\n",
       "    }\n",
       "\n",
       "    .dataframe thead th {\n",
       "        text-align: right;\n",
       "    }\n",
       "</style>\n",
       "<table border=\"1\" class=\"dataframe\">\n",
       "  <thead>\n",
       "    <tr style=\"text-align: right;\">\n",
       "      <th></th>\n",
       "      <th>main_cat</th>\n",
       "      <th>category</th>\n",
       "      <th>title</th>\n",
       "      <th>reviewCnt</th>\n",
       "    </tr>\n",
       "  </thead>\n",
       "  <tbody>\n",
       "    <tr>\n",
       "      <th>0</th>\n",
       "      <td>Cell Phones &amp; Accessories</td>\n",
       "      <td>['Cell Phones &amp; Accessories', 'Accessories', '...</td>\n",
       "      <td>Anker Astro E1 5200mAh Candy bar-Sized Ultra C...</td>\n",
       "      <td>3019</td>\n",
       "    </tr>\n",
       "    <tr>\n",
       "      <th>1</th>\n",
       "      <td>Cell Phones &amp; Accessories</td>\n",
       "      <td>['Cell Phones &amp; Accessories', 'Accessories', '...</td>\n",
       "      <td>Anker 24W Dual USB Car Charger, PowerDrive 2 f...</td>\n",
       "      <td>1684</td>\n",
       "    </tr>\n",
       "    <tr>\n",
       "      <th>2</th>\n",
       "      <td>Cell Phones &amp; Accessories</td>\n",
       "      <td>['Cell Phones &amp; Accessories', 'Accessories', '...</td>\n",
       "      <td>Anker PowerCore+ Mini, 3350mAh Lipstick-Sized ...</td>\n",
       "      <td>1634</td>\n",
       "    </tr>\n",
       "    <tr>\n",
       "      <th>3</th>\n",
       "      <td>Cell Phones &amp; Accessories</td>\n",
       "      <td>['Cell Phones &amp; Accessories', 'Accessories', '...</td>\n",
       "      <td>ZeroLemon Y313 Lightning to USB Plastic PVC Ca...</td>\n",
       "      <td>1623</td>\n",
       "    </tr>\n",
       "    <tr>\n",
       "      <th>4</th>\n",
       "      <td>Cell Phones &amp; Accessories</td>\n",
       "      <td>['Cell Phones &amp; Accessories', 'Accessories', '...</td>\n",
       "      <td>Anker PowerCore 20100 - Ultra High Capacity Po...</td>\n",
       "      <td>1514</td>\n",
       "    </tr>\n",
       "  </tbody>\n",
       "</table>\n",
       "</div>"
      ],
      "text/plain": [
       "                    main_cat  ... reviewCnt\n",
       "0  Cell Phones & Accessories  ...      3019\n",
       "1  Cell Phones & Accessories  ...      1684\n",
       "2  Cell Phones & Accessories  ...      1634\n",
       "3  Cell Phones & Accessories  ...      1623\n",
       "4  Cell Phones & Accessories  ...      1514\n",
       "\n",
       "[5 rows x 4 columns]"
      ]
     },
     "execution_count": 21,
     "metadata": {},
     "output_type": "execute_result"
    }
   ],
   "source": [
    "# group by category, count distinct subreddits and posts\n",
    "cat_All = dfMerge.groupby(['main_cat','category', 'title']).size().to_frame('reviewCnt')\n",
    "cat_All = cat_All.sort_values(by='reviewCnt', ascending=False)\n",
    "cat_All = cat_All.reset_index()\n",
    "display(cat_All.shape)    \n",
    "# show top 5 records\n",
    "cat_All.head(5)"
   ]
  },
  {
   "cell_type": "code",
   "execution_count": 22,
   "id": "27bdb4f0",
   "metadata": {
    "colab": {
     "base_uri": "https://localhost:8080/"
    },
    "executionInfo": {
     "elapsed": 126,
     "status": "ok",
     "timestamp": 1638630095525,
     "user": {
      "displayName": "Michael Vasiliou",
      "photoUrl": "https://lh3.googleusercontent.com/a/default-user=s64",
      "userId": "07079983815732559270"
     },
     "user_tz": 300
    },
    "id": "27bdb4f0",
    "outputId": "3e36b8e3-d3d7-476d-fa3f-156e97afaeff"
   },
   "outputs": [
    {
     "data": {
      "text/plain": [
       "133"
      ]
     },
     "execution_count": 22,
     "metadata": {},
     "output_type": "execute_result"
    }
   ],
   "source": [
    "cat_All['category'].nunique()"
   ]
  },
  {
   "cell_type": "code",
   "execution_count": 23,
   "id": "709e1070",
   "metadata": {
    "colab": {
     "base_uri": "https://localhost:8080/"
    },
    "executionInfo": {
     "elapsed": 337,
     "status": "ok",
     "timestamp": 1638630095860,
     "user": {
      "displayName": "Michael Vasiliou",
      "photoUrl": "https://lh3.googleusercontent.com/a/default-user=s64",
      "userId": "07079983815732559270"
     },
     "user_tz": 300
    },
    "id": "709e1070",
    "outputId": "f60d3749-2f16-43b6-d08c-30594367da35"
   },
   "outputs": [
    {
     "name": "stdout",
     "output_type": "stream",
     "text": [
      "<class 'pandas.core.frame.DataFrame'>\n",
      "RangeIndex: 63920 entries, 0 to 63919\n",
      "Data columns (total 30 columns):\n",
      " #   Column           Non-Null Count  Dtype         \n",
      "---  ------           --------------  -----         \n",
      " 0   overall          63920 non-null  float64       \n",
      " 1   verified         63920 non-null  bool          \n",
      " 2   reviewTime       63920 non-null  datetime64[ns]\n",
      " 3   reviewerID       63920 non-null  object        \n",
      " 4   asin             63920 non-null  object        \n",
      " 5   style            29860 non-null  object        \n",
      " 6   reviewerName     63912 non-null  object        \n",
      " 7   reviewText       63887 non-null  object        \n",
      " 8   summary          63903 non-null  object        \n",
      " 9   unixReviewTime   63920 non-null  int64         \n",
      " 10  vote             12512 non-null  object        \n",
      " 11  image            616 non-null    object        \n",
      " 12  category         63920 non-null  string        \n",
      " 13  tech1            63920 non-null  object        \n",
      " 14  description      63920 non-null  object        \n",
      " 15  fit              63920 non-null  object        \n",
      " 16  title            63920 non-null  object        \n",
      " 17  also_buy         63920 non-null  object        \n",
      " 18  tech2            63920 non-null  object        \n",
      " 19  brand            63920 non-null  object        \n",
      " 20  feature          63920 non-null  object        \n",
      " 21  rank             63920 non-null  object        \n",
      " 22  also_view        63920 non-null  object        \n",
      " 23  details          63920 non-null  object        \n",
      " 24  main_cat         63920 non-null  object        \n",
      " 25  similar_item     63920 non-null  object        \n",
      " 26  date             63920 non-null  object        \n",
      " 27  price            63920 non-null  object        \n",
      " 28  imageURL         63920 non-null  object        \n",
      " 29  imageURLHighRes  63920 non-null  object        \n",
      "dtypes: bool(1), datetime64[ns](1), float64(1), int64(1), object(25), string(1)\n",
      "memory usage: 14.2+ MB\n"
     ]
    },
    {
     "name": "stderr",
     "output_type": "stream",
     "text": [
      "/usr/local/lib/python3.7/dist-packages/ipykernel_launcher.py:12: SettingWithCopyWarning: \n",
      "A value is trying to be set on a copy of a slice from a DataFrame.\n",
      "Try using .loc[row_indexer,col_indexer] = value instead\n",
      "\n",
      "See the caveats in the documentation: https://pandas.pydata.org/pandas-docs/stable/user_guide/indexing.html#returning-a-view-versus-a-copy\n",
      "  if sys.path[0] == '':\n"
     ]
    }
   ],
   "source": [
    "#Trim and fix column Dtypes for saving to database\n",
    "value_list=[\"['Cell Phones & Accessories', 'Cell Phones']\",\n",
    "           \"['Cell Phones & Accessories', 'Cell Phones', 'Unlocked Cell Phones']\",\n",
    "           \"['Cell Phones & Accessories', 'Cell Phones', 'Carrier Cell Phones']\" \n",
    "           ]\n",
    "#Trim records\n",
    "dfTrim = dfMerge.loc[(dfMerge.category.isin(value_list))]\n",
    "#dfTrim = dfTrim.drop(dfTrim.columns[5], axis=1) #drop the Style column\n",
    "dfTrim.reset_index(inplace=True, drop=True)\n",
    "\n",
    "#change the review to a date time\n",
    "dfTrim['reviewTime'] = pd.to_datetime(dfTrim['reviewTime'], format=\"%m %d, %Y\")\n",
    "\n",
    "#Convert all columns that are objects to string.\n",
    "#having an issue writing it to the database with type issues. \n",
    "#objectColumns = list(dfTrim.select_dtypes(['object']))\n",
    "#dfTrim[objectColumns] = dfTrim[objectColumns].astype(\"string\")\n",
    "\n",
    "dfTrim.info()                    "
   ]
  },
  {
   "cell_type": "code",
   "execution_count": 24,
   "id": "5DNbnheubzHv",
   "metadata": {
    "colab": {
     "base_uri": "https://localhost:8080/",
     "height": 0
    },
    "executionInfo": {
     "elapsed": 16,
     "status": "ok",
     "timestamp": 1638630095861,
     "user": {
      "displayName": "Michael Vasiliou",
      "photoUrl": "https://lh3.googleusercontent.com/a/default-user=s64",
      "userId": "07079983815732559270"
     },
     "user_tz": 300
    },
    "id": "5DNbnheubzHv",
    "outputId": "b6b79048-f819-497b-9e9f-f925e58c64fd"
   },
   "outputs": [
    {
     "data": {
      "text/html": [
       "<div>\n",
       "<style scoped>\n",
       "    .dataframe tbody tr th:only-of-type {\n",
       "        vertical-align: middle;\n",
       "    }\n",
       "\n",
       "    .dataframe tbody tr th {\n",
       "        vertical-align: top;\n",
       "    }\n",
       "\n",
       "    .dataframe thead th {\n",
       "        text-align: right;\n",
       "    }\n",
       "</style>\n",
       "<table border=\"1\" class=\"dataframe\">\n",
       "  <thead>\n",
       "    <tr style=\"text-align: right;\">\n",
       "      <th></th>\n",
       "      <th>overall</th>\n",
       "      <th>verified</th>\n",
       "      <th>reviewTime</th>\n",
       "      <th>reviewerID</th>\n",
       "      <th>asin</th>\n",
       "      <th>style</th>\n",
       "      <th>reviewerName</th>\n",
       "      <th>reviewText</th>\n",
       "      <th>summary</th>\n",
       "      <th>unixReviewTime</th>\n",
       "      <th>vote</th>\n",
       "      <th>image</th>\n",
       "      <th>category</th>\n",
       "      <th>tech1</th>\n",
       "      <th>description</th>\n",
       "      <th>fit</th>\n",
       "      <th>title</th>\n",
       "      <th>also_buy</th>\n",
       "      <th>tech2</th>\n",
       "      <th>brand</th>\n",
       "      <th>feature</th>\n",
       "      <th>rank</th>\n",
       "      <th>also_view</th>\n",
       "      <th>details</th>\n",
       "      <th>main_cat</th>\n",
       "      <th>similar_item</th>\n",
       "      <th>date</th>\n",
       "      <th>price</th>\n",
       "      <th>imageURL</th>\n",
       "      <th>imageURLHighRes</th>\n",
       "    </tr>\n",
       "  </thead>\n",
       "  <tbody>\n",
       "    <tr>\n",
       "      <th>0</th>\n",
       "      <td>1.0</td>\n",
       "      <td>False</td>\n",
       "      <td>2004-09-21</td>\n",
       "      <td>A5JLAU2ARJ0BO</td>\n",
       "      <td>B0000E3GWH</td>\n",
       "      <td>NaN</td>\n",
       "      <td>Old-and-Wise</td>\n",
       "      <td>This phone is ugly and heavy and has a terribl...</td>\n",
       "      <td>Bad reception</td>\n",
       "      <td>1095724800</td>\n",
       "      <td>2</td>\n",
       "      <td>NaN</td>\n",
       "      <td>['Cell Phones &amp; Accessories', 'Cell Phones', '...</td>\n",
       "      <td></td>\n",
       "      <td>[Compatible with T-Mobile cellular service, Sa...</td>\n",
       "      <td></td>\n",
       "      <td>Samsung SGH E715 - Titanium blue (T-Mobile) Ce...</td>\n",
       "      <td>[]</td>\n",
       "      <td></td>\n",
       "      <td>Samsung</td>\n",
       "      <td>[]</td>\n",
       "      <td>[&gt;#3,059,436 in Cell Phones &amp; Accessories (See...</td>\n",
       "      <td>[]</td>\n",
       "      <td>{}</td>\n",
       "      <td>Cell Phones &amp; Accessories</td>\n",
       "      <td></td>\n",
       "      <td></td>\n",
       "      <td></td>\n",
       "      <td>[https://images-na.ssl-images-amazon.com/image...</td>\n",
       "      <td>[https://images-na.ssl-images-amazon.com/image...</td>\n",
       "    </tr>\n",
       "    <tr>\n",
       "      <th>1</th>\n",
       "      <td>1.0</td>\n",
       "      <td>False</td>\n",
       "      <td>2004-09-21</td>\n",
       "      <td>A5JLAU2ARJ0BO</td>\n",
       "      <td>B0000E3GWH</td>\n",
       "      <td>NaN</td>\n",
       "      <td>Old-and-Wise</td>\n",
       "      <td>This phone is ugly and heavy and has a terribl...</td>\n",
       "      <td>Bad reception</td>\n",
       "      <td>1095724800</td>\n",
       "      <td>2</td>\n",
       "      <td>NaN</td>\n",
       "      <td>['Cell Phones &amp; Accessories', 'Cell Phones', '...</td>\n",
       "      <td></td>\n",
       "      <td>[Compatible with T-Mobile cellular service, Sa...</td>\n",
       "      <td></td>\n",
       "      <td>Samsung SGH E715 - Titanium blue (T-Mobile) Ce...</td>\n",
       "      <td>[]</td>\n",
       "      <td></td>\n",
       "      <td>Samsung</td>\n",
       "      <td>[]</td>\n",
       "      <td>[&gt;#3,059,436 in Cell Phones &amp; Accessories (See...</td>\n",
       "      <td>[]</td>\n",
       "      <td>{}</td>\n",
       "      <td>Cell Phones &amp; Accessories</td>\n",
       "      <td></td>\n",
       "      <td></td>\n",
       "      <td></td>\n",
       "      <td>[https://images-na.ssl-images-amazon.com/image...</td>\n",
       "      <td>[https://images-na.ssl-images-amazon.com/image...</td>\n",
       "    </tr>\n",
       "    <tr>\n",
       "      <th>2</th>\n",
       "      <td>4.0</td>\n",
       "      <td>False</td>\n",
       "      <td>2004-07-24</td>\n",
       "      <td>A1ACM1CBGORBN1</td>\n",
       "      <td>B0000E3GWH</td>\n",
       "      <td>NaN</td>\n",
       "      <td>Sherry Berry</td>\n",
       "      <td>I had the Samsung V205 and then I decided to t...</td>\n",
       "      <td>Pretty good phone.. an improvement from my v205</td>\n",
       "      <td>1090627200</td>\n",
       "      <td>15</td>\n",
       "      <td>NaN</td>\n",
       "      <td>['Cell Phones &amp; Accessories', 'Cell Phones', '...</td>\n",
       "      <td></td>\n",
       "      <td>[Compatible with T-Mobile cellular service, Sa...</td>\n",
       "      <td></td>\n",
       "      <td>Samsung SGH E715 - Titanium blue (T-Mobile) Ce...</td>\n",
       "      <td>[]</td>\n",
       "      <td></td>\n",
       "      <td>Samsung</td>\n",
       "      <td>[]</td>\n",
       "      <td>[&gt;#3,059,436 in Cell Phones &amp; Accessories (See...</td>\n",
       "      <td>[]</td>\n",
       "      <td>{}</td>\n",
       "      <td>Cell Phones &amp; Accessories</td>\n",
       "      <td></td>\n",
       "      <td></td>\n",
       "      <td></td>\n",
       "      <td>[https://images-na.ssl-images-amazon.com/image...</td>\n",
       "      <td>[https://images-na.ssl-images-amazon.com/image...</td>\n",
       "    </tr>\n",
       "    <tr>\n",
       "      <th>3</th>\n",
       "      <td>4.0</td>\n",
       "      <td>False</td>\n",
       "      <td>2004-07-24</td>\n",
       "      <td>A1ACM1CBGORBN1</td>\n",
       "      <td>B0000E3GWH</td>\n",
       "      <td>NaN</td>\n",
       "      <td>Sherry Berry</td>\n",
       "      <td>I had the Samsung V205 and then I decided to t...</td>\n",
       "      <td>Pretty good phone.. an improvement from my v205</td>\n",
       "      <td>1090627200</td>\n",
       "      <td>15</td>\n",
       "      <td>NaN</td>\n",
       "      <td>['Cell Phones &amp; Accessories', 'Cell Phones', '...</td>\n",
       "      <td></td>\n",
       "      <td>[Compatible with T-Mobile cellular service, Sa...</td>\n",
       "      <td></td>\n",
       "      <td>Samsung SGH E715 - Titanium blue (T-Mobile) Ce...</td>\n",
       "      <td>[]</td>\n",
       "      <td></td>\n",
       "      <td>Samsung</td>\n",
       "      <td>[]</td>\n",
       "      <td>[&gt;#3,059,436 in Cell Phones &amp; Accessories (See...</td>\n",
       "      <td>[]</td>\n",
       "      <td>{}</td>\n",
       "      <td>Cell Phones &amp; Accessories</td>\n",
       "      <td></td>\n",
       "      <td></td>\n",
       "      <td></td>\n",
       "      <td>[https://images-na.ssl-images-amazon.com/image...</td>\n",
       "      <td>[https://images-na.ssl-images-amazon.com/image...</td>\n",
       "    </tr>\n",
       "    <tr>\n",
       "      <th>4</th>\n",
       "      <td>3.0</td>\n",
       "      <td>False</td>\n",
       "      <td>2004-07-06</td>\n",
       "      <td>A2V48Q03FZUOSD</td>\n",
       "      <td>B0000E3GWH</td>\n",
       "      <td>NaN</td>\n",
       "      <td>Benjamin David</td>\n",
       "      <td>This is the first Samsung phone I have had and...</td>\n",
       "      <td>Not as user friendly as the Motorola V300-</td>\n",
       "      <td>1089072000</td>\n",
       "      <td>11</td>\n",
       "      <td>NaN</td>\n",
       "      <td>['Cell Phones &amp; Accessories', 'Cell Phones', '...</td>\n",
       "      <td></td>\n",
       "      <td>[Compatible with T-Mobile cellular service, Sa...</td>\n",
       "      <td></td>\n",
       "      <td>Samsung SGH E715 - Titanium blue (T-Mobile) Ce...</td>\n",
       "      <td>[]</td>\n",
       "      <td></td>\n",
       "      <td>Samsung</td>\n",
       "      <td>[]</td>\n",
       "      <td>[&gt;#3,059,436 in Cell Phones &amp; Accessories (See...</td>\n",
       "      <td>[]</td>\n",
       "      <td>{}</td>\n",
       "      <td>Cell Phones &amp; Accessories</td>\n",
       "      <td></td>\n",
       "      <td></td>\n",
       "      <td></td>\n",
       "      <td>[https://images-na.ssl-images-amazon.com/image...</td>\n",
       "      <td>[https://images-na.ssl-images-amazon.com/image...</td>\n",
       "    </tr>\n",
       "  </tbody>\n",
       "</table>\n",
       "</div>"
      ],
      "text/plain": [
       "   overall  ...                                    imageURLHighRes\n",
       "0      1.0  ...  [https://images-na.ssl-images-amazon.com/image...\n",
       "1      1.0  ...  [https://images-na.ssl-images-amazon.com/image...\n",
       "2      4.0  ...  [https://images-na.ssl-images-amazon.com/image...\n",
       "3      4.0  ...  [https://images-na.ssl-images-amazon.com/image...\n",
       "4      3.0  ...  [https://images-na.ssl-images-amazon.com/image...\n",
       "\n",
       "[5 rows x 30 columns]"
      ]
     },
     "execution_count": 24,
     "metadata": {},
     "output_type": "execute_result"
    }
   ],
   "source": [
    "dfTrim.head(5)"
   ]
  },
  {
   "cell_type": "markdown",
   "id": "3PXF3qPDT-4R",
   "metadata": {
    "id": "3PXF3qPDT-4R"
   },
   "source": [
    "# Export option exploration"
   ]
  },
  {
   "cell_type": "code",
   "execution_count": 25,
   "id": "5ae8e44d",
   "metadata": {
    "executionInfo": {
     "elapsed": 108,
     "status": "ok",
     "timestamp": 1638630133663,
     "user": {
      "displayName": "Michael Vasiliou",
      "photoUrl": "https://lh3.googleusercontent.com/a/default-user=s64",
      "userId": "07079983815732559270"
     },
     "user_tz": 300
    },
    "id": "5ae8e44d"
   },
   "outputs": [],
   "source": [
    "#import sqlite3\n",
    "\n",
    "#con = sqlite3.connect('trimmed_cellphone.db')\n",
    "#dfTrim.to_sql('src_data', con=con, if_exists='replace')\n",
    "#con.commit()\n",
    "#con.close()\n",
    "#DB Size is 2.14GB"
   ]
  },
  {
   "cell_type": "code",
   "execution_count": 26,
   "id": "NUEXv4fNIRH4",
   "metadata": {
    "executionInfo": {
     "elapsed": 3,
     "status": "ok",
     "timestamp": 1638630133761,
     "user": {
      "displayName": "Michael Vasiliou",
      "photoUrl": "https://lh3.googleusercontent.com/a/default-user=s64",
      "userId": "07079983815732559270"
     },
     "user_tz": 300
    },
    "id": "NUEXv4fNIRH4"
   },
   "outputs": [],
   "source": [
    "#dfTrim.to_csv('trimmed_cellphone.csv.gz', compression='gzip')\n",
    "#GZip csv is 224MB"
   ]
  },
  {
   "cell_type": "code",
   "execution_count": 27,
   "id": "SP7Bn6RVUygf",
   "metadata": {
    "executionInfo": {
     "elapsed": 3,
     "status": "ok",
     "timestamp": 1638630133762,
     "user": {
      "displayName": "Michael Vasiliou",
      "photoUrl": "https://lh3.googleusercontent.com/a/default-user=s64",
      "userId": "07079983815732559270"
     },
     "user_tz": 300
    },
    "id": "SP7Bn6RVUygf"
   },
   "outputs": [],
   "source": [
    "#dfTrim.to_pickle('trimmed_cellphone.pkl')\n",
    "#296.4MB"
   ]
  },
  {
   "cell_type": "markdown",
   "id": "nqJs3J24wbWw",
   "metadata": {
    "id": "nqJs3J24wbWw"
   },
   "source": [
    "# Data Cleaning"
   ]
  },
  {
   "cell_type": "code",
   "execution_count": 28,
   "id": "L0MCYsUVwaKe",
   "metadata": {
    "colab": {
     "base_uri": "https://localhost:8080/"
    },
    "executionInfo": {
     "elapsed": 233,
     "status": "ok",
     "timestamp": 1638630137124,
     "user": {
      "displayName": "Michael Vasiliou",
      "photoUrl": "https://lh3.googleusercontent.com/a/default-user=s64",
      "userId": "07079983815732559270"
     },
     "user_tz": 300
    },
    "id": "L0MCYsUVwaKe",
    "outputId": "9b51dc60-caae-40f4-9ab6-4f98df9f0c60"
   },
   "outputs": [
    {
     "name": "stdout",
     "output_type": "stream",
     "text": [
      "<class 'pandas.core.frame.DataFrame'>\n",
      "RangeIndex: 63920 entries, 0 to 63919\n",
      "Data columns (total 30 columns):\n",
      " #   Column           Non-Null Count  Dtype         \n",
      "---  ------           --------------  -----         \n",
      " 0   overall          63920 non-null  float64       \n",
      " 1   verified         63920 non-null  bool          \n",
      " 2   reviewTime       63920 non-null  datetime64[ns]\n",
      " 3   reviewerID       63920 non-null  object        \n",
      " 4   asin             63920 non-null  object        \n",
      " 5   style            29860 non-null  object        \n",
      " 6   reviewerName     63912 non-null  object        \n",
      " 7   reviewText       63887 non-null  object        \n",
      " 8   summary          63903 non-null  object        \n",
      " 9   unixReviewTime   63920 non-null  int64         \n",
      " 10  vote             12512 non-null  object        \n",
      " 11  image            616 non-null    object        \n",
      " 12  category         63920 non-null  string        \n",
      " 13  tech1            63920 non-null  object        \n",
      " 14  description      63920 non-null  object        \n",
      " 15  fit              63920 non-null  object        \n",
      " 16  title            63920 non-null  object        \n",
      " 17  also_buy         63920 non-null  object        \n",
      " 18  tech2            63920 non-null  object        \n",
      " 19  brand            63920 non-null  object        \n",
      " 20  feature          63920 non-null  object        \n",
      " 21  rank             63920 non-null  object        \n",
      " 22  also_view        63920 non-null  object        \n",
      " 23  details          63920 non-null  object        \n",
      " 24  main_cat         63920 non-null  object        \n",
      " 25  similar_item     63920 non-null  object        \n",
      " 26  date             63920 non-null  object        \n",
      " 27  price            63920 non-null  object        \n",
      " 28  imageURL         63920 non-null  object        \n",
      " 29  imageURLHighRes  63920 non-null  object        \n",
      "dtypes: bool(1), datetime64[ns](1), float64(1), int64(1), object(25), string(1)\n",
      "memory usage: 14.2+ MB\n"
     ]
    }
   ],
   "source": [
    "pd.set_option('mode.chained_assignment', None)\n",
    "dfTrim.info()"
   ]
  },
  {
   "cell_type": "code",
   "execution_count": 29,
   "id": "fw4gYSnaxpl3",
   "metadata": {
    "colab": {
     "base_uri": "https://localhost:8080/"
    },
    "executionInfo": {
     "elapsed": 388,
     "status": "ok",
     "timestamp": 1638630142828,
     "user": {
      "displayName": "Michael Vasiliou",
      "photoUrl": "https://lh3.googleusercontent.com/a/default-user=s64",
      "userId": "07079983815732559270"
     },
     "user_tz": 300
    },
    "id": "fw4gYSnaxpl3",
    "outputId": "d8b7d8f1-da4b-4b1b-8a21-7f315c11ecce"
   },
   "outputs": [
    {
     "data": {
      "text/plain": [
       "0"
      ]
     },
     "execution_count": 29,
     "metadata": {},
     "output_type": "execute_result"
    }
   ],
   "source": [
    "#Step 1 - Add in column for GUID\n",
    "import uuid\n",
    "dfTrim['uuid'] = [uuid.uuid4() for _ in range(len(dfTrim.index))]\n",
    "\n",
    "dfTrim.uuid.duplicated().sum()"
   ]
  },
  {
   "cell_type": "code",
   "execution_count": 30,
   "id": "HMtgc5tX3bH6",
   "metadata": {
    "executionInfo": {
     "elapsed": 110,
     "status": "ok",
     "timestamp": 1638630148394,
     "user": {
      "displayName": "Michael Vasiliou",
      "photoUrl": "https://lh3.googleusercontent.com/a/default-user=s64",
      "userId": "07079983815732559270"
     },
     "user_tz": 300
    },
    "id": "HMtgc5tX3bH6"
   },
   "outputs": [],
   "source": [
    "#Step 2 - Add in year column\n",
    "dfTrim['reviewYear'] = dfTrim['reviewTime'].dt.year"
   ]
  },
  {
   "cell_type": "code",
   "execution_count": 33,
   "id": "1D4khco255hs",
   "metadata": {
    "colab": {
     "base_uri": "https://localhost:8080/",
     "height": 486
    },
    "executionInfo": {
     "elapsed": 224,
     "status": "ok",
     "timestamp": 1638630195597,
     "user": {
      "displayName": "Michael Vasiliou",
      "photoUrl": "https://lh3.googleusercontent.com/a/default-user=s64",
      "userId": "07079983815732559270"
     },
     "user_tz": 300
    },
    "id": "1D4khco255hs",
    "outputId": "603283d1-3e74-4851-9069-a2c2c7b22b61"
   },
   "outputs": [
    {
     "name": "stdout",
     "output_type": "stream",
     "text": [
      "<class 'pandas.core.frame.DataFrame'>\n",
      "RangeIndex: 63920 entries, 0 to 63919\n",
      "Data columns (total 18 columns):\n",
      " #   Column       Non-Null Count  Dtype         \n",
      "---  ------       --------------  -----         \n",
      " 0   uuid         63920 non-null  object        \n",
      " 1   overall      63920 non-null  float64       \n",
      " 2   verified     63920 non-null  bool          \n",
      " 3   reviewTime   63920 non-null  datetime64[ns]\n",
      " 4   reviewYear   63920 non-null  int64         \n",
      " 5   reviewerID   63920 non-null  object        \n",
      " 6   asin         63920 non-null  object        \n",
      " 7   style        29860 non-null  object        \n",
      " 8   reviewText   63887 non-null  object        \n",
      " 9   summary      63903 non-null  object        \n",
      " 10  vote         12512 non-null  object        \n",
      " 11  category     63920 non-null  string        \n",
      " 12  description  63920 non-null  object        \n",
      " 13  title        63920 non-null  object        \n",
      " 14  brand        63920 non-null  object        \n",
      " 15  feature      63920 non-null  object        \n",
      " 16  main_cat     63920 non-null  object        \n",
      " 17  price        63920 non-null  object        \n",
      "dtypes: bool(1), datetime64[ns](1), float64(1), int64(1), object(13), string(1)\n",
      "memory usage: 8.4+ MB\n"
     ]
    },
    {
     "data": {
      "text/plain": [
       "(63920, 32)"
      ]
     },
     "metadata": {},
     "output_type": "display_data"
    },
    {
     "data": {
      "text/plain": [
       "(63920, 32)"
      ]
     },
     "metadata": {},
     "output_type": "display_data"
    }
   ],
   "source": [
    "#Step 3 - Trim to only chosen columns\n",
    "columns = ['uuid', 'overall', 'verified', 'reviewTime', 'reviewYear',\n",
    "            'reviewerID', 'asin', 'style', 'reviewText',\n",
    "            'summary', 'vote','category',  'description',\n",
    "            'title', 'brand', 'feature',  'main_cat','price']\n",
    "dfExport = dfTrim[columns]\n",
    "dfExport.info()\n",
    "display(dfTrim.shape)\n",
    "dfExport.drop_duplicates\n",
    "display(dfTrim.shape)"
   ]
  },
  {
   "cell_type": "code",
   "execution_count": 34,
   "id": "Se3VWxJ48OSA",
   "metadata": {
    "colab": {
     "base_uri": "https://localhost:8080/"
    },
    "executionInfo": {
     "elapsed": 205,
     "status": "ok",
     "timestamp": 1638630199912,
     "user": {
      "displayName": "Michael Vasiliou",
      "photoUrl": "https://lh3.googleusercontent.com/a/default-user=s64",
      "userId": "07079983815732559270"
     },
     "user_tz": 300
    },
    "id": "Se3VWxJ48OSA",
    "outputId": "962a90a4-4616-49d0-eeb5-dd451ccc02a2"
   },
   "outputs": [
    {
     "name": "stdout",
     "output_type": "stream",
     "text": [
      "<class 'pandas.core.frame.DataFrame'>\n",
      "RangeIndex: 63461 entries, 0 to 63460\n",
      "Data columns (total 18 columns):\n",
      " #   Column       Non-Null Count  Dtype         \n",
      "---  ------       --------------  -----         \n",
      " 0   uuid         63461 non-null  object        \n",
      " 1   overall      63461 non-null  float64       \n",
      " 2   verified     63461 non-null  bool          \n",
      " 3   reviewTime   63461 non-null  datetime64[ns]\n",
      " 4   reviewYear   63461 non-null  int64         \n",
      " 5   reviewerID   63461 non-null  object        \n",
      " 6   asin         63461 non-null  object        \n",
      " 7   style        29715 non-null  object        \n",
      " 8   reviewText   63428 non-null  object        \n",
      " 9   summary      63445 non-null  object        \n",
      " 10  vote         12355 non-null  object        \n",
      " 11  category     63461 non-null  string        \n",
      " 12  description  63461 non-null  object        \n",
      " 13  title        63461 non-null  object        \n",
      " 14  brand        63461 non-null  object        \n",
      " 15  feature      63461 non-null  object        \n",
      " 16  main_cat     63461 non-null  object        \n",
      " 17  price        63461 non-null  object        \n",
      "dtypes: bool(1), datetime64[ns](1), float64(1), int64(1), object(13), string(1)\n",
      "memory usage: 8.3+ MB\n"
     ]
    }
   ],
   "source": [
    "#Step 4 - Remove identified data we don't want\n",
    "#identified in python book 02 during data column explore\n",
    "value_list=[\"Cell Phones & Accessories\"] \n",
    "#Trim records\n",
    "dfExport = dfExport.loc[(dfExport.main_cat.isin(value_list))]\n",
    "dfExport.reset_index(inplace=True, drop=True)\n",
    "dfExport.info()"
   ]
  },
  {
   "cell_type": "code",
   "execution_count": 35,
   "id": "uRiSvGNRl83S",
   "metadata": {
    "colab": {
     "base_uri": "https://localhost:8080/"
    },
    "executionInfo": {
     "elapsed": 425,
     "status": "ok",
     "timestamp": 1638630211867,
     "user": {
      "displayName": "Michael Vasiliou",
      "photoUrl": "https://lh3.googleusercontent.com/a/default-user=s64",
      "userId": "07079983815732559270"
     },
     "user_tz": 300
    },
    "id": "uRiSvGNRl83S",
    "outputId": "1808eb87-6c3e-428b-cc8c-365fc31ee290"
   },
   "outputs": [
    {
     "name": "stdout",
     "output_type": "stream",
     "text": [
      "<class 'pandas.core.frame.DataFrame'>\n",
      "RangeIndex: 63413 entries, 0 to 63412\n",
      "Data columns (total 18 columns):\n",
      " #   Column       Non-Null Count  Dtype         \n",
      "---  ------       --------------  -----         \n",
      " 0   uuid         63413 non-null  object        \n",
      " 1   overall      63413 non-null  float64       \n",
      " 2   verified     63413 non-null  bool          \n",
      " 3   reviewTime   63413 non-null  datetime64[ns]\n",
      " 4   reviewYear   63413 non-null  int64         \n",
      " 5   reviewerID   63413 non-null  object        \n",
      " 6   asin         63413 non-null  object        \n",
      " 7   style        29690 non-null  object        \n",
      " 8   reviewText   63413 non-null  object        \n",
      " 9   summary      63413 non-null  object        \n",
      " 10  vote         12349 non-null  object        \n",
      " 11  category     63413 non-null  string        \n",
      " 12  description  63413 non-null  object        \n",
      " 13  title        63413 non-null  object        \n",
      " 14  brand        63413 non-null  object        \n",
      " 15  feature      63413 non-null  object        \n",
      " 16  main_cat     63413 non-null  object        \n",
      " 17  price        63413 non-null  object        \n",
      "dtypes: bool(1), datetime64[ns](1), float64(1), int64(1), object(13), string(1)\n",
      "memory usage: 8.3+ MB\n"
     ]
    }
   ],
   "source": [
    "#Step 5 - Drop null values\n",
    "\n",
    "#drop all nulls in reviewText\n",
    "dfExport = dfExport.dropna(subset=['reviewText']) \n",
    "\n",
    "#drop all nulls in \"overall\". Shouldn't be null but in case data changes\n",
    "dfExport = dfExport.dropna(subset=['overall']) \n",
    "\n",
    "#drop all nulls in \"summary\". Shouldn't be null but in case data changes\n",
    "dfExport = dfExport.dropna(subset=['summary']) \n",
    "\n",
    "dfExport.reset_index(drop=True, inplace=True)\n",
    "\n",
    "dfExport.info()\n",
    "\n",
    "\n"
   ]
  },
  {
   "cell_type": "code",
   "execution_count": 38,
   "id": "NZU6SJ-n9Lmh",
   "metadata": {
    "executionInfo": {
     "elapsed": 94,
     "status": "ok",
     "timestamp": 1638630373316,
     "user": {
      "displayName": "Michael Vasiliou",
      "photoUrl": "https://lh3.googleusercontent.com/a/default-user=s64",
      "userId": "07079983815732559270"
     },
     "user_tz": 300
    },
    "id": "NZU6SJ-n9Lmh"
   },
   "outputs": [],
   "source": [
    "#Step 10 - Create separate dataframes for each column for NLP analysis\n",
    "dfExportReviewText = dfExport[['uuid', 'reviewText', 'overall']].copy()\n",
    "dfExportSummary = dfExport[['uuid', 'summary', 'overall']].copy()\n",
    "dfExportTitle = dfExport[['uuid', 'title', 'overall']].copy()"
   ]
  },
  {
   "cell_type": "code",
   "execution_count": 36,
   "id": "mryE6N-b-W2M",
   "metadata": {
    "colab": {
     "base_uri": "https://localhost:8080/"
    },
    "executionInfo": {
     "elapsed": 95,
     "status": "ok",
     "timestamp": 1638630266322,
     "user": {
      "displayName": "Michael Vasiliou",
      "photoUrl": "https://lh3.googleusercontent.com/a/default-user=s64",
      "userId": "07079983815732559270"
     },
     "user_tz": 300
    },
    "id": "mryE6N-b-W2M",
    "outputId": "9f1e7d28-e7eb-4f7b-cb13-8ee07710b5bc"
   },
   "outputs": [
    {
     "name": "stdout",
     "output_type": "stream",
     "text": [
      "Here are all your project data files\n",
      "[D] /content/gdrive/MyDrive/Colab Notebooks/data/ML1010-Group-Project\n",
      "----->** No files **\n",
      "\n",
      "[D] /content/gdrive/MyDrive/Colab Notebooks/data/ML1010-Group-Project/01_original\n",
      "---[   gz][ json]--> Cell_Phones_and_Accessories_5.json.gz (161.24 MB)\n",
      "---[   gz][ json]--> meta_Cell_Phones_and_Accessories.json.gz (343.33 MB)\n",
      "\n",
      "[D] /content/gdrive/MyDrive/Colab Notebooks/data/ML1010-Group-Project/02_working\n",
      "[*][  pkl]---------> 02_Cellphone.pkl (46.32 MB)\n",
      "[*][  pkl]---------> 02_NLP_ReviewTextData.pkl (87.00 MB)\n",
      "[*][  pkl]---------> 02_NLP_SummaryData.pkl (8.32 MB)\n",
      "[*][  pkl]---------> 02_NLP_TitleData.pkl (16.71 MB)\n",
      "[*][  pkl]---------> 03_Cellphone.pkl (46.31 MB)\n",
      "[*][  pkl]---------> 03_NLP_ReviewTextData.pkl (28.94 MB)\n",
      "[*][  pkl]---------> 03_NLP_ReviewText_Narrow.pkl (17.13 MB)\n",
      "[*][  pkl]---------> 03_NLP_SummaryData.pkl (3.82 MB)\n",
      "[*][  pkl]---------> 03_NLP_TitleData.pkl (2.73 MB)\n",
      "[*][  pkl]---------> 04_NLP_ReviewText_Narrow.pkl (16.95 MB)\n",
      "[*][  pkl]---------> 05_NLP_ReviewText_Narrow.pkl (66.15 MB)\n",
      "[*][  pkl]---------> 05_NLP_ReviewText_Narrow_full.pkl (207.91 MB)\n",
      "\n",
      "[D] /content/gdrive/MyDrive/Colab Notebooks/data/ML1010-Group-Project/03_train\n",
      "----->** No files **\n",
      "\n",
      "[D] /content/gdrive/MyDrive/Colab Notebooks/data/ML1010-Group-Project/04_test\n",
      "----->** No files **\n",
      "\n"
     ]
    }
   ],
   "source": [
    "jarvis.showProjectDataFiles()"
   ]
  },
  {
   "cell_type": "code",
   "execution_count": 39,
   "id": "009b6e54",
   "metadata": {
    "executionInfo": {
     "elapsed": 1650,
     "status": "ok",
     "timestamp": 1638630378970,
     "user": {
      "displayName": "Michael Vasiliou",
      "photoUrl": "https://lh3.googleusercontent.com/a/default-user=s64",
      "userId": "07079983815732559270"
     },
     "user_tz": 300
    },
    "id": "009b6e54"
   },
   "outputs": [],
   "source": [
    "dfExport.to_pickle(jarvis.DATA_DIR + '/02_working/01_Cellphone_small.pkl', protocol=4)\n",
    "dfExportReviewText.to_pickle(jarvis.DATA_DIR + '/02_working/01_NLP_ReviewText_small.pkl', protocol=4)\n",
    "dfExportSummary.to_pickle(jarvis.DATA_DIR + '/02_working/01_NLP_Summary_small.pkl', protocol=4)\n",
    "dfExportTitle.to_pickle(jarvis.DATA_DIR + '/02_working/01_NLP_Title_small.pkl', protocol=4)"
   ]
  }
 ],
 "metadata": {
  "colab": {
   "collapsed_sections": [
    "fVJrz4vi6Cy5",
    "hEdTR2FNx6kk",
    "6yoNqZOV0AeW",
    "3PXF3qPDT-4R"
   ],
   "name": "01_ML1010_GP_LoadAndStore.ipynb",
   "provenance": [],
   "toc_visible": true
  },
  "kernelspec": {
   "display_name": "Python 3 (ipykernel)",
   "language": "python",
   "name": "python3"
  },
  "language_info": {
   "codemirror_mode": {
    "name": "ipython",
    "version": 3
   },
   "file_extension": ".py",
   "mimetype": "text/x-python",
   "name": "python",
   "nbconvert_exporter": "python",
   "pygments_lexer": "ipython3",
   "version": "3.7.13"
  }
 },
 "nbformat": 4,
 "nbformat_minor": 5
}
