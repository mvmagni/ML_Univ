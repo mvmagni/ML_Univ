{
 "cells": [
  {
   "cell_type": "markdown",
   "id": "pn8fyGevt62D",
   "metadata": {
    "id": "pn8fyGevt62D"
   },
   "source": [
    "# Configuration"
   ]
  },
  {
   "cell_type": "code",
   "execution_count": null,
   "id": "XmHgvt15t48a",
   "metadata": {
    "id": "XmHgvt15t48a"
   },
   "outputs": [],
   "source": [
    "# Parameters\n",
    "PROJECT_NAME = 'ML1010-Group-Project'\n",
    "ENABLE_COLAB = True\n",
    "\n",
    "#Root Machine Learning Directory. Projects appear underneath\n",
    "GOOGLE_DRIVE_MOUNT = '/content/gdrive' \n",
    "COLAB_ROOT_DIR = GOOGLE_DRIVE_MOUNT + '/MyDrive/Colab Notebooks'\n",
    "COLAB_INIT_DIR = COLAB_ROOT_DIR + '/utility_files'\n",
    "\n",
    "LOCAL_ROOT_DIR = '/home/magni/Documents/ML_Projects'\n",
    "LOCAL_INIT_DIR = LOCAL_ROOT_DIR + '/utility_files'"
   ]
  },
  {
   "cell_type": "markdown",
   "id": "AKuOInGo45OB",
   "metadata": {
    "id": "AKuOInGo45OB"
   },
   "source": [
    "# Bootstrap Environment"
   ]
  },
  {
   "cell_type": "code",
   "execution_count": null,
   "id": "nri_N7sIEMjQ",
   "metadata": {
    "colab": {
     "base_uri": "https://localhost:8080/"
    },
    "executionInfo": {
     "elapsed": 970,
     "status": "ok",
     "timestamp": 1638743789528,
     "user": {
      "displayName": "Michael Vasiliou",
      "photoUrl": "https://lh3.googleusercontent.com/a/default-user=s64",
      "userId": "07079983815732559270"
     },
     "user_tz": 300
    },
    "id": "nri_N7sIEMjQ",
    "outputId": "950e1db2-507e-478a-fa3b-b9d4e4fc4d85"
   },
   "outputs": [
    {
     "name": "stdout",
     "output_type": "stream",
     "text": [
      "Mounted at /content/gdrive\n",
      "Wha...where am I?\n",
      "I am awake now.\n",
      "\n",
      "I have set your current working directory to /content/gdrive/MyDrive/Colab Notebooks/ML1010-Group-Project\n",
      "The current time is 17:36\n",
      "Hello sir. Reminder, no more coffee.\n",
      "\n"
     ]
    }
   ],
   "source": [
    "#add in support for utility file directory and importing\n",
    "import sys\n",
    "import os\n",
    "\n",
    "if ENABLE_COLAB:\n",
    "  #Need access to drive\n",
    "  from google.colab import drive\n",
    "  drive.mount(GOOGLE_DRIVE_MOUNT, force_remount=True)\n",
    "  \n",
    "  #add in utility directory to syspath to import \n",
    "  INIT_DIR = COLAB_INIT_DIR\n",
    "  sys.path.append(os.path.abspath(INIT_DIR))\n",
    "  \n",
    "  #Config environment variables\n",
    "  ROOT_DIR = COLAB_ROOT_DIR\n",
    "  \n",
    "else:\n",
    "  #add in utility directory to syspath to import\n",
    "  INIT_DIR = LOCAL_INIT_DIR\n",
    "  sys.path.append(os.path.abspath(INIT_DIR))\n",
    "  \n",
    "  #Config environment variables\n",
    "  ROOT_DIR = LOCAL_ROOT_DIR\n",
    "\n",
    "#Import Utility Support\n",
    "from jarvis import Jarvis\n",
    "jarvis = Jarvis(ROOT_DIR, PROJECT_NAME)\n",
    "\n",
    "\n",
    "\n",
    "import mv_python_utils as mvutils\n"
   ]
  },
  {
   "cell_type": "markdown",
   "id": "fVJrz4vi6Cy5",
   "metadata": {
    "id": "fVJrz4vi6Cy5"
   },
   "source": [
    "# Setup Runtime Environment"
   ]
  },
  {
   "cell_type": "code",
   "execution_count": null,
   "id": "jf_PpJBuERwL",
   "metadata": {
    "colab": {
     "base_uri": "https://localhost:8080/",
     "height": 1000
    },
    "executionInfo": {
     "elapsed": 73349,
     "status": "ok",
     "timestamp": 1638743862869,
     "user": {
      "displayName": "Michael Vasiliou",
      "photoUrl": "https://lh3.googleusercontent.com/a/default-user=s64",
      "userId": "07079983815732559270"
     },
     "user_tz": 300
    },
    "id": "jf_PpJBuERwL",
    "outputId": "cf976917-150a-4ee0-c66f-cfa45fc49757"
   },
   "outputs": [
    {
     "name": "stdout",
     "output_type": "stream",
     "text": [
      "\u001b[K     |████████████████████████████████| 981 kB 6.9 MB/s eta 0:00:01\n",
      "\u001b[?25h  Installing build dependencies ... \u001b[?25l\u001b[?25hdone\n",
      "  Getting requirements to build wheel ... \u001b[?25l\u001b[?25hdone\n",
      "    Preparing wheel metadata ... \u001b[?25l\u001b[?25hdone\n",
      "\u001b[K     |████████████████████████████████| 64 kB 3.2 MB/s \n",
      "\u001b[K     |████████████████████████████████| 62 kB 965 kB/s \n",
      "\u001b[?25h  Building wheel for gdown (PEP 517) ... \u001b[?25l\u001b[?25hdone\n",
      "  Building wheel for mpld3 (setup.py) ... \u001b[?25l\u001b[?25hdone\n",
      "  Building wheel for overrides (setup.py) ... \u001b[?25l\u001b[?25hdone\n",
      "  Building wheel for segtok (setup.py) ... \u001b[?25l\u001b[?25hdone\n",
      "  Building wheel for sqlitedict (setup.py) ... \u001b[?25l\u001b[?25hdone\n",
      "  Building wheel for ftfy (setup.py) ... \u001b[?25l\u001b[?25hdone\n",
      "  Building wheel for langdetect (setup.py) ... \u001b[?25l\u001b[?25hdone\n",
      "  Building wheel for wikipedia-api (setup.py) ... \u001b[?25l\u001b[?25hdone\n",
      "\u001b[31mERROR: pip's dependency resolver does not currently take into account all the packages that are installed. This behaviour is the source of the following dependency conflicts.\n",
      "markdown 3.3.6 requires importlib-metadata>=4.4; python_version < \"3.10\", but you have importlib-metadata 3.10.1 which is incompatible.\n",
      "google-colab 1.0.0 requires requests~=2.23.0, but you have requests 2.26.0 which is incompatible.\n",
      "datascience 0.10.6 requires folium==0.2.1, but you have folium 0.8.3 which is incompatible.\u001b[0m\n",
      "\u001b[K     |████████████████████████████████| 6.0 MB 9.9 MB/s \n",
      "\u001b[K     |████████████████████████████████| 628 kB 80.9 MB/s \n",
      "\u001b[K     |████████████████████████████████| 10.1 MB 56.5 MB/s \n",
      "\u001b[K     |████████████████████████████████| 42 kB 1.7 MB/s \n",
      "\u001b[K     |████████████████████████████████| 181 kB 61.1 MB/s \n",
      "\u001b[K     |████████████████████████████████| 451 kB 88.7 MB/s \n",
      "\u001b[?25h"
     ]
    },
    {
     "data": {
      "application/vnd.google.colaboratory.intrinsic+json": {
       "type": "string"
      },
      "text/plain": [
       "'Google Colab enabled'"
      ]
     },
     "metadata": {},
     "output_type": "display_data"
    },
    {
     "name": "stdout",
     "output_type": "stream",
     "text": [
      "Collecting en-core-web-sm==3.2.0\n",
      "  Downloading https://github.com/explosion/spacy-models/releases/download/en_core_web_sm-3.2.0/en_core_web_sm-3.2.0-py3-none-any.whl (13.9 MB)\n",
      "\u001b[K     |████████████████████████████████| 13.9 MB 565 kB/s \n",
      "\u001b[?25hRequirement already satisfied: spacy<3.3.0,>=3.2.0 in /usr/local/lib/python3.7/dist-packages (from en-core-web-sm==3.2.0) (3.2.0)\n",
      "Requirement already satisfied: setuptools in /usr/local/lib/python3.7/dist-packages (from spacy<3.3.0,>=3.2.0->en-core-web-sm==3.2.0) (57.4.0)\n",
      "Requirement already satisfied: jinja2 in /usr/local/lib/python3.7/dist-packages (from spacy<3.3.0,>=3.2.0->en-core-web-sm==3.2.0) (2.11.3)\n",
      "Requirement already satisfied: langcodes<4.0.0,>=3.2.0 in /usr/local/lib/python3.7/dist-packages (from spacy<3.3.0,>=3.2.0->en-core-web-sm==3.2.0) (3.3.0)\n",
      "Requirement already satisfied: tqdm<5.0.0,>=4.38.0 in /usr/local/lib/python3.7/dist-packages (from spacy<3.3.0,>=3.2.0->en-core-web-sm==3.2.0) (4.62.3)\n",
      "Requirement already satisfied: srsly<3.0.0,>=2.4.1 in /usr/local/lib/python3.7/dist-packages (from spacy<3.3.0,>=3.2.0->en-core-web-sm==3.2.0) (2.4.2)\n",
      "Requirement already satisfied: pydantic!=1.8,!=1.8.1,<1.9.0,>=1.7.4 in /usr/local/lib/python3.7/dist-packages (from spacy<3.3.0,>=3.2.0->en-core-web-sm==3.2.0) (1.8.2)\n",
      "Requirement already satisfied: spacy-legacy<3.1.0,>=3.0.8 in /usr/local/lib/python3.7/dist-packages (from spacy<3.3.0,>=3.2.0->en-core-web-sm==3.2.0) (3.0.8)\n",
      "Requirement already satisfied: blis<0.8.0,>=0.4.0 in /usr/local/lib/python3.7/dist-packages (from spacy<3.3.0,>=3.2.0->en-core-web-sm==3.2.0) (0.4.1)\n",
      "Requirement already satisfied: numpy>=1.15.0 in /usr/local/lib/python3.7/dist-packages (from spacy<3.3.0,>=3.2.0->en-core-web-sm==3.2.0) (1.19.5)\n",
      "Requirement already satisfied: pathy>=0.3.5 in /usr/local/lib/python3.7/dist-packages (from spacy<3.3.0,>=3.2.0->en-core-web-sm==3.2.0) (0.6.1)\n",
      "Requirement already satisfied: thinc<8.1.0,>=8.0.12 in /usr/local/lib/python3.7/dist-packages (from spacy<3.3.0,>=3.2.0->en-core-web-sm==3.2.0) (8.0.13)\n",
      "Requirement already satisfied: typing-extensions<4.0.0.0,>=3.7.4 in /usr/local/lib/python3.7/dist-packages (from spacy<3.3.0,>=3.2.0->en-core-web-sm==3.2.0) (3.10.0.2)\n",
      "Requirement already satisfied: requests<3.0.0,>=2.13.0 in /usr/local/lib/python3.7/dist-packages (from spacy<3.3.0,>=3.2.0->en-core-web-sm==3.2.0) (2.26.0)\n",
      "Requirement already satisfied: packaging>=20.0 in /usr/local/lib/python3.7/dist-packages (from spacy<3.3.0,>=3.2.0->en-core-web-sm==3.2.0) (21.3)\n",
      "Requirement already satisfied: murmurhash<1.1.0,>=0.28.0 in /usr/local/lib/python3.7/dist-packages (from spacy<3.3.0,>=3.2.0->en-core-web-sm==3.2.0) (1.0.6)\n",
      "Requirement already satisfied: cymem<2.1.0,>=2.0.2 in /usr/local/lib/python3.7/dist-packages (from spacy<3.3.0,>=3.2.0->en-core-web-sm==3.2.0) (2.0.6)\n",
      "Requirement already satisfied: spacy-loggers<2.0.0,>=1.0.0 in /usr/local/lib/python3.7/dist-packages (from spacy<3.3.0,>=3.2.0->en-core-web-sm==3.2.0) (1.0.1)\n",
      "Requirement already satisfied: catalogue<2.1.0,>=2.0.6 in /usr/local/lib/python3.7/dist-packages (from spacy<3.3.0,>=3.2.0->en-core-web-sm==3.2.0) (2.0.6)\n",
      "Requirement already satisfied: wasabi<1.1.0,>=0.8.1 in /usr/local/lib/python3.7/dist-packages (from spacy<3.3.0,>=3.2.0->en-core-web-sm==3.2.0) (0.8.2)\n",
      "Requirement already satisfied: preshed<3.1.0,>=3.0.2 in /usr/local/lib/python3.7/dist-packages (from spacy<3.3.0,>=3.2.0->en-core-web-sm==3.2.0) (3.0.6)\n",
      "Requirement already satisfied: typer<0.5.0,>=0.3.0 in /usr/local/lib/python3.7/dist-packages (from spacy<3.3.0,>=3.2.0->en-core-web-sm==3.2.0) (0.4.0)\n",
      "Requirement already satisfied: zipp>=0.5 in /usr/local/lib/python3.7/dist-packages (from catalogue<2.1.0,>=2.0.6->spacy<3.3.0,>=3.2.0->en-core-web-sm==3.2.0) (3.6.0)\n",
      "Requirement already satisfied: pyparsing!=3.0.5,>=2.0.2 in /usr/local/lib/python3.7/dist-packages (from packaging>=20.0->spacy<3.3.0,>=3.2.0->en-core-web-sm==3.2.0) (3.0.6)\n",
      "Requirement already satisfied: smart-open<6.0.0,>=5.0.0 in /usr/local/lib/python3.7/dist-packages (from pathy>=0.3.5->spacy<3.3.0,>=3.2.0->en-core-web-sm==3.2.0) (5.2.1)\n",
      "Requirement already satisfied: urllib3<1.27,>=1.21.1 in /usr/local/lib/python3.7/dist-packages (from requests<3.0.0,>=2.13.0->spacy<3.3.0,>=3.2.0->en-core-web-sm==3.2.0) (1.24.3)\n",
      "Requirement already satisfied: charset-normalizer~=2.0.0 in /usr/local/lib/python3.7/dist-packages (from requests<3.0.0,>=2.13.0->spacy<3.3.0,>=3.2.0->en-core-web-sm==3.2.0) (2.0.8)\n",
      "Requirement already satisfied: idna<4,>=2.5 in /usr/local/lib/python3.7/dist-packages (from requests<3.0.0,>=2.13.0->spacy<3.3.0,>=3.2.0->en-core-web-sm==3.2.0) (2.10)\n",
      "Requirement already satisfied: certifi>=2017.4.17 in /usr/local/lib/python3.7/dist-packages (from requests<3.0.0,>=2.13.0->spacy<3.3.0,>=3.2.0->en-core-web-sm==3.2.0) (2021.10.8)\n",
      "Requirement already satisfied: click<9.0.0,>=7.1.1 in /usr/local/lib/python3.7/dist-packages (from typer<0.5.0,>=0.3.0->spacy<3.3.0,>=3.2.0->en-core-web-sm==3.2.0) (7.1.2)\n",
      "Requirement already satisfied: MarkupSafe>=0.23 in /usr/local/lib/python3.7/dist-packages (from jinja2->spacy<3.3.0,>=3.2.0->en-core-web-sm==3.2.0) (2.0.1)\n",
      "Installing collected packages: en-core-web-sm\n",
      "  Attempting uninstall: en-core-web-sm\n",
      "    Found existing installation: en-core-web-sm 2.2.5\n",
      "    Uninstalling en-core-web-sm-2.2.5:\n",
      "      Successfully uninstalled en-core-web-sm-2.2.5\n",
      "Successfully installed en-core-web-sm-3.2.0\n",
      "\u001b[38;5;2m✔ Download and installation successful\u001b[0m\n",
      "You can now load the package via spacy.load('en_core_web_sm')\n",
      "[nltk_data] Downloading package stopwords to /root/nltk_data...\n",
      "[nltk_data]   Unzipping corpora/stopwords.zip.\n"
     ]
    }
   ],
   "source": [
    "#%%capture\n",
    "if ENABLE_COLAB:\n",
    "  #!pip install scipy -q\n",
    "  #!pip install scikit-learn -q\n",
    "  #!pip install pycaret -q\n",
    "  #!pip install matplotlib -q\n",
    "  #!pip install joblib -q\n",
    "  #!pip install pandasql -q \n",
    "  !pip install sentence_transformers -q\n",
    "  !pip install flair -q\n",
    "  !pip install spacy -U -q\n",
    "  !pip install spacytextblob -q\n",
    "  display('Google Colab enabled')\n",
    "else:\n",
    "  display('Google Colab not enabled')\n",
    "\n",
    "#Common imports\n",
    "#import json\n",
    "import gzip\n",
    "import pandas as pd\n",
    "import numpy as np\n",
    "import matplotlib\n",
    "import re\n",
    "import nltk\n",
    "import matplotlib.pyplot as plt\n",
    "\n",
    "!python -m spacy download en_core_web_sm\n",
    "\n",
    "nltk.download('stopwords')\n",
    "%matplotlib inline\n",
    "\n",
    "import cw_df_metric_utils as cwutils"
   ]
  },
  {
   "cell_type": "markdown",
   "id": "hEdTR2FNx6kk",
   "metadata": {
    "id": "hEdTR2FNx6kk"
   },
   "source": [
    "# Load Data"
   ]
  },
  {
   "cell_type": "code",
   "execution_count": null,
   "id": "yMyDYPEc2pgB",
   "metadata": {
    "colab": {
     "base_uri": "https://localhost:8080/"
    },
    "executionInfo": {
     "elapsed": 32,
     "status": "ok",
     "timestamp": 1638743862870,
     "user": {
      "displayName": "Michael Vasiliou",
      "photoUrl": "https://lh3.googleusercontent.com/a/default-user=s64",
      "userId": "07079983815732559270"
     },
     "user_tz": 300
    },
    "id": "yMyDYPEc2pgB",
    "outputId": "d6d99c5d-fcc5-4205-9c77-e3f00b2288ab"
   },
   "outputs": [
    {
     "name": "stdout",
     "output_type": "stream",
     "text": [
      "Here are all your project data files\n",
      "[D] /content/gdrive/MyDrive/Colab Notebooks/data/ML1010-Group-Project [Empty directory]\n",
      "\n",
      "[D] /content/gdrive/MyDrive/Colab Notebooks/data/ML1010-Group-Project/01_original\n",
      "---[   gz][ json]--> Cell_Phones_and_Accessories_5.json.gz (161.24 MB)\n",
      "---[   gz][ json]--> meta_Cell_Phones_and_Accessories.json.gz (343.33 MB)\n",
      "\n",
      "[D] /content/gdrive/MyDrive/Colab Notebooks/data/ML1010-Group-Project/02_working\n",
      "[*][  pkl]---------> 01_Cellphone_small.pkl (45.46 MB)\n",
      "---[   gz][  pkl]--> 01_NLP_ReviewText_Narrow_1.pkl.gz (6.88 MB)\n",
      "---[   gz][  pkl]--> 01_NLP_ReviewText_Narrow_2.pkl.gz (170.55 MB)\n",
      "---[   gz][  pkl]--> 01_NLP_ReviewText_Narrow_3.pkl.gz (295.59 MB)\n",
      "[*][  pkl]---------> 01_NLP_ReviewText_small.pkl (28.94 MB)\n",
      "[*][  pkl]---------> 01_NLP_Summary_small.pkl (3.82 MB)\n",
      "[*][  pkl]---------> 01_NLP_Title_small.pkl (2.73 MB)\n",
      "---[   gz][  pkl]--> 01_NL_ReviewText_All.pkl.gz (592.92 MB)\n",
      "---[   gz][  pkl]--> 01_NL_ReviewText_textSplit.pkl.gz (15.78 MB)\n",
      "[*][  pkl]---------> 02_Cellphone.pkl (46.32 MB)\n",
      "[*][  pkl]---------> 02_NLP_ReviewTextData.pkl (87.00 MB)\n",
      "[*][  pkl]---------> 02_NLP_SummaryData.pkl (8.32 MB)\n",
      "[*][  pkl]---------> 02_NLP_TitleData.pkl (16.71 MB)\n",
      "[*][  pkl]---------> 03_Cellphone.pkl (46.31 MB)\n",
      "[*][  pkl]---------> 03_NLP_ReviewTextData.pkl (28.94 MB)\n",
      "[*][  pkl]---------> 03_NLP_ReviewText_Narrow.pkl (17.13 MB)\n",
      "[*][  pkl]---------> 03_NLP_SummaryData.pkl (3.82 MB)\n",
      "[*][  pkl]---------> 03_NLP_TitleData.pkl (2.73 MB)\n",
      "[*][  pkl]---------> 04_NLP_ReviewText_Narrow.pkl (16.95 MB)\n",
      "[*][  pkl]---------> 05_NLP_ReviewText_Narrow.pkl (66.15 MB)\n",
      "[*][  pkl]---------> 05_NLP_ReviewText_Narrow_full.pkl (207.91 MB)\n",
      "\n",
      "[D] /content/gdrive/MyDrive/Colab Notebooks/data/ML1010-Group-Project/03_train [Empty directory]\n",
      "\n",
      "[D] /content/gdrive/MyDrive/Colab Notebooks/data/ML1010-Group-Project/04_test [Empty directory]\n",
      "\n"
     ]
    }
   ],
   "source": [
    "jarvis.showProjectDataFiles()"
   ]
  },
  {
   "cell_type": "code",
   "execution_count": null,
   "id": "028f2a6c",
   "metadata": {
    "colab": {
     "base_uri": "https://localhost:8080/"
    },
    "executionInfo": {
     "elapsed": 8747,
     "status": "ok",
     "timestamp": 1638743871591,
     "user": {
      "displayName": "Michael Vasiliou",
      "photoUrl": "https://lh3.googleusercontent.com/a/default-user=s64",
      "userId": "07079983815732559270"
     },
     "user_tz": 300
    },
    "id": "028f2a6c",
    "outputId": "45ad0142-31f6-46c4-aa4a-b8b9ea32656c"
   },
   "outputs": [
    {
     "name": "stdout",
     "output_type": "stream",
     "text": [
      "<class 'pandas.core.frame.DataFrame'>\n",
      "RangeIndex: 63413 entries, 0 to 63412\n",
      "Data columns (total 32 columns):\n",
      " #   Column                           Non-Null Count  Dtype  \n",
      "---  ------                           --------------  -----  \n",
      " 0   uuid                             63413 non-null  object \n",
      " 1   reviewText                       63413 non-null  object \n",
      " 2   overall                          63413 non-null  float64\n",
      " 3   reviewText_lemma                 63413 non-null  object \n",
      " 4   reviewText_nouns                 63413 non-null  object \n",
      " 5   reviewText_adjectives            63413 non-null  object \n",
      " 6   reviewText_verbs                 63413 non-null  object \n",
      " 7   reviewText_nav                   63413 non-null  object \n",
      " 8   reviewText_lemma_tb_pol          63310 non-null  float64\n",
      " 9   reviewText_lemma_tb_subj         63310 non-null  float64\n",
      " 10  reviewText_lemma_tb_tokens       63310 non-null  float64\n",
      " 11  reviewText_lemma_tb_length       63310 non-null  float64\n",
      " 12  reviewText_lemma_bert            63413 non-null  object \n",
      " 13  reviewText_lemma_flairSent       63310 non-null  float64\n",
      " 14  reviewText_adjectives_tb_pol     50732 non-null  float64\n",
      " 15  reviewText_adjectives_tb_subj    50732 non-null  float64\n",
      " 16  reviewText_adjectives_tb_tokens  50732 non-null  float64\n",
      " 17  reviewText_adjectives_tb_length  50732 non-null  float64\n",
      " 18  reviewText_adjectives_bert       63413 non-null  object \n",
      " 19  reviewText_adjectives_flairSent  50732 non-null  float64\n",
      " 20  reviewText_verbs_tb_pol          43234 non-null  float64\n",
      " 21  reviewText_verbs_tb_subj         43234 non-null  float64\n",
      " 22  reviewText_verbs_tb_tokens       43234 non-null  float64\n",
      " 23  reviewText_verbs_tb_length       43234 non-null  float64\n",
      " 24  reviewText_verbs_bert            63413 non-null  object \n",
      " 25  reviewText_verbs_flairSent       43234 non-null  float64\n",
      " 26  reviewText_nav_tb_pol            62332 non-null  float64\n",
      " 27  reviewText_nav_tb_subj           62332 non-null  float64\n",
      " 28  reviewText_nav_tb_tokens         62332 non-null  float64\n",
      " 29  reviewText_nav_tb_length         62332 non-null  float64\n",
      " 30  reviewText_nav_bert              63413 non-null  object \n",
      " 31  reviewText_nav_flairSent         62332 non-null  float64\n",
      "dtypes: float64(21), object(11)\n",
      "memory usage: 15.5+ MB\n"
     ]
    }
   ],
   "source": [
    "### load the meta data\n",
    "dataOrig = pd.read_pickle(jarvis.DATA_DIR_WORK + \"/01_NL_ReviewText_All.pkl.gz\")\n",
    "dataOrig.info()"
   ]
  },
  {
   "cell_type": "markdown",
   "id": "nqJs3J24wbWw",
   "metadata": {
    "id": "nqJs3J24wbWw"
   },
   "source": [
    "# Column Explosion"
   ]
  },
  {
   "cell_type": "code",
   "execution_count": null,
   "id": "L0MCYsUVwaKe",
   "metadata": {
    "id": "L0MCYsUVwaKe"
   },
   "outputs": [],
   "source": [
    "pd.set_option('mode.chained_assignment', None)"
   ]
  },
  {
   "cell_type": "code",
   "execution_count": null,
   "id": "zBR6xPCFzPQ6",
   "metadata": {
    "colab": {
     "base_uri": "https://localhost:8080/",
     "height": 70
    },
    "executionInfo": {
     "elapsed": 39,
     "status": "ok",
     "timestamp": 1638743871592,
     "user": {
      "displayName": "Michael Vasiliou",
      "photoUrl": "https://lh3.googleusercontent.com/a/default-user=s64",
      "userId": "07079983815732559270"
     },
     "user_tz": 300
    },
    "id": "zBR6xPCFzPQ6",
    "outputId": "ceff3842-3707-463a-9baa-391baf1f6828",
    "scrolled": true
   },
   "outputs": [
    {
     "data": {
      "application/vnd.google.colaboratory.intrinsic+json": {
       "type": "string"
      },
      "text/plain": [
       "'Colab work done'"
      ]
     },
     "metadata": {},
     "output_type": "display_data"
    },
    {
     "name": "stdout",
     "output_type": "stream",
     "text": [
      "CPU times: user 2.57 ms, sys: 289 µs, total: 2.86 ms\n",
      "Wall time: 2.7 ms\n"
     ]
    }
   ],
   "source": [
    "%%time\n",
    "#Step 6 - Explode NLP text columns\n",
    "if ENABLE_COLAB: \n",
    "  #cwutils.expandColumn(dataOrig, 'reviewText')\n",
    "  \n",
    "  #cwutils.calcTextBlobSentiment(dataOrig, 'reviewText_lemma')\n",
    "  #cwutils.bertEncode(dataOrig, 'reviewText_lemma')\n",
    "  #cwutils.flairSentimentEncode(dataOrig, 'reviewText_lemma')\n",
    "  \n",
    "  #cwutils.calcTextBlobSentiment(dataOrig, 'reviewText_adjectives')\n",
    "  #cwutils.bertEncode(dataOrig, 'reviewText_adjectives')\n",
    "  #cwutils.flairSentimentEncode(dataOrig, 'reviewText_adjectives')\n",
    "  \n",
    "  #cwutils.calcTextBlobSentiment(dataOrig, 'reviewText_nav')\n",
    "  #cwutils.bertEncode(dataOrig, 'reviewText_nav')\n",
    "  #cwutils.flairSentimentEncode(dataOrig, 'reviewText_nav')\n",
    "  \n",
    "  #cwutils.splitSpacySentences(dataOrig, 'reviewText_lemma')  \n",
    "  display(\"Colab work done\")\n",
    "else:\n",
    "  cwutils.expandColumn(dataOrig, 'reviewText')\n",
    "  cwutils.flairSentimentEncode(dataOrig, 'reviewText_lemma')\n",
    "  cwutils.calcTextBlobSentiment(dataOrig, 'reviewText_lemma')\n",
    "  cwutils.bertEncode(dataOrig, 'reviewText_lemma')\n",
    "  cwutils.splitSpacySentences(dataOrig, 'reviewText_lemma')  "
   ]
  },
  {
   "cell_type": "markdown",
   "id": "0OreCZ9zdoh8",
   "metadata": {
    "id": "0OreCZ9zdoh8"
   },
   "source": [
    "# Scratchpad"
   ]
  },
  {
   "cell_type": "code",
   "execution_count": null,
   "id": "lbhqt_DY5qKX",
   "metadata": {
    "colab": {
     "base_uri": "https://localhost:8080/"
    },
    "executionInfo": {
     "elapsed": 36,
     "status": "ok",
     "timestamp": 1638743871593,
     "user": {
      "displayName": "Michael Vasiliou",
      "photoUrl": "https://lh3.googleusercontent.com/a/default-user=s64",
      "userId": "07079983815732559270"
     },
     "user_tz": 300
    },
    "id": "lbhqt_DY5qKX",
    "outputId": "eaee3b48-b447-45cf-c240-b6b189a7119f"
   },
   "outputs": [
    {
     "name": "stdout",
     "output_type": "stream",
     "text": [
      "<class 'pandas.core.frame.DataFrame'>\n",
      "RangeIndex: 63413 entries, 0 to 63412\n",
      "Data columns (total 32 columns):\n",
      " #   Column                           Non-Null Count  Dtype  \n",
      "---  ------                           --------------  -----  \n",
      " 0   uuid                             63413 non-null  object \n",
      " 1   reviewText                       63413 non-null  object \n",
      " 2   overall                          63413 non-null  float64\n",
      " 3   reviewText_lemma                 63413 non-null  object \n",
      " 4   reviewText_nouns                 63413 non-null  object \n",
      " 5   reviewText_adjectives            63413 non-null  object \n",
      " 6   reviewText_verbs                 63413 non-null  object \n",
      " 7   reviewText_nav                   63413 non-null  object \n",
      " 8   reviewText_lemma_tb_pol          63310 non-null  float64\n",
      " 9   reviewText_lemma_tb_subj         63310 non-null  float64\n",
      " 10  reviewText_lemma_tb_tokens       63310 non-null  float64\n",
      " 11  reviewText_lemma_tb_length       63310 non-null  float64\n",
      " 12  reviewText_lemma_bert            63413 non-null  object \n",
      " 13  reviewText_lemma_flairSent       63310 non-null  float64\n",
      " 14  reviewText_adjectives_tb_pol     50732 non-null  float64\n",
      " 15  reviewText_adjectives_tb_subj    50732 non-null  float64\n",
      " 16  reviewText_adjectives_tb_tokens  50732 non-null  float64\n",
      " 17  reviewText_adjectives_tb_length  50732 non-null  float64\n",
      " 18  reviewText_adjectives_bert       63413 non-null  object \n",
      " 19  reviewText_adjectives_flairSent  50732 non-null  float64\n",
      " 20  reviewText_verbs_tb_pol          43234 non-null  float64\n",
      " 21  reviewText_verbs_tb_subj         43234 non-null  float64\n",
      " 22  reviewText_verbs_tb_tokens       43234 non-null  float64\n",
      " 23  reviewText_verbs_tb_length       43234 non-null  float64\n",
      " 24  reviewText_verbs_bert            63413 non-null  object \n",
      " 25  reviewText_verbs_flairSent       43234 non-null  float64\n",
      " 26  reviewText_nav_tb_pol            62332 non-null  float64\n",
      " 27  reviewText_nav_tb_subj           62332 non-null  float64\n",
      " 28  reviewText_nav_tb_tokens         62332 non-null  float64\n",
      " 29  reviewText_nav_tb_length         62332 non-null  float64\n",
      " 30  reviewText_nav_bert              63413 non-null  object \n",
      " 31  reviewText_nav_flairSent         62332 non-null  float64\n",
      "dtypes: float64(21), object(11)\n",
      "memory usage: 15.5+ MB\n"
     ]
    }
   ],
   "source": [
    "dataOrig.info()"
   ]
  },
  {
   "cell_type": "code",
   "execution_count": null,
   "id": "Hq6iIhzDjuf3",
   "metadata": {
    "id": "Hq6iIhzDjuf3"
   },
   "outputs": [],
   "source": [
    "#include positive negative mappings for analysis columns\n",
    "#Note only stars of 4,5 are considered \"positive\"\n",
    "dataOrig['overall_posneg'] = dataOrig.overall.apply(lambda x: 1 if x > 3 else 0)"
   ]
  },
  {
   "cell_type": "code",
   "execution_count": null,
   "id": "BWIhWmgFfaCL",
   "metadata": {
    "id": "BWIhWmgFfaCL"
   },
   "outputs": [],
   "source": [
    "#import importlib\n",
    "#from tqdm import tqdm, tqdm_pandas\n",
    "#importlib.reload(cwutils)"
   ]
  },
  {
   "cell_type": "code",
   "execution_count": null,
   "id": "sZsQVik5khuH",
   "metadata": {
    "colab": {
     "base_uri": "https://localhost:8080/"
    },
    "executionInfo": {
     "elapsed": 12606,
     "status": "ok",
     "timestamp": 1638743903783,
     "user": {
      "displayName": "Michael Vasiliou",
      "photoUrl": "https://lh3.googleusercontent.com/a/default-user=s64",
      "userId": "07079983815732559270"
     },
     "user_tz": 300
    },
    "id": "sZsQVik5khuH",
    "outputId": "00eb6ae4-f224-4001-9ec6-ef6171d2f452"
   },
   "outputs": [
    {
     "name": "stdout",
     "output_type": "stream",
     "text": [
      "Processing column: reviewText_lemma_flairSent\n"
     ]
    },
    {
     "name": "stderr",
     "output_type": "stream",
     "text": [
      "100%|██████████| 63413/63413 [00:00<00:00, 98083.64it/s] \n",
      "100%|██████████| 63413/63413 [00:00<00:00, 79469.37it/s] \n"
     ]
    },
    {
     "name": "stdout",
     "output_type": "stream",
     "text": [
      "Processing column: reviewText_adjectives_flairSent\n"
     ]
    },
    {
     "name": "stderr",
     "output_type": "stream",
     "text": [
      "100%|██████████| 63413/63413 [00:00<00:00, 100021.62it/s]\n",
      "100%|██████████| 63413/63413 [00:00<00:00, 78828.47it/s] \n"
     ]
    },
    {
     "name": "stdout",
     "output_type": "stream",
     "text": [
      "Processing column: reviewText_verbs_flairSent\n"
     ]
    },
    {
     "name": "stderr",
     "output_type": "stream",
     "text": [
      "100%|██████████| 63413/63413 [00:00<00:00, 100664.60it/s]\n",
      "100%|██████████| 63413/63413 [00:00<00:00, 104736.90it/s]\n"
     ]
    },
    {
     "name": "stdout",
     "output_type": "stream",
     "text": [
      "Processing column: reviewText_nav_flairSent\n"
     ]
    },
    {
     "name": "stderr",
     "output_type": "stream",
     "text": [
      "100%|██████████| 63413/63413 [00:00<00:00, 75172.91it/s] \n",
      "100%|██████████| 63413/63413 [00:00<00:00, 96808.14it/s] \n"
     ]
    },
    {
     "name": "stdout",
     "output_type": "stream",
     "text": [
      "Processing column: reviewText_lemma_tb_pol\n"
     ]
    },
    {
     "name": "stderr",
     "output_type": "stream",
     "text": [
      "100%|██████████| 63413/63413 [00:00<00:00, 96025.10it/s] \n",
      "100%|██████████| 63413/63413 [00:00<00:00, 74826.85it/s] \n"
     ]
    },
    {
     "name": "stdout",
     "output_type": "stream",
     "text": [
      "Processing column: reviewText_adjectives_tb_pol\n"
     ]
    },
    {
     "name": "stderr",
     "output_type": "stream",
     "text": [
      "100%|██████████| 63413/63413 [00:00<00:00, 98267.58it/s] \n",
      "100%|██████████| 63413/63413 [00:00<00:00, 75221.91it/s] \n"
     ]
    },
    {
     "name": "stdout",
     "output_type": "stream",
     "text": [
      "Processing column: reviewText_verbs_tb_pol\n"
     ]
    },
    {
     "name": "stderr",
     "output_type": "stream",
     "text": [
      "100%|██████████| 63413/63413 [00:00<00:00, 95454.34it/s] \n",
      "100%|██████████| 63413/63413 [00:00<00:00, 102431.29it/s]\n"
     ]
    },
    {
     "name": "stdout",
     "output_type": "stream",
     "text": [
      "Processing column: reviewText_nav_tb_pol\n"
     ]
    },
    {
     "name": "stderr",
     "output_type": "stream",
     "text": [
      "100%|██████████| 63413/63413 [00:00<00:00, 72781.15it/s] \n",
      "100%|██████████| 63413/63413 [00:00<00:00, 91008.11it/s] \n"
     ]
    }
   ],
   "source": [
    "processColumns = ['reviewText_lemma_flairSent',\n",
    "                  'reviewText_adjectives_flairSent',\n",
    "                  'reviewText_verbs_flairSent',\n",
    "                  'reviewText_nav_flairSent',\n",
    "                  \n",
    "                  'reviewText_lemma_tb_pol',\n",
    "                  'reviewText_adjectives_tb_pol',\n",
    "                  'reviewText_verbs_tb_pol',\n",
    "                  'reviewText_nav_tb_pol'                  \n",
    "                  ]\n",
    "\n",
    "for col in processColumns:\n",
    "  print(f'Processing column: {col}')\n",
    "  dataOrig = cwutils.binPolarity(dataOrig, col)\n",
    "  dataOrig = cwutils.binPolarityPosNeg(dataOrig, col)\n"
   ]
  },
  {
   "cell_type": "code",
   "execution_count": null,
   "id": "iNpwcOdbdgKx",
   "metadata": {
    "colab": {
     "base_uri": "https://localhost:8080/"
    },
    "executionInfo": {
     "elapsed": 13,
     "status": "ok",
     "timestamp": 1638743903783,
     "user": {
      "displayName": "Michael Vasiliou",
      "photoUrl": "https://lh3.googleusercontent.com/a/default-user=s64",
      "userId": "07079983815732559270"
     },
     "user_tz": 300
    },
    "id": "iNpwcOdbdgKx",
    "outputId": "0c93d358-ac8e-401a-b823-bb6b19c62f6a"
   },
   "outputs": [
    {
     "name": "stdout",
     "output_type": "stream",
     "text": [
      "<class 'pandas.core.frame.DataFrame'>\n",
      "RangeIndex: 63413 entries, 0 to 63412\n",
      "Data columns (total 49 columns):\n",
      " #   Column                                  Non-Null Count  Dtype  \n",
      "---  ------                                  --------------  -----  \n",
      " 0   uuid                                    63413 non-null  object \n",
      " 1   reviewText                              63413 non-null  object \n",
      " 2   overall                                 63413 non-null  float64\n",
      " 3   reviewText_lemma                        63413 non-null  object \n",
      " 4   reviewText_nouns                        63413 non-null  object \n",
      " 5   reviewText_adjectives                   63413 non-null  object \n",
      " 6   reviewText_verbs                        63413 non-null  object \n",
      " 7   reviewText_nav                          63413 non-null  object \n",
      " 8   reviewText_lemma_tb_pol                 63310 non-null  float64\n",
      " 9   reviewText_lemma_tb_subj                63310 non-null  float64\n",
      " 10  reviewText_lemma_tb_tokens              63310 non-null  float64\n",
      " 11  reviewText_lemma_tb_length              63310 non-null  float64\n",
      " 12  reviewText_lemma_bert                   63413 non-null  object \n",
      " 13  reviewText_lemma_flairSent              63310 non-null  float64\n",
      " 14  reviewText_adjectives_tb_pol            50732 non-null  float64\n",
      " 15  reviewText_adjectives_tb_subj           50732 non-null  float64\n",
      " 16  reviewText_adjectives_tb_tokens         50732 non-null  float64\n",
      " 17  reviewText_adjectives_tb_length         50732 non-null  float64\n",
      " 18  reviewText_adjectives_bert              63413 non-null  object \n",
      " 19  reviewText_adjectives_flairSent         50732 non-null  float64\n",
      " 20  reviewText_verbs_tb_pol                 43234 non-null  float64\n",
      " 21  reviewText_verbs_tb_subj                43234 non-null  float64\n",
      " 22  reviewText_verbs_tb_tokens              43234 non-null  float64\n",
      " 23  reviewText_verbs_tb_length              43234 non-null  float64\n",
      " 24  reviewText_verbs_bert                   63413 non-null  object \n",
      " 25  reviewText_verbs_flairSent              43234 non-null  float64\n",
      " 26  reviewText_nav_tb_pol                   62332 non-null  float64\n",
      " 27  reviewText_nav_tb_subj                  62332 non-null  float64\n",
      " 28  reviewText_nav_tb_tokens                62332 non-null  float64\n",
      " 29  reviewText_nav_tb_length                62332 non-null  float64\n",
      " 30  reviewText_nav_bert                     63413 non-null  object \n",
      " 31  reviewText_nav_flairSent                62332 non-null  float64\n",
      " 32  overall_posneg                          63413 non-null  int64  \n",
      " 33  reviewText_lemma_flairSent_norm         63310 non-null  float64\n",
      " 34  reviewText_lemma_flairSent_posneg       63310 non-null  float64\n",
      " 35  reviewText_adjectives_flairSent_norm    50732 non-null  float64\n",
      " 36  reviewText_adjectives_flairSent_posneg  50732 non-null  float64\n",
      " 37  reviewText_verbs_flairSent_norm         43234 non-null  float64\n",
      " 38  reviewText_verbs_flairSent_posneg       43234 non-null  float64\n",
      " 39  reviewText_nav_flairSent_norm           62332 non-null  float64\n",
      " 40  reviewText_nav_flairSent_posneg         62332 non-null  float64\n",
      " 41  reviewText_lemma_tb_pol_norm            63310 non-null  float64\n",
      " 42  reviewText_lemma_tb_pol_posneg          63310 non-null  float64\n",
      " 43  reviewText_adjectives_tb_pol_norm       50732 non-null  float64\n",
      " 44  reviewText_adjectives_tb_pol_posneg     50732 non-null  float64\n",
      " 45  reviewText_verbs_tb_pol_norm            43234 non-null  float64\n",
      " 46  reviewText_verbs_tb_pol_posneg          43234 non-null  float64\n",
      " 47  reviewText_nav_tb_pol_norm              62332 non-null  float64\n",
      " 48  reviewText_nav_tb_pol_posneg            62332 non-null  float64\n",
      "dtypes: float64(37), int64(1), object(11)\n",
      "memory usage: 23.7+ MB\n"
     ]
    }
   ],
   "source": [
    "dataOrig.info()"
   ]
  },
  {
   "cell_type": "markdown",
   "id": "FE5aT1OwkPXu",
   "metadata": {
    "id": "FE5aT1OwkPXu"
   },
   "source": [
    "# Save Files!!!!!!!!"
   ]
  },
  {
   "cell_type": "code",
   "execution_count": null,
   "id": "5HjCiRx9URPb",
   "metadata": {
    "id": "5HjCiRx9URPb"
   },
   "outputs": [],
   "source": [
    "dataOrig.to_pickle(jarvis.DATA_DIR_WORK + '/01_NL_ReviewText_All(new).pkl.gz')"
   ]
  }
 ],
 "metadata": {
  "accelerator": "GPU",
  "colab": {
   "collapsed_sections": [],
   "machine_shape": "hm",
   "name": "01b_ML1010_GP_LoadAndStore.ipynb",
   "provenance": []
  },
  "kernelspec": {
   "display_name": "Python 3 (ipykernel)",
   "language": "python",
   "name": "python3"
  },
  "language_info": {
   "codemirror_mode": {
    "name": "ipython",
    "version": 3
   },
   "file_extension": ".py",
   "mimetype": "text/x-python",
   "name": "python",
   "nbconvert_exporter": "python",
   "pygments_lexer": "ipython3",
   "version": "3.7.12"
  }
 },
 "nbformat": 4,
 "nbformat_minor": 5
}
