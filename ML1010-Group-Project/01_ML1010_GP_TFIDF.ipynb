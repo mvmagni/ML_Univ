{
 "cells": [
  {
   "cell_type": "markdown",
   "id": "pn8fyGevt62D",
   "metadata": {
    "id": "pn8fyGevt62D"
   },
   "source": [
    "# Configuration"
   ]
  },
  {
   "cell_type": "code",
   "execution_count": 1,
   "id": "XmHgvt15t48a",
   "metadata": {
    "id": "XmHgvt15t48a"
   },
   "outputs": [],
   "source": [
    "# Parameters\n",
    "ENABLE_COLAB = False\n",
    "PROJECT_NAME = 'ML1010-Group-Project'\n",
    "\n",
    "#Root Machine Learning Directory. Projects appear underneath\n",
    "GOOGLE_DRIVE_MOUNT = '/content/gdrive' \n",
    "COLAB_ROOT_DIR = GOOGLE_DRIVE_MOUNT + '/MyDrive/Colab Notebooks'\n",
    "COLAB_INIT_DIR = COLAB_ROOT_DIR + '/utility_files'\n",
    "\n",
    "LOCAL_ROOT_DIR = '/home/magni//ML_Root/project_root'\n",
    "LOCAL_INIT_DIR = LOCAL_ROOT_DIR + '/utility_files'\n",
    "\n",
    "START_DATA_FILE = '01_Cellphone_full.pkl.gz'\n",
    "END_DATA_FILE = '01_Cellphone_full_TFIDF.pkl.gz'\n",
    "\n",
    "##This is for experiment work only###########################\n",
    "#EXPERIMENT_NAME = 'ReviewText_Lemma_Bert (XGB)'\n",
    "#FILE_NAME = '01_ML1010_GP_XGB_Bert'\n",
    "#LOAD_FROM_EXP = False"
   ]
  },
  {
   "cell_type": "markdown",
   "id": "AKuOInGo45OB",
   "metadata": {
    "id": "AKuOInGo45OB"
   },
   "source": [
    "# Bootstrap Environment"
   ]
  },
  {
   "cell_type": "code",
   "execution_count": 2,
   "id": "nri_N7sIEMjQ",
   "metadata": {
    "colab": {
     "base_uri": "https://localhost:8080/"
    },
    "executionInfo": {
     "elapsed": 970,
     "status": "ok",
     "timestamp": 1638743789528,
     "user": {
      "displayName": "Michael Vasiliou",
      "photoUrl": "https://lh3.googleusercontent.com/a/default-user=s64",
      "userId": "07079983815732559270"
     },
     "user_tz": 300
    },
    "id": "nri_N7sIEMjQ",
    "outputId": "950e1db2-507e-478a-fa3b-b9d4e4fc4d85"
   },
   "outputs": [
    {
     "name": "stdout",
     "output_type": "stream",
     "text": [
      "Wha...where am I?\n",
      "I am awake now.\n",
      "\n",
      "I have set your current working directory to /home/magni/ML_Root/project_root/ML1010-Group-Project\n",
      "The current time is 18:22\n",
      "Hello sir. Reminder, no more coffee.\n",
      "\n"
     ]
    }
   ],
   "source": [
    "#add in support for utility file directory and importing\n",
    "import sys\n",
    "import os\n",
    "\n",
    "if ENABLE_COLAB:\n",
    "  #Need access to drive\n",
    "  from google.colab import drive\n",
    "  drive.mount(GOOGLE_DRIVE_MOUNT, force_remount=True)\n",
    "  \n",
    "  #add in utility directory to syspath to import \n",
    "  INIT_DIR = COLAB_INIT_DIR\n",
    "  sys.path.append(os.path.abspath(INIT_DIR))\n",
    "  \n",
    "  #Config environment variables\n",
    "  ROOT_DIR = COLAB_ROOT_DIR\n",
    "  \n",
    "else:\n",
    "  #add in utility directory to syspath to import\n",
    "  INIT_DIR = LOCAL_INIT_DIR\n",
    "  sys.path.append(os.path.abspath(INIT_DIR))\n",
    "  \n",
    "  #Config environment variables\n",
    "  ROOT_DIR = LOCAL_ROOT_DIR\n",
    "\n",
    "#Import Utility Support\n",
    "from jarvis import Jarvis\n",
    "jarvis = Jarvis(ROOT_DIR, PROJECT_NAME)\n",
    "\n",
    "\n",
    "\n",
    "import mv_python_utils as mvutils\n"
   ]
  },
  {
   "cell_type": "markdown",
   "id": "fVJrz4vi6Cy5",
   "metadata": {
    "id": "fVJrz4vi6Cy5"
   },
   "source": [
    "# Setup Runtime Environment"
   ]
  },
  {
   "cell_type": "code",
   "execution_count": 3,
   "id": "jf_PpJBuERwL",
   "metadata": {
    "colab": {
     "base_uri": "https://localhost:8080/",
     "height": 1000
    },
    "executionInfo": {
     "elapsed": 73349,
     "status": "ok",
     "timestamp": 1638743862869,
     "user": {
      "displayName": "Michael Vasiliou",
      "photoUrl": "https://lh3.googleusercontent.com/a/default-user=s64",
      "userId": "07079983815732559270"
     },
     "user_tz": 300
    },
    "id": "jf_PpJBuERwL",
    "outputId": "cf976917-150a-4ee0-c66f-cfa45fc49757"
   },
   "outputs": [
    {
     "data": {
      "text/plain": [
       "'Google Colab not enabled'"
      ]
     },
     "metadata": {},
     "output_type": "display_data"
    }
   ],
   "source": [
    "#%%capture\n",
    "if ENABLE_COLAB:\n",
    "  #!pip install scipy -q\n",
    "  #!pip install scikit-learn -q\n",
    "  #!pip install pycaret -q\n",
    "  #!pip install matplotlib -q\n",
    "  #!pip install joblib -q\n",
    "  #!pip install pandasql -q \n",
    "  !pip install sentence_transformers -q\n",
    "  !pip install flair -q\n",
    "  !pip install spacy -U -q\n",
    "  !pip install spacytextblob -q\n",
    "  display('Google Colab enabled')\n",
    "else:\n",
    "  display('Google Colab not enabled')\n",
    "\n",
    "#Common imports\n",
    "#import json\n",
    "import gzip\n",
    "import pandas as pd\n",
    "import numpy as np\n",
    "import matplotlib\n",
    "import re\n",
    "import nltk\n",
    "import matplotlib.pyplot as plt\n",
    "\n",
    "#!python -m spacy download en_core_web_sm\n",
    "\n",
    "#nltk.download('stopwords')\n",
    "#%matplotlib inline"
   ]
  },
  {
   "cell_type": "markdown",
   "id": "hEdTR2FNx6kk",
   "metadata": {
    "id": "hEdTR2FNx6kk"
   },
   "source": [
    "# Load Data"
   ]
  },
  {
   "cell_type": "code",
   "execution_count": 4,
   "id": "028f2a6c",
   "metadata": {
    "colab": {
     "base_uri": "https://localhost:8080/"
    },
    "executionInfo": {
     "elapsed": 8747,
     "status": "ok",
     "timestamp": 1638743871591,
     "user": {
      "displayName": "Michael Vasiliou",
      "photoUrl": "https://lh3.googleusercontent.com/a/default-user=s64",
      "userId": "07079983815732559270"
     },
     "user_tz": 300
    },
    "id": "028f2a6c",
    "outputId": "45ad0142-31f6-46c4-aa4a-b8b9ea32656c"
   },
   "outputs": [
    {
     "name": "stdout",
     "output_type": "stream",
     "text": [
      "<class 'pandas.core.frame.DataFrame'>\n",
      "RangeIndex: 506438 entries, 0 to 506437\n",
      "Data columns (total 25 columns):\n",
      " #   Column                 Non-Null Count   Dtype         \n",
      "---  ------                 --------------   -----         \n",
      " 0   uuid                   506438 non-null  object        \n",
      " 1   overall                506438 non-null  float64       \n",
      " 2   verified               506438 non-null  bool          \n",
      " 3   reviewTime             506438 non-null  datetime64[ns]\n",
      " 4   reviewYear             506438 non-null  int64         \n",
      " 5   reviewerID             506438 non-null  object        \n",
      " 6   asin                   506438 non-null  object        \n",
      " 7   style                  215400 non-null  object        \n",
      " 8   reviewText             506438 non-null  object        \n",
      " 9   summary                506438 non-null  object        \n",
      " 10  vote                   103930 non-null  object        \n",
      " 11  category               506438 non-null  string        \n",
      " 12  description            506438 non-null  object        \n",
      " 13  title                  506438 non-null  object        \n",
      " 14  brand                  506438 non-null  object        \n",
      " 15  feature                506438 non-null  object        \n",
      " 16  main_cat               506438 non-null  object        \n",
      " 17  price                  506438 non-null  object        \n",
      " 18  overall_posneg         506438 non-null  int64         \n",
      " 19  reviewText_lemma       506438 non-null  object        \n",
      " 20  reviewText_nouns       506438 non-null  object        \n",
      " 21  reviewText_adjectives  506438 non-null  object        \n",
      " 22  reviewText_verbs       506438 non-null  object        \n",
      " 23  reviewText_nav         506438 non-null  object        \n",
      " 24  reviewText_lemma_bert  506438 non-null  object        \n",
      "dtypes: bool(1), datetime64[ns](1), float64(1), int64(2), object(19), string(1)\n",
      "memory usage: 93.2+ MB\n"
     ]
    }
   ],
   "source": [
    "### load the meta data\n",
    "dataOrig = pd.read_pickle(jarvis.DATA_DIR_WORK + '/' + START_DATA_FILE)\n",
    "dataOrig.info()"
   ]
  },
  {
   "cell_type": "markdown",
   "id": "nqJs3J24wbWw",
   "metadata": {
    "id": "nqJs3J24wbWw"
   },
   "source": [
    "# Column Explosion"
   ]
  },
  {
   "cell_type": "code",
   "execution_count": 5,
   "id": "L0MCYsUVwaKe",
   "metadata": {
    "id": "L0MCYsUVwaKe"
   },
   "outputs": [],
   "source": [
    "pd.set_option('mode.chained_assignment', None)"
   ]
  },
  {
   "cell_type": "code",
   "execution_count": 6,
   "id": "958e1be3-a6a4-4fa2-a926-085aaff301dc",
   "metadata": {
    "id": "hTpH7cxU5wag"
   },
   "outputs": [
    {
     "name": "stderr",
     "output_type": "stream",
     "text": [
      "2022-01-25 18:23:22.066501: W tensorflow/stream_executor/platform/default/dso_loader.cc:64] Could not load dynamic library 'libcudart.so.11.0'; dlerror: libcudart.so.11.0: cannot open shared object file: No such file or directory\n",
      "2022-01-25 18:23:22.066542: I tensorflow/stream_executor/cuda/cudart_stub.cc:29] Ignore above cudart dlerror if you do not have a GPU set up on your machine.\n"
     ]
    }
   ],
   "source": [
    "import cw_df_metric_utils as cwutils\n",
    "import importlib\n",
    "import DataPackage as dp\n",
    "import DataPackageSupport as dps\n",
    "import DataExperiment\n",
    "import DataExperimentSupport\n",
    "import time"
   ]
  },
  {
   "cell_type": "code",
   "execution_count": null,
   "id": "dce1af27-794a-4692-bcb1-711fcbec51f9",
   "metadata": {},
   "outputs": [],
   "source": [
    "importlib.reload(cwutils)\n",
    "importlib.reload(dp)\n",
    "importlib.reload(dps)\n",
    "importlib.reload(DataExperiment)\n",
    "importlib.reload(DataExperimentSupport)"
   ]
  },
  {
   "cell_type": "code",
   "execution_count": 7,
   "id": "90c27c57-d016-4df6-813b-b04c091ed59b",
   "metadata": {},
   "outputs": [
    {
     "name": "stdout",
     "output_type": "stream",
     "text": [
      "<class 'pandas.core.frame.DataFrame'>\n",
      "RangeIndex: 506438 entries, 0 to 506437\n",
      "Data columns (total 25 columns):\n",
      " #   Column                 Non-Null Count   Dtype         \n",
      "---  ------                 --------------   -----         \n",
      " 0   uuid                   506438 non-null  object        \n",
      " 1   overall                506438 non-null  float64       \n",
      " 2   verified               506438 non-null  bool          \n",
      " 3   reviewTime             506438 non-null  datetime64[ns]\n",
      " 4   reviewYear             506438 non-null  int64         \n",
      " 5   reviewerID             506438 non-null  object        \n",
      " 6   asin                   506438 non-null  object        \n",
      " 7   style                  215400 non-null  object        \n",
      " 8   reviewText             506438 non-null  object        \n",
      " 9   summary                506438 non-null  object        \n",
      " 10  vote                   103930 non-null  object        \n",
      " 11  category               506438 non-null  string        \n",
      " 12  description            506438 non-null  object        \n",
      " 13  title                  506438 non-null  object        \n",
      " 14  brand                  506438 non-null  object        \n",
      " 15  feature                506438 non-null  object        \n",
      " 16  main_cat               506438 non-null  object        \n",
      " 17  price                  506438 non-null  object        \n",
      " 18  overall_posneg         506438 non-null  int64         \n",
      " 19  reviewText_lemma       506438 non-null  object        \n",
      " 20  reviewText_nouns       506438 non-null  object        \n",
      " 21  reviewText_adjectives  506438 non-null  object        \n",
      " 22  reviewText_verbs       506438 non-null  object        \n",
      " 23  reviewText_nav         506438 non-null  object        \n",
      " 24  reviewText_lemma_bert  506438 non-null  object        \n",
      "dtypes: bool(1), datetime64[ns](1), float64(1), int64(2), object(19), string(1)\n",
      "memory usage: 93.2+ MB\n"
     ]
    }
   ],
   "source": [
    "dataOrig.info()"
   ]
  },
  {
   "cell_type": "markdown",
   "id": "e49fdd2b-ffbb-48d4-a9c0-f28af6b39afd",
   "metadata": {},
   "source": [
    "# Create TF-IDF and save to file"
   ]
  },
  {
   "cell_type": "code",
   "execution_count": 8,
   "id": "f8d595ab-a736-4d04-9926-06e03501d3ed",
   "metadata": {},
   "outputs": [],
   "source": [
    "from sklearn.feature_extraction.text import TfidfVectorizer\n",
    "v = TfidfVectorizer(max_features=768)\n",
    "x = v.fit_transform(dataOrig['reviewText_lemma'])"
   ]
  },
  {
   "cell_type": "code",
   "execution_count": 9,
   "id": "06d58442-8ba3-46ab-bbee-8888fdc0fcde",
   "metadata": {},
   "outputs": [
    {
     "name": "stdout",
     "output_type": "stream",
     "text": [
      "['00' '10' '100' '12' '15' '16' '20' '200' '30' '32' '40' '4s' '50' '64'\n",
      " '99' 'ability' 'able' 'absolutely' 'access' 'accessory' 'account'\n",
      " 'activate' 'actually' 'adapter' 'add' 'address' 'advertise' 'ago' 'alarm'\n",
      " 'allow' 'amazing' 'amazon' 'android' 'annoying' 'answer' 'anymore' 'app'\n",
      " 'appear' 'apple' 'application' 'area' 'arrive' 'ask' 'asus' 'at' 'att'\n",
      " 'audio' 'auto' 'automatically' 'available' 'average' 'away' 'awesome'\n",
      " 'background' 'backup' 'bad' 'band' 'bar' 'barely' 'base' 'basic'\n",
      " 'basically' 'battery' 'beat' 'beautiful' 'begin' 'believe' 'big' 'bit'\n",
      " 'black' 'blackberry' 'bloatware' 'blu' 'blue' 'bluetooth' 'book' 'boost'\n",
      " 'boot' 'bother' 'box' 'brand' 'break' 'bright' 'brightness' 'bring'\n",
      " 'browse' 'browser' 'buck' 'budget' 'build' 'business' 'button' 'buy'\n",
      " 'cable' 'calendar' 'call' 'camera' 'capability' 'car' 'card' 'care'\n",
      " 'carrier' 'carry' 'case' 'cause' 'cell' 'cellphone' 'cellular' 'certain'\n",
      " 'change' 'charge' 'charger' 'cheap' 'check' 'chinese' 'choice' 'choose'\n",
      " 'claim' 'class' 'clean' 'clear' 'click' 'close' 'code' 'color' 'com'\n",
      " 'come' 'comment' 'company' 'compare' 'compatible' 'complain' 'complaint'\n",
      " 'complete' 'completely' 'computer' 'con' 'condition' 'connect'\n",
      " 'connection' 'cons' 'consider' 'constantly' 'contact' 'continue'\n",
      " 'contract' 'control' 'cool' 'core' 'correct' 'cost' 'country' 'couple'\n",
      " 'course' 'cover' 'coverage' 'crack' 'crap' 'crash' 'current' 'currently'\n",
      " 'customer' 'cut' 'daily' 'damage' 'data' 'date' 'datum' 'daughter' 'day'\n",
      " 'de' 'dead' 'deal' 'decent' 'decide' 'default' 'defective' 'definitely'\n",
      " 'delete' 'deliver' 'delivery' 'describe' 'description' 'design' 'despite'\n",
      " 'detail' 'device' 'dial' 'die' 'difference' 'different' 'difficult'\n",
      " 'disable' 'disappoint' 'disappointed' 'display' 'dollar' 'download'\n",
      " 'drain' 'drive' 'droid' 'drop' 'dual' 'durable' 'ear' 'early' 'easily'\n",
      " 'easy' 'edge' 'el' 'email' 'en' 'end' 'english' 'enjoy' 'enter' 'error'\n",
      " 'es' 'especially' 'etc' 'exactly' 'example' 'excelent' 'excelente'\n",
      " 'excellent' 'exchange' 'expect' 'expectation' 'expensive' 'experience'\n",
      " 'external' 'extra' 'extremely' 'face' 'facebook' 'fact' 'factory' 'fail'\n",
      " 'fairly' 'fall' 'family' 'fan' 'fantastic' 'far' 'fast' 'fault'\n",
      " 'favorite' 'feature' 'feel' 'fi' 'figure' 'file' 'finally' 'find' 'fine'\n",
      " 'finger' 'fingerprint' 'fit' 'fix' 'flash' 'flip' 'focus' 'follow'\n",
      " 'forget' 'free' 'freeze' 'friend' 'friendly' 'frustrating' 'fully' 'fun'\n",
      " 'function' 'functionality' 'future' 'galaxy' 'game' 'gb' 'get' 'getting'\n",
      " 'gift' 'give' 'glad' 'glass' 'go' 'good' 'google' 'got' 'gps' 'great'\n",
      " 'gsm' 'guess' 'guy' 'half' 'hand' 'handle' 'hang' 'happen' 'happy' 'hard'\n",
      " 'hardware' 'hate' 'have' 'hd' 'headphone' 'headset' 'hear' 'heavy' 'help'\n",
      " 'high' 'highly' 'hit' 'hold' 'home' 'honestly' 'hook' 'hope' 'horrible'\n",
      " 'hot' 'hour' 'htc' 'huge' 'husband' 'icon' 'idea' 'image' 'immediately'\n",
      " 'important' 'impressed' 'improve' 'inch' 'include' 'incredible'\n",
      " 'information' 'insert' 'inside' 'instal' 'install' 'instead'\n",
      " 'instruction' 'interface' 'internal' 'international' 'internet' 'ios'\n",
      " 'iphone' 'issue' 'item' 'jack' 'job' 'junk' 'keep' 'key' 'keyboard'\n",
      " 'keypad' 'kid' 'kind' 'know' 'la' 'lack' 'lag' 'language' 'laptop'\n",
      " 'large' 'last' 'late' 'later' 'learn' 'leave' 'let' 'letter' 'level' 'lg'\n",
      " 'life' 'light' 'like' 'limited' 'line' 'link' 'list' 'listen' 'little'\n",
      " 'live' 'lo' 'load' 'local' 'location' 'lock' 'long' 'look' 'lose' 'lot'\n",
      " 'loud' 'love' 'low' 'lte' 'lumia' 'mail' 'main' 'major' 'make' 'manual'\n",
      " 'manufacturer' 'map' 'market' 'matter' 'maybe' 'mb' 'mean' 'medium'\n",
      " 'meet' 'memory' 'mention' 'menu' 'message' 'micro' 'microsd' 'microsoft'\n",
      " 'middle' 'mind' 'mini' 'minor' 'minute' 'miss' 'mobile' 'mode' 'model'\n",
      " 'mom' 'money' 'month' 'moto' 'motorola' 'move' 'movie' 'mp3' 'multiple'\n",
      " 'music' 'muy' 'navigate' 'navigation' 'near' 'nearly' 'need' 'negative'\n",
      " 'network' 'new' 'nexus' 'nice' 'night' 'nokia' 'non' 'normal' 'not'\n",
      " 'note' 'notice' 'notification' 'number' 'offer' 'office' 'oh' 'ok' 'okay'\n",
      " 'old' 'one' 'online' 'open' 'operate' 'operating' 'opinion' 'option'\n",
      " 'order' 'original' 'os' 'outside' 'overall' 'own' 'package' 'page' 'palm'\n",
      " 'party' 'past' 'pay' 'pc' 'people' 'perfect' 'perfectly' 'perform'\n",
      " 'performance' 'period' 'person' 'personal' 'phone' 'photo' 'pic' 'pick'\n",
      " 'picture' 'piece' 'place' 'plan' 'plastic' 'play' 'player' 'pleased'\n",
      " 'plenty' 'plug' 'plus' 'pocket' 'point' 'poor' 'pop' 'port' 'possible'\n",
      " 'post' 'power' 'pre' 'prefer' 'prepaid' 'press' 'pretty' 'previous'\n",
      " 'price' 'pro' 'probably' 'problem' 'process' 'processor' 'product'\n",
      " 'program' 'promise' 'properly' 'pros' 'protector' 'provide' 'provider'\n",
      " 'pull' 'purchase' 'purpose' 'push' 'put' 'quality' 'que' 'question'\n",
      " 'quick' 'quickly' 'qwerty' 'radio' 'ram' 'randomly' 'range' 'rate'\n",
      " 'rating' 'razr' 'read' 'ready' 'real' 'realize' 'reason' 'reboot'\n",
      " 'receive' 'recently' 'reception' 'recognize' 'recommend' 'refund'\n",
      " 'refurbish' 'regret' 'regular' 'release' 'reliable' 'remove' 'repair'\n",
      " 'replace' 'replacement' 'require' 'research' 'reset' 'resolution'\n",
      " 'respond' 'response' 'responsive' 'restart' 'result' 'return' 'review'\n",
      " 'right' 'ring' 'ringtone' 'root' 'run' 's3' 's4' 's5' 's6' 'samsung'\n",
      " 'satisfied' 'save' 'say' 'scratch' 'screen' 'sd' 'search' 'second' 'see'\n",
      " 'select' 'sell' 'seller' 'send' 'service' 'set' 'setting' 'setup' 'sharp'\n",
      " 'ship' 'shipping' 'short' 'show' 'shut' 'sign' 'signal' 'sim' 'similar'\n",
      " 'simple' 'simply' 'single' 'sit' 'site' 'size' 'sleek' 'slide' 'slightly'\n",
      " 'slot' 'slow' 'small' 'smart' 'smartphone' 'smooth' 'software' 'solid'\n",
      " 'son' 'sony' 'soon' 'sound' 'space' 'speak' 'speaker' 'spec' 'speed'\n",
      " 'spend' 'sprint' 'stand' 'standard' 'star' 'start' 'state' 'stay' 'steal'\n",
      " 'step' 'stick' 'stock' 'stop' 'storage' 'store' 'straight' 'strong'\n",
      " 'stuff' 'suck' 'suggest' 'super' 'support' 'suppose' 'sure' 'switch'\n",
      " 'sync' 'system' 'tablet' 'take' 'talk' 'tap' 'task' 'tech' 'technology'\n",
      " 'tell' 'term' 'terrible' 'test' 'text' 'texting' 'thank' 'thin' 'thing'\n",
      " 'think' 'throw' 'time' 'tiny' 'tmobile' 'today' 'ton' 'totally' 'touch'\n",
      " 'touchscreen' 'tracfone' 'transfer' 'travel' 'trouble' 'true' 'truly'\n",
      " 'try' 'turn' 'twice' 'type' 'ui' 'unable' 'understand' 'unfortunately'\n",
      " 'unit' 'unlimited' 'unlock' 'unlocked' 'update' 'upgrade' 'usa' 'usage'\n",
      " 'usb' 'use' 'useful' 'useless' 'user' 'usually' 'value' 've' 'venezuela'\n",
      " 'verizon' 'version' 'video' 'view' 'virgin' 'voice' 'volume' 'wait'\n",
      " 'want' 'warranty' 'waste' 'watch' 'water' 'way' 'web' 'website' 'week'\n",
      " 'weight' 'well' 'white' 'wi' 'wife' 'wifi' 'will' 'window' 'windows'\n",
      " 'wireless' 'wish' 'wonderful' 'word' 'work' 'world' 'worth' 'write'\n",
      " 'wrong' 'year' 'yes' 'youtube']\n"
     ]
    }
   ],
   "source": [
    "feature_names = v.get_feature_names_out()\n",
    "print(feature_names)"
   ]
  },
  {
   "cell_type": "code",
   "execution_count": 10,
   "id": "0142d4a0-7515-4116-958f-8e1ecffc1e37",
   "metadata": {},
   "outputs": [
    {
     "data": {
      "text/html": [
       "<div>\n",
       "<style scoped>\n",
       "    .dataframe tbody tr th:only-of-type {\n",
       "        vertical-align: middle;\n",
       "    }\n",
       "\n",
       "    .dataframe tbody tr th {\n",
       "        vertical-align: top;\n",
       "    }\n",
       "\n",
       "    .dataframe thead th {\n",
       "        text-align: right;\n",
       "    }\n",
       "</style>\n",
       "<table border=\"1\" class=\"dataframe\">\n",
       "  <thead>\n",
       "    <tr style=\"text-align: right;\">\n",
       "      <th></th>\n",
       "      <th>00</th>\n",
       "      <th>10</th>\n",
       "      <th>100</th>\n",
       "      <th>12</th>\n",
       "      <th>15</th>\n",
       "      <th>16</th>\n",
       "      <th>20</th>\n",
       "      <th>200</th>\n",
       "      <th>30</th>\n",
       "      <th>32</th>\n",
       "      <th>...</th>\n",
       "      <th>wonderful</th>\n",
       "      <th>word</th>\n",
       "      <th>work</th>\n",
       "      <th>world</th>\n",
       "      <th>worth</th>\n",
       "      <th>write</th>\n",
       "      <th>wrong</th>\n",
       "      <th>year</th>\n",
       "      <th>yes</th>\n",
       "      <th>youtube</th>\n",
       "    </tr>\n",
       "  </thead>\n",
       "  <tbody>\n",
       "    <tr>\n",
       "      <th>0</th>\n",
       "      <td>0.0</td>\n",
       "      <td>0.0</td>\n",
       "      <td>0.0</td>\n",
       "      <td>0.0</td>\n",
       "      <td>0.0</td>\n",
       "      <td>0.0</td>\n",
       "      <td>0.0</td>\n",
       "      <td>0.0</td>\n",
       "      <td>0.0</td>\n",
       "      <td>0.0</td>\n",
       "      <td>...</td>\n",
       "      <td>0.0</td>\n",
       "      <td>0.0</td>\n",
       "      <td>0.095399</td>\n",
       "      <td>0.0</td>\n",
       "      <td>0.191165</td>\n",
       "      <td>0.0</td>\n",
       "      <td>0.0</td>\n",
       "      <td>0.0</td>\n",
       "      <td>0.0</td>\n",
       "      <td>0.0</td>\n",
       "    </tr>\n",
       "    <tr>\n",
       "      <th>1</th>\n",
       "      <td>0.0</td>\n",
       "      <td>0.0</td>\n",
       "      <td>0.0</td>\n",
       "      <td>0.0</td>\n",
       "      <td>0.0</td>\n",
       "      <td>0.0</td>\n",
       "      <td>0.0</td>\n",
       "      <td>0.0</td>\n",
       "      <td>0.0</td>\n",
       "      <td>0.0</td>\n",
       "      <td>...</td>\n",
       "      <td>0.0</td>\n",
       "      <td>0.0</td>\n",
       "      <td>0.095399</td>\n",
       "      <td>0.0</td>\n",
       "      <td>0.191165</td>\n",
       "      <td>0.0</td>\n",
       "      <td>0.0</td>\n",
       "      <td>0.0</td>\n",
       "      <td>0.0</td>\n",
       "      <td>0.0</td>\n",
       "    </tr>\n",
       "  </tbody>\n",
       "</table>\n",
       "<p>2 rows × 768 columns</p>\n",
       "</div>"
      ],
      "text/plain": [
       "    00   10  100   12   15   16   20  200   30   32  ...  wonderful  word  \\\n",
       "0  0.0  0.0  0.0  0.0  0.0  0.0  0.0  0.0  0.0  0.0  ...        0.0   0.0   \n",
       "1  0.0  0.0  0.0  0.0  0.0  0.0  0.0  0.0  0.0  0.0  ...        0.0   0.0   \n",
       "\n",
       "       work  world     worth  write  wrong  year  yes  youtube  \n",
       "0  0.095399    0.0  0.191165    0.0    0.0   0.0  0.0      0.0  \n",
       "1  0.095399    0.0  0.191165    0.0    0.0   0.0  0.0      0.0  \n",
       "\n",
       "[2 rows x 768 columns]"
      ]
     },
     "execution_count": 10,
     "metadata": {},
     "output_type": "execute_result"
    }
   ],
   "source": [
    "#x.shape\n",
    "tDf = pd.DataFrame(data=x.toarray(), columns = feature_names)\n",
    "tDf.head(2)"
   ]
  },
  {
   "cell_type": "code",
   "execution_count": 11,
   "id": "4af7cdf5-c354-4bf1-b304-3326e358a4dc",
   "metadata": {},
   "outputs": [
    {
     "data": {
      "text/html": [
       "<div>\n",
       "<style scoped>\n",
       "    .dataframe tbody tr th:only-of-type {\n",
       "        vertical-align: middle;\n",
       "    }\n",
       "\n",
       "    .dataframe tbody tr th {\n",
       "        vertical-align: top;\n",
       "    }\n",
       "\n",
       "    .dataframe thead th {\n",
       "        text-align: right;\n",
       "    }\n",
       "</style>\n",
       "<table border=\"1\" class=\"dataframe\">\n",
       "  <thead>\n",
       "    <tr style=\"text-align: right;\">\n",
       "      <th></th>\n",
       "      <th>uuid</th>\n",
       "      <th>overall_posneg</th>\n",
       "    </tr>\n",
       "  </thead>\n",
       "  <tbody>\n",
       "    <tr>\n",
       "      <th>0</th>\n",
       "      <td>7fd30754-ab43-442a-808c-9f3b30d3f6a3</td>\n",
       "      <td>0</td>\n",
       "    </tr>\n",
       "    <tr>\n",
       "      <th>1</th>\n",
       "      <td>1604cce1-7edd-4094-b32d-485d3563ad1f</td>\n",
       "      <td>0</td>\n",
       "    </tr>\n",
       "  </tbody>\n",
       "</table>\n",
       "</div>"
      ],
      "text/plain": [
       "                                   uuid  overall_posneg\n",
       "0  7fd30754-ab43-442a-808c-9f3b30d3f6a3               0\n",
       "1  1604cce1-7edd-4094-b32d-485d3563ad1f               0"
      ]
     },
     "execution_count": 11,
     "metadata": {},
     "output_type": "execute_result"
    }
   ],
   "source": [
    "tDfUn = dataOrig[['uuid', 'overall_posneg']].copy()\n",
    "tDfUn.head(2)"
   ]
  },
  {
   "cell_type": "code",
   "execution_count": 12,
   "id": "c7d2c493-2638-4c2c-85c7-6950909129d5",
   "metadata": {},
   "outputs": [
    {
     "data": {
      "text/html": [
       "<div>\n",
       "<style scoped>\n",
       "    .dataframe tbody tr th:only-of-type {\n",
       "        vertical-align: middle;\n",
       "    }\n",
       "\n",
       "    .dataframe tbody tr th {\n",
       "        vertical-align: top;\n",
       "    }\n",
       "\n",
       "    .dataframe thead th {\n",
       "        text-align: right;\n",
       "    }\n",
       "</style>\n",
       "<table border=\"1\" class=\"dataframe\">\n",
       "  <thead>\n",
       "    <tr style=\"text-align: right;\">\n",
       "      <th></th>\n",
       "      <th>uuid</th>\n",
       "      <th>overall_posneg</th>\n",
       "      <th>00</th>\n",
       "      <th>10</th>\n",
       "      <th>100</th>\n",
       "      <th>12</th>\n",
       "      <th>15</th>\n",
       "      <th>16</th>\n",
       "      <th>20</th>\n",
       "      <th>200</th>\n",
       "      <th>...</th>\n",
       "      <th>wonderful</th>\n",
       "      <th>word</th>\n",
       "      <th>work</th>\n",
       "      <th>world</th>\n",
       "      <th>worth</th>\n",
       "      <th>write</th>\n",
       "      <th>wrong</th>\n",
       "      <th>year</th>\n",
       "      <th>yes</th>\n",
       "      <th>youtube</th>\n",
       "    </tr>\n",
       "  </thead>\n",
       "  <tbody>\n",
       "    <tr>\n",
       "      <th>0</th>\n",
       "      <td>7fd30754-ab43-442a-808c-9f3b30d3f6a3</td>\n",
       "      <td>0</td>\n",
       "      <td>0.0</td>\n",
       "      <td>0.0</td>\n",
       "      <td>0.0</td>\n",
       "      <td>0.0</td>\n",
       "      <td>0.0</td>\n",
       "      <td>0.0</td>\n",
       "      <td>0.0</td>\n",
       "      <td>0.0</td>\n",
       "      <td>...</td>\n",
       "      <td>0.0</td>\n",
       "      <td>0.0</td>\n",
       "      <td>0.095399</td>\n",
       "      <td>0.0</td>\n",
       "      <td>0.191165</td>\n",
       "      <td>0.0</td>\n",
       "      <td>0.0</td>\n",
       "      <td>0.0</td>\n",
       "      <td>0.0</td>\n",
       "      <td>0.0</td>\n",
       "    </tr>\n",
       "    <tr>\n",
       "      <th>1</th>\n",
       "      <td>1604cce1-7edd-4094-b32d-485d3563ad1f</td>\n",
       "      <td>0</td>\n",
       "      <td>0.0</td>\n",
       "      <td>0.0</td>\n",
       "      <td>0.0</td>\n",
       "      <td>0.0</td>\n",
       "      <td>0.0</td>\n",
       "      <td>0.0</td>\n",
       "      <td>0.0</td>\n",
       "      <td>0.0</td>\n",
       "      <td>...</td>\n",
       "      <td>0.0</td>\n",
       "      <td>0.0</td>\n",
       "      <td>0.095399</td>\n",
       "      <td>0.0</td>\n",
       "      <td>0.191165</td>\n",
       "      <td>0.0</td>\n",
       "      <td>0.0</td>\n",
       "      <td>0.0</td>\n",
       "      <td>0.0</td>\n",
       "      <td>0.0</td>\n",
       "    </tr>\n",
       "  </tbody>\n",
       "</table>\n",
       "<p>2 rows × 770 columns</p>\n",
       "</div>"
      ],
      "text/plain": [
       "                                   uuid  overall_posneg   00   10  100   12  \\\n",
       "0  7fd30754-ab43-442a-808c-9f3b30d3f6a3               0  0.0  0.0  0.0  0.0   \n",
       "1  1604cce1-7edd-4094-b32d-485d3563ad1f               0  0.0  0.0  0.0  0.0   \n",
       "\n",
       "    15   16   20  200  ...  wonderful  word      work  world     worth  write  \\\n",
       "0  0.0  0.0  0.0  0.0  ...        0.0   0.0  0.095399    0.0  0.191165    0.0   \n",
       "1  0.0  0.0  0.0  0.0  ...        0.0   0.0  0.095399    0.0  0.191165    0.0   \n",
       "\n",
       "   wrong  year  yes  youtube  \n",
       "0    0.0   0.0  0.0      0.0  \n",
       "1    0.0   0.0  0.0      0.0  \n",
       "\n",
       "[2 rows x 770 columns]"
      ]
     },
     "execution_count": 12,
     "metadata": {},
     "output_type": "execute_result"
    }
   ],
   "source": [
    "dfTfidf = pd.concat([tDfUn, tDf], axis=1)\n",
    "dfTfidf.head(2)"
   ]
  },
  {
   "cell_type": "code",
   "execution_count": 13,
   "id": "80fb77ce-7a82-4ce0-937f-cfcc0b77b855",
   "metadata": {},
   "outputs": [],
   "source": [
    "dfTfidf.to_pickle(jarvis.DATA_DIR_EXP + '/reviewText_TF-IDF_Full.pkl.gz')"
   ]
  },
  {
   "cell_type": "markdown",
   "id": "4b7077d0-b854-4b39-9467-46ef5c5e4f08",
   "metadata": {},
   "source": [
    "# section below is adding tfidf as a column similar to BERT, GLOVE, MPNet\n",
    "# problem is that you lose column names."
   ]
  },
  {
   "cell_type": "code",
   "execution_count": null,
   "id": "472feef8-b003-4e3f-8150-ae9499c0617f",
   "metadata": {},
   "outputs": [],
   "source": [
    "#add encoding to frame\n",
    "dataOrig['reviewText_lemma_TFIDF'] = x.toarray().tolist()"
   ]
  },
  {
   "cell_type": "code",
   "execution_count": null,
   "id": "819e35f1-4f55-4ac6-a079-6f96ffedabb9",
   "metadata": {},
   "outputs": [],
   "source": [
    "dataOrig.head(2)"
   ]
  },
  {
   "cell_type": "code",
   "execution_count": null,
   "id": "710d39f5-553a-4709-b75d-2bcd8410714a",
   "metadata": {},
   "outputs": [],
   "source": []
  },
  {
   "cell_type": "code",
   "execution_count": null,
   "id": "42692735-469a-4930-bb78-596417a14703",
   "metadata": {},
   "outputs": [],
   "source": []
  },
  {
   "cell_type": "code",
   "execution_count": null,
   "id": "99f6bd3f-4db5-4916-9471-5873795c44ed",
   "metadata": {},
   "outputs": [],
   "source": []
  },
  {
   "cell_type": "code",
   "execution_count": null,
   "id": "78b4db53-8f3f-4208-b105-d929c33cb5ca",
   "metadata": {},
   "outputs": [],
   "source": []
  },
  {
   "cell_type": "code",
   "execution_count": null,
   "id": "80f17300-1e3e-47a9-92c3-1e0ee23ab1b2",
   "metadata": {},
   "outputs": [],
   "source": [
    "#%%time\n",
    "#cwutils.expandColumn(dataOrig, 'reviewText')\n",
    "#cwutils.flairSentimentEncode(dataOrig, 'reviewText_lemma')\n",
    "#cwutils.calcTextBlobSentiment(dataOrig, 'reviewText_lemma')\n",
    "#cwutils.bertEncode(dataOrig, 'reviewText_lemma', )\n",
    "#cwutils.splitSpacySentences(dataOrig, 'reviewText_lemma')\n",
    "\n",
    "cwutils.columnEncode(data=dataOrig,\n",
    "                   columnName='reviewText_lemma',\n",
    "                   transformerType='sentence-transformers/distilbert-base-nli-mean-tokens',\n",
    "                   colSuffix='_bert')\n",
    "\n",
    "dataOrig.to_pickle(jarvis.DATA_DIR_WORK + '/' + END_DATA_FILE)\n",
    "\n",
    "\n",
    "cwutils.columnEncode(data=dataOrig,\n",
    "                   columnName='reviewText_lemma',\n",
    "                   transformerType='sentence-transformers/average_word_embeddings_glove.6B.300d',\n",
    "                   colSuffix='_glove')\n",
    "\n",
    "dataOrig.to_pickle(jarvis.DATA_DIR_WORK + '/' + END_DATA_FILE)\n",
    "\n",
    "cwutils.columnEncode(data=dataOrig,\n",
    "                   columnName='reviewText_lemma',\n",
    "                   transformerType='sentence-transformers/all-mpnet-base-v2',\n",
    "                   colSuffix='_mpnet')\n",
    "\n",
    "dataOrig.to_pickle(jarvis.DATA_DIR_WORK + '/' + END_DATA_FILE)\n"
   ]
  },
  {
   "cell_type": "markdown",
   "id": "0OreCZ9zdoh8",
   "metadata": {
    "id": "0OreCZ9zdoh8"
   },
   "source": [
    "# Scratchpad"
   ]
  },
  {
   "cell_type": "code",
   "execution_count": null,
   "id": "iNpwcOdbdgKx",
   "metadata": {
    "colab": {
     "base_uri": "https://localhost:8080/"
    },
    "executionInfo": {
     "elapsed": 13,
     "status": "ok",
     "timestamp": 1638743903783,
     "user": {
      "displayName": "Michael Vasiliou",
      "photoUrl": "https://lh3.googleusercontent.com/a/default-user=s64",
      "userId": "07079983815732559270"
     },
     "user_tz": 300
    },
    "id": "iNpwcOdbdgKx",
    "outputId": "0c93d358-ac8e-401a-b823-bb6b19c62f6a"
   },
   "outputs": [],
   "source": [
    "dataOrig.info()"
   ]
  },
  {
   "cell_type": "markdown",
   "id": "FE5aT1OwkPXu",
   "metadata": {
    "id": "FE5aT1OwkPXu"
   },
   "source": [
    "# Save Files!!!!!!!!"
   ]
  },
  {
   "cell_type": "code",
   "execution_count": null,
   "id": "5HjCiRx9URPb",
   "metadata": {
    "id": "5HjCiRx9URPb"
   },
   "outputs": [],
   "source": [
    "#dataOrig.to_pickle(jarvis.DATA_DIR_WORK + '/' + END_DATA_FILE)"
   ]
  }
 ],
 "metadata": {
  "accelerator": "GPU",
  "colab": {
   "collapsed_sections": [],
   "machine_shape": "hm",
   "name": "01b_ML1010_GP_LoadAndStore.ipynb",
   "provenance": []
  },
  "kernelspec": {
   "display_name": "ML1010_env2",
   "language": "python",
   "name": "ml1010_env2"
  },
  "language_info": {
   "codemirror_mode": {
    "name": "ipython",
    "version": 3
   },
   "file_extension": ".py",
   "mimetype": "text/x-python",
   "name": "python",
   "nbconvert_exporter": "python",
   "pygments_lexer": "ipython3",
   "version": "3.7.13"
  }
 },
 "nbformat": 4,
 "nbformat_minor": 5
}
