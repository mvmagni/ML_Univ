{
 "cells": [
  {
   "cell_type": "markdown",
   "metadata": {
    "id": "pn8fyGevt62D",
    "tags": []
   },
   "source": [
    "# Configuration"
   ]
  },
  {
   "cell_type": "code",
   "execution_count": 20,
   "metadata": {
    "executionInfo": {
     "elapsed": 4,
     "status": "ok",
     "timestamp": 1639849468402,
     "user": {
      "displayName": "Michael Vasiliou",
      "photoUrl": "https://lh3.googleusercontent.com/a/default-user=s64",
      "userId": "07079983815732559270"
     },
     "user_tz": 300
    },
    "id": "XmHgvt15t48a"
   },
   "outputs": [],
   "source": [
    "# Parameters\n",
    "ENABLE_COLAB = False\n",
    "\n",
    "PROJECT_NAME = 'ML1010-Group-Project'\n",
    "EXPERIMENT_NAME = 'ReviewText_Lemma_Bert2 (LSTM 2Way)'\n",
    "FILE_NAME = '01_ML1010_GP_LSTM_Bert2_2Way'\n",
    "LOAD_FROM_EXP = False\n",
    "\n",
    "#Root Machine Learning Directory. Projects appear underneath\n",
    "GOOGLE_DRIVE_MOUNT = '/content/gdrive' \n",
    "COLAB_ROOT_DIR = GOOGLE_DRIVE_MOUNT + '/MyDrive/Colab Notebooks'\n",
    "COLAB_INIT_DIR = COLAB_ROOT_DIR + '/utility_files'\n",
    "\n",
    "LOCAL_ROOT_DIR = '/mnt//ML_Root/project_root'\n",
    "LOCAL_INIT_DIR = LOCAL_ROOT_DIR + '/utility_files'"
   ]
  },
  {
   "cell_type": "markdown",
   "metadata": {
    "id": "1QZKvJBJ7rlc",
    "tags": []
   },
   "source": [
    "# Bootstrap Environment"
   ]
  },
  {
   "cell_type": "code",
   "execution_count": 21,
   "metadata": {
    "colab": {
     "base_uri": "https://localhost:8080/"
    },
    "executionInfo": {
     "elapsed": 19195,
     "status": "ok",
     "timestamp": 1639849489183,
     "user": {
      "displayName": "Michael Vasiliou",
      "photoUrl": "https://lh3.googleusercontent.com/a/default-user=s64",
      "userId": "07079983815732559270"
     },
     "user_tz": 300
    },
    "id": "jgMPxKZBzfFw",
    "outputId": "ae39cdc2-271b-4bdf-a71b-40f4a11dc389"
   },
   "outputs": [
    {
     "name": "stdout",
     "output_type": "stream",
     "text": [
      "Wha...where am I?\n",
      "I am awake now.\n",
      "\n",
      "I have set your current working directory to /mnt/ML_Root/project_root/ML1010-Group-Project\n",
      "The current time is 17:56\n",
      "Hello sir. Reminder, no more coffee.\n",
      "\n"
     ]
    }
   ],
   "source": [
    "#add in support for utility file directory and importing\n",
    "import sys\n",
    "import os\n",
    "\n",
    "if ENABLE_COLAB:\n",
    "  #Need access to drive\n",
    "  from google.colab import drive\n",
    "  drive.mount(GOOGLE_DRIVE_MOUNT, force_remount=True)\n",
    "  \n",
    "  #add in utility directory to syspath to import \n",
    "  INIT_DIR = COLAB_INIT_DIR\n",
    "  sys.path.append(os.path.abspath(INIT_DIR))\n",
    "  \n",
    "  #Config environment variables\n",
    "  ROOT_DIR = COLAB_ROOT_DIR\n",
    "  \n",
    "else:\n",
    "  #add in utility directory to syspath to import\n",
    "  INIT_DIR = LOCAL_INIT_DIR\n",
    "  sys.path.append(os.path.abspath(INIT_DIR))\n",
    "  \n",
    "  #Config environment variables\n",
    "  ROOT_DIR = LOCAL_ROOT_DIR\n",
    "\n",
    "#Import Utility Support\n",
    "from jarvis import Jarvis\n",
    "jarvis = Jarvis(ROOT_DIR, PROJECT_NAME)\n",
    "\n",
    "import mv_python_utils as mvutils"
   ]
  },
  {
   "cell_type": "markdown",
   "metadata": {
    "id": "fVJrz4vi6Cy5",
    "tags": []
   },
   "source": [
    "# Setup Runtime Environment"
   ]
  },
  {
   "cell_type": "code",
   "execution_count": 22,
   "metadata": {
    "colab": {
     "base_uri": "https://localhost:8080/",
     "height": 764
    },
    "executionInfo": {
     "elapsed": 74966,
     "status": "ok",
     "timestamp": 1639849569348,
     "user": {
      "displayName": "Michael Vasiliou",
      "photoUrl": "https://lh3.googleusercontent.com/a/default-user=s64",
      "userId": "07079983815732559270"
     },
     "user_tz": 300
    },
    "id": "a4BLE0oU8Lhr",
    "outputId": "8f3ceedc-1d7f-4fd6-fe49-c47b8a549554"
   },
   "outputs": [
    {
     "data": {
      "text/plain": [
       "'Google Colab not enabled'"
      ]
     },
     "metadata": {},
     "output_type": "display_data"
    },
    {
     "name": "stderr",
     "output_type": "stream",
     "text": [
      "[nltk_data] Downloading package stopwords to /home/magni/nltk_data...\n",
      "[nltk_data]   Package stopwords is already up-to-date!\n"
     ]
    }
   ],
   "source": [
    "if ENABLE_COLAB:\n",
    "  #!pip install scipy -q\n",
    "  #!pip install scikit-learn -q\n",
    "  #!pip install pycaret -q\n",
    "  #!pip install matplotlib -q\n",
    "  #!pip install joblib -q\n",
    "  #!pip install pandasql -q\n",
    "  !pip install umap_learn -q\n",
    "  !pip install sentence_transformers -q\n",
    "  !pip install spacytextblob -q\n",
    "  !pip install flair -q\n",
    "  display('Google Colab enabled')\n",
    "else:\n",
    "  display('Google Colab not enabled')\n",
    "\n",
    "#Common imports\n",
    "import json\n",
    "import pandas as pd\n",
    "import numpy as np\n",
    "import matplotlib\n",
    "import re\n",
    "import nltk\n",
    "import matplotlib.pyplot as plt\n",
    "from sklearn.cluster import KMeans\n",
    "from sklearn import metrics\n",
    "from sklearn.datasets import load_digits\n",
    "from sklearn.model_selection import train_test_split as tts\n",
    "#from yellowbrick.classifier import ConfusionMatrix\n",
    "#from sklearn.linear_model import LogisticRegression\n",
    "from yellowbrick.target import ClassBalance\n",
    "from xgboost import XGBClassifier\n",
    "from sklearn.model_selection import train_test_split\n",
    "from sklearn.metrics import accuracy_score, confusion_matrix\n",
    "from sklearn.svm import SVC\n",
    "from sklearn.ensemble import RandomForestClassifier\n",
    "from sklearn.dummy import DummyClassifier\n",
    "\n",
    "nltk.download('stopwords')\n",
    "%matplotlib inline"
   ]
  },
  {
   "cell_type": "code",
   "execution_count": 23,
   "metadata": {
    "id": "hTpH7cxU5wag"
   },
   "outputs": [],
   "source": [
    "import cw_df_metric_utils as cwutils\n",
    "import importlib\n",
    "import DataPackage as dp\n",
    "import DataPackageSupport as dps\n",
    "import DataExperiment\n",
    "import DataExperimentSupport as des"
   ]
  },
  {
   "cell_type": "code",
   "execution_count": 24,
   "metadata": {},
   "outputs": [
    {
     "data": {
      "text/plain": [
       "<module 'DataPackageSupport' from '/mnt/ML_Root/project_root/utility_files/DataPackageSupport.py'>"
      ]
     },
     "execution_count": 24,
     "metadata": {},
     "output_type": "execute_result"
    }
   ],
   "source": [
    "importlib.reload(dps)"
   ]
  },
  {
   "cell_type": "markdown",
   "metadata": {
    "id": "d1VKEszbvgpS",
    "tags": []
   },
   "source": [
    "# Load Data"
   ]
  },
  {
   "cell_type": "code",
   "execution_count": 25,
   "metadata": {
    "id": "LWHq10XLs5DV"
   },
   "outputs": [],
   "source": [
    "#axis_labels=[1,2,3,4,5]\n",
    "axis_labels=[0,1]\n",
    "\n",
    "# using a dummyclassifier as DataExperiment requires a classifier to load\n",
    "# and doesn't fully support Tensorflow models yet\n",
    "classifier = DummyClassifier()\n",
    "ANALYSIS_COL = 'reviewText_lemma_bert'\n",
    "UNIQUE_COL = 'uuid'\n",
    "TARGET_COL = 'overall_posneg'"
   ]
  },
  {
   "cell_type": "code",
   "execution_count": 26,
   "metadata": {},
   "outputs": [
    {
     "name": "stdout",
     "output_type": "stream",
     "text": [
      "DataExperiment summary:\n",
      "---> projectName: ML1010-Group-Project\n",
      "---> experimentName: ReviewText_Lemma_Bert2 (LSTM 2Way)\n",
      "---> isDataPackageLoaded: True\n",
      "---> isBaseModelLoaded: False\n",
      "---> isBaseModelPredicted: False\n",
      "---> isBaseModelLearningCurveCreated: False\n",
      "---> isFinalModelLoaded: False\n",
      "---> isFinalModelPredicted: False\n",
      "---> isFinalModelLearningCurveCreated: False\n",
      "---> isClassifierLoaded: True\n",
      "DummyClassifier()\n",
      "\n",
      "    DataPackage summary:\n",
      "    Attributes:\n",
      "    ---> uniqueColumn: uuid\n",
      "    ---> targetColumn: overall_posneg\n",
      "    Process:\n",
      "    ---> isBalanced: False\n",
      "    ---> isTrainTestSplit: False\n",
      "    Data:\n",
      "    ---> isOrigDataLoaded: True\n",
      "    ---> isTrainDataLoaded: False\n",
      "    ---> isTestDataLoaded: False\n"
     ]
    }
   ],
   "source": [
    "if LOAD_FROM_EXP:\n",
    "    #start from saved state\n",
    "    myExp = jarvis.loadExperiment(FILE_NAME)\n",
    "    myExp.display()\n",
    "\n",
    "else:\n",
    "    #start from source file and regenerate\n",
    "    testDf = pd.read_pickle(jarvis.DATA_DIR_WORK + \"/01_NL_ReviewText_All(new).pkl.gz\")\n",
    "\n",
    "    testDfBert = cwutils.getBertEncodeFrame(df=testDf,\n",
    "                                            bertColumn=ANALYSIS_COL,\n",
    "                                            uniqueColumn=UNIQUE_COL,\n",
    "                                            otherColumns=[TARGET_COL]\n",
    "                                            )\n",
    "  \n",
    "    myExp = DataExperiment.DataExperiment(projectName=PROJECT_NAME,\n",
    "                                          experimentName=EXPERIMENT_NAME,\n",
    "                                          origData=testDfBert,\n",
    "                                          uniqueColumn=UNIQUE_COL,\n",
    "                                          targetColumn=TARGET_COL,\n",
    "                                          classifier=classifier)"
   ]
  },
  {
   "cell_type": "code",
   "execution_count": 27,
   "metadata": {},
   "outputs": [
    {
     "data": {
      "image/png": "[encoded data removed]",
      "text/plain": [
       "<Figure size 432x288 with 1 Axes>"
      ]
     },
     "metadata": {
      "needs_background": "light"
     },
     "output_type": "display_data"
    },
    {
     "data": {
      "text/html": [
       "<div>\n",
       "<style scoped>\n",
       "    .dataframe tbody tr th:only-of-type {\n",
       "        vertical-align: middle;\n",
       "    }\n",
       "\n",
       "    .dataframe tbody tr th {\n",
       "        vertical-align: top;\n",
       "    }\n",
       "\n",
       "    .dataframe thead th {\n",
       "        text-align: right;\n",
       "    }\n",
       "</style>\n",
       "<table border=\"1\" class=\"dataframe\">\n",
       "  <thead>\n",
       "    <tr style=\"text-align: right;\">\n",
       "      <th></th>\n",
       "      <th>overall_posneg</th>\n",
       "      <th>ttlCol</th>\n",
       "    </tr>\n",
       "  </thead>\n",
       "  <tbody>\n",
       "    <tr>\n",
       "      <th>0</th>\n",
       "      <td>0</td>\n",
       "      <td>13440</td>\n",
       "    </tr>\n",
       "    <tr>\n",
       "      <th>1</th>\n",
       "      <td>1</td>\n",
       "      <td>49973</td>\n",
       "    </tr>\n",
       "  </tbody>\n",
       "</table>\n",
       "</div>"
      ],
      "text/plain": [
       "   overall_posneg  ttlCol\n",
       "0               0   13440\n",
       "1               1   49973"
      ]
     },
     "metadata": {},
     "output_type": "display_data"
    }
   ],
   "source": [
    "myExp.dataPackage.displayClassBalance(verbose=True)"
   ]
  },
  {
   "cell_type": "code",
   "execution_count": 28,
   "metadata": {},
   "outputs": [
    {
     "data": {
      "image/png": "[encoded data removed]",
      "text/plain": [
       "<Figure size 432x288 with 1 Axes>"
      ]
     },
     "metadata": {
      "needs_background": "light"
     },
     "output_type": "display_data"
    },
    {
     "name": "stdout",
     "output_type": "stream",
     "text": [
      "Undersampling data to match min class: 0 of size: 13440\n"
     ]
    },
    {
     "data": {
      "image/png": "[encoded data removed]",
      "text/plain": [
       "<Figure size 432x288 with 1 Axes>"
      ]
     },
     "metadata": {
      "needs_background": "light"
     },
     "output_type": "display_data"
    },
    {
     "data": {
      "text/html": [
       "<div>\n",
       "<style scoped>\n",
       "    .dataframe tbody tr th:only-of-type {\n",
       "        vertical-align: middle;\n",
       "    }\n",
       "\n",
       "    .dataframe tbody tr th {\n",
       "        vertical-align: top;\n",
       "    }\n",
       "\n",
       "    .dataframe thead th {\n",
       "        text-align: right;\n",
       "    }\n",
       "</style>\n",
       "<table border=\"1\" class=\"dataframe\">\n",
       "  <thead>\n",
       "    <tr style=\"text-align: right;\">\n",
       "      <th></th>\n",
       "      <th>overall_posneg</th>\n",
       "      <th>ttlCol</th>\n",
       "    </tr>\n",
       "  </thead>\n",
       "  <tbody>\n",
       "    <tr>\n",
       "      <th>0</th>\n",
       "      <td>0</td>\n",
       "      <td>13440</td>\n",
       "    </tr>\n",
       "    <tr>\n",
       "      <th>1</th>\n",
       "      <td>1</td>\n",
       "      <td>13440</td>\n",
       "    </tr>\n",
       "  </tbody>\n",
       "</table>\n",
       "</div>"
      ],
      "text/plain": [
       "   overall_posneg  ttlCol\n",
       "0               0   13440\n",
       "1               1   13440"
      ]
     },
     "metadata": {},
     "output_type": "display_data"
    }
   ],
   "source": [
    "myExp.dataPackage.classBalanceUndersample()"
   ]
  },
  {
   "cell_type": "code",
   "execution_count": 29,
   "metadata": {},
   "outputs": [
    {
     "name": "stdout",
     "output_type": "stream",
     "text": [
      "Completed train/test split (train_size = 0.8):\n",
      "---> Original data size: 26880\n",
      "---> Training data size: 21504\n",
      "---> Testing data size: 5376\n",
      "---> Stratified on column: overall_posneg\n"
     ]
    }
   ],
   "source": [
    "myExp.dataPackage.splitTrainTest()"
   ]
  },
  {
   "cell_type": "code",
   "execution_count": 30,
   "metadata": {},
   "outputs": [
    {
     "data": {
      "image/png": "[encoded data removed]",
      "text/plain": [
       "<Figure size 432x288 with 1 Axes>"
      ]
     },
     "metadata": {
      "needs_background": "light"
     },
     "output_type": "display_data"
    },
    {
     "data": {
      "text/html": [
       "<div>\n",
       "<style scoped>\n",
       "    .dataframe tbody tr th:only-of-type {\n",
       "        vertical-align: middle;\n",
       "    }\n",
       "\n",
       "    .dataframe tbody tr th {\n",
       "        vertical-align: top;\n",
       "    }\n",
       "\n",
       "    .dataframe thead th {\n",
       "        text-align: right;\n",
       "    }\n",
       "</style>\n",
       "<table border=\"1\" class=\"dataframe\">\n",
       "  <thead>\n",
       "    <tr style=\"text-align: right;\">\n",
       "      <th></th>\n",
       "      <th>overall_posneg</th>\n",
       "      <th>ttlCol</th>\n",
       "    </tr>\n",
       "  </thead>\n",
       "  <tbody>\n",
       "    <tr>\n",
       "      <th>0</th>\n",
       "      <td>0</td>\n",
       "      <td>10752</td>\n",
       "    </tr>\n",
       "    <tr>\n",
       "      <th>1</th>\n",
       "      <td>1</td>\n",
       "      <td>10752</td>\n",
       "    </tr>\n",
       "  </tbody>\n",
       "</table>\n",
       "</div>"
      ],
      "text/plain": [
       "   overall_posneg  ttlCol\n",
       "0               0   10752\n",
       "1               1   10752"
      ]
     },
     "metadata": {},
     "output_type": "display_data"
    }
   ],
   "source": [
    "tDf2 = myExp.dataPackage.getTrainData()\n",
    "dps.displayClassBalance(data=tDf2, \n",
    "                        columnName=myExp.dataPackage.targetColumn, \n",
    "                        verbose=True)"
   ]
  },
  {
   "cell_type": "code",
   "execution_count": 31,
   "metadata": {},
   "outputs": [],
   "source": [
    "SAMPLE_DOWN_SIZE=10700\n",
    "# Do the sampling\n",
    "tDf2 = tDf2.groupby(myExp.dataPackage.targetColumn, group_keys=False).apply(lambda x: x.sample(SAMPLE_DOWN_SIZE))\n",
    "tDf2.reset_index(drop=True, inplace=True)"
   ]
  },
  {
   "cell_type": "code",
   "execution_count": 32,
   "metadata": {},
   "outputs": [
    {
     "ename": "ImportError",
     "evalue": "cannot import name 'get_config' from 'tensorflow.python.eager.context' (/home/magni/python_env/ml1020/lib/python3.7/site-packages/tensorflow_core/python/eager/context.py)",
     "output_type": "error",
     "traceback": [
      "\u001b[0;31m---------------------------------------------------------------------------\u001b[0m",
      "\u001b[0;31mImportError\u001b[0m                               Traceback (most recent call last)",
      "\u001b[0;32m/tmp/ipykernel_1184/1459299421.py\u001b[0m in \u001b[0;36m<module>\u001b[0;34m\u001b[0m\n\u001b[1;32m      1\u001b[0m \u001b[0;32mfrom\u001b[0m \u001b[0mxgboost\u001b[0m \u001b[0;32mimport\u001b[0m \u001b[0mXGBClassifier\u001b[0m\u001b[0;34m\u001b[0m\u001b[0;34m\u001b[0m\u001b[0m\n\u001b[0;32m----> 2\u001b[0;31m \u001b[0;32mfrom\u001b[0m \u001b[0mkeras\u001b[0m\u001b[0;34m.\u001b[0m\u001b[0mlayers\u001b[0m\u001b[0;34m.\u001b[0m\u001b[0mcore\u001b[0m \u001b[0;32mimport\u001b[0m \u001b[0mSpatialDropout1D\u001b[0m\u001b[0;34m\u001b[0m\u001b[0;34m\u001b[0m\u001b[0m\n\u001b[0m\u001b[1;32m      3\u001b[0m \u001b[0;32mfrom\u001b[0m \u001b[0mkeras\u001b[0m\u001b[0;34m.\u001b[0m\u001b[0mlayers\u001b[0m \u001b[0;32mimport\u001b[0m \u001b[0mDropout\u001b[0m\u001b[0;34m,\u001b[0m \u001b[0mDense\u001b[0m\u001b[0;34m,\u001b[0m \u001b[0mFlatten\u001b[0m\u001b[0;34m,\u001b[0m \u001b[0mLSTM\u001b[0m\u001b[0;34m,\u001b[0m \u001b[0mInput\u001b[0m\u001b[0;34m,\u001b[0m \u001b[0mConv1D\u001b[0m\u001b[0;34m,\u001b[0m \u001b[0mMaxPooling1D\u001b[0m\u001b[0;34m,\u001b[0m \u001b[0mTimeDistributed\u001b[0m\u001b[0;34m,\u001b[0m \u001b[0mBidirectional\u001b[0m\u001b[0;34m\u001b[0m\u001b[0;34m\u001b[0m\u001b[0m\n\u001b[1;32m      4\u001b[0m \u001b[0;32mfrom\u001b[0m \u001b[0mkeras\u001b[0m\u001b[0;34m.\u001b[0m\u001b[0mmodels\u001b[0m \u001b[0;32mimport\u001b[0m \u001b[0mSequential\u001b[0m\u001b[0;34m\u001b[0m\u001b[0;34m\u001b[0m\u001b[0m\n\u001b[1;32m      5\u001b[0m \u001b[0;32mfrom\u001b[0m \u001b[0mkeras\u001b[0m\u001b[0;34m.\u001b[0m\u001b[0mbackend\u001b[0m \u001b[0;32mimport\u001b[0m \u001b[0mclear_session\u001b[0m\u001b[0;34m\u001b[0m\u001b[0;34m\u001b[0m\u001b[0m\n",
      "\u001b[0;32m~/python_env/ml1020/lib/python3.7/site-packages/keras/__init__.py\u001b[0m in \u001b[0;36m<module>\u001b[0;34m\u001b[0m\n\u001b[1;32m     23\u001b[0m \u001b[0;34m\u001b[0m\u001b[0m\n\u001b[1;32m     24\u001b[0m \u001b[0;31m# See b/110718070#comment18 for more details about this import.\u001b[0m\u001b[0;34m\u001b[0m\u001b[0;34m\u001b[0m\u001b[0;34m\u001b[0m\u001b[0m\n\u001b[0;32m---> 25\u001b[0;31m \u001b[0;32mfrom\u001b[0m \u001b[0mkeras\u001b[0m \u001b[0;32mimport\u001b[0m \u001b[0mmodels\u001b[0m\u001b[0;34m\u001b[0m\u001b[0;34m\u001b[0m\u001b[0m\n\u001b[0m\u001b[1;32m     26\u001b[0m \u001b[0;34m\u001b[0m\u001b[0m\n\u001b[1;32m     27\u001b[0m \u001b[0;32mfrom\u001b[0m \u001b[0mkeras\u001b[0m\u001b[0;34m.\u001b[0m\u001b[0mengine\u001b[0m\u001b[0;34m.\u001b[0m\u001b[0minput_layer\u001b[0m \u001b[0;32mimport\u001b[0m \u001b[0mInput\u001b[0m\u001b[0;34m\u001b[0m\u001b[0;34m\u001b[0m\u001b[0m\n",
      "\u001b[0;32m~/python_env/ml1020/lib/python3.7/site-packages/keras/models.py\u001b[0m in \u001b[0;36m<module>\u001b[0;34m\u001b[0m\n\u001b[1;32m     17\u001b[0m \u001b[0;34m\u001b[0m\u001b[0m\n\u001b[1;32m     18\u001b[0m \u001b[0;32mimport\u001b[0m \u001b[0mtensorflow\u001b[0m\u001b[0;34m.\u001b[0m\u001b[0mcompat\u001b[0m\u001b[0;34m.\u001b[0m\u001b[0mv2\u001b[0m \u001b[0;32mas\u001b[0m \u001b[0mtf\u001b[0m\u001b[0;34m\u001b[0m\u001b[0;34m\u001b[0m\u001b[0m\n\u001b[0;32m---> 19\u001b[0;31m \u001b[0;32mfrom\u001b[0m \u001b[0mkeras\u001b[0m \u001b[0;32mimport\u001b[0m \u001b[0mbackend\u001b[0m\u001b[0;34m\u001b[0m\u001b[0;34m\u001b[0m\u001b[0m\n\u001b[0m\u001b[1;32m     20\u001b[0m \u001b[0;32mfrom\u001b[0m \u001b[0mkeras\u001b[0m \u001b[0;32mimport\u001b[0m \u001b[0mmetrics\u001b[0m \u001b[0;32mas\u001b[0m \u001b[0mmetrics_module\u001b[0m\u001b[0;34m\u001b[0m\u001b[0;34m\u001b[0m\u001b[0m\n\u001b[1;32m     21\u001b[0m \u001b[0;32mfrom\u001b[0m \u001b[0mkeras\u001b[0m \u001b[0;32mimport\u001b[0m \u001b[0moptimizer_v1\u001b[0m\u001b[0;34m\u001b[0m\u001b[0;34m\u001b[0m\u001b[0m\n",
      "\u001b[0;32m~/python_env/ml1020/lib/python3.7/site-packages/keras/backend.py\u001b[0m in \u001b[0;36m<module>\u001b[0;34m\u001b[0m\n\u001b[1;32m     37\u001b[0m \u001b[0;32mfrom\u001b[0m \u001b[0mtensorflow\u001b[0m\u001b[0;34m.\u001b[0m\u001b[0mcore\u001b[0m\u001b[0;34m.\u001b[0m\u001b[0mprotobuf\u001b[0m \u001b[0;32mimport\u001b[0m \u001b[0mconfig_pb2\u001b[0m\u001b[0;34m\u001b[0m\u001b[0;34m\u001b[0m\u001b[0m\n\u001b[1;32m     38\u001b[0m \u001b[0;32mfrom\u001b[0m \u001b[0mtensorflow\u001b[0m\u001b[0;34m.\u001b[0m\u001b[0mpython\u001b[0m\u001b[0;34m.\u001b[0m\u001b[0meager\u001b[0m \u001b[0;32mimport\u001b[0m \u001b[0mcontext\u001b[0m\u001b[0;34m\u001b[0m\u001b[0;34m\u001b[0m\u001b[0m\n\u001b[0;32m---> 39\u001b[0;31m \u001b[0;32mfrom\u001b[0m \u001b[0mtensorflow\u001b[0m\u001b[0;34m.\u001b[0m\u001b[0mpython\u001b[0m\u001b[0;34m.\u001b[0m\u001b[0meager\u001b[0m\u001b[0;34m.\u001b[0m\u001b[0mcontext\u001b[0m \u001b[0;32mimport\u001b[0m \u001b[0mget_config\u001b[0m\u001b[0;34m\u001b[0m\u001b[0;34m\u001b[0m\u001b[0m\n\u001b[0m\u001b[1;32m     40\u001b[0m \u001b[0;32mfrom\u001b[0m \u001b[0mtensorflow\u001b[0m\u001b[0;34m.\u001b[0m\u001b[0mpython\u001b[0m\u001b[0;34m.\u001b[0m\u001b[0mframework\u001b[0m \u001b[0;32mimport\u001b[0m \u001b[0mconfig\u001b[0m\u001b[0;34m\u001b[0m\u001b[0;34m\u001b[0m\u001b[0m\n\u001b[1;32m     41\u001b[0m \u001b[0;32mfrom\u001b[0m \u001b[0mkeras\u001b[0m \u001b[0;32mimport\u001b[0m \u001b[0mbackend_config\u001b[0m\u001b[0;34m\u001b[0m\u001b[0;34m\u001b[0m\u001b[0m\n",
      "\u001b[0;31mImportError\u001b[0m: cannot import name 'get_config' from 'tensorflow.python.eager.context' (/home/magni/python_env/ml1020/lib/python3.7/site-packages/tensorflow_core/python/eager/context.py)"
     ]
    }
   ],
   "source": [
    "from xgboost import XGBClassifier\n",
    "from keras.layers.core import SpatialDropout1D\n",
    "from keras.layers import Dropout, Dense, Flatten, LSTM, Input, Conv1D, MaxPooling1D, TimeDistributed, Bidirectional\n",
    "from keras.models import Sequential\n",
    "from keras.backend import clear_session\n",
    "from keras.layers.embeddings import Embedding\n",
    "import keras\n",
    "\n",
    "print(keras.__version__)\n",
    "from keras import backend as K\n",
    "K._get_available_gpus()"
   ]
  },
  {
   "cell_type": "code",
   "execution_count": null,
   "metadata": {},
   "outputs": [],
   "source": [
    "###Notes section:\n",
    "#model = Sequential()\n",
    "#model.add(LSTM(NumberOfLSTM, return_sequences=True,\n",
    "#               input_shape=(YourSequenceLenght, YourWord2VecLenght)))\n",
    "tExp = jarvis.loadExperiment('01_ML1010_GP_XGB_Bert2')\n",
    "tFeat = tExp.getFinalFeatures()\n",
    "print (len(tFeat))\n",
    "print (tFeat[1])"
   ]
  },
  {
   "cell_type": "code",
   "execution_count": null,
   "metadata": {},
   "outputs": [],
   "source": [
    "from tensorflow.keras.metrics import AUC, Precision, Recall"
   ]
  },
  {
   "cell_type": "code",
   "execution_count": null,
   "metadata": {},
   "outputs": [],
   "source": [
    "#tDf2 is sampled down training data\n",
    "\n",
    "tDf3 = tDf2.copy() \n",
    "Y_train = np.array(tDf3[myExp.dataPackage.targetColumn])\n",
    "X_train = np.array(tDf3[tFeat])\n",
    "\n",
    "X_test = np.array(myExp.dataPackage.getXTestData(tFeat))\n",
    "Y_test = np.array(myExp.dataPackage.getYTestData())\n",
    "\n",
    "print(Y_train.shape)\n",
    "print(X_train.shape)\n",
    "EPOCHS=5\n",
    "VAL_SPLIT=0.1\n",
    "\n",
    "BATCH_SIZE=100\n",
    "NUMBER_FEATURES=len(tFeat)\n",
    "\n",
    "DROPOUT_RATE=0.2\n",
    "INTERNAL_LAYERS=5\n",
    "LSTM_OUTPUT_UNITS=5"
   ]
  },
  {
   "cell_type": "code",
   "execution_count": null,
   "metadata": {},
   "outputs": [],
   "source": [
    "%%time\n",
    "# Neural network\n",
    "keras.backend.clear_session()\n",
    "\n",
    "model2 = None\n",
    "model2 = Sequential()\n",
    "\n",
    "#model2.add(Input(shape=(NUMBER_FEATURES, 1)))\n",
    "#model2.add(Dense(INTERNAL_LAYERS, activation='relu'))\n",
    "#model2.add(Dropout(DROPOUT_RATE))\n",
    "\n",
    "model2.add(Bidirectional(LSTM(units=LSTM_OUTPUT_UNITS, \n",
    "                #input_shape=(NUMBER_FEATURES, 1),\n",
    "                return_sequences=True\n",
    "               ),merge_mode='sum',input_shape=(NUMBER_FEATURES, 1)\n",
    "          )\n",
    "          )\n",
    "model2.add(Dropout(DROPOUT_RATE))\n",
    "model2.add(Bidirectional(LSTM(units=LSTM_OUTPUT_UNITS, \n",
    "                #input_shape=(NUMBER_FEATURES, 1),\n",
    "                return_sequences=True\n",
    "               ),merge_mode='sum',input_shape=(NUMBER_FEATURES, 1)\n",
    "          )\n",
    "          )\n",
    "model2.add(Dropout(DROPOUT_RATE))\n",
    "model2.add(Bidirectional(LSTM(units=LSTM_OUTPUT_UNITS, \n",
    "                #input_shape=(NUMBER_FEATURES, 1),\n",
    "                return_sequences=False\n",
    "               ),merge_mode='sum',input_shape=(NUMBER_FEATURES, 1)\n",
    "          )\n",
    "          )\n",
    "\n",
    "\n",
    "#model2.add(Dropout(DROPOUT_RATE))\n",
    "#model2.add(Conv1D(filters=LSTM_OUTPUT_UNITS, kernel_size=3, padding='same', activation='relu'))\n",
    "#model2.add(MaxPooling1D(pool_size=2))\n",
    "#model2.add(LSTM(units=LSTM_OUTPUT_UNITS))\n",
    "#model2.add(Dropout(DROPOUT_RATE))\n",
    "\n",
    "model2.add(Dropout(DROPOUT_RATE))\n",
    "model2.add(Dense(INTERNAL_LAYERS, activation='relu'))\n",
    "\n",
    "\n",
    "#softmax is for multiclass\n",
    "#model2.add(Dense(1, activation='softmax'))\n",
    "#----\n",
    "#sigmoid is not for multiclass\n",
    "model2.add(Dense(1, activation='sigmoid'))\n",
    "#model2.add(TimeDistributed(Dense(1, activation='sigmoid')))\n",
    "\n",
    "model2.compile(loss='binary_crossentropy', \n",
    "               optimizer='adam', \n",
    "               metrics=['accuracy',\n",
    "                        'mse',\n",
    "                        AUC(),\n",
    "                        Precision(),\n",
    "                        Recall()\n",
    "                       ]\n",
    "              )\n",
    "\n",
    "history = model2.fit(x=X_train, \n",
    "                     y=Y_train, \n",
    "                     epochs=EPOCHS, \n",
    "                     batch_size=BATCH_SIZE,\n",
    "                     validation_split=VAL_SPLIT)"
   ]
  },
  {
   "cell_type": "code",
   "execution_count": null,
   "metadata": {},
   "outputs": [],
   "source": [
    "des.plot_history(history)"
   ]
  },
  {
   "cell_type": "code",
   "execution_count": null,
   "metadata": {},
   "outputs": [],
   "source": [
    "print(model2.summary())"
   ]
  },
  {
   "cell_type": "code",
   "execution_count": null,
   "metadata": {},
   "outputs": [],
   "source": [
    "colActual='y_actual'\n",
    "colPredict='y_pred'\n",
    "#y_pred = model2.predict(X_test)\n",
    "y_pred = (model2.predict(X_test) > 0.5).astype(\"int32\")\n",
    "\n",
    "dfPredict = pd.DataFrame(data=y_pred, columns=[colPredict])\n",
    "dfPredict[colActual] = Y_test.tolist()\n",
    "des.printMetrics(data=dfPredict, colActual=colActual, colPredict=colPredict)"
   ]
  },
  {
   "cell_type": "markdown",
   "metadata": {
    "tags": []
   },
   "source": [
    "#  Save Experiment"
   ]
  },
  {
   "cell_type": "code",
   "execution_count": null,
   "metadata": {},
   "outputs": [],
   "source": [
    "jarvis.saveExperiment(myExp, FILE_NAME)"
   ]
  },
  {
   "cell_type": "markdown",
   "metadata": {},
   "source": [
    "#  Scratchpad"
   ]
  },
  {
   "cell_type": "code",
   "execution_count": null,
   "metadata": {},
   "outputs": [],
   "source": []
  }
 ],
 "metadata": {
  "colab": {
   "authorship_tag": "ABX9TyOHRhk3MnSb4v5m2pip9Csd",
   "collapsed_sections": [
    "pn8fyGevt62D",
    "1QZKvJBJ7rlc",
    "fVJrz4vi6Cy5",
    "d1VKEszbvgpS",
    "TSXj9-6uCPlq",
    "jbDYJ_r6_xqk",
    "wSl1Fy3gcvbi",
    "W9Y2Idos-2Hl",
    "NGKpEqqwO9L6",
    "jyGqiRoQROHu",
    "NN0TbdPPfmKG",
    "SJe_Cy_aNJVx",
    "UrAIa9xTsucp",
    "G3sbhyAHvq6D",
    "E-dDQ_KXwAQQ",
    "hZIH3Wcyw76R",
    "m1KEaXz7xQMW",
    "0lAXqFH5yHgU",
    "i_VCkCCWyYYe",
    "yfPqFMjgythJ",
    "eIzBqATpythg",
    "gQujKtfNythh",
    "KMqHM-APythi"
   ],
   "name": "05_ML1010_GP_calcScores.pynb",
   "provenance": [
    {
     "file_id": "1TTophYisuYAESj-r2pcxC1cOw77kApN0",
     "timestamp": 1638578513850
    },
    {
     "file_id": "1R_J6p2OeOjXlMWk1bRbiOo7XdfzkzjGU",
     "timestamp": 1638295449964
    }
   ],
   "toc_visible": true
  },
  "kernelspec": {
   "display_name": "ml1020",
   "language": "python",
   "name": "ml1020"
  },
  "language_info": {
   "codemirror_mode": {
    "name": "ipython",
    "version": 3
   },
   "file_extension": ".py",
   "mimetype": "text/x-python",
   "name": "python",
   "nbconvert_exporter": "python",
   "pygments_lexer": "ipython3",
   "version": "3.7.12"
  }
 },
 "nbformat": 4,
 "nbformat_minor": 4
}
