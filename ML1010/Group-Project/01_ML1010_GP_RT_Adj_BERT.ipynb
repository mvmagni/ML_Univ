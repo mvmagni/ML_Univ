{
 "cells": [
  {
   "cell_type": "markdown",
   "id": "pn8fyGevt62D",
   "metadata": {
    "id": "pn8fyGevt62D"
   },
   "source": [
    "# Configuration"
   ]
  },
  {
   "cell_type": "code",
   "execution_count": 1,
   "id": "XmHgvt15t48a",
   "metadata": {
    "id": "XmHgvt15t48a"
   },
   "outputs": [],
   "source": [
    "# Parameters\n",
    "ENABLE_COLAB = False\n",
    "PROJECT_NAME = 'ML1010-Group-Project'\n",
    "\n",
    "#Root Machine Learning Directory. Projects appear underneath\n",
    "GOOGLE_DRIVE_MOUNT = '/content/gdrive' \n",
    "COLAB_ROOT_DIR = GOOGLE_DRIVE_MOUNT + '/MyDrive/Colab Notebooks'\n",
    "COLAB_INIT_DIR = COLAB_ROOT_DIR + '/utility_files'\n",
    "\n",
    "LOCAL_ROOT_DIR = '/home/magni//ML_Root/project_root'\n",
    "LOCAL_INIT_DIR = LOCAL_ROOT_DIR + '/utility_files'\n",
    "\n",
    "START_DATA_FILE = '01_NL_ReviewText_All(new).pkl.gz'\n",
    "END_DATA_FILE = '01_NL_ReviewText_All(new).pkl.gz'\n",
    "\n",
    "##This is for experiment work only###########################\n",
    "#EXPERIMENT_NAME = 'ReviewText_Lemma_Bert (XGB)'\n",
    "#FILE_NAME = '01_ML1010_GP_XGB_Bert'\n",
    "#LOAD_FROM_EXP = False"
   ]
  },
  {
   "cell_type": "markdown",
   "id": "AKuOInGo45OB",
   "metadata": {
    "id": "AKuOInGo45OB"
   },
   "source": [
    "# Bootstrap Environment"
   ]
  },
  {
   "cell_type": "code",
   "execution_count": 2,
   "id": "nri_N7sIEMjQ",
   "metadata": {
    "colab": {
     "base_uri": "https://localhost:8080/"
    },
    "executionInfo": {
     "elapsed": 970,
     "status": "ok",
     "timestamp": 1638743789528,
     "user": {
      "displayName": "Michael Vasiliou",
      "photoUrl": "https://lh3.googleusercontent.com/a/default-user=s64",
      "userId": "07079983815732559270"
     },
     "user_tz": 300
    },
    "id": "nri_N7sIEMjQ",
    "outputId": "950e1db2-507e-478a-fa3b-b9d4e4fc4d85"
   },
   "outputs": [
    {
     "name": "stdout",
     "output_type": "stream",
     "text": [
      "Wha...where am I?\n",
      "I am awake now.\n",
      "\n",
      "I have set your current working directory to /home/magni/ML_Root/project_root/ML1010-Group-Project\n",
      "The current time is 16:55\n",
      "Hello sir. Reminder, no more coffee.\n",
      "\n"
     ]
    }
   ],
   "source": [
    "#add in support for utility file directory and importing\n",
    "import sys\n",
    "import os\n",
    "\n",
    "if ENABLE_COLAB:\n",
    "  #Need access to drive\n",
    "  from google.colab import drive\n",
    "  drive.mount(GOOGLE_DRIVE_MOUNT, force_remount=True)\n",
    "  \n",
    "  #add in utility directory to syspath to import \n",
    "  INIT_DIR = COLAB_INIT_DIR\n",
    "  sys.path.append(os.path.abspath(INIT_DIR))\n",
    "  \n",
    "  #Config environment variables\n",
    "  ROOT_DIR = COLAB_ROOT_DIR\n",
    "  \n",
    "else:\n",
    "  #add in utility directory to syspath to import\n",
    "  INIT_DIR = LOCAL_INIT_DIR\n",
    "  sys.path.append(os.path.abspath(INIT_DIR))\n",
    "  \n",
    "  #Config environment variables\n",
    "  ROOT_DIR = LOCAL_ROOT_DIR\n",
    "\n",
    "#Import Utility Support\n",
    "from jarvis import Jarvis\n",
    "jarvis = Jarvis(ROOT_DIR, PROJECT_NAME)\n",
    "\n",
    "\n",
    "\n",
    "import mv_python_utils as mvutils\n"
   ]
  },
  {
   "cell_type": "markdown",
   "id": "fVJrz4vi6Cy5",
   "metadata": {
    "id": "fVJrz4vi6Cy5"
   },
   "source": [
    "# Setup Runtime Environment"
   ]
  },
  {
   "cell_type": "code",
   "execution_count": 3,
   "id": "jf_PpJBuERwL",
   "metadata": {
    "colab": {
     "base_uri": "https://localhost:8080/",
     "height": 1000
    },
    "executionInfo": {
     "elapsed": 73349,
     "status": "ok",
     "timestamp": 1638743862869,
     "user": {
      "displayName": "Michael Vasiliou",
      "photoUrl": "https://lh3.googleusercontent.com/a/default-user=s64",
      "userId": "07079983815732559270"
     },
     "user_tz": 300
    },
    "id": "jf_PpJBuERwL",
    "outputId": "cf976917-150a-4ee0-c66f-cfa45fc49757"
   },
   "outputs": [
    {
     "data": {
      "text/plain": [
       "'Google Colab not enabled'"
      ]
     },
     "metadata": {},
     "output_type": "display_data"
    }
   ],
   "source": [
    "#%%capture\n",
    "if ENABLE_COLAB:\n",
    "  #!pip install scipy -q\n",
    "  #!pip install scikit-learn -q\n",
    "  #!pip install pycaret -q\n",
    "  #!pip install matplotlib -q\n",
    "  #!pip install joblib -q\n",
    "  #!pip install pandasql -q \n",
    "  !pip install sentence_transformers -q\n",
    "  !pip install flair -q\n",
    "  !pip install spacy -U -q\n",
    "  !pip install spacytextblob -q\n",
    "  display('Google Colab enabled')\n",
    "else:\n",
    "  display('Google Colab not enabled')\n",
    "\n",
    "#Common imports\n",
    "#import json\n",
    "import gzip\n",
    "import pandas as pd\n",
    "import numpy as np\n",
    "import matplotlib\n",
    "import re\n",
    "import nltk\n",
    "import matplotlib.pyplot as plt\n",
    "\n",
    "#!python -m spacy download en_core_web_sm\n",
    "\n",
    "#nltk.download('stopwords')\n",
    "#%matplotlib inline"
   ]
  },
  {
   "cell_type": "markdown",
   "id": "hEdTR2FNx6kk",
   "metadata": {
    "id": "hEdTR2FNx6kk"
   },
   "source": [
    "# Load Data"
   ]
  },
  {
   "cell_type": "code",
   "execution_count": 4,
   "id": "028f2a6c",
   "metadata": {
    "colab": {
     "base_uri": "https://localhost:8080/"
    },
    "executionInfo": {
     "elapsed": 8747,
     "status": "ok",
     "timestamp": 1638743871591,
     "user": {
      "displayName": "Michael Vasiliou",
      "photoUrl": "https://lh3.googleusercontent.com/a/default-user=s64",
      "userId": "07079983815732559270"
     },
     "user_tz": 300
    },
    "id": "028f2a6c",
    "outputId": "45ad0142-31f6-46c4-aa4a-b8b9ea32656c"
   },
   "outputs": [
    {
     "name": "stdout",
     "output_type": "stream",
     "text": [
      "<class 'pandas.core.frame.DataFrame'>\n",
      "RangeIndex: 63413 entries, 0 to 63412\n",
      "Data columns (total 51 columns):\n",
      " #   Column                                  Non-Null Count  Dtype  \n",
      "---  ------                                  --------------  -----  \n",
      " 0   uuid                                    63413 non-null  object \n",
      " 1   reviewText                              63413 non-null  object \n",
      " 2   overall                                 63413 non-null  float64\n",
      " 3   reviewText_lemma                        63413 non-null  object \n",
      " 4   reviewText_nouns                        63413 non-null  object \n",
      " 5   reviewText_adjectives                   63413 non-null  object \n",
      " 6   reviewText_verbs                        63413 non-null  object \n",
      " 7   reviewText_nav                          63413 non-null  object \n",
      " 8   reviewText_lemma_tb_pol                 63310 non-null  float64\n",
      " 9   reviewText_lemma_tb_subj                63310 non-null  float64\n",
      " 10  reviewText_lemma_tb_tokens              63310 non-null  float64\n",
      " 11  reviewText_lemma_tb_length              63310 non-null  float64\n",
      " 12  reviewText_lemma_bert                   63413 non-null  object \n",
      " 13  reviewText_lemma_flairSent              63310 non-null  float64\n",
      " 14  reviewText_adjectives_tb_pol            50732 non-null  float64\n",
      " 15  reviewText_adjectives_tb_subj           50732 non-null  float64\n",
      " 16  reviewText_adjectives_tb_tokens         50732 non-null  float64\n",
      " 17  reviewText_adjectives_tb_length         50732 non-null  float64\n",
      " 18  reviewText_adjectives_bert              63413 non-null  object \n",
      " 19  reviewText_adjectives_flairSent         50732 non-null  float64\n",
      " 20  reviewText_verbs_tb_pol                 43234 non-null  float64\n",
      " 21  reviewText_verbs_tb_subj                43234 non-null  float64\n",
      " 22  reviewText_verbs_tb_tokens              43234 non-null  float64\n",
      " 23  reviewText_verbs_tb_length              43234 non-null  float64\n",
      " 24  reviewText_verbs_bert                   63413 non-null  object \n",
      " 25  reviewText_verbs_flairSent              43234 non-null  float64\n",
      " 26  reviewText_nav_tb_pol                   62332 non-null  float64\n",
      " 27  reviewText_nav_tb_subj                  62332 non-null  float64\n",
      " 28  reviewText_nav_tb_tokens                62332 non-null  float64\n",
      " 29  reviewText_nav_tb_length                62332 non-null  float64\n",
      " 30  reviewText_nav_bert                     63413 non-null  object \n",
      " 31  reviewText_nav_flairSent                62332 non-null  float64\n",
      " 32  overall_posneg                          63413 non-null  int64  \n",
      " 33  reviewText_lemma_flairSent_norm         63310 non-null  float64\n",
      " 34  reviewText_lemma_flairSent_posneg       63310 non-null  float64\n",
      " 35  reviewText_adjectives_flairSent_norm    50732 non-null  float64\n",
      " 36  reviewText_adjectives_flairSent_posneg  50732 non-null  float64\n",
      " 37  reviewText_verbs_flairSent_norm         43234 non-null  float64\n",
      " 38  reviewText_verbs_flairSent_posneg       43234 non-null  float64\n",
      " 39  reviewText_nav_flairSent_norm           62332 non-null  float64\n",
      " 40  reviewText_nav_flairSent_posneg         62332 non-null  float64\n",
      " 41  reviewText_lemma_tb_pol_norm            63310 non-null  float64\n",
      " 42  reviewText_lemma_tb_pol_posneg          63310 non-null  float64\n",
      " 43  reviewText_adjectives_tb_pol_norm       50732 non-null  float64\n",
      " 44  reviewText_adjectives_tb_pol_posneg     50732 non-null  float64\n",
      " 45  reviewText_verbs_tb_pol_norm            43234 non-null  float64\n",
      " 46  reviewText_verbs_tb_pol_posneg          43234 non-null  float64\n",
      " 47  reviewText_nav_tb_pol_norm              62332 non-null  float64\n",
      " 48  reviewText_nav_tb_pol_posneg            62332 non-null  float64\n",
      " 49  reviewText_lemma_glove                  63413 non-null  object \n",
      " 50  reviewText_lemma_mpnet                  63413 non-null  object \n",
      "dtypes: float64(37), int64(1), object(13)\n",
      "memory usage: 24.7+ MB\n"
     ]
    }
   ],
   "source": [
    "### load the meta data\n",
    "dataOrig = pd.read_pickle(jarvis.DATA_DIR_WORK + '/' + START_DATA_FILE)\n",
    "dataOrig.info()"
   ]
  },
  {
   "cell_type": "markdown",
   "id": "nqJs3J24wbWw",
   "metadata": {
    "id": "nqJs3J24wbWw"
   },
   "source": [
    "# Column Explosion"
   ]
  },
  {
   "cell_type": "code",
   "execution_count": 5,
   "id": "L0MCYsUVwaKe",
   "metadata": {
    "id": "L0MCYsUVwaKe"
   },
   "outputs": [],
   "source": [
    "pd.set_option('mode.chained_assignment', None)"
   ]
  },
  {
   "cell_type": "code",
   "execution_count": 6,
   "id": "958e1be3-a6a4-4fa2-a926-085aaff301dc",
   "metadata": {
    "id": "hTpH7cxU5wag"
   },
   "outputs": [
    {
     "name": "stderr",
     "output_type": "stream",
     "text": [
      "2022-01-24 16:55:50.330722: W tensorflow/stream_executor/platform/default/dso_loader.cc:64] Could not load dynamic library 'libcudart.so.11.0'; dlerror: libcudart.so.11.0: cannot open shared object file: No such file or directory\n",
      "2022-01-24 16:55:50.330754: I tensorflow/stream_executor/cuda/cudart_stub.cc:29] Ignore above cudart dlerror if you do not have a GPU set up on your machine.\n"
     ]
    }
   ],
   "source": [
    "import cw_df_metric_utils as cwutils\n",
    "import importlib\n",
    "import DataPackage as dp\n",
    "import DataPackageSupport as dps\n",
    "import DataExperiment\n",
    "import DataExperimentSupport\n",
    "import time"
   ]
  },
  {
   "cell_type": "code",
   "execution_count": 7,
   "id": "dce1af27-794a-4692-bcb1-711fcbec51f9",
   "metadata": {},
   "outputs": [
    {
     "data": {
      "text/plain": [
       "<module 'DataExperimentSupport' from '/home/magni/ML_Root/project_root/utility_files/DataExperimentSupport.py'>"
      ]
     },
     "execution_count": 7,
     "metadata": {},
     "output_type": "execute_result"
    }
   ],
   "source": [
    "importlib.reload(cwutils)\n",
    "importlib.reload(dp)\n",
    "importlib.reload(dps)\n",
    "importlib.reload(DataExperiment)\n",
    "importlib.reload(DataExperimentSupport)"
   ]
  },
  {
   "cell_type": "code",
   "execution_count": 8,
   "id": "90c27c57-d016-4df6-813b-b04c091ed59b",
   "metadata": {},
   "outputs": [
    {
     "name": "stdout",
     "output_type": "stream",
     "text": [
      "<class 'pandas.core.frame.DataFrame'>\n",
      "RangeIndex: 63413 entries, 0 to 63412\n",
      "Data columns (total 51 columns):\n",
      " #   Column                                  Non-Null Count  Dtype  \n",
      "---  ------                                  --------------  -----  \n",
      " 0   uuid                                    63413 non-null  object \n",
      " 1   reviewText                              63413 non-null  object \n",
      " 2   overall                                 63413 non-null  float64\n",
      " 3   reviewText_lemma                        63413 non-null  object \n",
      " 4   reviewText_nouns                        63413 non-null  object \n",
      " 5   reviewText_adjectives                   63413 non-null  object \n",
      " 6   reviewText_verbs                        63413 non-null  object \n",
      " 7   reviewText_nav                          63413 non-null  object \n",
      " 8   reviewText_lemma_tb_pol                 63310 non-null  float64\n",
      " 9   reviewText_lemma_tb_subj                63310 non-null  float64\n",
      " 10  reviewText_lemma_tb_tokens              63310 non-null  float64\n",
      " 11  reviewText_lemma_tb_length              63310 non-null  float64\n",
      " 12  reviewText_lemma_bert                   63413 non-null  object \n",
      " 13  reviewText_lemma_flairSent              63310 non-null  float64\n",
      " 14  reviewText_adjectives_tb_pol            50732 non-null  float64\n",
      " 15  reviewText_adjectives_tb_subj           50732 non-null  float64\n",
      " 16  reviewText_adjectives_tb_tokens         50732 non-null  float64\n",
      " 17  reviewText_adjectives_tb_length         50732 non-null  float64\n",
      " 18  reviewText_adjectives_bert              63413 non-null  object \n",
      " 19  reviewText_adjectives_flairSent         50732 non-null  float64\n",
      " 20  reviewText_verbs_tb_pol                 43234 non-null  float64\n",
      " 21  reviewText_verbs_tb_subj                43234 non-null  float64\n",
      " 22  reviewText_verbs_tb_tokens              43234 non-null  float64\n",
      " 23  reviewText_verbs_tb_length              43234 non-null  float64\n",
      " 24  reviewText_verbs_bert                   63413 non-null  object \n",
      " 25  reviewText_verbs_flairSent              43234 non-null  float64\n",
      " 26  reviewText_nav_tb_pol                   62332 non-null  float64\n",
      " 27  reviewText_nav_tb_subj                  62332 non-null  float64\n",
      " 28  reviewText_nav_tb_tokens                62332 non-null  float64\n",
      " 29  reviewText_nav_tb_length                62332 non-null  float64\n",
      " 30  reviewText_nav_bert                     63413 non-null  object \n",
      " 31  reviewText_nav_flairSent                62332 non-null  float64\n",
      " 32  overall_posneg                          63413 non-null  int64  \n",
      " 33  reviewText_lemma_flairSent_norm         63310 non-null  float64\n",
      " 34  reviewText_lemma_flairSent_posneg       63310 non-null  float64\n",
      " 35  reviewText_adjectives_flairSent_norm    50732 non-null  float64\n",
      " 36  reviewText_adjectives_flairSent_posneg  50732 non-null  float64\n",
      " 37  reviewText_verbs_flairSent_norm         43234 non-null  float64\n",
      " 38  reviewText_verbs_flairSent_posneg       43234 non-null  float64\n",
      " 39  reviewText_nav_flairSent_norm           62332 non-null  float64\n",
      " 40  reviewText_nav_flairSent_posneg         62332 non-null  float64\n",
      " 41  reviewText_lemma_tb_pol_norm            63310 non-null  float64\n",
      " 42  reviewText_lemma_tb_pol_posneg          63310 non-null  float64\n",
      " 43  reviewText_adjectives_tb_pol_norm       50732 non-null  float64\n",
      " 44  reviewText_adjectives_tb_pol_posneg     50732 non-null  float64\n",
      " 45  reviewText_verbs_tb_pol_norm            43234 non-null  float64\n",
      " 46  reviewText_verbs_tb_pol_posneg          43234 non-null  float64\n",
      " 47  reviewText_nav_tb_pol_norm              62332 non-null  float64\n",
      " 48  reviewText_nav_tb_pol_posneg            62332 non-null  float64\n",
      " 49  reviewText_lemma_glove                  63413 non-null  object \n",
      " 50  reviewText_lemma_mpnet                  63413 non-null  object \n",
      "dtypes: float64(37), int64(1), object(13)\n",
      "memory usage: 24.7+ MB\n"
     ]
    }
   ],
   "source": [
    "dataOrig.info()"
   ]
  },
  {
   "cell_type": "markdown",
   "id": "aecfcbd3-d286-4466-852a-980a769b00ef",
   "metadata": {},
   "source": [
    "# "
   ]
  },
  {
   "cell_type": "code",
   "execution_count": 10,
   "id": "80f17300-1e3e-47a9-92c3-1e0ee23ab1b2",
   "metadata": {},
   "outputs": [
    {
     "name": "stdout",
     "output_type": "stream",
     "text": [
      "Loading sentence transformer: sentence-transformers/multi-qa-distilbert-cos-v1\n",
      "sentence-transformers/multi-qa-distilbert-cos-v1 sentence transformer has been loaded\n",
      "Generating encodings\n"
     ]
    },
    {
     "name": "stderr",
     "output_type": "stream",
     "text": [
      "100%|█████████████████████████████████████| 63413/63413 [12:10<00:00, 86.78it/s]\n"
     ]
    },
    {
     "name": "stdout",
     "output_type": "stream",
     "text": [
      "sentence-transformers/multi-qa-distilbert-cos-v1 encodings completed\n"
     ]
    }
   ],
   "source": [
    "#%%time\n",
    "#cwutils.expandColumn(dataOrig, 'reviewText')\n",
    "#cwutils.flairSentimentEncode(dataOrig, 'reviewText_lemma')\n",
    "#cwutils.calcTextBlobSentiment(dataOrig, 'reviewText_lemma')\n",
    "#cwutils.bertEncode(dataOrig, 'reviewText_lemma', )\n",
    "#cwutils.splitSpacySentences(dataOrig, 'reviewText_lemma')\n",
    "\n",
    "cwutils.columnEncode(data=dataOrig,\n",
    "                   columnName='reviewText_adjectives',\n",
    "                   #transformerType='sentence-transformers/distilbert-base-nli-mean-token',\n",
    "                    transformerType = 'sentence-transformers/multi-qa-distilbert-cos-v1',\n",
    "                   colSuffix='_bert')\n",
    "\n",
    "dataOrig.to_pickle(jarvis.DATA_DIR_WORK + '/' + END_DATA_FILE)\n",
    "\n",
    "\n",
    "cwutils.columnEncode(data=dataOrig,\n",
    "                   columnName='reviewText_adjectives',\n",
    "                   #transformerType='sentence-transformers/distilbert-base-nli-mean-token',\n",
    "                    transformerType = 'sentence-transformers/multi-qa-distilbert-cos-v1',\n",
    "                   colSuffix='_bert')\n",
    "\n",
    "dataOrig.to_pickle(jarvis.DATA_DIR_WORK + '/' + END_DATA_FILE)\n",
    "\n",
    "#cwutils.columnEncode(data=dataOrig,\n",
    "#                   columnName='reviewText_lemma',\n",
    "#                   transformerType='sentence-transformers/average_word_embeddings_glove.6B.300d',\n",
    "#                   colSuffix='_glove')\n",
    "\n",
    "#dataOrig.to_pickle(jarvis.DATA_DIR_WORK + '/' + END_DATA_FILE)\n",
    "\n",
    "#cwutils.columnEncode(data=dataOrig,\n",
    "#                   columnName='reviewText_lemma',\n",
    "#                   transformerType='sentence-transformers/all-mpnet-base-v2',\n",
    "#                   colSuffix='_mpnet')\n",
    "\n",
    "#dataOrig.to_pickle(jarvis.DATA_DIR_WORK + '/' + END_DATA_FILE)\n"
   ]
  },
  {
   "cell_type": "markdown",
   "id": "0OreCZ9zdoh8",
   "metadata": {
    "id": "0OreCZ9zdoh8"
   },
   "source": [
    "# Scratchpad"
   ]
  },
  {
   "cell_type": "code",
   "execution_count": null,
   "id": "iNpwcOdbdgKx",
   "metadata": {
    "colab": {
     "base_uri": "https://localhost:8080/"
    },
    "executionInfo": {
     "elapsed": 13,
     "status": "ok",
     "timestamp": 1638743903783,
     "user": {
      "displayName": "Michael Vasiliou",
      "photoUrl": "https://lh3.googleusercontent.com/a/default-user=s64",
      "userId": "07079983815732559270"
     },
     "user_tz": 300
    },
    "id": "iNpwcOdbdgKx",
    "outputId": "0c93d358-ac8e-401a-b823-bb6b19c62f6a"
   },
   "outputs": [],
   "source": [
    "dataOrig.info()"
   ]
  },
  {
   "cell_type": "markdown",
   "id": "FE5aT1OwkPXu",
   "metadata": {
    "id": "FE5aT1OwkPXu"
   },
   "source": [
    "# Save Files!!!!!!!!"
   ]
  },
  {
   "cell_type": "code",
   "execution_count": null,
   "id": "5HjCiRx9URPb",
   "metadata": {
    "id": "5HjCiRx9URPb"
   },
   "outputs": [],
   "source": [
    "#dataOrig.to_pickle(jarvis.DATA_DIR_WORK + '/' + END_DATA_FILE)"
   ]
  }
 ],
 "metadata": {
  "accelerator": "GPU",
  "colab": {
   "collapsed_sections": [],
   "machine_shape": "hm",
   "name": "01b_ML1010_GP_LoadAndStore.ipynb",
   "provenance": []
  },
  "kernelspec": {
   "display_name": "ML1010_env2",
   "language": "python",
   "name": "ml1010_env2"
  },
  "language_info": {
   "codemirror_mode": {
    "name": "ipython",
    "version": 3
   },
   "file_extension": ".py",
   "mimetype": "text/x-python",
   "name": "python",
   "nbconvert_exporter": "python",
   "pygments_lexer": "ipython3",
   "version": "3.7.12"
  }
 },
 "nbformat": 4,
 "nbformat_minor": 5
}
